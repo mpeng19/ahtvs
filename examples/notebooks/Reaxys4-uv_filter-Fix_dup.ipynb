{
 "cells": [
  {
   "cell_type": "code",
   "execution_count": 1,
   "metadata": {
    "ExecuteTime": {
     "end_time": "2017-06-20T13:53:06.993418-04:00",
     "start_time": "2017-06-20T13:53:05.929414"
    },
    "collapsed": true,
    "init_cell": true
   },
   "outputs": [],
   "source": [
    "import pandas as pd\n",
    "import numpy as np\n",
    "import numba\n",
    "#import dask.dataframe as dd\n",
    "\n",
    "import sys\n",
    "\n",
    "from IPython.display import HTML\n",
    "from rdkit.Chem import AllChem as Chem\n",
    "from rdkit.Chem.Draw import IPythonConsole\n",
    "from rdkit.Chem import Draw\n",
    "from rdkit.Chem import PandasTools # headsup: this import change the behavior of dataframes with mols in them\n",
    "# some global configuration of the pandastools\n",
    "PandasTools.molRepresentation = 'svg'\n",
    "PandasTools.molSize = (200,200)\n",
    "\n",
    "#constatns\n",
    "HA_TO_EV = 27.211399\n",
    "PERIODICTABLE = Chem.GetPeriodicTable()\n",
    "\n",
    "# this is a little helper function to render images inside a dataframe\n",
    "# once again, there are ways to monkey patch the rendering of dataframes, but I am trying to \n",
    "# avoid most of that to make things a bit easier to understand\n",
    "\n",
    "def show(df):\n",
    "    return HTML(df.to_html(escape=False))"
   ]
  },
  {
   "cell_type": "code",
   "execution_count": 3,
   "metadata": {
    "ExecuteTime": {
     "end_time": "2017-04-28T15:34:45.096830-04:00",
     "start_time": "2017-04-28T15:34:45.094360"
    },
    "collapsed": true
   },
   "outputs": [],
   "source": [
    "# from dask.distributed import Executor\n",
    "# e = Executor('localhost:8786', set_as_default=True)"
   ]
  },
  {
   "cell_type": "code",
   "execution_count": 4,
   "metadata": {
    "ExecuteTime": {
     "end_time": "2017-04-28T15:35:46.381597-04:00",
     "start_time": "2017-04-28T15:34:45.670507"
    }
   },
   "outputs": [
    {
     "name": "stdout",
     "output_type": "stream",
     "text": [
      "/home/denn/home/ml/data/sf/MW120_1000_UV360_440_80000_84999.xls\n",
      "/home/denn/home/ml/data/sf/MW120_1000_UV360_440_100000_104999.xls\n",
      "/home/denn/home/ml/data/sf/MW120_1000_UV360_440_25000_29999.xls\n",
      "/home/denn/home/ml/data/sf/MW120_1000_UV360_440_5_9999.xls\n",
      "/home/denn/home/ml/data/sf/MW120_1000_UV360_440_185000_189999.xls\n",
      "/home/denn/home/ml/data/sf/MW120_1000_UV360_440_140000_144999.xls\n",
      "/home/denn/home/ml/data/sf/MW120_1000_UV360_440_15000_19999.xls\n",
      "/home/denn/home/ml/data/sf/MW120_1000_UV360_440_55000_59999.xls\n",
      "/home/denn/home/ml/data/sf/MW120_1000_UV360_440_50000_54999.xls\n",
      "/home/denn/home/ml/data/sf/MW120_1000_UV440_70000_74999.xls\n",
      "/home/denn/home/ml/data/sf/MW120_1000_UV360_440_125000_129999.xls\n",
      "/home/denn/home/ml/data/sf/MW120_1000_UV440_90000_92739.xls\n",
      "/home/denn/home/ml/data/sf/MW120_1000_UV360_440_105000_109999.xls\n",
      "/home/denn/home/ml/data/sf/MW120_1000_UV360_440_195000_199999.xls\n",
      "/home/denn/home/ml/data/sf/MW120_1000_UV360_440_135000_139999.xls\n",
      "/home/denn/home/ml/data/sf/MW120_1000_UV360_440_90000_94999.xls\n",
      "/home/denn/home/ml/data/sf/MW120_1000_UV360_440_160000_164999.xls\n",
      "/home/denn/home/ml/data/sf/MW120_1000_UV360_440_180000_184999.xls\n",
      "/home/denn/home/ml/data/sf/MW120_1000_UV360_440_10000_14999.xls\n",
      "/home/denn/home/ml/data/sf/MW120_1000_UV360_440_35000_39999.xls\n",
      "/home/denn/home/ml/data/sf/MW120_1000_UV360_440_155000_159999.xls\n",
      "/home/denn/home/ml/data/sf/MW120_1000_UV360_440_40000_44999.xls\n",
      "/home/denn/home/ml/data/sf/MW120_1000_UV440_40000_44999.xls\n",
      "/home/denn/home/ml/data/sf/MW120_1000_UV360_440_20000_24999.xls\n",
      "/home/denn/home/ml/data/sf/MW120_1000_UV360_440_30000_34999.xls\n",
      "/home/denn/home/ml/data/sf/MW120_1000_UV360_440_85000_89999.xls\n",
      "/home/denn/home/ml/data/sf/MW120_1000_UV440_80000_84999.xls\n",
      "/home/denn/home/ml/data/sf/MW120_1000_UV440_1_4999.xls\n",
      "/home/denn/home/ml/data/sf/MW120_1000_UV360_440_60000_64999.xls\n",
      "/home/denn/home/ml/data/sf/MW120_1000_UV360_440_130000_134999.xls\n",
      "/home/denn/home/ml/data/sf/MW120_1000_UV440_20000_24999.xls\n",
      "/home/denn/home/ml/data/sf/MW120_1000_UV360_440_150000_154999.xls\n",
      "/home/denn/home/ml/data/sf/MW120_1000_UV360_440_190000_194999.xls\n",
      "/home/denn/home/ml/data/sf/MW120_1000_UV360_440_45000_49999.xls\n",
      "/home/denn/home/ml/data/sf/MW120_1000_UV360_440_65000_69999.xls\n",
      "/home/denn/home/ml/data/sf/MW120_1000_UV360_440_1_4999.xls\n",
      "/home/denn/home/ml/data/sf/MW120_1000_UV440_60000_64999.xls\n",
      "/home/denn/home/ml/data/sf/MW120_1000_UV360_440_110000_114999.xls\n",
      "/home/denn/home/ml/data/sf/MW120_1000_UV360_440_95000_99999.xls\n",
      "/home/denn/home/ml/data/sf/MW120_1000_UV360_440_70000_74999.xls\n",
      "/home/denn/home/ml/data/sf/MW120_1000_UV360_440_115000_119999.xls\n",
      "/home/denn/home/ml/data/sf/MW120_1000_UV360_440_145000_149999.xls\n",
      "/home/denn/home/ml/data/sf/MW120_1000_UV440_5000_9999.xls\n",
      "/home/denn/home/ml/data/sf/MW120_1000_UV360_440_75000_79999.xls\n",
      "/home/denn/home/ml/data/sf/MW120_1000_UV440_30000_34999.xls\n",
      "/home/denn/home/ml/data/sf/MW120_1000_UV360_440_200000_201569.xls\n",
      "/home/denn/home/ml/data/sf/MW120_1000_UV360_440_175000_179999.xls\n",
      "/home/denn/home/ml/data/sf/MW120_1000_UV440_50000_54999.xls\n",
      "/home/denn/home/ml/data/sf/MW120_1000_UV360_440_120000_124999.xls\n",
      "/home/denn/home/ml/data/sf/MW120_1000_UV360_440_170000_174999.xls\n",
      "/home/denn/home/ml/data/sf/MW120_1000_UV360_440_165000_169999.xls\n",
      "/home/denn/home/ml/data/sf/reaxys_uv_all_anthracene_plus_mw1300_1_4999.xls\n",
      "/home/denn/home/ml/data/sf/reaxys_uv_all_anthracene_plus_mw1300_5000_9361.xls\n",
      "/home/denn/home/ml/data/sf/reaxys_uv_all_perylene_1_2250.xls\n",
      "(700710, 701)\n"
     ]
    }
   ],
   "source": [
    "import os\n",
    "import glob\n",
    "\n",
    "path = r'/home/denn/home/ml/data/sf/'\n",
    "all_files = glob.glob(os.path.join(path, \"MW120_1000_*.xls\"))\n",
    "all_files.append('/home/denn/home/ml/data/sf/reaxys_uv_all_anthracene_plus_mw1300_1_4999.xls')\n",
    "all_files.append('/home/denn/home/ml/data/sf/reaxys_uv_all_anthracene_plus_mw1300_5000_9361.xls')\n",
    "all_files.append('/home/denn/home/ml/data/sf/reaxys_uv_all_perylene_1_2250.xls')\n",
    "pds = []\n",
    "for f in all_files:\n",
    "    print(f)\n",
    "    pds.append(pd.read_csv(f,delimiter='\\t',low_memory=False))\n",
    "    \n",
    "reax_full=pd.concat(pds, ignore_index=True)\n",
    "print(reax_full.shape)"
   ]
  },
  {
   "cell_type": "code",
   "execution_count": 5,
   "metadata": {
    "ExecuteTime": {
     "end_time": "2017-04-20T11:25:14.955573-04:00",
     "start_time": "2017-04-20T11:24:53.337674"
    },
    "scrolled": true
   },
   "outputs": [
    {
     "name": "stdout",
     "output_type": "stream",
     "text": [
      "(363851, 97)\n"
     ]
    }
   ],
   "source": [
    "# uv_cols = [col for col in reax_full.columns if 'UV' in col]\n",
    "# cols=uv_cols+['Structure']\n",
    "#print(reax_full.columns)\n",
    "#reax_full[cols].head()\n",
    "need_cols=['Ext./Abs. Coefficient [l·mol-1cm-1]','Comment (UV/VIS Spectroscopy)','Molecular Formula','Substance Identification: Reaxys Registry Number','InChI Key','CAS Registry Number','Chemical Name','UV/VIS Spectroscopy: Description (UV/VIS Spectroscopy)','Solvent (UV/VIS Spectroscopy)','Linear Structure Formula','Structure','Number of References','Absorption Maxima (UV/VIS) [nm]']\n",
    "ref_cols_name=[col for col in reax_full.columns if col.startswith('Ref')]\n",
    "\n",
    "reax_uv=reax_full[need_cols+ref_cols_name].dropna(subset=['Absorption Maxima (UV/VIS) [nm]']).dropna(axis=1,how='all')\n",
    "reax_uv=reax_uv[reax_uv['Comment (UV/VIS Spectroscopy)'].isnull()]\n",
    "# reax_uv=reax_uv[reax_uv.Structure.str.match('([0-9CNOFS@+\\-\\[\\]\\(\\)\\\\\\/%=#$]+)$',case=False,as_indexer=True)]\n",
    "#reax_uv=reax_uv[reax_uv.Structure.str.match('^((?!(Co|Se|Cs|Os|\\[O\\+8\\]|\\[C-3\\]|\\[N\\+5\\]|\\[O\\+3\\]|\\.)).)*$',case=True,as_indexer=True)]\n",
    "reax_uv=reax_uv[~reax_uv.Structure.str.contains('.',regex=False)]\n",
    "#reax_uv[cols][:30]\n",
    "#print(reax_uv.columns)\n",
    "#reax_full=reax_full.compute()\n",
    "# reax_uv=reax_uv.drop_duplicates()\n",
    "# print(reax_uv.shape)\n",
    "solvent_syn = {'Solvent (UV/VIS Spectroscopy)': \n",
    "               {'CH2Cl2': 'dichloromethane',\n",
    "                'CHCl3':'chloroform',\n",
    "                'H2O':'water',\n",
    "                'dimethyl sulfoxide':'dimethylsulfoxide',\n",
    "               'N,N-dimethyl-formamide':'dimethylformamide'}\n",
    "              }\n",
    "reax_uv.replace(solvent_syn,inplace=True)\n",
    "\n",
    "#print(reax_uv['Absorption Maxima (UV/VIS) [nm]'].count())\n",
    "print(reax_uv.shape)"
   ]
  },
  {
   "cell_type": "code",
   "execution_count": 6,
   "metadata": {
    "ExecuteTime": {
     "end_time": "2017-04-20T11:25:17.243769-04:00",
     "start_time": "2017-04-20T11:25:14.957153"
    }
   },
   "outputs": [
    {
     "name": "stdout",
     "output_type": "stream",
     "text": [
      "(358006, 97)\n"
     ]
    }
   ],
   "source": [
    "reax_uv=reax_uv.drop_duplicates()\n",
    "print(reax_uv.shape)"
   ]
  },
  {
   "cell_type": "code",
   "execution_count": 7,
   "metadata": {
    "ExecuteTime": {
     "end_time": "2017-04-20T11:25:20.033040-04:00",
     "start_time": "2017-04-20T11:25:17.245301"
    },
    "collapsed": true
   },
   "outputs": [],
   "source": [
    "import re\n",
    "def mf2dict(mf_str):\n",
    "    molfor=re.findall(r'([A-Z][a-z]*)(\\d*)', mf_str)\n",
    "    molfor1=map(lambda e: (e[0], 1) if e[1] == '' else (e[0],int(e[1])), molfor)\n",
    "    return dict(molfor1)\n",
    "reax_uv['mf']=reax_uv['Molecular Formula'].apply(mf2dict)\n",
    "reax_uv['C_c']=reax_uv['mf'].apply(lambda d: d.get('C',0))"
   ]
  },
  {
   "cell_type": "code",
   "execution_count": 8,
   "metadata": {
    "ExecuteTime": {
     "end_time": "2017-04-20T11:25:22.576269-04:00",
     "start_time": "2017-04-20T11:25:20.035057"
    }
   },
   "outputs": [
    {
     "name": "stdout",
     "output_type": "stream",
     "text": [
      "(299341, 99)\n"
     ]
    }
   ],
   "source": [
    "reax_uv=reax_uv[reax_uv.mf.apply(lambda m: bool(set(m.keys()) - set(['H','C','N','O','F','S','Cl','Br','I','P']))==False)]\n",
    "print(reax_uv.shape)"
   ]
  },
  {
   "cell_type": "code",
   "execution_count": 9,
   "metadata": {
    "ExecuteTime": {
     "end_time": "2017-04-20T11:25:22.595347-04:00",
     "start_time": "2017-04-20T11:25:22.578352"
    }
   },
   "outputs": [
    {
     "name": "stdout",
     "output_type": "stream",
     "text": [
      "299341\n"
     ]
    }
   ],
   "source": [
    "print(reax_uv['Absorption Maxima (UV/VIS) [nm]'].count())"
   ]
  },
  {
   "cell_type": "code",
   "execution_count": 10,
   "metadata": {
    "ExecuteTime": {
     "end_time": "2017-04-20T11:25:22.693707-04:00",
     "start_time": "2017-04-20T11:25:22.597259"
    },
    "collapsed": true
   },
   "outputs": [],
   "source": [
    "reax_uv['Solvent (UV/VIS Spectroscopy)']=reax_uv['Solvent (UV/VIS Spectroscopy)'].fillna('not given')\n",
    "#reax_uv.replace({‘a’: {‘b’: nan}})"
   ]
  },
  {
   "cell_type": "code",
   "execution_count": 11,
   "metadata": {
    "ExecuteTime": {
     "end_time": "2017-04-20T11:25:22.722604-04:00",
     "start_time": "2017-04-20T11:25:22.695246"
    },
    "scrolled": false
   },
   "outputs": [
    {
     "name": "stdout",
     "output_type": "stream",
     "text": [
      "methanol                        47132\n",
      "ethanol                         37237\n",
      "dichloromethane                 32770\n",
      "chloroform                      28047\n",
      "not given                       26624\n",
      "acetonitrile                    18261\n",
      "tetrahydrofuran                  7664\n",
      "toluene                          7642\n",
      "dimethylsulfoxide                7494\n",
      "dimethylformamide                6692\n",
      "cyclohexane                      5981\n",
      "hexane                           5955\n",
      "water                            5637\n",
      "dioxane                          4636\n",
      "benzene                          4510\n",
      "various solvent(s)               3829\n",
      "acetone                          3171\n",
      "ethyl acetate                    2207\n",
      "diethyl ether                    1674\n",
      "aq. ethanol                      1643\n",
      "1,4-dioxane                      1608\n",
      "methanol; various solvent(s)     1605\n",
      "acetic acid                      1053\n",
      "CCl4                             1045\n",
      "H2SO4                             837\n",
      "aq. NaOH                          827\n",
      "propan-2-ol                       795\n",
      "aq. buffer                        699\n",
      "heptane                           651\n",
      "1,2-dichloro-ethane               639\n",
      "butan-1-ol                        625\n",
      "pyridine                          623\n",
      "Name: Solvent (UV/VIS Spectroscopy), dtype: int64\n"
     ]
    }
   ],
   "source": [
    "\n",
    "# class1=''\n",
    "# solvent_syn = {'Solvent (UV/VIS Spectroscopy)': \n",
    "#                {'CH2Cl2': class1,\n",
    "#                 'CHCl3':'clorohydrocarbon',\n",
    "#                 'dichloromethane':'clorohydrocarbon',\n",
    "                \n",
    "#                 'H2O':'water',\n",
    "#                 'dimethyl sulfoxide':'dimethylsulfoxide'}\n",
    "#               }\n",
    "sol=reax_uv['Solvent (UV/VIS Spectroscopy)'].value_counts()\n",
    "sol_count=sol[sol>600]\n",
    "print(sol_count)\n",
    "#print(set(sol_count.index.get_values())-set(['not given','methanol; various solvent(s)','various solvent(s)'])) #,'aq. NaOH','aq. buffer',''\n",
    "#reax_uv[reax_uv['Solvent (UV/VIS Spectroscopy)']=='ethanol'][cols+['nm']]\n",
    "#reax_full[reax_full['Solvent (UV/VIS Spectroscopy)']=='ethanol'][cols].sample(10)"
   ]
  },
  {
   "cell_type": "code",
   "execution_count": 12,
   "metadata": {
    "ExecuteTime": {
     "end_time": "2017-04-20T11:25:23.097868-04:00",
     "start_time": "2017-04-20T11:25:22.724641"
    }
   },
   "outputs": [
    {
     "name": "stdout",
     "output_type": "stream",
     "text": [
      "(264379, 99)\n"
     ]
    }
   ],
   "source": [
    "reax_uv=reax_uv[reax_uv['Solvent (UV/VIS Spectroscopy)'].isin(set(sol_count.index.get_values())-set(['methanol; various solvent(s)','various solvent(s)']))]\n",
    "print(reax_uv.shape)\n"
   ]
  },
  {
   "cell_type": "code",
   "execution_count": 13,
   "metadata": {
    "ExecuteTime": {
     "end_time": "2017-04-20T11:25:26.731267-04:00",
     "start_time": "2017-04-20T11:25:23.100676"
    }
   },
   "outputs": [
    {
     "name": "stdout",
     "output_type": "stream",
     "text": [
      "(245762, 99)\n",
      "(244478, 99)\n",
      "(244338, 99)\n",
      "(244138, 99)\n",
      "(243874, 99)\n",
      "(242292, 99)\n",
      "(241635, 99)\n",
      "(241463, 99)\n",
      "(241311, 99)\n",
      "(241279, 99)\n",
      "(241259, 99)\n"
     ]
    }
   ],
   "source": [
    "reax_uv=reax_uv[(reax_uv.C_c>6) & (reax_uv.C_c<51)]\n",
    "print(reax_uv.shape)\n",
    "\n",
    "reax_uv=reax_uv[~(reax_uv['Chemical Name'].fillna('').str.contains('radical',regex=False))]\n",
    "print(reax_uv.shape)\n",
    "reax_uv=reax_uv[~(reax_uv['Chemical Name'].fillna('').str.contains('cation',regex=False))]\n",
    "print(reax_uv.shape)\n",
    "reax_uv=reax_uv[~(reax_uv['Chemical Name'].fillna('').str.contains('anion',regex=False))]\n",
    "print(reax_uv.shape)\n",
    "reax_uv=reax_uv[~(reax_uv['UV/VIS Spectroscopy: Description (UV/VIS Spectroscopy)'].fillna('').str.contains('two-photon',regex=False))]\n",
    "print(reax_uv.shape)\n",
    "reax_uv=reax_uv[~(reax_uv['Linear Structure Formula'].fillna('').str.contains('(1+)',regex=False))]\n",
    "print(reax_uv.shape)\n",
    "reax_uv=reax_uv[~(reax_uv['Linear Structure Formula'].fillna('').str.contains('(1-)',regex=False))]\n",
    "print(reax_uv.shape)\n",
    "reax_uv=reax_uv[~(reax_uv['Linear Structure Formula'].fillna('').str.contains('(2-)',regex=False))]\n",
    "print(reax_uv.shape)\n",
    "reax_uv=reax_uv[~(reax_uv['Linear Structure Formula'].fillna('').str.contains('(2+)',regex=False))]\n",
    "print(reax_uv.shape)\n",
    "reax_uv=reax_uv[~(reax_uv['Linear Structure Formula'].fillna('').str.contains('(3-)',regex=False))]\n",
    "print(reax_uv.shape)\n",
    "reax_uv=reax_uv[~(reax_uv['Linear Structure Formula'].fillna('').str.contains('(3+)',regex=False))]\n",
    "print(reax_uv.shape)"
   ]
  },
  {
   "cell_type": "code",
   "execution_count": 25,
   "metadata": {
    "ExecuteTime": {
     "end_time": "2017-02-28T12:02:18.937981-05:00",
     "start_time": "2017-02-28T12:02:18.934321"
    },
    "collapsed": true
   },
   "outputs": [],
   "source": [
    "#'C_c',\n",
    "\n",
    "# ref_cols_name=[col for col in reax_uv.columns if col.startswith('Ref')]\n",
    "# def fix_ref(rows):\n",
    "#     ref_col=rows.dropna(axis=1,how='all')\n",
    "#     if len(ref_col)>0:\n",
    "#         return ref_col.ix[:,0]\n",
    "#     else:\n",
    "#         return None\n",
    "\n",
    "# # def fix_ref(rows):\n",
    "# #     ref_col=rows[ref_cols_name].dropna(axis=1,how='all').columns\n",
    "# #     if len(ref_col)>0:\n",
    "# #         return rows[ref_col[0]]\n",
    "# #     else:\n",
    "# #         return None\n",
    "# #reax_ref=reax.set_index(['InChI Key','Solvent (UV/VIS Spectroscopy)'])\n",
    "# reference=reax_uv[need_cols+ref_cols_name].groupby(['InChI Key','Solvent (UV/VIS Spectroscopy)'],group_keys=False).apply(lambda rows: fix_ref(rows[ref_cols_name]))\n",
    "# #reax_uv['ref']\n",
    "# #reference=reax_uv[:100].set_index(['InChI Key','Solvent (UV/VIS Spectroscopy)'])[ref_cols_name].groupby(level=(0,1)).apply(lambda rows: fix_ref(rows[ref_cols_name]))\n"
   ]
  },
  {
   "cell_type": "code",
   "execution_count": 16,
   "metadata": {
    "ExecuteTime": {
     "end_time": "2017-04-20T11:36:30.239870-04:00",
     "start_time": "2017-04-20T11:33:32.637714"
    },
    "collapsed": true
   },
   "outputs": [],
   "source": [
    "need_cols=['Ext./Abs. Coefficient [l·mol-1cm-1]','Substance Identification: Reaxys Registry Number','InChI Key','CAS Registry Number','Chemical Name','UV/VIS Spectroscopy: Description (UV/VIS Spectroscopy)','Solvent (UV/VIS Spectroscopy)','Linear Structure Formula','Structure','Number of References','Absorption Maxima (UV/VIS) [nm]']\n",
    "ref_cols_name=[col for col in reax_uv.columns if col.startswith('Ref')]\n",
    "def fix_ref(rows):\n",
    "    counts=rows.count()\n",
    "    max_indx=counts.argmax()\n",
    "    #ref_col=rows.dropna(axis=1,how='any')\n",
    "    if counts[max_indx]>0:\n",
    "        return rows.loc[:,max_indx]\n",
    "    else:\n",
    "        return None\n",
    "\n",
    "reference=reax_uv[need_cols+ref_cols_name].groupby(['Substance Identification: Reaxys Registry Number','Solvent (UV/VIS Spectroscopy)','UV/VIS Spectroscopy: Description (UV/VIS Spectroscopy)'],group_keys=False).apply(lambda rows: fix_ref(rows[ref_cols_name]))\n"
   ]
  },
  {
   "cell_type": "code",
   "execution_count": 66,
   "metadata": {
    "ExecuteTime": {
     "end_time": "2017-04-20T12:42:56.825090-04:00",
     "start_time": "2017-04-20T12:42:56.740015"
    }
   },
   "outputs": [
    {
     "data": {
      "text/plain": [
       "150087"
      ]
     },
     "execution_count": 66,
     "metadata": {},
     "output_type": "execute_result"
    }
   ],
   "source": [
    "#reference.fillna('').count()"
   ]
  },
  {
   "cell_type": "code",
   "execution_count": 17,
   "metadata": {
    "ExecuteTime": {
     "end_time": "2017-04-20T11:36:30.415250-04:00",
     "start_time": "2017-04-20T11:36:30.242583"
    },
    "collapsed": true
   },
   "outputs": [],
   "source": [
    "reax_uv['ref']=reference.fillna('')\n"
   ]
  },
  {
   "cell_type": "code",
   "execution_count": 94,
   "metadata": {
    "ExecuteTime": {
     "end_time": "2017-04-20T13:43:34.633678-04:00",
     "start_time": "2017-04-20T13:43:34.566794"
    },
    "collapsed": true,
    "scrolled": true
   },
   "outputs": [],
   "source": [
    "reax_uv['ref']=reax_uv['ref'].fillna('')\n",
    "reax_uv['UV/VIS Spectroscopy: Description (UV/VIS Spectroscopy)']=reax_uv['UV/VIS Spectroscopy: Description (UV/VIS Spectroscopy)'].fillna('')\n",
    "#reax_uv.sample(10)"
   ]
  },
  {
   "cell_type": "code",
   "execution_count": 95,
   "metadata": {
    "ExecuteTime": {
     "end_time": "2017-04-20T13:46:44.813074-04:00",
     "start_time": "2017-04-20T13:43:37.761070"
    },
    "collapsed": true
   },
   "outputs": [],
   "source": [
    "#'C_c',\n",
    "need_cols=['ref','Ext./Abs. Coefficient [l·mol-1cm-1]','Substance Identification: Reaxys Registry Number','InChI Key','CAS Registry Number','Chemical Name','UV/VIS Spectroscopy: Description (UV/VIS Spectroscopy)','Solvent (UV/VIS Spectroscopy)','Linear Structure Formula','Structure','Number of References','Absorption Maxima (UV/VIS) [nm]']\n",
    "def fix_reax(rows):\n",
    "    if rows['ref'].iloc[0]!='':\n",
    "        if rows.shape[0]==2:\n",
    "            nms1=[float(x) for x in rows['Absorption Maxima (UV/VIS) [nm]'].iloc[0].split(';')]\n",
    "            nms2=[float(x) for x in rows['Absorption Maxima (UV/VIS) [nm]'].iloc[1].split(';')]\n",
    "            nms12 = nms1 + nms2\n",
    "            nms21 = nms2 + nms1\n",
    "            if nms12==sorted(nms12) or nms12==sorted(nms12,reverse=True) or nms21==sorted(nms21) or nms21==sorted(nms21,reverse=True):\n",
    "                try:\n",
    "                    eps=len([float(x) for x in rows['Ext./Abs. Coefficient [l·mol-1cm-1]'].str.cat(sep='; ').split(';')])\n",
    "                except ValueError:\n",
    "                    eps=0\n",
    "                if eps==0 or eps==len(nms12):\n",
    "                    ret_r=rows.head(1)\n",
    "                    ret_r['Absorption Maxima (UV/VIS) [nm]']=rows['Absorption Maxima (UV/VIS) [nm]'].str.cat(sep='; ') #['Absorption Maxima (UV/VIS) [nm]'].apply(lambda a: a.str.cat(sep=';'))  .apply(lambda a: print(a.dropna(axis=1)))\n",
    "                    ret_r['Ext./Abs. Coefficient [l·mol-1cm-1]']=rows['Ext./Abs. Coefficient [l·mol-1cm-1]'].str.cat(sep='; ')\n",
    "                    return ret_r\n",
    "        elif rows.shape[0]==3:\n",
    "            nms1=[float(x) for x in rows['Absorption Maxima (UV/VIS) [nm]'].iloc[0].split(';')]\n",
    "            nms2=[float(x) for x in rows['Absorption Maxima (UV/VIS) [nm]'].iloc[1].split(';')]\n",
    "            nms3=[float(x) for x in rows['Absorption Maxima (UV/VIS) [nm]'].iloc[2].split(';')]\n",
    "            nms123 = nms1 + nms2 + nms3\n",
    "            nms321 = nms3 + nms2 + nms1\n",
    "            nms231 = nms2 + nms3 + nms1\n",
    "            if nms123==sorted(nms123) or nms123==sorted(nms123,reverse=True) or nms321==sorted(nms321) or nms321==sorted(nms321,reverse=True) or (nms231==sorted(nms231) and len(nms2)==4 and len(nms3)==4):\n",
    "                try:\n",
    "                    eps=len([float(x) for x in rows['Ext./Abs. Coefficient [l·mol-1cm-1]'].str.cat(sep='; ').split(';')])\n",
    "                except ValueError:\n",
    "                    eps=0\n",
    "                if eps==0 or eps==len(nms123):\n",
    "                    ret_r=rows.head(1)\n",
    "                    ret_r['Absorption Maxima (UV/VIS) [nm]']=rows['Absorption Maxima (UV/VIS) [nm]'].str.cat(sep='; ') #['Absorption Maxima (UV/VIS) [nm]'].apply(lambda a: a.str.cat(sep=';'))  .apply(lambda a: print(a.dropna(axis=1)))\n",
    "                    ret_r['Ext./Abs. Coefficient [l·mol-1cm-1]']=rows['Ext./Abs. Coefficient [l·mol-1cm-1]'].str.cat(sep='; ')\n",
    "                    return ret_r\n",
    "        else:\n",
    "            return rows\n",
    "    return rows\n",
    "    \n",
    "reax_fix1=reax_uv[:][need_cols].drop_duplicates().groupby(['Substance Identification: Reaxys Registry Number','Solvent (UV/VIS Spectroscopy)','UV/VIS Spectroscopy: Description (UV/VIS Spectroscopy)','ref'],group_keys=False).apply(lambda rows: fix_reax(rows))\n",
    "\n",
    "\n",
    "#,group_keys=False"
   ]
  },
  {
   "cell_type": "code",
   "execution_count": 96,
   "metadata": {
    "ExecuteTime": {
     "end_time": "2017-04-20T13:48:51.625928-04:00",
     "start_time": "2017-04-20T13:48:49.774177"
    }
   },
   "outputs": [
    {
     "name": "stdout",
     "output_type": "stream",
     "text": [
      "0\n",
      "0\n",
      "<class 'pandas.core.frame.DataFrame'>\n",
      "Int64Index: 232371 entries, 0 to 700664\n",
      "Data columns (total 12 columns):\n",
      "ref                                                       232371 non-null object\n",
      "Ext./Abs. Coefficient [l·mol-1cm-1]                       119913 non-null object\n",
      "Substance Identification: Reaxys Registry Number          232371 non-null int64\n",
      "InChI Key                                                 231528 non-null object\n",
      "CAS Registry Number                                       135335 non-null object\n",
      "Chemical Name                                             180765 non-null object\n",
      "UV/VIS Spectroscopy: Description (UV/VIS Spectroscopy)    232371 non-null object\n",
      "Solvent (UV/VIS Spectroscopy)                             232371 non-null object\n",
      "Linear Structure Formula                                  232371 non-null object\n",
      "Structure                                                 232371 non-null object\n",
      "Number of References                                      232371 non-null int64\n",
      "Absorption Maxima (UV/VIS) [nm]                           232371 non-null object\n",
      "dtypes: int64(2), object(10)\n",
      "memory usage: 23.0+ MB\n",
      "<class 'pandas.core.frame.DataFrame'>\n",
      "Int64Index: 220551 entries, 54918 to 610000\n",
      "Data columns (total 12 columns):\n",
      "ref                                                       220551 non-null object\n",
      "Ext./Abs. Coefficient [l·mol-1cm-1]                       113302 non-null object\n",
      "Substance Identification: Reaxys Registry Number          220551 non-null int64\n",
      "InChI Key                                                 219712 non-null object\n",
      "CAS Registry Number                                       127467 non-null object\n",
      "Chemical Name                                             171307 non-null object\n",
      "UV/VIS Spectroscopy: Description (UV/VIS Spectroscopy)    220551 non-null object\n",
      "Solvent (UV/VIS Spectroscopy)                             220551 non-null object\n",
      "Linear Structure Formula                                  220551 non-null object\n",
      "Structure                                                 220551 non-null object\n",
      "Number of References                                      220551 non-null int64\n",
      "Absorption Maxima (UV/VIS) [nm]                           220551 non-null object\n",
      "dtypes: int64(2), object(10)\n",
      "memory usage: 21.9+ MB\n"
     ]
    }
   ],
   "source": [
    "print(sum(reax_uv.index.duplicated(keep=False)))\n",
    "print(sum(reax_fix1.index.duplicated(keep=False)))\n",
    "reax_uv[:][need_cols].drop_duplicates().info()\n",
    "reax_fix1.info()"
   ]
  },
  {
   "cell_type": "code",
   "execution_count": 97,
   "metadata": {
    "ExecuteTime": {
     "end_time": "2017-04-20T13:49:11.742268-04:00",
     "start_time": "2017-04-20T13:49:10.810907"
    }
   },
   "outputs": [
    {
     "name": "stdout",
     "output_type": "stream",
     "text": [
      "114247\n",
      "113049\n"
     ]
    }
   ],
   "source": [
    "print(sum(reax_uv.duplicated(subset='InChI Key')))\n",
    "print(sum(reax_uv.duplicated(subset='Substance Identification: Reaxys Registry Number')))"
   ]
  },
  {
   "cell_type": "code",
   "execution_count": 99,
   "metadata": {
    "ExecuteTime": {
     "end_time": "2017-04-20T13:49:42.907569-04:00",
     "start_time": "2017-04-20T13:49:42.650373"
    }
   },
   "outputs": [
    {
     "name": "stdout",
     "output_type": "stream",
     "text": [
      "YNHJECZULSZAQK-LWQDQPMZSA-N    346\n",
      "REFJWTPEDVJJIY-UHFFFAOYSA-N    334\n",
      "IKGXIBQEEMLURG-NVPNHPEKSA-N    233\n",
      "KZNIFHPLKGYRTM-UHFFFAOYSA-N    206\n",
      "IYRMWMYZSQPJKC-UHFFFAOYSA-N    191\n",
      "IQPNAANSBPBGFQ-UHFFFAOYSA-N    183\n",
      "OVSQVDMCBVZWGM-QSOFNFLRSA-N    182\n",
      "JPUKWEQWGBDDQB-QSOFNFLRSA-N    170\n",
      "UWOVWIIOKHRNKU-UHFFFAOYSA-N    159\n",
      "OENHQHLEOONYIE-JLTXGRSLSA-N    150\n",
      "Name: InChI Key, dtype: int64\n",
      "(127012,)\n",
      "REFJWTPEDVJJIY-UHFFFAOYSA-N    322\n",
      "YNHJECZULSZAQK-LWQDQPMZSA-N    303\n",
      "IKGXIBQEEMLURG-NVPNHPEKSA-N    230\n",
      "KZNIFHPLKGYRTM-UHFFFAOYSA-N    200\n",
      "IYRMWMYZSQPJKC-UHFFFAOYSA-N    183\n",
      "OVSQVDMCBVZWGM-QSOFNFLRSA-N    181\n",
      "IQPNAANSBPBGFQ-UHFFFAOYSA-N    180\n",
      "JPUKWEQWGBDDQB-QSOFNFLRSA-N    164\n",
      "UWOVWIIOKHRNKU-UHFFFAOYSA-N    152\n",
      "OENHQHLEOONYIE-JLTXGRSLSA-N    148\n",
      "Name: InChI Key, dtype: int64\n",
      "(127012,)\n"
     ]
    }
   ],
   "source": [
    "col='Substance Identification: Reaxys Registry Number'\n",
    "col='InChI Key'\n",
    "print(reax_uv[col].value_counts()[:10])\n",
    "print(reax_uv[col].unique().shape)\n",
    "print(reax_fix1[col].value_counts()[:10])\n",
    "print(reax_fix1[col].unique().shape)\n"
   ]
  },
  {
   "cell_type": "code",
   "execution_count": 100,
   "metadata": {
    "ExecuteTime": {
     "end_time": "2017-04-20T13:50:06.573332-04:00",
     "start_time": "2017-04-20T13:50:06.569865"
    },
    "scrolled": false
   },
   "outputs": [
    {
     "data": {
      "text/plain": [
       "(220551, 12)"
      ]
     },
     "execution_count": 100,
     "metadata": {},
     "output_type": "execute_result"
    }
   ],
   "source": [
    "#print(reax_fix1[['Absorption Maxima (UV/VIS) [nm]','Ext./Abs. Coefficient [l·mol-1cm-1]']][reax_fix1['Absorption Maxima (UV/VIS) [nm]'].str.contains('|',regex=False)].count())\n",
    "#reax_fix1[['Absorption Maxima (UV/VIS) [nm]','Ext./Abs. Coefficient [l·mol-1cm-1]']][reax_fix1['Absorption Maxima (UV/VIS) [nm]'].str.contains('|',regex=False)]\n",
    "reax_fix1.shape"
   ]
  },
  {
   "cell_type": "code",
   "execution_count": 31,
   "metadata": {
    "ExecuteTime": {
     "end_time": "2017-02-28T12:06:59.371618-05:00",
     "start_time": "2017-02-28T12:06:59.365235"
    },
    "collapsed": true,
    "scrolled": false
   },
   "outputs": [],
   "source": [
    "#show(reax_uv.loc[28351:28353].dropna(axis=1,how='all'))"
   ]
  },
  {
   "cell_type": "code",
   "execution_count": null,
   "metadata": {
    "ExecuteTime": {
     "end_time": "2017-02-28T11:49:01.970484-05:00",
     "start_time": "2017-02-28T16:48:19.200Z"
    },
    "collapsed": true
   },
   "outputs": [],
   "source": [
    "#reax_uv1=reax_uv"
   ]
  },
  {
   "cell_type": "code",
   "execution_count": 101,
   "metadata": {
    "ExecuteTime": {
     "end_time": "2017-04-20T13:50:10.191346-04:00",
     "start_time": "2017-04-20T13:50:10.103116"
    },
    "collapsed": true
   },
   "outputs": [],
   "source": [
    "reax_uv1=reax_fix1.copy()"
   ]
  },
  {
   "cell_type": "code",
   "execution_count": 102,
   "metadata": {
    "ExecuteTime": {
     "end_time": "2017-04-20T13:50:11.010528-04:00",
     "start_time": "2017-04-20T13:50:11.007084"
    },
    "collapsed": true
   },
   "outputs": [],
   "source": [
    "# [Br,C,Ca,Cl,F,H,I,K,Mg,N,Na,O,P,S,Zn]\n",
    "# a = set(['H','C','N','O','F','S','Cl','Br','I'])\n",
    "# b = set(['C','O','Fe'])\n",
    "\n",
    "# b-a"
   ]
  },
  {
   "cell_type": "code",
   "execution_count": 103,
   "metadata": {
    "ExecuteTime": {
     "end_time": "2017-04-20T13:50:11.437069-04:00",
     "start_time": "2017-04-20T13:50:11.432472"
    },
    "collapsed": true
   },
   "outputs": [],
   "source": [
    "# ref_cols_name=[col for col in reax_uv.columns if col.startswith('Ref')]\n",
    "# def fix_reax(rows):\n",
    "#     if rows.shape[1]>1:\n",
    "#         ref_col=rows[ref_cols_name].dropna(axis=1).columns[0]\n",
    "#         print(rows.groupby(ref_col)['Absorption Maxima (UV/VIS) [nm]'].apply(lambda a: a.str.cat(sep=';'))) #['Absorption Maxima (UV/VIS) [nm]'].apply(lambda a: a.str.cat(sep=';'))  .apply(lambda a: print(a.dropna(axis=1)))\n",
    "#     return rows\n",
    "    \n",
    "# t1=reax_uv[reax_uv['InChI Key']=='WCSKDPQVNKZNQD-LWQDQPMZSA-N'].groupby(['InChI Key','Solvent (UV/VIS Spectroscopy)']).apply(lambda rows: fix_reax(rows))\n",
    "\n"
   ]
  },
  {
   "cell_type": "code",
   "execution_count": 104,
   "metadata": {
    "ExecuteTime": {
     "end_time": "2017-04-20T13:50:12.796209-04:00",
     "start_time": "2017-04-20T13:50:12.793749"
    },
    "collapsed": true
   },
   "outputs": [],
   "source": [
    "#t1"
   ]
  },
  {
   "cell_type": "code",
   "execution_count": 105,
   "metadata": {
    "ExecuteTime": {
     "end_time": "2017-04-20T13:51:33.111471-04:00",
     "start_time": "2017-04-20T13:50:13.611635"
    },
    "collapsed": true
   },
   "outputs": [],
   "source": [
    "# from cytoolz.curried import pipe, map, filter\n",
    "# def max_nm(nms_str:str):\n",
    "#     #nms = [float(x) for x in nms_str.split(';')]\n",
    "#     nms_split=nms_str.split(';')\n",
    "#     nms=pipe(nms_split, map(float),filter(lambda x: x<2000),list)\n",
    "#     return np.max(nms)\n",
    "\n",
    "# %timeit max_nm('401.929; 238.095; 250; 285.714')\n",
    "\n",
    "from builtins import map, filter\n",
    "def max_nm(nms_str:str):\n",
    "    nms = [float(x) for x in nms_str.split(';')]\n",
    "    #there are some very high values >10000 nm\n",
    "    #nms = list(filter(lambda x: x<2000,map(float, nms_str.split(';'))))\n",
    "    if len(nms)==0:\n",
    "        return np.nan\n",
    "    else:\n",
    "        return np.max(nms)\n",
    "\n",
    "def max_eps(nms_str:str):\n",
    "    nms = [float(x) for x in str(nms_str).split(';')]\n",
    "    if len(nms)==0:\n",
    "        return np.nan\n",
    "    else:\n",
    "        return nms[0]\n",
    "\n",
    "    \n",
    "def s2_nm(nms_str:str):\n",
    "    nms = [float(x) for x in nms_str.split(';')]\n",
    "    #there are some very high values >10000 nm\n",
    "    #nms = list(filter(lambda x: x<2000,map(float, nms_str.split(';'))))7110\n",
    "    if len(nms)<2:\n",
    "        return np.nan\n",
    "    else:\n",
    "        return nms[1]\n",
    "\n",
    "def s2_eps(nms_str:str):\n",
    "    nms = [float(x) for x in str(nms_str).split(';')]\n",
    "    if len(nms)<2:\n",
    "        return np.nan\n",
    "    else:\n",
    "        return nms[1]\n",
    "\n",
    "    \n",
    "def s3_nm(nms_str:str):\n",
    "    #nms = [float(x) for x in nms_str.split(';')]\n",
    "    #there are some very high values >10000 nm7110\n",
    "    nms = list(filter(lambda x: x<2000,map(float, nms_str.split(';'))))\n",
    "    if len(nms)<3:\n",
    "        return np.nan\n",
    "    else:\n",
    "        return nms[2]\n",
    "\n",
    "def uv_parse(abs_nm,eps):\n",
    "    abs_nms = np.array([float(x) for x in str(abs_nm).split(';')])\n",
    "    s1_nm=np.nan\n",
    "    s1_eps=np.nan\n",
    "    s2_nm=np.nan\n",
    "    s2_eps=np.nan\n",
    "    s3_nm=np.nan\n",
    "    s3_eps=np.nan\n",
    "    len_a = len(abs_nms)\n",
    "    idx_a = np.argsort(abs_nms)\n",
    "    if len_a>0:\n",
    "        s1_nm=abs_nms[idx_a][-1]\n",
    "    if len_a>1:\n",
    "        s2_nm=abs_nms[idx_a][-2]\n",
    "    if len_a>2:\n",
    "        s3_nm=abs_nms[idx_a][-3]\n",
    "    try:\n",
    "        epss = np.array([float(x) for x in str(eps).split(';')])\n",
    "        if (len_a==len(epss)):\n",
    "            if len_a>0:\n",
    "                s1_eps=epss[idx_a][-1]\n",
    "            if len_a>1:\n",
    "                s2_eps=epss[idx_a][-2]\n",
    "            if len_a>2:\n",
    "                s3_eps=epss[idx_a][-3]\n",
    "    except ValueError:\n",
    "        pass\n",
    "    return pd.Series([s1_nm,s1_eps,s2_nm,s2_eps,s3_nm,s3_eps,len_a], ['s1_nm','s1_eps','s2_nm','s2_eps','s3_nm','s3_eps','abs_count'])\n",
    "\n",
    "\n",
    "# def prs1(abs_nms,epss):\n",
    "#     s1_nm=np.nan\n",
    "#     s1_eps=np.nan\n",
    "#     s2_nm=np.nan\n",
    "#     s2_eps=np.nan\n",
    "#     s3_nm=np.nan\n",
    "#     s3_eps=np.nan\n",
    "#     len_a = len(abs_nms)\n",
    "#     idx_a = np.argsort(abs_nms)\n",
    "#     if len_a>0:\n",
    "#         s1_nm=abs_nms[idx_a][-1]\n",
    "#     if len_a>1:\n",
    "#         s2_nm=abs_nms[idx_a][-2]\n",
    "#     if len_a>2:\n",
    "#         s3_nm=abs_nms[idx_a][-3]\n",
    "#     if (len_a==len(epss)):\n",
    "#         if len_a>0:\n",
    "#             s1_eps=epss[idx_a][-1]\n",
    "#         if len_a>1:\n",
    "#             s2_eps=epss[idx_a][-2]\n",
    "#         if len_a>2:\n",
    "#             s3_eps=epss[idx_a][-3]\n",
    "    \n",
    "# def uv_parse(abs_nm,eps):\n",
    "#     abs_nms = np.array([float(x) for x in str(abs_nm).split(';')])\n",
    "#     epss = np.array([float(x) for x in str(eps).split(';')])\n",
    "\n",
    "#     return pd.Series([s1_nm,s1_eps,s2_nm,s2_eps,s3_nm,s3_eps], ['s1_nm','s1_eps','s2_nm','s2_eps','s3_nm','s3_eps',abs])\n",
    "\n",
    "res = reax_uv1[['Absorption Maxima (UV/VIS) [nm]','Ext./Abs. Coefficient [l·mol-1cm-1]']].apply(lambda row: uv_parse(row['Absorption Maxima (UV/VIS) [nm]'],row['Ext./Abs. Coefficient [l·mol-1cm-1]']),axis=1)\n",
    "#fnuv_parse = np.vectorize(uv_parse)\n",
    "reax_uv1 = reax_uv1.join(res)\n",
    "#reax_uv['s1_nm']=reax_uv['Absorption Maxima (UV/VIS) [nm]'].apply(max_nm)#, meta=('x', 'f8'))\n",
    "# reax_uv['eps']=reax_uv['Ext./Abs. Coefficient [l·mol-1cm-1]'].apply(max_eps)\n",
    "# reax_uv['s2_nm']=reax_uv['Absorption Maxima (UV/VIS) [nm]'].apply(s2_nm)#, meta=('x', 'f8'))\n",
    "# reax_uv['s2_eps']=reax_uv['Ext./Abs. Coefficient [l·mol-1cm-1]'].apply(s2_eps)\n",
    "# reax_uv['s3_nm']=reax_uv['Absorption Maxima (UV/VIS) [nm]'].apply(s3_nm)#, meta=('x', 'f8'))\n",
    "#reax_uv['nm']=reax_uv['Absorption Maxima (UV/VIS) [nm]'].apply(lambda nms_str: max_nm(nms_str.split(';')))#, meta=('x', 'f8'))\n",
    "#print(max_nm('401.929; 238.095; 250; 285.714'))\n",
    "#reax_uv[cols+['nm']][:50]\n",
    "#reax_uv=reax_uv.dropna(subset=['nm'])\n",
    "#%timeit max_nm1('401.929; 238.095; 250; 285.714')"
   ]
  },
  {
   "cell_type": "code",
   "execution_count": 34,
   "metadata": {
    "ExecuteTime": {
     "end_time": "2017-02-28T12:07:45.243403-05:00",
     "start_time": "2017-02-28T12:07:45.238013"
    },
    "collapsed": true
   },
   "outputs": [],
   "source": [
    "#reference\n",
    "#t1=t1.dropna(how='all')\n",
    "#t1['Absorption Maxima (UV/VIS) [nm]'].str.contains('|',regex=False)\n",
    "#t1[t1['Absorption Maxima (UV/VIS) [nm]'].str.contains('|',regex=False)]\n",
    "#reax_fix1.to_pickle('/home/denn/home/ml/data/sf/reaxys4_fix.pickle')"
   ]
  },
  {
   "cell_type": "code",
   "execution_count": 35,
   "metadata": {
    "ExecuteTime": {
     "end_time": "2017-02-28T12:07:45.263866-05:00",
     "start_time": "2017-02-28T12:07:45.244705"
    },
    "collapsed": true
   },
   "outputs": [],
   "source": [
    "#reax_uv1.ix[225444]\n",
    "#reax_uv[['Absorption Maxima (UV/VIS) [nm]','Ext./Abs. Coefficient [l·mol-1cm-1]']].values[:10]\n",
    "#res=fnuv_parse(reax_uv[['Absorption Maxima (UV/VIS) [nm]','Ext./Abs. Coefficient [l·mol-1cm-1]']].values[:10])\n",
    "#res=fnuv_parse(reax_uv['Absorption Maxima (UV/VIS) [nm]'].values[:10],reax_uv['Ext./Abs. Coefficient [l·mol-1cm-1]'].values[:10])"
   ]
  },
  {
   "cell_type": "code",
   "execution_count": 26,
   "metadata": {
    "ExecuteTime": {
     "end_time": "2017-04-20T11:54:05.834947-04:00",
     "start_time": "2017-04-20T11:54:05.833165"
    },
    "collapsed": true
   },
   "outputs": [],
   "source": [
    "#res[res.s1_nm>2000].count()"
   ]
  },
  {
   "cell_type": "code",
   "execution_count": 134,
   "metadata": {
    "ExecuteTime": {
     "end_time": "2017-02-16T20:57:58.923697",
     "start_time": "2017-02-16T20:57:58.921643"
    },
    "collapsed": true
   },
   "outputs": [],
   "source": [
    "# sample=reax_uv.sample(10).copy()\n",
    "# sample[['Absorption Maxima (UV/VIS) [nm]','Ext./Abs. Coefficient [l·mol-1cm-1]']]"
   ]
  },
  {
   "cell_type": "code",
   "execution_count": 133,
   "metadata": {
    "ExecuteTime": {
     "end_time": "2017-02-16T20:57:50.245739",
     "start_time": "2017-02-16T20:57:50.243314"
    },
    "collapsed": true,
    "scrolled": true
   },
   "outputs": [],
   "source": [
    "#sample.dropna(axis=1,how='all')\n",
    "#sample.count()"
   ]
  },
  {
   "cell_type": "code",
   "execution_count": 141,
   "metadata": {
    "ExecuteTime": {
     "end_time": "2017-02-14T22:18:11.618696",
     "start_time": "2017-02-14T22:18:07.397976"
    },
    "collapsed": true
   },
   "outputs": [],
   "source": [
    "# reax_uv=reax_uv[(reax_uv['Solvent (UV/VIS Spectroscopy)']!='water')&(reax_uv['Solvent (UV/VIS Spectroscopy)']!='various solvent(s)')&(reax_uv['Solvent (UV/VIS Spectroscopy)']!='methanol; various solvent(s)')\\\n",
    "#                &(reax_uv['Solvent (UV/VIS Spectroscopy)']!='aq. ethanol')]"
   ]
  },
  {
   "cell_type": "code",
   "execution_count": 28,
   "metadata": {
    "ExecuteTime": {
     "end_time": "2017-04-20T11:54:55.959318-04:00",
     "start_time": "2017-04-20T11:54:55.706581"
    }
   },
   "outputs": [
    {
     "name": "stdout",
     "output_type": "stream",
     "text": [
      "0\n"
     ]
    }
   ],
   "source": [
    "#print(sum(reax_uv1.index.duplicated(keep=False)))\n",
    "#reax_uv1.info()"
   ]
  },
  {
   "cell_type": "code",
   "execution_count": 106,
   "metadata": {
    "ExecuteTime": {
     "end_time": "2017-04-20T13:54:43.031958-04:00",
     "start_time": "2017-04-20T13:54:42.799776"
    }
   },
   "outputs": [
    {
     "name": "stdout",
     "output_type": "stream",
     "text": [
      "(220431, 19)\n"
     ]
    }
   ],
   "source": [
    "reax_uv1=reax_uv1[(reax_uv1.s1_nm<1600) & (reax_uv1.s1_nm>150)]\n",
    "print(reax_uv1.shape)\n"
   ]
  },
  {
   "cell_type": "code",
   "execution_count": 276,
   "metadata": {
    "ExecuteTime": {
     "end_time": "2017-02-17T13:09:58.263118",
     "start_time": "2017-02-17T13:09:58.261149"
    },
    "collapsed": true
   },
   "outputs": [],
   "source": [
    "#reax_uv1.sample(5)"
   ]
  },
  {
   "cell_type": "code",
   "execution_count": null,
   "metadata": {
    "ExecuteTime": {
     "end_time": "2017-02-14T15:54:25.495201",
     "start_time": "2017-02-14T20:51:29.372Z"
    },
    "collapsed": true
   },
   "outputs": [],
   "source": [
    "# reax_solv.shape"
   ]
  },
  {
   "cell_type": "code",
   "execution_count": null,
   "metadata": {
    "ExecuteTime": {
     "end_time": "2017-02-14T15:54:25.495486",
     "start_time": "2017-02-14T20:51:29.374Z"
    },
    "collapsed": true
   },
   "outputs": [],
   "source": [
    "#reax_solv['Molecular Weight'].median()\n",
    "#reax_solv[reax_solv['Number of References']==1]['Number of References'].count()"
   ]
  },
  {
   "cell_type": "code",
   "execution_count": 72,
   "metadata": {
    "ExecuteTime": {
     "end_time": "2017-02-14T16:55:24.079145",
     "start_time": "2017-02-14T16:55:24.077065"
    },
    "collapsed": true
   },
   "outputs": [],
   "source": [
    "#reax_solv[reax_solv.mf.apply(len)==2].sample(10).dropna(axis=1,how='all')\n",
    "#reax_uv[reax_uv.C_c==0].sample(5).dropna(axis=1,how='all')\n",
    "#reax_uv[reax_uv['InChI Key']=='MWPLVEDNUUSJAV-UHFFFAOYSA-N'].dropna(axis=1,how='all')"
   ]
  },
  {
   "cell_type": "code",
   "execution_count": null,
   "metadata": {
    "ExecuteTime": {
     "end_time": "2017-02-14T15:54:25.495763",
     "start_time": "2017-02-14T20:51:29.375Z"
    },
    "collapsed": true
   },
   "outputs": [],
   "source": [
    "#reax_solv.count()"
   ]
  },
  {
   "cell_type": "code",
   "execution_count": null,
   "metadata": {
    "ExecuteTime": {
     "end_time": "2017-02-14T15:54:25.496038",
     "start_time": "2017-02-14T20:51:29.377Z"
    },
    "collapsed": true
   },
   "outputs": [],
   "source": [
    "#reax_solv['Comment (UV/VIS Spectroscopy)'].dropna()[:100]\n",
    "#'UV/VIS Spectroscopy: Description (UV/VIS Spectroscopy)'"
   ]
  },
  {
   "cell_type": "code",
   "execution_count": 146,
   "metadata": {
    "ExecuteTime": {
     "end_time": "2017-02-14T22:18:27.678451",
     "start_time": "2017-02-14T22:18:27.675297"
    },
    "collapsed": true
   },
   "outputs": [],
   "source": [
    "# need_cols=['s1_nm','s1_eps','s2_nm','s2_eps','s3_nm','s3_eps','Substance Identification: Reaxys Registry Number','InChI Key','CAS Registry Number','Chemical Name','UV/VIS Spectroscopy: Description (UV/VIS Spectroscopy)','Solvent (UV/VIS Spectroscopy)','C_c','Linear Structure Formula','Structure','Number of References','Absorption Maxima (UV/VIS) [nm]']"
   ]
  },
  {
   "cell_type": "code",
   "execution_count": 30,
   "metadata": {
    "ExecuteTime": {
     "end_time": "2017-04-20T11:56:39.689536-04:00",
     "start_time": "2017-04-20T11:56:39.441462"
    },
    "scrolled": true
   },
   "outputs": [
    {
     "name": "stdout",
     "output_type": "stream",
     "text": [
      "(134474, 19)\n",
      "(134474, 19)\n"
     ]
    }
   ],
   "source": [
    "# print(reax_uv1.shape)\n",
    "# reax=reax_uv1.drop_duplicates()\n",
    "# #reax_solv_i=reax_solv[need_cols].set_index(['InChI Key']) #,'Solvent (UV/VIS Spectroscopy)'\n",
    "# #reax_solv[reax_solv.C_c==0 | [reax_solv['CAS Registry Number'].isnull()][need_cols]\n",
    "# print(reax.shape)"
   ]
  },
  {
   "cell_type": "code",
   "execution_count": 120,
   "metadata": {
    "ExecuteTime": {
     "end_time": "2017-02-14T21:57:04.145782",
     "start_time": "2017-02-14T21:57:04.143828"
    },
    "collapsed": true
   },
   "outputs": [],
   "source": [
    "#show(reax.sort_values(by='s1_nm',ascending=False)[:30].dropna(axis=1,how='all'))"
   ]
  },
  {
   "cell_type": "code",
   "execution_count": 278,
   "metadata": {
    "ExecuteTime": {
     "end_time": "2017-02-17T13:10:20.491979",
     "start_time": "2017-02-17T13:10:20.486510"
    },
    "collapsed": true
   },
   "outputs": [],
   "source": [
    "# def reject_outliers(sr, iq_range=0.5):\n",
    "#     pcnt = ((1 - iq_range) / 2)*100\n",
    "#     qlow, median, qhigh = np.percentile(sr,[pcnt, 50, 100-pcnt])\n",
    "#     iqr = qhigh - qlow\n",
    "#     return sr[ np.abs(sr - median) <= iqr]"
   ]
  },
  {
   "cell_type": "code",
   "execution_count": 293,
   "metadata": {
    "ExecuteTime": {
     "end_time": "2017-02-17T14:00:26.637043",
     "start_time": "2017-02-17T13:54:30.646698"
    },
    "collapsed": true
   },
   "outputs": [],
   "source": [
    "# reax1=reax.groupby(['InChI Key','Solvent (UV/VIS Spectroscopy)'])['s1_nm'].agg({\n",
    "# #                                                    'mode':lambda x: x.value_counts().idxmax(),\n",
    "# #                                                    'mode_count':lambda x: x.value_counts().max(),\n",
    "#                                                    'std':'std',\n",
    "# #                                                    'median':np.median,\n",
    "#                                                    'max':'max',\n",
    "#                                                    'min':'min',\n",
    "#                                                    'max_min':lambda x: np.max(x)-np.min(x),\n",
    "#                                                    'count':'count',\n",
    "#                                                    'mean':'mean',\n",
    "#                                                    'mean_rj':lambda x: np.mean(reject_outliers(x,iq_range=0.5)),\n",
    "#                                                    'std_rj':lambda x: np.std(reject_outliers(x,iq_range=0.5))\n",
    "#                                                    })\n"
   ]
  },
  {
   "cell_type": "code",
   "execution_count": 31,
   "metadata": {
    "ExecuteTime": {
     "end_time": "2017-04-20T11:56:51.532135-04:00",
     "start_time": "2017-04-20T11:56:51.529821"
    },
    "collapsed": true
   },
   "outputs": [],
   "source": [
    "# print(reax1[(reax1['max_min']<20)&(reax1['count']>1)].count())\n",
    "# reax1[(reax1['max_min']>100)&(reax1['count']>0)].sort_values(by='max_min',ascending=False)[:30]"
   ]
  },
  {
   "cell_type": "code",
   "execution_count": 32,
   "metadata": {
    "ExecuteTime": {
     "end_time": "2017-04-20T11:56:56.443711-04:00",
     "start_time": "2017-04-20T11:56:56.441336"
    },
    "collapsed": true,
    "scrolled": true
   },
   "outputs": [],
   "source": [
    "# #reax[reax['InChI Key']=='OYJOYFYJDAFOEI-UHFFFAOYSA-N']\n",
    "# #show(reax[reax['InChI Key']=='ZGUGWUXLJSTTMA-UHFFFAOYSA-N'].dropna(axis=1))\n",
    "# show(reax[reax['Substance Identification: Reaxys Registry Number']==2121226].dropna(axis=1))"
   ]
  },
  {
   "cell_type": "code",
   "execution_count": 99,
   "metadata": {
    "ExecuteTime": {
     "end_time": "2017-02-14T21:10:43.452745",
     "start_time": "2017-02-14T21:10:43.450382"
    },
    "collapsed": true
   },
   "outputs": [],
   "source": [
    "#df_solvents=reax_solv[['Solvent (UV/VIS Spectroscopy)','nm','Structure','InChI Key']].set_index([]).pivot(columns='Solvent (UV/VIS Spectroscopy)')\n",
    "#df_solvents=reax_solv_i[['Solvent (UV/VIS Spectroscopy)','nm']].pivot(columns='Solvent (UV/VIS Spectroscopy)')"
   ]
  },
  {
   "cell_type": "code",
   "execution_count": 33,
   "metadata": {
    "ExecuteTime": {
     "end_time": "2017-04-20T11:57:00.745049-04:00",
     "start_time": "2017-04-20T11:57:00.742292"
    },
    "collapsed": true
   },
   "outputs": [],
   "source": [
    "\n",
    "\n",
    "# #dft = np.logical_not(reax_uv['Solvent (UV/VIS Spectroscopy)'].str.contains('acid|buffer|H2O',na=False))\n",
    "# dft = (reax_uv['Solvent (UV/VIS Spectroscopy)']=='methanol')|(reax_uv['Solvent (UV/VIS Spectroscopy)']=='ethanol')\n",
    "# #dft = (reax_uv['Solvent (UV/VIS Spectroscopy)']=='methanol')|(reax_uv['Solvent (UV/VIS Spectroscopy)']=='ethanol')|(reax_uv['Solvent (UV/VIS Spectroscopy)']=='acetonitrile')|(reax_uv['Solvent (UV/VIS Spectroscopy)']=='tetrahydrofuran')|(reax_uv['Solvent (UV/VIS Spectroscopy)']=='dioxane')\n",
    "# #dft = (reax_uv['Solvent (UV/VIS Spectroscopy)']=='CHCl3')|(reax_uv['Solvent (UV/VIS Spectroscopy)']=='CH2Cl2')|(reax_uv['Solvent (UV/VIS Spectroscopy)']=='dichloromethane')|(reax_uv['Solvent (UV/VIS Spectroscopy)']=='hexane')|(reax_uv['Solvent (UV/VIS Spectroscopy)']=='cyclohexane')\n",
    "# reax_uv1=reax_uv[dft]\n",
    "# reax_uv1.nm.count()"
   ]
  },
  {
   "cell_type": "code",
   "execution_count": 107,
   "metadata": {
    "ExecuteTime": {
     "end_time": "2017-04-20T13:55:04.715747-04:00",
     "start_time": "2017-04-20T13:55:04.624983"
    },
    "collapsed": true
   },
   "outputs": [],
   "source": [
    "reax_uv1['s1_ev']=1240./reax_uv1['s1_nm']"
   ]
  },
  {
   "cell_type": "code",
   "execution_count": 108,
   "metadata": {
    "ExecuteTime": {
     "end_time": "2017-04-20T13:56:20.331065-04:00",
     "start_time": "2017-04-20T13:56:20.173790"
    },
    "collapsed": true
   },
   "outputs": [],
   "source": [
    "reax_s1=reax_uv1[:].groupby('Substance Identification: Reaxys Registry Number')['s1_ev','s1_eps'].agg({\n",
    "                                                   #'mode':lambda x: x.value_counts().idxmax(),\n",
    "                                                   #'mode_count':lambda x: x.value_counts().max(),\n",
    "                                                   's1_ev': {\n",
    "                                                       'std':'std',\n",
    "                                                       'median':'median',\n",
    "                                                       'max':'max',\n",
    "                                                       'min':'min',\n",
    "                                                       #'max_min':lambda x: np.max(x)-np.min(x),\n",
    "                                                       'count':'count',\n",
    "                                                       'mean':'mean',\n",
    "                                                       #'mean_rj':lambda x: np.mean(reject_outliers(x.values,iq_range=0.5)),\n",
    "                                                       #'std_rj':lambda x: np.std(reject_outliers(x,iq_range=0.5))\n",
    "                                                   },\n",
    "                                                    's1_eps': {'max_eps':'max'}\n",
    "                                                    })\n",
    "\n",
    "reax_s1['max_min']=reax_s1['max']-reax_s1['min']"
   ]
  },
  {
   "cell_type": "code",
   "execution_count": 109,
   "metadata": {
    "ExecuteTime": {
     "end_time": "2017-04-20T13:56:21.615538-04:00",
     "start_time": "2017-04-20T13:56:21.343733"
    },
    "scrolled": true
   },
   "outputs": [
    {
     "name": "stdout",
     "output_type": "stream",
     "text": [
      "0\n",
      "<class 'pandas.core.frame.DataFrame'>\n",
      "Int64Index: 128171 entries, 1807 to 30480261\n",
      "Data columns (total 8 columns):\n",
      "max_eps    76690 non-null float64\n",
      "median     128171 non-null float64\n",
      "count      128171 non-null int64\n",
      "mean       128171 non-null float64\n",
      "std        31933 non-null float64\n",
      "min        128171 non-null float64\n",
      "max        128171 non-null float64\n",
      "max_min    128171 non-null float64\n",
      "dtypes: float64(7), int64(1)\n",
      "memory usage: 8.8 MB\n"
     ]
    }
   ],
   "source": [
    "print(sum(reax_s1.index.duplicated(keep=False)))\n",
    "reax_s1.info()\n",
    "#reax_s1['count'].value_counts()"
   ]
  },
  {
   "cell_type": "code",
   "execution_count": 110,
   "metadata": {
    "ExecuteTime": {
     "end_time": "2017-04-20T13:56:35.412783-04:00",
     "start_time": "2017-04-20T13:56:35.290495"
    },
    "collapsed": true
   },
   "outputs": [],
   "source": [
    "import math\n",
    "@numba.jit(nopython=True,cache=True)\n",
    "def percentile(N, percent):\n",
    "    \"\"\"\n",
    "    Find the percentile of a list of values.\n",
    "\n",
    "    @parameter N - is a list of values. Note N MUST BE already sorted.\n",
    "    @parameter percent - a float value from 0.0 to 1.0.\n",
    "    @parameter key - optional key function to compute value from each element of N.\n",
    "\n",
    "    @return - the percentile of the values\n",
    "    \"\"\"\n",
    "    k = (N.shape[0]-1) * percent\n",
    "    f = math.floor(k)\n",
    "    c = math.ceil(k)\n",
    "    if f == c:\n",
    "        return (N[int(k)])\n",
    "    d0 = (N[int(f)]) * (c-k)\n",
    "    d1 = (N[int(c)]) * (k-f)\n",
    "    return d0+d1\n",
    "\n",
    "@numba.jit(nopython=True,cache=True)\n",
    "def reject_outliers3(sr, iq_range=0.5):\n",
    "    pcnt = ((1-iq_range) / 2)\n",
    "    N=sr\n",
    "    qlow = percentile(N,pcnt)\n",
    "    median = percentile(N,0.5)\n",
    "    qhigh = percentile(N,1-pcnt)\n",
    "    iqr = qhigh - qlow\n",
    "    return sr[ np.abs(sr - median) <= iqr]\n",
    "\n",
    "@numba.jit(nopython=True,cache=True)\n",
    "def mean_rj(sr, iq_range=0.5):\n",
    "    sr.sort()\n",
    "    return np.mean(reject_outliers3(sr,iq_range=0.5))\n",
    "\n",
    "@numba.jit(nopython=True,cache=True)\n",
    "def std_rj(sr, iq_range=0.5):\n",
    "    sr.sort()\n",
    "    return np.std(reject_outliers3(sr,iq_range=0.5))    \n",
    "    \n",
    "def reject_outliers1(sr, iq_range=0.5):\n",
    "    pcnt = (1 - iq_range) / 2\n",
    "    qlow, median, qhigh = sr.dropna().quantile([pcnt, 0.50, 1-pcnt])\n",
    "    iqr = qhigh - qlow\n",
    "    return sr[ (sr - median).abs() <= iqr]\n",
    "\n",
    "# ar=np.array([1,2,3,4,5,5,5,5,4,7,8,9],dtype=int)\n",
    "# sr=pd.Series(ar)\n",
    "# %timeit mean_rj(np.array(sr.values,dtype=int),0.1)\n",
    "# %timeit std_rj(np.array(sr.values,dtype=int),0.1)\n",
    "#%timeit reject_outliers1(sr,0.1)\n",
    "#print(reject_outliers(sr,0.5))\n",
    "#print(reject_outliers1(sr,0.5))\n",
    "\n",
    "#help(sr.values)"
   ]
  },
  {
   "cell_type": "code",
   "execution_count": 111,
   "metadata": {
    "ExecuteTime": {
     "end_time": "2017-04-20T13:56:59.474438-04:00",
     "start_time": "2017-04-20T13:56:36.969261"
    },
    "collapsed": true
   },
   "outputs": [],
   "source": [
    "reax_s1_rj=reax_uv1[:].groupby('Substance Identification: Reaxys Registry Number')['s1_ev'].agg({\n",
    "                                                   #'mode':lambda x: x.value_counts().idxmax(),\n",
    "                                                   #'mode_count':lambda x: x.value_counts().max(),\n",
    "                                                   's1_ev': {\n",
    "                                                      'mean_rj':lambda x: mean_rj(x.values,iq_range=0.5) if x.shape[0]>2 else x.mean(),\n",
    "                                                      'std_rj':lambda x: std_rj(x.values,iq_range=0.5) if x.shape[0]>2 else np.nan,\n",
    "                                                   },\n",
    "                                                    })"
   ]
  },
  {
   "cell_type": "code",
   "execution_count": 39,
   "metadata": {
    "ExecuteTime": {
     "end_time": "2017-04-20T12:00:37.934829-04:00",
     "start_time": "2017-04-20T12:00:37.932024"
    },
    "collapsed": true
   },
   "outputs": [],
   "source": [
    "#reax_s1_rj.dropna().sample(10)"
   ]
  },
  {
   "cell_type": "code",
   "execution_count": 112,
   "metadata": {
    "ExecuteTime": {
     "end_time": "2017-04-20T13:57:18.588855-04:00",
     "start_time": "2017-04-20T13:57:18.573418"
    },
    "collapsed": true
   },
   "outputs": [],
   "source": [
    "reax_s1[['std_rj','mean_rj']]=reax_s1_rj['s1_ev'][['std_rj','mean_rj']]\n",
    "#reax_s1['std_rj']=reax_s1_rj['std_rj']\n",
    "#reax_s1.columns\n"
   ]
  },
  {
   "cell_type": "code",
   "execution_count": 113,
   "metadata": {
    "ExecuteTime": {
     "end_time": "2017-04-20T13:57:20.537257-04:00",
     "start_time": "2017-04-20T13:57:20.135439"
    }
   },
   "outputs": [
    {
     "name": "stdout",
     "output_type": "stream",
     "text": [
      "max_eps     76690\n",
      "median     128171\n",
      "count      128171\n",
      "mean       128171\n",
      "std         31933\n",
      "min        128171\n",
      "max        128171\n",
      "max_min    128171\n",
      "std_rj      14512\n",
      "mean_rj    128171\n",
      "dtype: int64\n",
      "(128171, 10)\n",
      "0.112650039786\n",
      "0\n",
      "<class 'pandas.core.frame.DataFrame'>\n",
      "Int64Index: 128171 entries, 1807 to 30480261\n",
      "Data columns (total 10 columns):\n",
      "max_eps    76690 non-null float64\n",
      "median     128171 non-null float64\n",
      "count      128171 non-null int64\n",
      "mean       128171 non-null float64\n",
      "std        31933 non-null float64\n",
      "min        128171 non-null float64\n",
      "max        128171 non-null float64\n",
      "max_min    128171 non-null float64\n",
      "std_rj     14512 non-null float64\n",
      "mean_rj    128171 non-null float64\n",
      "dtypes: float64(9), int64(1)\n",
      "memory usage: 10.8 MB\n"
     ]
    }
   ],
   "source": [
    "#'Substance Identification: Reaxys Registry Number','InChI Key','CAS Registry Number','Chemical Name',\n",
    "print(reax_s1.count())\n",
    "print(reax_s1.shape)\n",
    "print(reax_s1['max_min'].mean())\n",
    "\n",
    "reax_s1[reax_s1['std_rj']>0.1][:10]\n",
    "print(sum(reax_s1.index.duplicated(keep=False)))\n",
    "reax_s1.info()"
   ]
  },
  {
   "cell_type": "code",
   "execution_count": 114,
   "metadata": {
    "ExecuteTime": {
     "end_time": "2017-04-20T13:57:57.700244-04:00",
     "start_time": "2017-04-20T13:57:57.565531"
    },
    "scrolled": false
   },
   "outputs": [
    {
     "name": "stdout",
     "output_type": "stream",
     "text": [
      "118417\n",
      "0.499876593994\n",
      "0.0231741482123\n",
      "(118417, 10)\n"
     ]
    },
    {
     "data": {
      "text/html": [
       "<table border=\"1\" class=\"dataframe\">\n",
       "  <thead>\n",
       "    <tr style=\"text-align: right;\">\n",
       "      <th></th>\n",
       "      <th>max_eps</th>\n",
       "      <th>median</th>\n",
       "      <th>count</th>\n",
       "      <th>mean</th>\n",
       "      <th>std</th>\n",
       "      <th>min</th>\n",
       "      <th>max</th>\n",
       "      <th>max_min</th>\n",
       "      <th>std_rj</th>\n",
       "      <th>mean_rj</th>\n",
       "    </tr>\n",
       "    <tr>\n",
       "      <th>Substance Identification: Reaxys Registry Number</th>\n",
       "      <th></th>\n",
       "      <th></th>\n",
       "      <th></th>\n",
       "      <th></th>\n",
       "      <th></th>\n",
       "      <th></th>\n",
       "      <th></th>\n",
       "      <th></th>\n",
       "      <th></th>\n",
       "      <th></th>\n",
       "    </tr>\n",
       "  </thead>\n",
       "  <tbody>\n",
       "    <tr>\n",
       "      <th>6762322</th>\n",
       "      <td>NaN</td>\n",
       "      <td>2.616034</td>\n",
       "      <td>1</td>\n",
       "      <td>2.616034</td>\n",
       "      <td>NaN</td>\n",
       "      <td>2.616034</td>\n",
       "      <td>2.616034</td>\n",
       "      <td>0.000000</td>\n",
       "      <td>NaN</td>\n",
       "      <td>2.616034</td>\n",
       "    </tr>\n",
       "    <tr>\n",
       "      <th>5150902</th>\n",
       "      <td>8128.0</td>\n",
       "      <td>2.119658</td>\n",
       "      <td>1</td>\n",
       "      <td>2.119658</td>\n",
       "      <td>NaN</td>\n",
       "      <td>2.119658</td>\n",
       "      <td>2.119658</td>\n",
       "      <td>0.000000</td>\n",
       "      <td>NaN</td>\n",
       "      <td>2.119658</td>\n",
       "    </tr>\n",
       "    <tr>\n",
       "      <th>6604652</th>\n",
       "      <td>13500.0</td>\n",
       "      <td>2.171629</td>\n",
       "      <td>1</td>\n",
       "      <td>2.171629</td>\n",
       "      <td>NaN</td>\n",
       "      <td>2.171629</td>\n",
       "      <td>2.171629</td>\n",
       "      <td>0.000000</td>\n",
       "      <td>NaN</td>\n",
       "      <td>2.171629</td>\n",
       "    </tr>\n",
       "    <tr>\n",
       "      <th>803687</th>\n",
       "      <td>NaN</td>\n",
       "      <td>3.289125</td>\n",
       "      <td>5</td>\n",
       "      <td>3.291051</td>\n",
       "      <td>0.027331</td>\n",
       "      <td>3.263158</td>\n",
       "      <td>3.333333</td>\n",
       "      <td>0.070175</td>\n",
       "      <td>0.013722</td>\n",
       "      <td>3.280481</td>\n",
       "    </tr>\n",
       "    <tr>\n",
       "      <th>341301</th>\n",
       "      <td>15488.0</td>\n",
       "      <td>3.397260</td>\n",
       "      <td>1</td>\n",
       "      <td>3.397260</td>\n",
       "      <td>NaN</td>\n",
       "      <td>3.397260</td>\n",
       "      <td>3.397260</td>\n",
       "      <td>0.000000</td>\n",
       "      <td>NaN</td>\n",
       "      <td>3.397260</td>\n",
       "    </tr>\n",
       "    <tr>\n",
       "      <th>5316275</th>\n",
       "      <td>12303.0</td>\n",
       "      <td>2.877030</td>\n",
       "      <td>1</td>\n",
       "      <td>2.877030</td>\n",
       "      <td>NaN</td>\n",
       "      <td>2.877030</td>\n",
       "      <td>2.877030</td>\n",
       "      <td>0.000000</td>\n",
       "      <td>NaN</td>\n",
       "      <td>2.877030</td>\n",
       "    </tr>\n",
       "    <tr>\n",
       "      <th>175360</th>\n",
       "      <td>21380.0</td>\n",
       "      <td>3.604651</td>\n",
       "      <td>3</td>\n",
       "      <td>3.525369</td>\n",
       "      <td>0.175334</td>\n",
       "      <td>3.324397</td>\n",
       "      <td>3.647059</td>\n",
       "      <td>0.322662</td>\n",
       "      <td>0.021204</td>\n",
       "      <td>3.625855</td>\n",
       "    </tr>\n",
       "    <tr>\n",
       "      <th>7881471</th>\n",
       "      <td>NaN</td>\n",
       "      <td>2.206406</td>\n",
       "      <td>1</td>\n",
       "      <td>2.206406</td>\n",
       "      <td>NaN</td>\n",
       "      <td>2.206406</td>\n",
       "      <td>2.206406</td>\n",
       "      <td>0.000000</td>\n",
       "      <td>NaN</td>\n",
       "      <td>2.206406</td>\n",
       "    </tr>\n",
       "    <tr>\n",
       "      <th>4212388</th>\n",
       "      <td>14125.0</td>\n",
       "      <td>2.818182</td>\n",
       "      <td>1</td>\n",
       "      <td>2.818182</td>\n",
       "      <td>NaN</td>\n",
       "      <td>2.818182</td>\n",
       "      <td>2.818182</td>\n",
       "      <td>0.000000</td>\n",
       "      <td>NaN</td>\n",
       "      <td>2.818182</td>\n",
       "    </tr>\n",
       "    <tr>\n",
       "      <th>30293429</th>\n",
       "      <td>NaN</td>\n",
       "      <td>2.039474</td>\n",
       "      <td>1</td>\n",
       "      <td>2.039474</td>\n",
       "      <td>NaN</td>\n",
       "      <td>2.039474</td>\n",
       "      <td>2.039474</td>\n",
       "      <td>0.000000</td>\n",
       "      <td>NaN</td>\n",
       "      <td>2.039474</td>\n",
       "    </tr>\n",
       "  </tbody>\n",
       "</table>"
      ],
      "text/plain": [
       "<IPython.core.display.HTML object>"
      ]
     },
     "execution_count": 114,
     "metadata": {},
     "output_type": "execute_result"
    }
   ],
   "source": [
    "\n",
    "\n",
    "# clean=reax_uv_gr[(reax_uv_gr['std_rj']>10)]\n",
    "# print(.count())\n",
    "df_filter=reax_s1.copy()\n",
    "# df_filter=df_filter[np.logical_not((df_filter['std_rj']>10) & (df_filter['count']>2))]\n",
    "# print(df_filter['count'].count())\n",
    "#df_filter=df_filter[(df_filter['std'].isnull())|(df_filter['std']<10)]\n",
    "#df_filter=df_filter[(df_filter['std_rj'].isnull())|(df_filter['std_rj']<20)]\n",
    "df_filter=df_filter[df_filter['max_min']<0.5]\n",
    "print(df_filter['count'].count())\n",
    "print(df_filter['max_min'].max())\n",
    "print(df_filter['max_min'].mean())\n",
    "#print(df_filter[df_filter['count']==1].count())\n",
    "print(df_filter.shape)\n",
    "show(df_filter.sample(10))\n"
   ]
  },
  {
   "cell_type": "code",
   "execution_count": 115,
   "metadata": {
    "ExecuteTime": {
     "end_time": "2017-04-20T13:58:39.790336-04:00",
     "start_time": "2017-04-20T13:58:39.779941"
    }
   },
   "outputs": [
    {
     "data": {
      "text/plain": [
       "max_eps    1855\n",
       "median     2887\n",
       "count      2887\n",
       "mean       2887\n",
       "std        2887\n",
       "min        2887\n",
       "max        2887\n",
       "max_min    2887\n",
       "std_rj     1573\n",
       "mean_rj    2887\n",
       "dtype: int64"
      ]
     },
     "execution_count": 115,
     "metadata": {},
     "output_type": "execute_result"
    }
   ],
   "source": [
    "df_filter[df_filter['max_min']>0.3].count()"
   ]
  },
  {
   "cell_type": "code",
   "execution_count": 116,
   "metadata": {
    "ExecuteTime": {
     "end_time": "2017-04-20T13:58:49.271972-04:00",
     "start_time": "2017-04-20T13:58:49.010254"
    }
   },
   "outputs": [
    {
     "name": "stdout",
     "output_type": "stream",
     "text": [
      "0\n",
      "<class 'pandas.core.frame.DataFrame'>\n",
      "Int64Index: 118417 entries, 2372 to 30480261\n",
      "Data columns (total 10 columns):\n",
      "max_eps    69761 non-null float64\n",
      "median     118417 non-null float64\n",
      "count      118417 non-null int64\n",
      "mean       118417 non-null float64\n",
      "std        22179 non-null float64\n",
      "min        118417 non-null float64\n",
      "max        118417 non-null float64\n",
      "max_min    118417 non-null float64\n",
      "std_rj     9201 non-null float64\n",
      "mean_rj    118417 non-null float64\n",
      "dtypes: float64(9), int64(1)\n",
      "memory usage: 9.9 MB\n"
     ]
    }
   ],
   "source": [
    "print(sum(df_filter.index.duplicated(keep=False)))\n",
    "df_filter.info()"
   ]
  },
  {
   "cell_type": "code",
   "execution_count": 144,
   "metadata": {
    "ExecuteTime": {
     "end_time": "2017-04-20T14:26:24.752930-04:00",
     "start_time": "2017-04-20T14:26:24.548833"
    }
   },
   "outputs": [
    {
     "name": "stdout",
     "output_type": "stream",
     "text": [
      "(118417, 15)\n"
     ]
    },
    {
     "data": {
      "text/plain": [
       "InChI Key                   117842\n",
       "CAS Registry Number          62261\n",
       "Chemical Name                84504\n",
       "Structure                   118417\n",
       "Linear Structure Formula    118417\n",
       "max_eps                      69761\n",
       "median                      118417\n",
       "count                       118417\n",
       "mean                        118417\n",
       "std                          22179\n",
       "min                         118417\n",
       "max                         118417\n",
       "max_min                     118417\n",
       "std_rj                        9201\n",
       "mean_rj                     118417\n",
       "dtype: int64"
      ]
     },
     "execution_count": 144,
     "metadata": {},
     "output_type": "execute_result"
    }
   ],
   "source": [
    "cols_merge=['Substance Identification: Reaxys Registry Number','InChI Key','CAS Registry Number','Chemical Name','Structure','Linear Structure Formula']\n",
    "reax_merge=reax_fix1[cols_merge].drop_duplicates(subset='Substance Identification: Reaxys Registry Number').set_index('Substance Identification: Reaxys Registry Number')#.drop_duplicates(subset='InChI Key')\n",
    "df_flt1 = pd.merge(reax_merge,df_filter, how='inner',left_index=True,right_index=True)\n",
    "print(df_flt1.shape)\n",
    "df_flt1.count()"
   ]
  },
  {
   "cell_type": "code",
   "execution_count": 145,
   "metadata": {
    "ExecuteTime": {
     "end_time": "2017-04-20T14:26:32.538937-04:00",
     "start_time": "2017-04-20T14:26:31.668164"
    }
   },
   "outputs": [
    {
     "name": "stdout",
     "output_type": "stream",
     "text": [
      "0\n",
      "<class 'pandas.core.frame.DataFrame'>\n",
      "Int64Index: 118417 entries, 2372 to 30480261\n",
      "Data columns (total 10 columns):\n",
      "max_eps    69761 non-null float64\n",
      "median     118417 non-null float64\n",
      "count      118417 non-null int64\n",
      "mean       118417 non-null float64\n",
      "std        22179 non-null float64\n",
      "min        118417 non-null float64\n",
      "max        118417 non-null float64\n",
      "max_min    118417 non-null float64\n",
      "std_rj     9201 non-null float64\n",
      "mean_rj    118417 non-null float64\n",
      "dtypes: float64(9), int64(1)\n",
      "memory usage: 9.9 MB\n",
      "0\n",
      "<class 'pandas.core.frame.DataFrame'>\n",
      "Int64Index: 128210 entries, 1807 to 30480261\n",
      "Data columns (total 5 columns):\n",
      "InChI Key                   127615 non-null object\n",
      "CAS Registry Number         67851 non-null object\n",
      "Chemical Name               92751 non-null object\n",
      "Structure                   128210 non-null object\n",
      "Linear Structure Formula    128210 non-null object\n",
      "dtypes: object(5)\n",
      "memory usage: 5.9+ MB\n",
      "0\n",
      "<class 'pandas.core.frame.DataFrame'>\n",
      "Int64Index: 118417 entries, 2372 to 30480261\n",
      "Data columns (total 15 columns):\n",
      "InChI Key                   117842 non-null object\n",
      "CAS Registry Number         62261 non-null object\n",
      "Chemical Name               84504 non-null object\n",
      "Structure                   118417 non-null object\n",
      "Linear Structure Formula    118417 non-null object\n",
      "max_eps                     69761 non-null float64\n",
      "median                      118417 non-null float64\n",
      "count                       118417 non-null int64\n",
      "mean                        118417 non-null float64\n",
      "std                         22179 non-null float64\n",
      "min                         118417 non-null float64\n",
      "max                         118417 non-null float64\n",
      "max_min                     118417 non-null float64\n",
      "std_rj                      9201 non-null float64\n",
      "mean_rj                     118417 non-null float64\n",
      "dtypes: float64(9), int64(1), object(5)\n",
      "memory usage: 14.5+ MB\n"
     ]
    }
   ],
   "source": [
    "print(sum(df_filter.index.duplicated(keep=False)))\n",
    "df_filter.info()\n",
    "print(sum(reax_merge.index.duplicated(keep=False)))\n",
    "reax_merge.info()\n",
    "print(sum(df_flt1.index.duplicated(keep=False)))\n",
    "df_flt1.info()"
   ]
  },
  {
   "cell_type": "code",
   "execution_count": 136,
   "metadata": {
    "ExecuteTime": {
     "end_time": "2017-04-20T14:14:23.016455-04:00",
     "start_time": "2017-04-20T14:14:23.011272"
    },
    "collapsed": true
   },
   "outputs": [],
   "source": [
    "#reax_merge[reax_merge.index.duplicated(keep=False)]\n",
    "#df_flt1[df_flt1.mean_rj.isnull()][:10]\n",
    "#df_flt1.dropna(subset=['mean_rj']).info()"
   ]
  },
  {
   "cell_type": "code",
   "execution_count": 83,
   "metadata": {
    "ExecuteTime": {
     "end_time": "2017-02-20T09:49:49.553163",
     "start_time": "2017-02-20T09:49:49.549828"
    },
    "collapsed": true
   },
   "outputs": [],
   "source": [
    "#show(df_flt1[:10])\n",
    "# df_flt1=df_filter.reset_index()\n",
    "# df_flt1=df_flt1[df_flt1.Structure.str.match('([0-9CNOFS@+\\-\\[\\]\\(\\)\\\\\\/%=#$]+)$',case=False,as_indexer=True)]\n",
    "# df_flt1=df_flt1[df_flt1.Structure.str.match('^((?!(\\[Co\\]|\\[Se\\]|\\[O\\+8\\]|\\[C-3\\]|\\[N\\+5\\]|\\[O\\+3\\]|\\.)).)*$',case=True,as_indexer=True)]\n",
    "# print(df_flt1.Structure.count())\n",
    "# df_flt1.sample(10)"
   ]
  },
  {
   "cell_type": "code",
   "execution_count": 164,
   "metadata": {
    "ExecuteTime": {
     "end_time": "2017-01-11T11:32:54.157549",
     "start_time": "2017-01-11T11:32:54.074149"
    },
    "collapsed": true
   },
   "outputs": [],
   "source": [
    "#np.save('/home/denn/home/ml/data/reaxys3_MW120-1000_UV360-440_ftr1.npy',df_flt1.as_matrix())"
   ]
  },
  {
   "cell_type": "code",
   "execution_count": 146,
   "metadata": {
    "ExecuteTime": {
     "end_time": "2017-04-20T14:29:39.384836-04:00",
     "start_time": "2017-04-20T14:26:41.014006"
    },
    "collapsed": true
   },
   "outputs": [],
   "source": [
    "import pybel\n",
    "\n",
    "def obl(xyz):\n",
    "    m=pybel.readstring('smiles',xyz)\n",
    "    return pd.Series({'can':m.write('can'),'check_inchi':m.write('inchikey')})\n",
    "\n",
    "#df_check['check_inchi']=df_check['xyz'].apply(lambda m: pybel.readstring('xyz',m).write('inchikey').split('-')[0])\n",
    "#df_check['check_smi']=df_check['xyz'].apply(lambda m: pybel.readstring('xyz',m).write('can'))\n",
    "#df_check=df_check1['xyz'].apply(obl))\n",
    "df_obl=df_flt1.Structure.apply(obl)\n",
    "#df_flt2=df_flt1.join(df_flt1.Structure.apply(obl),how)\n",
    "#%timeit obl('BrC1=CC=C(C=C1)C1CC(=NN1C1=CC=CC=C1)C1=CC=C(C=C1)C#N')"
   ]
  },
  {
   "cell_type": "code",
   "execution_count": 147,
   "metadata": {
    "ExecuteTime": {
     "end_time": "2017-04-20T14:29:39.481614-04:00",
     "start_time": "2017-04-20T14:29:39.402111"
    }
   },
   "outputs": [
    {
     "name": "stdout",
     "output_type": "stream",
     "text": [
      "<class 'pandas.core.frame.DataFrame'>\n",
      "Int64Index: 118417 entries, 2372 to 30480261\n",
      "Data columns (total 2 columns):\n",
      "can            118417 non-null object\n",
      "check_inchi    118417 non-null object\n",
      "dtypes: object(2)\n",
      "memory usage: 2.7+ MB\n"
     ]
    }
   ],
   "source": [
    "df_obl.info()"
   ]
  },
  {
   "cell_type": "code",
   "execution_count": 161,
   "metadata": {
    "ExecuteTime": {
     "end_time": "2017-04-20T14:40:57.614553-04:00",
     "start_time": "2017-04-20T14:40:57.398727"
    },
    "scrolled": true
   },
   "outputs": [
    {
     "data": {
      "text/html": [
       "<div>\n",
       "<table border=\"1\" class=\"dataframe\">\n",
       "  <thead>\n",
       "    <tr style=\"text-align: right;\">\n",
       "      <th></th>\n",
       "      <th>InChI Key</th>\n",
       "      <th>CAS Registry Number</th>\n",
       "      <th>Chemical Name</th>\n",
       "      <th>Structure</th>\n",
       "      <th>Linear Structure Formula</th>\n",
       "      <th>max_eps</th>\n",
       "      <th>median</th>\n",
       "      <th>count</th>\n",
       "      <th>mean</th>\n",
       "      <th>std</th>\n",
       "      <th>min</th>\n",
       "      <th>max</th>\n",
       "      <th>max_min</th>\n",
       "      <th>std_rj</th>\n",
       "      <th>mean_rj</th>\n",
       "      <th>can</th>\n",
       "      <th>check_inchi</th>\n",
       "    </tr>\n",
       "    <tr>\n",
       "      <th>Substance Identification: Reaxys Registry Number</th>\n",
       "      <th></th>\n",
       "      <th></th>\n",
       "      <th></th>\n",
       "      <th></th>\n",
       "      <th></th>\n",
       "      <th></th>\n",
       "      <th></th>\n",
       "      <th></th>\n",
       "      <th></th>\n",
       "      <th></th>\n",
       "      <th></th>\n",
       "      <th></th>\n",
       "      <th></th>\n",
       "      <th></th>\n",
       "      <th></th>\n",
       "      <th></th>\n",
       "      <th></th>\n",
       "    </tr>\n",
       "  </thead>\n",
       "  <tbody>\n",
       "    <tr>\n",
       "      <th>2372</th>\n",
       "      <td>NUJOEMIUONHBSQ-UHFFFAOYSA-N</td>\n",
       "      <td>NaN</td>\n",
       "      <td>Pyridinium-cyclopentadienid-Betain; 1-cyclopenta-2,4-dienyl-pyridinium betaine; 1-Cyclopenta-2,4-dienyl-pyridinium-betain; Cyclopentadien-pyridinium-ylid; Pyridiniumcyclopentadienylid; Pyridinium-cyclopentadienid</td>\n",
       "      <td>C1=CC(C=C1)=N1=CC=CC=C1</td>\n",
       "      <td>C10H9N</td>\n",
       "      <td>NaN</td>\n",
       "      <td>2.349820</td>\n",
       "      <td>1</td>\n",
       "      <td>2.349820</td>\n",
       "      <td>NaN</td>\n",
       "      <td>2.349820</td>\n",
       "      <td>2.349820</td>\n",
       "      <td>0.000000</td>\n",
       "      <td>NaN</td>\n",
       "      <td>2.349820</td>\n",
       "      <td>C1=CC(=n2ccccc2)C=C1</td>\n",
       "      <td>NUJOEMIUONHBSQ-UHFFFAOYSA-N\\n</td>\n",
       "    </tr>\n",
       "    <tr>\n",
       "      <th>3107</th>\n",
       "      <td>QKHRGPYNTXRMSL-VOTSOKGWSA-N</td>\n",
       "      <td>5097-93-8</td>\n",
       "      <td>trans-4-styrylpyride; 4-Styrylpyridin</td>\n",
       "      <td>C(=C/C1=CC=NC=C1)C1=CC=CC=C1</td>\n",
       "      <td>(C5H4NCHCHC6H5)</td>\n",
       "      <td>33113.0</td>\n",
       "      <td>4.092409</td>\n",
       "      <td>5</td>\n",
       "      <td>4.112881</td>\n",
       "      <td>0.087596</td>\n",
       "      <td>4.025974</td>\n",
       "      <td>4.246575</td>\n",
       "      <td>0.220601</td>\n",
       "      <td>0.045688</td>\n",
       "      <td>4.079457</td>\n",
       "      <td>c1ccc(cc1)C=Cc1ccncc1</td>\n",
       "      <td>QKHRGPYNTXRMSL-UHFFFAOYSA-N\\n</td>\n",
       "    </tr>\n",
       "    <tr>\n",
       "      <th>3850</th>\n",
       "      <td>JWMUHTIFNGYNFA-UHFFFAOYSA-N</td>\n",
       "      <td>260-32-2</td>\n",
       "      <td>2-azaanthracene; benzo(g)isoquinoline; benzo[g]isoquinoline; benz[g]isoquinoline; Benz[g]isochinolin</td>\n",
       "      <td>C1=CC=C2C=C3C=NC=CC3=CC2=C1</td>\n",
       "      <td>C13H9N</td>\n",
       "      <td>4467.0</td>\n",
       "      <td>3.166982</td>\n",
       "      <td>3</td>\n",
       "      <td>3.169911</td>\n",
       "      <td>0.008499</td>\n",
       "      <td>3.163265</td>\n",
       "      <td>3.179487</td>\n",
       "      <td>0.016222</td>\n",
       "      <td>0.001858</td>\n",
       "      <td>3.165123</td>\n",
       "      <td>c1ccc2c(c1)cc1c(c2)ccnc1</td>\n",
       "      <td>JWMUHTIFNGYNFA-UHFFFAOYSA-N\\n</td>\n",
       "    </tr>\n",
       "    <tr>\n",
       "      <th>3929</th>\n",
       "      <td>DWYFUJJWTRPARQ-UHFFFAOYSA-N</td>\n",
       "      <td>135-00-2</td>\n",
       "      <td>2-Benzoylthiophene; 2-benzoylthiophene</td>\n",
       "      <td>O=C(C1=CC=CS1)C1=CC=CC=C1</td>\n",
       "      <td>C11H7OSH</td>\n",
       "      <td>11220.1</td>\n",
       "      <td>4.366197</td>\n",
       "      <td>3</td>\n",
       "      <td>4.321492</td>\n",
       "      <td>0.077431</td>\n",
       "      <td>4.232082</td>\n",
       "      <td>4.366197</td>\n",
       "      <td>0.134115</td>\n",
       "      <td>0.000000</td>\n",
       "      <td>4.366197</td>\n",
       "      <td>O=C(c1cccs1)c1ccccc1</td>\n",
       "      <td>DWYFUJJWTRPARQ-UHFFFAOYSA-N\\n</td>\n",
       "    </tr>\n",
       "    <tr>\n",
       "      <th>4028</th>\n",
       "      <td>VHNXFKTYNFJDKY-SHYZEUOFSA-N</td>\n",
       "      <td>62251-43-8; 62251-46-1</td>\n",
       "      <td>2beta-bromo-8-methyl-8-azabicyclo&lt;3.2.1&gt;octan-3-one; 2beta-bromotropan-3-one; (+-)-2exo-bromo-tropan-3-one; (+-)-2exo-Brom-tropan-3-on</td>\n",
       "      <td>CN1[C@H]2CC[C@@H]1[C@@H](Br)C(=O)C2</td>\n",
       "      <td>C8H12BrNO</td>\n",
       "      <td>NaN</td>\n",
       "      <td>3.444444</td>\n",
       "      <td>1</td>\n",
       "      <td>3.444444</td>\n",
       "      <td>NaN</td>\n",
       "      <td>3.444444</td>\n",
       "      <td>3.444444</td>\n",
       "      <td>0.000000</td>\n",
       "      <td>NaN</td>\n",
       "      <td>3.444444</td>\n",
       "      <td>O=C1C[C@@H]2CC[C@H]([C@H]1Br)N2C</td>\n",
       "      <td>VHNXFKTYNFJDKY-SHYZEUOFSA-N\\n</td>\n",
       "    </tr>\n",
       "    <tr>\n",
       "      <th>4435</th>\n",
       "      <td>DEFXDSGVNUQNJW-UHFFFAOYSA-N</td>\n",
       "      <td>525-24-6</td>\n",
       "      <td>fluorazone; 9-H-pyrrolo&lt;1,2-a&gt;indole-9-one; 9-keto-9H-pyrrolo&lt;1,2-a&gt;indole; 9H-pyrrolo&lt;1,2-a&gt;indol-9-one; 9H-pyrrolo-[1,2a]-indol-9-one; 9H-pyrrolo[1,2-a]indol-9-one; pyrrolo[1,2-a]indol-4-one</td>\n",
       "      <td>O=C1C2=CC=CN2C2=CC=CC=C12</td>\n",
       "      <td>C11H7NO</td>\n",
       "      <td>470.0</td>\n",
       "      <td>3.100000</td>\n",
       "      <td>1</td>\n",
       "      <td>3.100000</td>\n",
       "      <td>NaN</td>\n",
       "      <td>3.100000</td>\n",
       "      <td>3.100000</td>\n",
       "      <td>0.000000</td>\n",
       "      <td>NaN</td>\n",
       "      <td>3.100000</td>\n",
       "      <td>O=C1c2ccccc2n2c1ccc2</td>\n",
       "      <td>DEFXDSGVNUQNJW-UHFFFAOYSA-N\\n</td>\n",
       "    </tr>\n",
       "    <tr>\n",
       "      <th>4522</th>\n",
       "      <td>QFKBOYSUWYOBIS-KHRNHKAPSA-N</td>\n",
       "      <td>5963-15-5</td>\n",
       "      <td>9t(?)-[2]furyl-nona-2t(?),4t(?),6t(?),8-tetraenal</td>\n",
       "      <td>O=CC=CC=CC=CC=CC1=CC=CO1</td>\n",
       "      <td>C13H12O2</td>\n",
       "      <td>NaN</td>\n",
       "      <td>2.066667</td>\n",
       "      <td>1</td>\n",
       "      <td>2.066667</td>\n",
       "      <td>NaN</td>\n",
       "      <td>2.066667</td>\n",
       "      <td>2.066667</td>\n",
       "      <td>0.000000</td>\n",
       "      <td>NaN</td>\n",
       "      <td>2.066667</td>\n",
       "      <td>O=CC=CC=CC=CC=Cc1ccco1</td>\n",
       "      <td>QFKBOYSUWYOBIS-UHFFFAOYSA-N\\n</td>\n",
       "    </tr>\n",
       "    <tr>\n",
       "      <th>4601</th>\n",
       "      <td>SJTOQNJGUHMDEZ-UHFFFAOYSA-N</td>\n",
       "      <td>66729-00-8</td>\n",
       "      <td>4-chloroisoquinolin-3-amine; 4-chloro-[3]isoquinolylamine; 4-Chlor-[3]isochinolylamin; 3-Amino-4-chlorisochinolin</td>\n",
       "      <td>NC1=C(Cl)C2=C(C=CC=C2)C=N1</td>\n",
       "      <td>C9H7ClN2</td>\n",
       "      <td>NaN</td>\n",
       "      <td>3.333333</td>\n",
       "      <td>1</td>\n",
       "      <td>3.333333</td>\n",
       "      <td>NaN</td>\n",
       "      <td>3.333333</td>\n",
       "      <td>3.333333</td>\n",
       "      <td>0.000000</td>\n",
       "      <td>NaN</td>\n",
       "      <td>3.333333</td>\n",
       "      <td>Nc1ncc2c(c1Cl)cccc2</td>\n",
       "      <td>SJTOQNJGUHMDEZ-UHFFFAOYSA-N\\n</td>\n",
       "    </tr>\n",
       "    <tr>\n",
       "      <th>4759</th>\n",
       "      <td>OZKOMUDCMCEDTM-UHFFFAOYSA-N</td>\n",
       "      <td>230-46-6</td>\n",
       "      <td>1,7-phenanthroline; phenanthroline; 1 10-phenanthroline; 1-10-phenanthroline; 1,7-phenantroline; phenantroline; [1,7]phenanthroline</td>\n",
       "      <td>C1=CN=C2C=CC3=C(N=CC=C3)C2=C1</td>\n",
       "      <td>C12H8N2</td>\n",
       "      <td>NaN</td>\n",
       "      <td>3.387978</td>\n",
       "      <td>1</td>\n",
       "      <td>3.387978</td>\n",
       "      <td>NaN</td>\n",
       "      <td>3.387978</td>\n",
       "      <td>3.387978</td>\n",
       "      <td>0.000000</td>\n",
       "      <td>NaN</td>\n",
       "      <td>3.387978</td>\n",
       "      <td>c1cnc2c(c1)ccc1c2cccn1</td>\n",
       "      <td>OZKOMUDCMCEDTM-UHFFFAOYSA-N\\n</td>\n",
       "    </tr>\n",
       "    <tr>\n",
       "      <th>4842</th>\n",
       "      <td>IVVGFUBQYUHOKG-BUHFOSPRSA-N</td>\n",
       "      <td>2569-55-3</td>\n",
       "      <td>(E)-3-phenylazopyridine; trans-3-(phenylazo)pyridine; trans-(phenylazo)pyridine; trans-3-phenylazopyridine; 3-phenylazopiridine; 3-phenylazopyridine; 3-phenylazo-pyridine</td>\n",
       "      <td>C1=CC=C(C=C1)N=NC1=CN=CC=C1</td>\n",
       "      <td>C11H9N3</td>\n",
       "      <td>923.0</td>\n",
       "      <td>2.792793</td>\n",
       "      <td>5</td>\n",
       "      <td>2.815121</td>\n",
       "      <td>0.052765</td>\n",
       "      <td>2.767857</td>\n",
       "      <td>2.903981</td>\n",
       "      <td>0.136124</td>\n",
       "      <td>0.017793</td>\n",
       "      <td>2.792906</td>\n",
       "      <td>c1ccc(cc1)N=Nc1cccnc1</td>\n",
       "      <td>IVVGFUBQYUHOKG-UHFFFAOYSA-N\\n</td>\n",
       "    </tr>\n",
       "  </tbody>\n",
       "</table>\n",
       "</div>"
      ],
      "text/plain": [
       "                                                                    InChI Key     CAS Registry Number                                                                                                                                                                                                         Chemical Name                            Structure Linear Structure Formula  max_eps    median  count      mean       std       min       max   max_min    std_rj   mean_rj                               can                    check_inchi\n",
       "Substance Identification: Reaxys Registry Number                                                                                                                                                                                                                                                                                                                                                                                                                                                                                                          \n",
       "2372                                              NUJOEMIUONHBSQ-UHFFFAOYSA-N                     NaN  Pyridinium-cyclopentadienid-Betain; 1-cyclopenta-2,4-dienyl-pyridinium betaine; 1-Cyclopenta-2,4-dienyl-pyridinium-betain; Cyclopentadien-pyridinium-ylid; Pyridiniumcyclopentadienylid; Pyridinium-cyclopentadienid              C1=CC(C=C1)=N1=CC=CC=C1                   C10H9N      NaN  2.349820      1  2.349820       NaN  2.349820  2.349820  0.000000       NaN  2.349820              C1=CC(=n2ccccc2)C=C1  NUJOEMIUONHBSQ-UHFFFAOYSA-N\\n\n",
       "3107                                              QKHRGPYNTXRMSL-VOTSOKGWSA-N               5097-93-8                                                                                                                                                                                 trans-4-styrylpyride; 4-Styrylpyridin         C(=C/C1=CC=NC=C1)C1=CC=CC=C1          (C5H4NCHCHC6H5)  33113.0  4.092409      5  4.112881  0.087596  4.025974  4.246575  0.220601  0.045688  4.079457             c1ccc(cc1)C=Cc1ccncc1  QKHRGPYNTXRMSL-UHFFFAOYSA-N\\n\n",
       "3850                                              JWMUHTIFNGYNFA-UHFFFAOYSA-N                260-32-2                                                                                                                  2-azaanthracene; benzo(g)isoquinoline; benzo[g]isoquinoline; benz[g]isoquinoline; Benz[g]isochinolin          C1=CC=C2C=C3C=NC=CC3=CC2=C1                   C13H9N   4467.0  3.166982      3  3.169911  0.008499  3.163265  3.179487  0.016222  0.001858  3.165123          c1ccc2c(c1)cc1c(c2)ccnc1  JWMUHTIFNGYNFA-UHFFFAOYSA-N\\n\n",
       "3929                                              DWYFUJJWTRPARQ-UHFFFAOYSA-N                135-00-2                                                                                                                                                                                2-Benzoylthiophene; 2-benzoylthiophene            O=C(C1=CC=CS1)C1=CC=CC=C1                 C11H7OSH  11220.1  4.366197      3  4.321492  0.077431  4.232082  4.366197  0.134115  0.000000  4.366197              O=C(c1cccs1)c1ccccc1  DWYFUJJWTRPARQ-UHFFFAOYSA-N\\n\n",
       "4028                                              VHNXFKTYNFJDKY-SHYZEUOFSA-N  62251-43-8; 62251-46-1                                                                                2beta-bromo-8-methyl-8-azabicyclo<3.2.1>octan-3-one; 2beta-bromotropan-3-one; (+-)-2exo-bromo-tropan-3-one; (+-)-2exo-Brom-tropan-3-on  CN1[C@H]2CC[C@@H]1[C@@H](Br)C(=O)C2                C8H12BrNO      NaN  3.444444      1  3.444444       NaN  3.444444  3.444444  0.000000       NaN  3.444444  O=C1C[C@@H]2CC[C@H]([C@H]1Br)N2C  VHNXFKTYNFJDKY-SHYZEUOFSA-N\\n\n",
       "4435                                              DEFXDSGVNUQNJW-UHFFFAOYSA-N                525-24-6                      fluorazone; 9-H-pyrrolo<1,2-a>indole-9-one; 9-keto-9H-pyrrolo<1,2-a>indole; 9H-pyrrolo<1,2-a>indol-9-one; 9H-pyrrolo-[1,2a]-indol-9-one; 9H-pyrrolo[1,2-a]indol-9-one; pyrrolo[1,2-a]indol-4-one            O=C1C2=CC=CN2C2=CC=CC=C12                  C11H7NO    470.0  3.100000      1  3.100000       NaN  3.100000  3.100000  0.000000       NaN  3.100000              O=C1c2ccccc2n2c1ccc2  DEFXDSGVNUQNJW-UHFFFAOYSA-N\\n\n",
       "4522                                              QFKBOYSUWYOBIS-KHRNHKAPSA-N               5963-15-5                                                                                                                                                                     9t(?)-[2]furyl-nona-2t(?),4t(?),6t(?),8-tetraenal             O=CC=CC=CC=CC=CC1=CC=CO1                 C13H12O2      NaN  2.066667      1  2.066667       NaN  2.066667  2.066667  0.000000       NaN  2.066667            O=CC=CC=CC=CC=Cc1ccco1  QFKBOYSUWYOBIS-UHFFFAOYSA-N\\n\n",
       "4601                                              SJTOQNJGUHMDEZ-UHFFFAOYSA-N              66729-00-8                                                                                                     4-chloroisoquinolin-3-amine; 4-chloro-[3]isoquinolylamine; 4-Chlor-[3]isochinolylamin; 3-Amino-4-chlorisochinolin           NC1=C(Cl)C2=C(C=CC=C2)C=N1                 C9H7ClN2      NaN  3.333333      1  3.333333       NaN  3.333333  3.333333  0.000000       NaN  3.333333               Nc1ncc2c(c1Cl)cccc2  SJTOQNJGUHMDEZ-UHFFFAOYSA-N\\n\n",
       "4759                                              OZKOMUDCMCEDTM-UHFFFAOYSA-N                230-46-6                                                                                   1,7-phenanthroline; phenanthroline; 1 10-phenanthroline; 1-10-phenanthroline; 1,7-phenantroline; phenantroline; [1,7]phenanthroline        C1=CN=C2C=CC3=C(N=CC=C3)C2=C1                  C12H8N2      NaN  3.387978      1  3.387978       NaN  3.387978  3.387978  0.000000       NaN  3.387978            c1cnc2c(c1)ccc1c2cccn1  OZKOMUDCMCEDTM-UHFFFAOYSA-N\\n\n",
       "4842                                              IVVGFUBQYUHOKG-BUHFOSPRSA-N               2569-55-3                                            (E)-3-phenylazopyridine; trans-3-(phenylazo)pyridine; trans-(phenylazo)pyridine; trans-3-phenylazopyridine; 3-phenylazopiridine; 3-phenylazopyridine; 3-phenylazo-pyridine          C1=CC=C(C=C1)N=NC1=CN=CC=C1                  C11H9N3    923.0  2.792793      5  2.815121  0.052765  2.767857  2.903981  0.136124  0.017793  2.792906             c1ccc(cc1)N=Nc1cccnc1  IVVGFUBQYUHOKG-UHFFFAOYSA-N\\n"
      ]
     },
     "execution_count": 161,
     "metadata": {},
     "output_type": "execute_result"
    }
   ],
   "source": [
    "df_flt2=df_flt1.join(df_obl,how='inner')\n",
    "df_flt2['can']=df_flt2.can.str.strip()\n",
    "df_flt2['can']=df_flt2.can.str.strip('\\\\n')\n",
    "df_flt2[:10]"
   ]
  },
  {
   "cell_type": "code",
   "execution_count": 163,
   "metadata": {
    "ExecuteTime": {
     "end_time": "2017-04-20T14:49:37.548379-04:00",
     "start_time": "2017-04-20T14:49:37.546115"
    },
    "collapsed": true,
    "scrolled": true
   },
   "outputs": [],
   "source": [
    "#df_flt2[df_flt2.duplicated(subset='InChI Key')].sort_values('InChI Key').head(10)"
   ]
  },
  {
   "cell_type": "code",
   "execution_count": 164,
   "metadata": {
    "ExecuteTime": {
     "end_time": "2017-04-20T14:49:47.442246-04:00",
     "start_time": "2017-04-20T14:49:47.194765"
    },
    "collapsed": true
   },
   "outputs": [],
   "source": [
    "df_flt2.to_pickle('/home/denn/home/ml/data/sf/Reaxys4_fix_uv.pickle')"
   ]
  },
  {
   "cell_type": "code",
   "execution_count": 165,
   "metadata": {
    "ExecuteTime": {
     "end_time": "2017-04-20T15:31:46.373714-04:00",
     "start_time": "2017-04-20T15:06:20.134752"
    },
    "scrolled": true
   },
   "outputs": [
    {
     "name": "stderr",
     "output_type": "stream",
     "text": [
      "RDKit ERROR: [15:06:20] Explicit valence for atom # 5 N, 5, is greater than permitted\n",
      "RDKit ERROR: [15:06:20] Explicit valence for atom # 6 N, 5, is greater than permitted\n",
      "RDKit ERROR: [15:06:21] Explicit valence for atom # 5 N, 5, is greater than permitted\n",
      "RDKit ERROR: [15:06:23] Explicit valence for atom # 9 N, 5, is greater than permitted\n",
      "RDKit ERROR: [15:06:25] Explicit valence for atom # 11 N, 5, is greater than permitted\n",
      "RDKit ERROR: [15:06:25] Explicit valence for atom # 20 N, 5, is greater than permitted\n",
      "RDKit ERROR: [15:06:29] Explicit valence for atom # 12 N, 5, is greater than permitted\n",
      "RDKit ERROR: [15:06:35] Explicit valence for atom # 23 N, 5, is greater than permitted\n",
      "RDKit ERROR: [15:07:15] Explicit valence for atom # 4 N, 5, is greater than permitted\n",
      "RDKit ERROR: [15:07:15] Explicit valence for atom # 3 N, 5, is greater than permitted\n",
      "RDKit ERROR: [15:07:15] Explicit valence for atom # 5 N, 5, is greater than permitted\n",
      "RDKit ERROR: [15:07:15] Explicit valence for atom # 5 N, 5, is greater than permitted\n",
      "RDKit ERROR: [15:07:16] Explicit valence for atom # 5 N, 5, is greater than permitted\n",
      "RDKit ERROR: [15:07:19] Explicit valence for atom # 6 N, 5, is greater than permitted\n",
      "RDKit ERROR: [15:07:19] Explicit valence for atom # 11 N, 5, is greater than permitted\n",
      "RDKit ERROR: [15:07:19] Explicit valence for atom # 12 N, 5, is greater than permitted\n",
      "RDKit ERROR: [15:07:20] Explicit valence for atom # 3 N, 5, is greater than permitted\n",
      "RDKit ERROR: [15:07:21] Explicit valence for atom # 4 N, 5, is greater than permitted\n",
      "RDKit ERROR: [15:07:21] Explicit valence for atom # 1 N, 5, is greater than permitted\n",
      "RDKit ERROR: [15:07:24] Explicit valence for atom # 4 N, 5, is greater than permitted\n",
      "RDKit ERROR: [15:07:26] Explicit valence for atom # 8 N, 5, is greater than permitted\n",
      "RDKit ERROR: [15:07:27] Explicit valence for atom # 18 N, 5, is greater than permitted\n",
      "RDKit ERROR: [15:07:27] Explicit valence for atom # 5 N, 5, is greater than permitted\n",
      "RDKit ERROR: [15:07:27] Explicit valence for atom # 5 N, 5, is greater than permitted\n",
      "RDKit ERROR: [15:07:28] Explicit valence for atom # 4 N, 5, is greater than permitted\n",
      "RDKit ERROR: [15:07:31] Explicit valence for atom # 1 N, 5, is greater than permitted\n",
      "RDKit ERROR: [15:07:34] Explicit valence for atom # 11 N, 5, is greater than permitted\n",
      "RDKit ERROR: [15:07:34] Explicit valence for atom # 11 N, 5, is greater than permitted\n",
      "RDKit ERROR: [15:07:35] Explicit valence for atom # 11 N, 5, is greater than permitted\n",
      "RDKit ERROR: [15:07:39] Explicit valence for atom # 1 N, 5, is greater than permitted\n",
      "RDKit ERROR: [15:07:46] Explicit valence for atom # 14 N, 5, is greater than permitted\n",
      "RDKit ERROR: [15:07:50] Explicit valence for atom # 9 N, 5, is greater than permitted\n",
      "RDKit ERROR: [15:07:53] Explicit valence for atom # 10 N, 4, is greater than permitted\n",
      "RDKit ERROR: [15:07:55] Explicit valence for atom # 12 N, 5, is greater than permitted\n",
      "RDKit ERROR: [15:07:57] Explicit valence for atom # 15 N, 4, is greater than permitted\n",
      "RDKit ERROR: [15:07:57] Explicit valence for atom # 9 N, 4, is greater than permitted\n",
      "RDKit ERROR: [15:07:57] Explicit valence for atom # 9 N, 4, is greater than permitted\n",
      "RDKit ERROR: [15:07:58] Explicit valence for atom # 16 N, 4, is greater than permitted\n",
      "RDKit ERROR: [15:07:58] Explicit valence for atom # 9 N, 4, is greater than permitted\n",
      "RDKit ERROR: [15:07:58] Explicit valence for atom # 0 N, 4, is greater than permitted\n",
      "RDKit ERROR: [15:07:58] Explicit valence for atom # 6 N, 5, is greater than permitted\n",
      "RDKit ERROR: [15:07:58] Explicit valence for atom # 11 N, 5, is greater than permitted\n",
      "RDKit ERROR: [15:07:58] Explicit valence for atom # 9 N, 5, is greater than permitted\n",
      "RDKit ERROR: [15:08:00] Explicit valence for atom # 2 N, 5, is greater than permitted\n",
      "RDKit ERROR: [15:08:01] Explicit valence for atom # 12 N, 5, is greater than permitted\n",
      "RDKit ERROR: [15:08:01] Explicit valence for atom # 8 N, 5, is greater than permitted\n",
      "RDKit ERROR: [15:08:01] Explicit valence for atom # 12 N, 5, is greater than permitted\n",
      "RDKit ERROR: [15:08:01] Explicit valence for atom # 11 N, 5, is greater than permitted\n",
      "RDKit ERROR: [15:08:06] Explicit valence for atom # 8 N, 4, is greater than permitted\n",
      "RDKit ERROR: [15:08:20] Explicit valence for atom # 5 N, 4, is greater than permitted\n",
      "RDKit ERROR: [15:08:37] Explicit valence for atom # 1 O, 4, is greater than permitted\n",
      "RDKit ERROR: [15:08:46] Explicit valence for atom # 1 N, 5, is greater than permitted\n",
      "RDKit ERROR: [15:09:26] Explicit valence for atom # 8 N, 5, is greater than permitted\n",
      "RDKit ERROR: [15:09:26] Explicit valence for atom # 11 N, 5, is greater than permitted\n",
      "RDKit ERROR: [15:09:28] Explicit valence for atom # 9 N, 5, is greater than permitted\n",
      "RDKit ERROR: [15:09:30] Explicit valence for atom # 11 N, 5, is greater than permitted\n",
      "RDKit ERROR: [15:09:41] Explicit valence for atom # 7 N, 5, is greater than permitted\n",
      "RDKit ERROR: [15:09:45] Explicit valence for atom # 6 N, 5, is greater than permitted\n",
      "RDKit ERROR: [15:09:45] Explicit valence for atom # 5 N, 5, is greater than permitted\n",
      "RDKit ERROR: [15:09:45] Explicit valence for atom # 1 N, 4, is greater than permitted\n",
      "RDKit ERROR: [15:09:45] Explicit valence for atom # 9 N, 4, is greater than permitted\n",
      "RDKit ERROR: [15:09:45] Explicit valence for atom # 4 N, 4, is greater than permitted\n",
      "RDKit ERROR: [15:09:46] Explicit valence for atom # 12 N, 4, is greater than permitted\n",
      "RDKit ERROR: [15:09:46] Explicit valence for atom # 11 N, 4, is greater than permitted\n",
      "RDKit ERROR: [15:09:50] Explicit valence for atom # 9 N, 4, is greater than permitted\n",
      "RDKit ERROR: [15:09:58] Explicit valence for atom # 3 N, 5, is greater than permitted\n",
      "RDKit ERROR: [15:10:19] Explicit valence for atom # 1 O, 4, is greater than permitted\n",
      "RDKit ERROR: [15:10:21] Explicit valence for atom # 2 N, 5, is greater than permitted\n",
      "RDKit ERROR: [15:10:21] Explicit valence for atom # 8 O, 4, is greater than permitted\n",
      "RDKit ERROR: [15:10:22] Explicit valence for atom # 9 O, 4, is greater than permitted\n",
      "RDKit ERROR: [15:10:22] Explicit valence for atom # 1 O, 4, is greater than permitted\n",
      "RDKit ERROR: [15:10:23] Explicit valence for atom # 1 O, 4, is greater than permitted\n",
      "RDKit ERROR: [15:10:26] Explicit valence for atom # 1 O, 4, is greater than permitted\n",
      "RDKit ERROR: [15:10:28] Explicit valence for atom # 1 N, 5, is greater than permitted\n",
      "RDKit ERROR: [15:10:34] Explicit valence for atom # 7 O, 4, is greater than permitted\n",
      "RDKit ERROR: [15:10:36] Explicit valence for atom # 8 N, 5, is greater than permitted\n",
      "RDKit ERROR: [15:10:38] Explicit valence for atom # 7 N, 5, is greater than permitted\n",
      "RDKit ERROR: [15:10:43] Explicit valence for atom # 7 N, 5, is greater than permitted\n",
      "RDKit ERROR: [15:10:47] Explicit valence for atom # 7 N, 5, is greater than permitted\n",
      "RDKit ERROR: [15:10:54] Explicit valence for atom # 11 N, 5, is greater than permitted\n",
      "RDKit ERROR: [15:10:56] Explicit valence for atom # 7 N, 5, is greater than permitted\n",
      "RDKit ERROR: [15:10:57] Explicit valence for atom # 7 N, 5, is greater than permitted\n",
      "RDKit ERROR: [15:11:03] Explicit valence for atom # 3 N, 5, is greater than permitted\n",
      "RDKit ERROR: [15:11:04] Explicit valence for atom # 10 N, 5, is greater than permitted\n",
      "RDKit ERROR: [15:11:06] Explicit valence for atom # 11 N, 5, is greater than permitted\n",
      "RDKit ERROR: [15:11:08] Explicit valence for atom # 3 N, 5, is greater than permitted\n",
      "RDKit ERROR: [15:11:10] Explicit valence for atom # 3 N, 5, is greater than permitted\n",
      "RDKit ERROR: [15:11:11] Explicit valence for atom # 15 N, 5, is greater than permitted\n",
      "RDKit ERROR: [15:11:12] Explicit valence for atom # 11 O, 4, is greater than permitted\n",
      "RDKit ERROR: [15:11:12] Explicit valence for atom # 12 O, 4, is greater than permitted\n",
      "RDKit ERROR: [15:11:14] Explicit valence for atom # 13 O, 4, is greater than permitted\n",
      "RDKit ERROR: [15:11:17] Explicit valence for atom # 20 N, 5, is greater than permitted\n",
      "RDKit ERROR: [15:11:20] Explicit valence for atom # 5 N, 5, is greater than permitted\n",
      "RDKit ERROR: [15:11:22] Explicit valence for atom # 18 N, 5, is greater than permitted\n",
      "RDKit ERROR: [15:11:22] Explicit valence for atom # 3 N, 5, is greater than permitted\n"
     ]
    },
    {
     "name": "stderr",
     "output_type": "stream",
     "text": [
      "RDKit ERROR: [15:11:25] Explicit valence for atom # 18 N, 5, is greater than permitted\n",
      "RDKit ERROR: [15:11:36] Explicit valence for atom # 1 N, 4, is greater than permitted\n",
      "RDKit ERROR: [15:11:36] Explicit valence for atom # 10 N, 5, is greater than permitted\n",
      "RDKit ERROR: [15:11:37] Explicit valence for atom # 11 N, 5, is greater than permitted\n",
      "RDKit ERROR: [15:11:39] Explicit valence for atom # 1 N, 4, is greater than permitted\n",
      "RDKit ERROR: [15:11:50] Explicit valence for atom # 5 C, 5, is greater than permitted\n",
      "RDKit ERROR: [15:11:50] Explicit valence for atom # 5 C, 5, is greater than permitted\n",
      "RDKit ERROR: [15:11:50] Explicit valence for atom # 5 C, 5, is greater than permitted\n",
      "RDKit ERROR: [15:11:50] Explicit valence for atom # 15 N, 5, is greater than permitted\n",
      "RDKit ERROR: [15:11:50] Explicit valence for atom # 16 N, 5, is greater than permitted\n",
      "RDKit ERROR: [15:11:50] Explicit valence for atom # 17 N, 5, is greater than permitted\n",
      "RDKit ERROR: [15:11:50] Explicit valence for atom # 17 N, 5, is greater than permitted\n",
      "RDKit ERROR: [15:11:51] Explicit valence for atom # 19 N, 5, is greater than permitted\n",
      "RDKit ERROR: [15:11:51] Explicit valence for atom # 17 N, 5, is greater than permitted\n",
      "RDKit ERROR: [15:11:51] Explicit valence for atom # 17 N, 5, is greater than permitted\n",
      "RDKit ERROR: [15:11:51] Explicit valence for atom # 20 N, 5, is greater than permitted\n",
      "RDKit ERROR: [15:11:51] Explicit valence for atom # 20 N, 5, is greater than permitted\n",
      "RDKit ERROR: [15:11:53] Explicit valence for atom # 20 N, 5, is greater than permitted\n",
      "RDKit ERROR: [15:11:53] Explicit valence for atom # 9 N, 5, is greater than permitted\n",
      "RDKit ERROR: [15:11:54] Explicit valence for atom # 10 N, 5, is greater than permitted\n",
      "RDKit ERROR: [15:11:56] Explicit valence for atom # 6 N, 5, is greater than permitted\n",
      "RDKit ERROR: [15:11:56] Explicit valence for atom # 6 N, 5, is greater than permitted\n",
      "RDKit ERROR: [15:11:57] Explicit valence for atom # 14 N, 5, is greater than permitted\n",
      "RDKit ERROR: [15:11:57] Explicit valence for atom # 14 N, 5, is greater than permitted\n",
      "RDKit ERROR: [15:11:57] Explicit valence for atom # 6 N, 5, is greater than permitted\n",
      "RDKit ERROR: [15:11:57] Explicit valence for atom # 14 N, 5, is greater than permitted\n",
      "RDKit ERROR: [15:11:58] Explicit valence for atom # 6 N, 5, is greater than permitted\n",
      "RDKit ERROR: [15:11:59] Explicit valence for atom # 3 N, 5, is greater than permitted\n",
      "RDKit ERROR: [15:11:59] Explicit valence for atom # 3 N, 5, is greater than permitted\n",
      "RDKit ERROR: [15:11:59] Explicit valence for atom # 21 N, 5, is greater than permitted\n",
      "RDKit ERROR: [15:12:08] Explicit valence for atom # 8 O, 4, is greater than permitted\n",
      "RDKit ERROR: [15:12:09] Explicit valence for atom # 7 N, 5, is greater than permitted\n",
      "RDKit ERROR: [15:12:10] Explicit valence for atom # 4 N, 5, is greater than permitted\n",
      "RDKit ERROR: [15:12:10] Explicit valence for atom # 6 N, 5, is greater than permitted\n",
      "RDKit ERROR: [15:12:11] Explicit valence for atom # 6 N, 5, is greater than permitted\n",
      "RDKit ERROR: [15:12:12] Explicit valence for atom # 2 N, 5, is greater than permitted\n",
      "RDKit ERROR: [15:12:12] Explicit valence for atom # 6 N, 5, is greater than permitted\n",
      "RDKit ERROR: [15:12:12] Explicit valence for atom # 8 N, 5, is greater than permitted\n",
      "RDKit ERROR: [15:12:14] Explicit valence for atom # 5 N, 5, is greater than permitted\n",
      "RDKit ERROR: [15:12:15] Explicit valence for atom # 4 N, 5, is greater than permitted\n",
      "RDKit ERROR: [15:12:15] Explicit valence for atom # 4 N, 5, is greater than permitted\n",
      "RDKit ERROR: [15:12:18] Explicit valence for atom # 9 N, 5, is greater than permitted\n",
      "RDKit ERROR: [15:12:18] Explicit valence for atom # 9 N, 5, is greater than permitted\n",
      "RDKit ERROR: [15:12:19] Explicit valence for atom # 4 N, 5, is greater than permitted\n",
      "RDKit ERROR: [15:12:19] Explicit valence for atom # 14 N, 5, is greater than permitted\n",
      "RDKit ERROR: [15:12:19] Explicit valence for atom # 9 N, 5, is greater than permitted\n",
      "RDKit ERROR: [15:12:24] Explicit valence for atom # 7 N, 5, is greater than permitted\n",
      "RDKit ERROR: [15:12:29] Explicit valence for atom # 9 N, 5, is greater than permitted\n",
      "RDKit ERROR: [15:12:30] Explicit valence for atom # 4 N, 5, is greater than permitted\n",
      "RDKit ERROR: [15:12:30] Explicit valence for atom # 4 N, 5, is greater than permitted\n",
      "RDKit ERROR: [15:12:30] Explicit valence for atom # 4 N, 5, is greater than permitted\n",
      "RDKit ERROR: [15:12:36] Explicit valence for atom # 4 N, 5, is greater than permitted\n",
      "RDKit ERROR: [15:12:36] Explicit valence for atom # 9 N, 5, is greater than permitted\n",
      "RDKit ERROR: [15:12:37] Explicit valence for atom # 9 N, 5, is greater than permitted\n",
      "RDKit ERROR: [15:12:42] Explicit valence for atom # 4 N, 5, is greater than permitted\n",
      "RDKit ERROR: [15:12:49] Explicit valence for atom # 9 N, 5, is greater than permitted\n",
      "RDKit ERROR: [15:13:10] Explicit valence for atom # 8 N, 5, is greater than permitted\n",
      "RDKit ERROR: [15:13:12] Explicit valence for atom # 7 N, 5, is greater than permitted\n",
      "RDKit ERROR: [15:13:12] Explicit valence for atom # 11 N, 5, is greater than permitted\n",
      "RDKit ERROR: [15:13:16] Explicit valence for atom # 3 N, 5, is greater than permitted\n",
      "RDKit ERROR: [15:13:16] Explicit valence for atom # 3 N, 5, is greater than permitted\n",
      "RDKit ERROR: [15:13:16] Explicit valence for atom # 3 N, 5, is greater than permitted\n",
      "RDKit ERROR: [15:13:17] Explicit valence for atom # 3 N, 5, is greater than permitted\n",
      "RDKit ERROR: [15:13:17] Explicit valence for atom # 16 N, 5, is greater than permitted\n",
      "RDKit ERROR: [15:13:17] Explicit valence for atom # 3 N, 5, is greater than permitted\n",
      "RDKit ERROR: [15:13:23] Explicit valence for atom # 13 N, 5, is greater than permitted\n",
      "RDKit ERROR: [15:13:23] Explicit valence for atom # 14 N, 5, is greater than permitted\n",
      "RDKit ERROR: [15:13:24] Explicit valence for atom # 9 N, 5, is greater than permitted\n",
      "RDKit ERROR: [15:13:27] Explicit valence for atom # 8 N, 5, is greater than permitted\n",
      "RDKit ERROR: [15:13:28] Explicit valence for atom # 1 O, 4, is greater than permitted\n",
      "RDKit ERROR: [15:13:34] Explicit valence for atom # 6 N, 5, is greater than permitted\n",
      "RDKit ERROR: [15:13:45] Explicit valence for atom # 5 N, 5, is greater than permitted\n",
      "RDKit ERROR: [15:13:46] Explicit valence for atom # 4 N, 5, is greater than permitted\n",
      "RDKit ERROR: [15:13:54] Explicit valence for atom # 11 N, 5, is greater than permitted\n",
      "RDKit ERROR: [15:13:55] Explicit valence for atom # 11 N, 5, is greater than permitted\n",
      "RDKit ERROR: [15:13:55] Explicit valence for atom # 11 N, 5, is greater than permitted\n",
      "RDKit ERROR: [15:13:58] Explicit valence for atom # 8 N, 5, is greater than permitted\n",
      "RDKit ERROR: [15:13:58] Explicit valence for atom # 13 N, 5, is greater than permitted\n",
      "RDKit ERROR: [15:14:03] Explicit valence for atom # 5 N, 5, is greater than permitted\n",
      "RDKit ERROR: [15:14:06] Explicit valence for atom # 8 N, 5, is greater than permitted\n",
      "RDKit ERROR: [15:14:06] Explicit valence for atom # 12 N, 5, is greater than permitted\n",
      "RDKit ERROR: [15:14:09] Explicit valence for atom # 4 N, 5, is greater than permitted\n",
      "RDKit ERROR: [15:14:11] Explicit valence for atom # 12 N, 5, is greater than permitted\n",
      "RDKit ERROR: [15:14:13] Explicit valence for atom # 8 N, 5, is greater than permitted\n",
      "RDKit ERROR: [15:14:14] Explicit valence for atom # 4 N, 5, is greater than permitted\n",
      "RDKit ERROR: [15:14:15] Explicit valence for atom # 4 N, 5, is greater than permitted\n",
      "RDKit ERROR: [15:14:15] Explicit valence for atom # 24 N, 5, is greater than permitted\n",
      "RDKit ERROR: [15:14:16] Explicit valence for atom # 28 N, 5, is greater than permitted\n",
      "RDKit ERROR: [15:14:16] Explicit valence for atom # 42 N, 4, is greater than permitted\n",
      "RDKit ERROR: [15:14:20] Explicit valence for atom # 12 N, 5, is greater than permitted\n",
      "RDKit ERROR: [15:14:21] Explicit valence for atom # 4 N, 5, is greater than permitted\n",
      "RDKit ERROR: [15:14:22] Explicit valence for atom # 11 N, 5, is greater than permitted\n",
      "RDKit ERROR: [15:14:22] Explicit valence for atom # 7 N, 5, is greater than permitted\n",
      "RDKit ERROR: [15:14:22] Explicit valence for atom # 11 N, 5, is greater than permitted\n",
      "RDKit ERROR: [15:14:35] Explicit valence for atom # 12 N, 5, is greater than permitted\n",
      "RDKit ERROR: [15:14:35] Explicit valence for atom # 13 N, 5, is greater than permitted\n"
     ]
    },
    {
     "name": "stderr",
     "output_type": "stream",
     "text": [
      "RDKit ERROR: [15:14:35] Explicit valence for atom # 11 N, 5, is greater than permitted\n",
      "RDKit ERROR: [15:15:07] Explicit valence for atom # 10 N, 5, is greater than permitted\n",
      "RDKit ERROR: [15:15:09] Explicit valence for atom # 4 N, 5, is greater than permitted\n",
      "RDKit ERROR: [15:15:10] Explicit valence for atom # 2 N, 5, is greater than permitted\n",
      "RDKit ERROR: [15:15:12] Explicit valence for atom # 12 N, 5, is greater than permitted\n",
      "RDKit ERROR: [15:15:12] Explicit valence for atom # 12 N, 5, is greater than permitted\n",
      "RDKit ERROR: [15:15:23] Explicit valence for atom # 3 N, 5, is greater than permitted\n",
      "RDKit ERROR: [15:15:23] Explicit valence for atom # 12 N, 5, is greater than permitted\n",
      "RDKit ERROR: [15:15:24] Explicit valence for atom # 3 N, 5, is greater than permitted\n",
      "RDKit ERROR: [15:15:25] Explicit valence for atom # 3 N, 5, is greater than permitted\n",
      "RDKit ERROR: [15:15:25] Explicit valence for atom # 12 N, 5, is greater than permitted\n",
      "RDKit ERROR: [15:15:27] Explicit valence for atom # 20 N, 5, is greater than permitted\n",
      "RDKit ERROR: [15:15:27] Explicit valence for atom # 12 N, 5, is greater than permitted\n",
      "RDKit ERROR: [15:15:27] Explicit valence for atom # 20 N, 5, is greater than permitted\n",
      "RDKit ERROR: [15:15:29] Explicit valence for atom # 12 N, 5, is greater than permitted\n",
      "RDKit ERROR: [15:15:33] Explicit valence for atom # 7 N, 5, is greater than permitted\n",
      "RDKit ERROR: [15:15:34] Explicit valence for atom # 7 N, 5, is greater than permitted\n",
      "RDKit ERROR: [15:15:34] Explicit valence for atom # 7 N, 5, is greater than permitted\n",
      "RDKit ERROR: [15:15:36] Explicit valence for atom # 3 N, 4, is greater than permitted\n",
      "RDKit ERROR: [15:15:36] Explicit valence for atom # 13 N, 5, is greater than permitted\n",
      "RDKit ERROR: [15:15:37] Explicit valence for atom # 12 N, 5, is greater than permitted\n",
      "RDKit ERROR: [15:15:37] Explicit valence for atom # 14 N, 5, is greater than permitted\n",
      "RDKit ERROR: [15:15:38] Explicit valence for atom # 16 N, 5, is greater than permitted\n",
      "RDKit ERROR: [15:15:43] Explicit valence for atom # 4 N, 4, is greater than permitted\n",
      "RDKit ERROR: [15:15:50] Explicit valence for atom # 6 N, 5, is greater than permitted\n",
      "RDKit ERROR: [15:15:51] Explicit valence for atom # 6 N, 5, is greater than permitted\n",
      "RDKit ERROR: [15:15:52] Explicit valence for atom # 6 N, 5, is greater than permitted\n",
      "RDKit ERROR: [15:16:04] Explicit valence for atom # 5 N, 5, is greater than permitted\n",
      "RDKit ERROR: [15:16:04] Explicit valence for atom # 6 N, 5, is greater than permitted\n",
      "RDKit ERROR: [15:16:04] Explicit valence for atom # 6 N, 5, is greater than permitted\n",
      "RDKit ERROR: [15:16:10] Explicit valence for atom # 7 N, 5, is greater than permitted\n",
      "RDKit ERROR: [15:16:10] Explicit valence for atom # 15 N, 5, is greater than permitted\n",
      "RDKit ERROR: [15:16:11] Explicit valence for atom # 10 N, 5, is greater than permitted\n",
      "RDKit ERROR: [15:16:20] Explicit valence for atom # 5 N, 5, is greater than permitted\n",
      "RDKit ERROR: [15:16:20] Explicit valence for atom # 5 N, 5, is greater than permitted\n",
      "RDKit ERROR: [15:16:21] Explicit valence for atom # 6 N, 5, is greater than permitted\n",
      "RDKit ERROR: [15:16:21] Explicit valence for atom # 7 N, 5, is greater than permitted\n",
      "RDKit ERROR: [15:16:21] Explicit valence for atom # 6 N, 5, is greater than permitted\n",
      "RDKit ERROR: [15:16:21] Explicit valence for atom # 6 N, 5, is greater than permitted\n",
      "RDKit ERROR: [15:16:21] Explicit valence for atom # 8 N, 5, is greater than permitted\n",
      "RDKit ERROR: [15:16:21] Explicit valence for atom # 7 N, 5, is greater than permitted\n",
      "RDKit ERROR: [15:16:22] Explicit valence for atom # 7 N, 5, is greater than permitted\n",
      "RDKit ERROR: [15:16:22] Explicit valence for atom # 9 N, 5, is greater than permitted\n",
      "RDKit ERROR: [15:16:22] Explicit valence for atom # 10 N, 5, is greater than permitted\n",
      "RDKit ERROR: [15:16:22] Explicit valence for atom # 12 N, 5, is greater than permitted\n",
      "RDKit ERROR: [15:16:22] Explicit valence for atom # 14 N, 5, is greater than permitted\n",
      "RDKit ERROR: [15:16:23] Explicit valence for atom # 6 N, 5, is greater than permitted\n",
      "RDKit ERROR: [15:16:24] Explicit valence for atom # 17 N, 5, is greater than permitted\n",
      "RDKit ERROR: [15:16:29] Explicit valence for atom # 1 N, 5, is greater than permitted\n",
      "RDKit ERROR: [15:16:29] Explicit valence for atom # 2 N, 5, is greater than permitted\n",
      "RDKit ERROR: [15:16:29] Explicit valence for atom # 6 N, 5, is greater than permitted\n",
      "RDKit ERROR: [15:16:29] Explicit valence for atom # 2 N, 5, is greater than permitted\n",
      "RDKit ERROR: [15:16:29] Explicit valence for atom # 3 N, 5, is greater than permitted\n",
      "RDKit ERROR: [15:16:29] Explicit valence for atom # 1 N, 5, is greater than permitted\n",
      "RDKit ERROR: [15:16:29] Explicit valence for atom # 2 N, 5, is greater than permitted\n",
      "RDKit ERROR: [15:16:29] Explicit valence for atom # 2 N, 5, is greater than permitted\n",
      "RDKit ERROR: [15:16:29] Explicit valence for atom # 6 N, 5, is greater than permitted\n",
      "RDKit ERROR: [15:16:30] Explicit valence for atom # 2 N, 5, is greater than permitted\n",
      "RDKit ERROR: [15:16:30] Explicit valence for atom # 3 N, 5, is greater than permitted\n",
      "RDKit ERROR: [15:16:30] Explicit valence for atom # 4 N, 5, is greater than permitted\n",
      "RDKit ERROR: [15:16:30] Explicit valence for atom # 2 N, 5, is greater than permitted\n",
      "RDKit ERROR: [15:16:30] Explicit valence for atom # 3 N, 5, is greater than permitted\n",
      "RDKit ERROR: [15:16:30] Explicit valence for atom # 5 N, 5, is greater than permitted\n",
      "RDKit ERROR: [15:16:30] Explicit valence for atom # 2 N, 5, is greater than permitted\n",
      "RDKit ERROR: [15:16:30] Explicit valence for atom # 2 N, 5, is greater than permitted\n",
      "RDKit ERROR: [15:16:30] Explicit valence for atom # 2 N, 5, is greater than permitted\n",
      "RDKit ERROR: [15:16:31] Explicit valence for atom # 6 N, 5, is greater than permitted\n",
      "RDKit ERROR: [15:16:31] Explicit valence for atom # 2 N, 5, is greater than permitted\n",
      "RDKit ERROR: [15:16:31] Explicit valence for atom # 6 N, 5, is greater than permitted\n",
      "RDKit ERROR: [15:16:31] Explicit valence for atom # 6 N, 5, is greater than permitted\n",
      "RDKit ERROR: [15:16:31] Explicit valence for atom # 6 N, 5, is greater than permitted\n",
      "RDKit ERROR: [15:16:31] Explicit valence for atom # 11 N, 5, is greater than permitted\n",
      "RDKit ERROR: [15:16:31] Explicit valence for atom # 6 N, 5, is greater than permitted\n",
      "RDKit ERROR: [15:16:31] Explicit valence for atom # 6 N, 5, is greater than permitted\n",
      "RDKit ERROR: [15:16:31] Explicit valence for atom # 6 N, 5, is greater than permitted\n",
      "RDKit ERROR: [15:16:31] Explicit valence for atom # 6 N, 5, is greater than permitted\n",
      "RDKit ERROR: [15:16:31] Explicit valence for atom # 6 N, 5, is greater than permitted\n",
      "RDKit ERROR: [15:16:31] Explicit valence for atom # 6 N, 5, is greater than permitted\n",
      "RDKit ERROR: [15:16:31] Explicit valence for atom # 6 N, 5, is greater than permitted\n",
      "RDKit ERROR: [15:16:32] Explicit valence for atom # 8 N, 5, is greater than permitted\n",
      "RDKit ERROR: [15:16:32] Explicit valence for atom # 7 N, 5, is greater than permitted\n",
      "RDKit ERROR: [15:16:32] Explicit valence for atom # 3 N, 5, is greater than permitted\n",
      "RDKit ERROR: [15:16:32] Explicit valence for atom # 6 N, 5, is greater than permitted\n",
      "RDKit ERROR: [15:16:32] Explicit valence for atom # 2 N, 5, is greater than permitted\n",
      "RDKit ERROR: [15:16:32] Explicit valence for atom # 10 N, 5, is greater than permitted\n",
      "RDKit ERROR: [15:16:41] Explicit valence for atom # 18 N, 5, is greater than permitted\n",
      "RDKit ERROR: [15:16:46] Explicit valence for atom # 9 N, 5, is greater than permitted\n",
      "RDKit ERROR: [15:16:46] Explicit valence for atom # 11 N, 5, is greater than permitted\n",
      "RDKit ERROR: [15:16:47] Explicit valence for atom # 3 N, 5, is greater than permitted\n",
      "RDKit ERROR: [15:16:47] Explicit valence for atom # 7 N, 5, is greater than permitted\n",
      "RDKit ERROR: [15:16:47] Explicit valence for atom # 13 N, 5, is greater than permitted\n",
      "RDKit ERROR: [15:16:47] Explicit valence for atom # 8 N, 5, is greater than permitted\n",
      "RDKit ERROR: [15:16:48] Explicit valence for atom # 8 N, 5, is greater than permitted\n",
      "RDKit ERROR: [15:16:48] Explicit valence for atom # 11 N, 5, is greater than permitted\n",
      "RDKit ERROR: [15:16:48] Explicit valence for atom # 9 O, 4, is greater than permitted\n",
      "RDKit ERROR: [15:16:48] Explicit valence for atom # 11 N, 5, is greater than permitted\n"
     ]
    },
    {
     "name": "stderr",
     "output_type": "stream",
     "text": [
      "RDKit ERROR: [15:16:49] Explicit valence for atom # 9 N, 5, is greater than permitted\n",
      "RDKit ERROR: [15:16:50] Explicit valence for atom # 4 N, 5, is greater than permitted\n",
      "RDKit ERROR: [15:16:50] Explicit valence for atom # 8 N, 5, is greater than permitted\n",
      "RDKit ERROR: [15:16:50] Explicit valence for atom # 4 N, 5, is greater than permitted\n",
      "RDKit ERROR: [15:16:50] Explicit valence for atom # 4 N, 5, is greater than permitted\n",
      "RDKit ERROR: [15:16:50] Explicit valence for atom # 5 N, 5, is greater than permitted\n",
      "RDKit ERROR: [15:16:50] Explicit valence for atom # 21 N, 5, is greater than permitted\n",
      "RDKit ERROR: [15:16:52] Explicit valence for atom # 26 N, 5, is greater than permitted\n",
      "RDKit ERROR: [15:16:53] Explicit valence for atom # 8 N, 5, is greater than permitted\n",
      "RDKit ERROR: [15:16:53] Explicit valence for atom # 9 N, 5, is greater than permitted\n",
      "RDKit ERROR: [15:16:53] Explicit valence for atom # 9 N, 5, is greater than permitted\n",
      "RDKit ERROR: [15:16:56] Explicit valence for atom # 18 N, 5, is greater than permitted\n",
      "RDKit ERROR: [15:16:58] Explicit valence for atom # 4 N, 5, is greater than permitted\n",
      "RDKit ERROR: [15:16:58] Explicit valence for atom # 8 N, 5, is greater than permitted\n",
      "RDKit ERROR: [15:16:58] Explicit valence for atom # 8 N, 5, is greater than permitted\n",
      "RDKit ERROR: [15:16:58] Explicit valence for atom # 10 N, 5, is greater than permitted\n",
      "RDKit ERROR: [15:17:00] Explicit valence for atom # 15 N, 5, is greater than permitted\n",
      "RDKit ERROR: [15:17:02] Explicit valence for atom # 6 N, 5, is greater than permitted\n",
      "RDKit ERROR: [15:17:02] Explicit valence for atom # 4 N, 5, is greater than permitted\n",
      "RDKit ERROR: [15:17:03] Explicit valence for atom # 6 N, 5, is greater than permitted\n",
      "RDKit ERROR: [15:17:03] Explicit valence for atom # 6 N, 5, is greater than permitted\n",
      "RDKit ERROR: [15:17:03] Explicit valence for atom # 6 N, 5, is greater than permitted\n",
      "RDKit ERROR: [15:17:03] Explicit valence for atom # 2 N, 5, is greater than permitted\n",
      "RDKit ERROR: [15:17:03] Explicit valence for atom # 6 N, 5, is greater than permitted\n",
      "RDKit ERROR: [15:17:03] Explicit valence for atom # 6 N, 5, is greater than permitted\n",
      "RDKit ERROR: [15:17:07] Explicit valence for atom # 13 N, 4, is greater than permitted\n",
      "RDKit ERROR: [15:17:08] Explicit valence for atom # 16 N, 4, is greater than permitted\n",
      "RDKit ERROR: [15:17:08] Explicit valence for atom # 12 N, 4, is greater than permitted\n",
      "RDKit ERROR: [15:17:10] Explicit valence for atom # 20 N, 4, is greater than permitted\n",
      "RDKit ERROR: [15:17:17] Explicit valence for atom # 11 N, 5, is greater than permitted\n",
      "RDKit ERROR: [15:17:23] Explicit valence for atom # 9 N, 5, is greater than permitted\n",
      "RDKit ERROR: [15:17:23] Explicit valence for atom # 9 N, 5, is greater than permitted\n",
      "RDKit ERROR: [15:17:25] Explicit valence for atom # 11 N, 5, is greater than permitted\n",
      "RDKit ERROR: [15:17:25] Explicit valence for atom # 11 N, 5, is greater than permitted\n",
      "RDKit ERROR: [15:17:26] Explicit valence for atom # 6 N, 5, is greater than permitted\n",
      "RDKit ERROR: [15:17:26] Explicit valence for atom # 2 N, 5, is greater than permitted\n",
      "RDKit ERROR: [15:17:26] Explicit valence for atom # 11 N, 5, is greater than permitted\n",
      "RDKit ERROR: [15:17:26] Explicit valence for atom # 11 N, 5, is greater than permitted\n",
      "RDKit ERROR: [15:17:26] Explicit valence for atom # 23 N, 5, is greater than permitted\n",
      "RDKit ERROR: [15:17:28] Explicit valence for atom # 7 N, 5, is greater than permitted\n",
      "RDKit ERROR: [15:17:29] Explicit valence for atom # 2 N, 5, is greater than permitted\n",
      "RDKit ERROR: [15:17:30] Explicit valence for atom # 7 N, 5, is greater than permitted\n",
      "RDKit ERROR: [15:17:37] Explicit valence for atom # 9 N, 5, is greater than permitted\n",
      "RDKit ERROR: [15:17:41] Explicit valence for atom # 0 N, 5, is greater than permitted\n",
      "RDKit ERROR: [15:17:42] Explicit valence for atom # 7 N, 5, is greater than permitted\n",
      "RDKit ERROR: [15:17:56] Explicit valence for atom # 9 N, 5, is greater than permitted\n",
      "RDKit ERROR: [15:17:56] Explicit valence for atom # 9 N, 5, is greater than permitted\n",
      "RDKit ERROR: [15:17:58] Explicit valence for atom # 9 N, 5, is greater than permitted\n",
      "RDKit ERROR: [15:17:58] Explicit valence for atom # 9 N, 5, is greater than permitted\n",
      "RDKit ERROR: [15:17:58] Explicit valence for atom # 12 N, 5, is greater than permitted\n",
      "RDKit ERROR: [15:17:59] Explicit valence for atom # 6 N, 5, is greater than permitted\n",
      "RDKit ERROR: [15:18:00] Explicit valence for atom # 6 N, 5, is greater than permitted\n",
      "RDKit ERROR: [15:18:00] Explicit valence for atom # 16 N, 5, is greater than permitted\n",
      "RDKit ERROR: [15:18:04] Explicit valence for atom # 6 N, 5, is greater than permitted\n",
      "RDKit ERROR: [15:18:04] Explicit valence for atom # 6 N, 5, is greater than permitted\n",
      "RDKit ERROR: [15:18:05] Explicit valence for atom # 6 N, 5, is greater than permitted\n",
      "RDKit ERROR: [15:18:06] Explicit valence for atom # 12 N, 5, is greater than permitted\n",
      "RDKit ERROR: [15:18:06] Explicit valence for atom # 3 N, 5, is greater than permitted\n",
      "RDKit ERROR: [15:18:06] Explicit valence for atom # 3 N, 5, is greater than permitted\n",
      "RDKit ERROR: [15:18:06] Explicit valence for atom # 3 N, 5, is greater than permitted\n",
      "RDKit ERROR: [15:18:06] Explicit valence for atom # 3 N, 5, is greater than permitted\n",
      "RDKit ERROR: [15:18:07] Explicit valence for atom # 3 N, 5, is greater than permitted\n",
      "RDKit ERROR: [15:18:09] Explicit valence for atom # 13 N, 5, is greater than permitted\n",
      "RDKit ERROR: [15:18:15] Explicit valence for atom # 7 N, 5, is greater than permitted\n",
      "RDKit ERROR: [15:18:15] Explicit valence for atom # 9 N, 5, is greater than permitted\n",
      "RDKit ERROR: [15:18:23] Explicit valence for atom # 10 N, 5, is greater than permitted\n",
      "RDKit ERROR: [15:18:24] Explicit valence for atom # 5 N, 5, is greater than permitted\n",
      "RDKit ERROR: [15:18:25] Explicit valence for atom # 6 N, 5, is greater than permitted\n",
      "RDKit ERROR: [15:18:31] Explicit valence for atom # 11 N, 5, is greater than permitted\n",
      "RDKit ERROR: [15:18:31] Explicit valence for atom # 12 N, 5, is greater than permitted\n",
      "RDKit ERROR: [15:18:31] Explicit valence for atom # 13 N, 5, is greater than permitted\n",
      "RDKit ERROR: [15:18:34] Explicit valence for atom # 11 N, 5, is greater than permitted\n",
      "RDKit ERROR: [15:18:39] Explicit valence for atom # 9 O, 4, is greater than permitted\n",
      "RDKit ERROR: [15:19:00] Explicit valence for atom # 8 N, 5, is greater than permitted\n",
      "RDKit ERROR: [15:19:01] Explicit valence for atom # 10 N, 5, is greater than permitted\n",
      "RDKit ERROR: [15:19:01] Explicit valence for atom # 13 N, 5, is greater than permitted\n",
      "RDKit ERROR: [15:19:01] Explicit valence for atom # 10 N, 5, is greater than permitted\n",
      "RDKit ERROR: [15:19:02] Explicit valence for atom # 13 N, 5, is greater than permitted\n",
      "RDKit ERROR: [15:19:02] Explicit valence for atom # 16 N, 5, is greater than permitted\n",
      "RDKit ERROR: [15:19:02] Explicit valence for atom # 13 N, 5, is greater than permitted\n",
      "RDKit ERROR: [15:19:02] Explicit valence for atom # 10 N, 5, is greater than permitted\n",
      "RDKit ERROR: [15:19:02] Explicit valence for atom # 16 N, 5, is greater than permitted\n",
      "RDKit ERROR: [15:19:02] Explicit valence for atom # 16 N, 5, is greater than permitted\n",
      "RDKit ERROR: [15:19:02] Explicit valence for atom # 19 N, 5, is greater than permitted\n",
      "RDKit ERROR: [15:19:06] Explicit valence for atom # 5 N, 5, is greater than permitted\n",
      "RDKit ERROR: [15:19:07] Explicit valence for atom # 5 N, 5, is greater than permitted\n",
      "RDKit ERROR: [15:19:08] Explicit valence for atom # 19 N, 5, is greater than permitted\n",
      "RDKit ERROR: [15:19:09] Explicit valence for atom # 20 N, 5, is greater than permitted\n",
      "RDKit ERROR: [15:19:09] Explicit valence for atom # 21 N, 5, is greater than permitted\n",
      "RDKit ERROR: [15:19:09] Explicit valence for atom # 19 N, 5, is greater than permitted\n",
      "RDKit ERROR: [15:19:13] Explicit valence for atom # 36 N, 5, is greater than permitted\n",
      "RDKit ERROR: [15:19:20] Explicit valence for atom # 4 N, 5, is greater than permitted\n",
      "RDKit ERROR: [15:19:20] Explicit valence for atom # 4 N, 5, is greater than permitted\n",
      "RDKit ERROR: [15:19:21] Explicit valence for atom # 4 N, 5, is greater than permitted\n",
      "RDKit ERROR: [15:19:21] Explicit valence for atom # 11 N, 5, is greater than permitted\n"
     ]
    },
    {
     "name": "stderr",
     "output_type": "stream",
     "text": [
      "RDKit ERROR: [15:19:21] Explicit valence for atom # 4 N, 5, is greater than permitted\n",
      "RDKit ERROR: [15:19:29] Explicit valence for atom # 9 N, 5, is greater than permitted\n",
      "RDKit ERROR: [15:19:29] Explicit valence for atom # 15 N, 5, is greater than permitted\n",
      "RDKit ERROR: [15:19:45] Explicit valence for atom # 3 N, 5, is greater than permitted\n",
      "RDKit ERROR: [15:19:47] Explicit valence for atom # 2 N, 5, is greater than permitted\n",
      "RDKit ERROR: [15:19:47] Explicit valence for atom # 6 N, 5, is greater than permitted\n",
      "RDKit ERROR: [15:19:48] Explicit valence for atom # 5 N, 5, is greater than permitted\n",
      "RDKit ERROR: [15:19:48] Explicit valence for atom # 4 N, 5, is greater than permitted\n",
      "RDKit ERROR: [15:19:49] Explicit valence for atom # 11 N, 5, is greater than permitted\n",
      "RDKit ERROR: [15:19:50] Explicit valence for atom # 3 N, 5, is greater than permitted\n",
      "RDKit ERROR: [15:19:50] Explicit valence for atom # 10 N, 5, is greater than permitted\n",
      "RDKit ERROR: [15:19:50] Explicit valence for atom # 3 N, 5, is greater than permitted\n",
      "RDKit ERROR: [15:19:50] Explicit valence for atom # 17 N, 5, is greater than permitted\n",
      "RDKit ERROR: [15:19:50] Explicit valence for atom # 3 N, 5, is greater than permitted\n",
      "RDKit ERROR: [15:19:50] Explicit valence for atom # 5 N, 5, is greater than permitted\n",
      "RDKit ERROR: [15:19:50] Explicit valence for atom # 13 N, 5, is greater than permitted\n",
      "RDKit ERROR: [15:19:50] Explicit valence for atom # 21 N, 5, is greater than permitted\n",
      "RDKit ERROR: [15:19:50] Explicit valence for atom # 5 N, 5, is greater than permitted\n",
      "RDKit ERROR: [15:19:51] Explicit valence for atom # 3 N, 5, is greater than permitted\n",
      "RDKit ERROR: [15:19:51] Explicit valence for atom # 9 N, 5, is greater than permitted\n",
      "RDKit ERROR: [15:19:51] Explicit valence for atom # 10 N, 5, is greater than permitted\n",
      "RDKit ERROR: [15:19:52] Explicit valence for atom # 16 N, 5, is greater than permitted\n",
      "RDKit ERROR: [15:19:53] Explicit valence for atom # 12 N, 5, is greater than permitted\n",
      "RDKit ERROR: [15:20:11] Explicit valence for atom # 5 N, 5, is greater than permitted\n",
      "RDKit ERROR: [15:20:31] Explicit valence for atom # 5 N, 5, is greater than permitted\n",
      "RDKit ERROR: [15:20:31] Explicit valence for atom # 6 N, 5, is greater than permitted\n",
      "RDKit ERROR: [15:20:31] Explicit valence for atom # 5 N, 5, is greater than permitted\n",
      "RDKit ERROR: [15:20:38] Explicit valence for atom # 5 N, 5, is greater than permitted\n",
      "RDKit ERROR: [15:20:38] Explicit valence for atom # 6 N, 5, is greater than permitted\n",
      "RDKit ERROR: [15:20:38] Explicit valence for atom # 9 N, 5, is greater than permitted\n",
      "RDKit ERROR: [15:20:38] Explicit valence for atom # 9 N, 5, is greater than permitted\n",
      "RDKit ERROR: [15:20:38] Explicit valence for atom # 9 N, 5, is greater than permitted\n",
      "RDKit ERROR: [15:20:38] Explicit valence for atom # 9 N, 5, is greater than permitted\n",
      "RDKit ERROR: [15:20:38] Explicit valence for atom # 6 N, 5, is greater than permitted\n",
      "RDKit ERROR: [15:20:38] Explicit valence for atom # 9 N, 5, is greater than permitted\n",
      "RDKit ERROR: [15:20:38] Explicit valence for atom # 9 N, 5, is greater than permitted\n",
      "RDKit ERROR: [15:20:46] Explicit valence for atom # 5 N, 5, is greater than permitted\n",
      "RDKit ERROR: [15:20:47] Explicit valence for atom # 5 N, 5, is greater than permitted\n",
      "RDKit ERROR: [15:20:49] Explicit valence for atom # 17 N, 5, is greater than permitted\n",
      "RDKit ERROR: [15:20:53] Explicit valence for atom # 16 N, 4, is greater than permitted\n",
      "RDKit ERROR: [15:20:53] Explicit valence for atom # 6 N, 5, is greater than permitted\n",
      "RDKit ERROR: [15:21:00] Explicit valence for atom # 10 N, 5, is greater than permitted\n",
      "RDKit ERROR: [15:21:07] Explicit valence for atom # 7 N, 5, is greater than permitted\n",
      "RDKit ERROR: [15:21:08] Explicit valence for atom # 7 N, 5, is greater than permitted\n",
      "RDKit ERROR: [15:21:11] Explicit valence for atom # 15 N, 5, is greater than permitted\n",
      "RDKit ERROR: [15:21:14] Explicit valence for atom # 11 N, 5, is greater than permitted\n",
      "RDKit ERROR: [15:21:20] Explicit valence for atom # 1 O, 4, is greater than permitted\n",
      "RDKit ERROR: [15:21:20] Explicit valence for atom # 1 O, 4, is greater than permitted\n",
      "RDKit ERROR: [15:21:21] Explicit valence for atom # 6 O, 4, is greater than permitted\n",
      "RDKit ERROR: [15:21:21] Explicit valence for atom # 4 O, 4, is greater than permitted\n",
      "RDKit ERROR: [15:21:22] Explicit valence for atom # 5 O, 4, is greater than permitted\n",
      "RDKit ERROR: [15:21:22] Explicit valence for atom # 7 O, 4, is greater than permitted\n",
      "RDKit ERROR: [15:21:31] Explicit valence for atom # 7 N, 5, is greater than permitted\n",
      "RDKit ERROR: [15:21:40] Explicit valence for atom # 24 C, 5, is greater than permitted\n",
      "RDKit ERROR: [15:21:41] Explicit valence for atom # 27 C, 5, is greater than permitted\n",
      "RDKit ERROR: [15:21:42] Explicit valence for atom # 30 C, 5, is greater than permitted\n",
      "RDKit ERROR: [15:21:42] Explicit valence for atom # 31 C, 5, is greater than permitted\n",
      "RDKit ERROR: [15:21:44] Explicit valence for atom # 6 N, 5, is greater than permitted\n",
      "RDKit ERROR: [15:21:44] Explicit valence for atom # 6 N, 5, is greater than permitted\n",
      "RDKit ERROR: [15:21:58] Explicit valence for atom # 15 N, 5, is greater than permitted\n",
      "RDKit ERROR: [15:22:02] Explicit valence for atom # 9 O, 4, is greater than permitted\n",
      "RDKit ERROR: [15:22:02] Explicit valence for atom # 14 N, 5, is greater than permitted\n",
      "RDKit ERROR: [15:22:03] Explicit valence for atom # 11 N, 5, is greater than permitted\n",
      "RDKit ERROR: [15:22:07] Explicit valence for atom # 13 C, 5, is greater than permitted\n",
      "RDKit ERROR: [15:22:08] Explicit valence for atom # 20 C, 5, is greater than permitted\n",
      "RDKit ERROR: [15:22:09] Explicit valence for atom # 2 N, 5, is greater than permitted\n",
      "RDKit ERROR: [15:22:13] Explicit valence for atom # 11 N, 5, is greater than permitted\n",
      "RDKit ERROR: [15:22:13] Explicit valence for atom # 6 N, 5, is greater than permitted\n",
      "RDKit ERROR: [15:22:13] Explicit valence for atom # 6 N, 5, is greater than permitted\n",
      "RDKit ERROR: [15:22:13] Explicit valence for atom # 3 N, 4, is greater than permitted\n",
      "RDKit ERROR: [15:22:13] Explicit valence for atom # 6 N, 5, is greater than permitted\n",
      "RDKit ERROR: [15:22:20] Explicit valence for atom # 19 N, 4, is greater than permitted\n",
      "RDKit ERROR: [15:22:22] Explicit valence for atom # 11 N, 4, is greater than permitted\n",
      "RDKit ERROR: [15:22:26] Explicit valence for atom # 3 N, 4, is greater than permitted\n",
      "RDKit ERROR: [15:22:26] Explicit valence for atom # 3 N, 4, is greater than permitted\n",
      "RDKit ERROR: [15:22:26] Explicit valence for atom # 3 N, 4, is greater than permitted\n",
      "RDKit ERROR: [15:22:34] Explicit valence for atom # 11 N, 5, is greater than permitted\n",
      "RDKit ERROR: [15:22:34] Explicit valence for atom # 11 N, 5, is greater than permitted\n",
      "RDKit ERROR: [15:22:35] Explicit valence for atom # 11 N, 5, is greater than permitted\n",
      "RDKit ERROR: [15:22:35] Explicit valence for atom # 11 N, 5, is greater than permitted\n",
      "RDKit ERROR: [15:22:47] Explicit valence for atom # 8 N, 5, is greater than permitted\n",
      "RDKit ERROR: [15:22:52] Explicit valence for atom # 4 N, 5, is greater than permitted\n",
      "RDKit ERROR: [15:23:36] Explicit valence for atom # 6 N, 5, is greater than permitted\n",
      "RDKit ERROR: [15:23:36] Explicit valence for atom # 11 N, 5, is greater than permitted\n",
      "RDKit ERROR: [15:23:36] Explicit valence for atom # 11 N, 5, is greater than permitted\n",
      "RDKit ERROR: [15:23:36] Explicit valence for atom # 8 N, 5, is greater than permitted\n",
      "RDKit ERROR: [15:23:36] Explicit valence for atom # 6 N, 5, is greater than permitted\n",
      "RDKit ERROR: [15:24:29] Explicit valence for atom # 15 N, 5, is greater than permitted\n",
      "RDKit ERROR: [15:24:36] Explicit valence for atom # 1 O, 4, is greater than permitted\n",
      "RDKit ERROR: [15:24:50] Explicit valence for atom # 0 H, 2, is greater than permitted\n",
      "RDKit ERROR: [15:25:19] Explicit valence for atom # 8 N, 5, is greater than permitted\n",
      "RDKit ERROR: [15:25:19] Explicit valence for atom # 8 N, 5, is greater than permitted\n",
      "RDKit ERROR: [15:25:32] Explicit valence for atom # 5 N, 5, is greater than permitted\n",
      "RDKit ERROR: [15:25:36] Explicit valence for atom # 1 Br, 4, is greater than permitted\n",
      "RDKit ERROR: [15:25:36] Explicit valence for atom # 13 O, 3, is greater than permitted\n",
      "RDKit ERROR: [15:25:36] Explicit valence for atom # 1 Br, 4, is greater than permitted\n",
      "RDKit ERROR: [15:25:36] Explicit valence for atom # 15 O, 3, is greater than permitted\n"
     ]
    },
    {
     "name": "stderr",
     "output_type": "stream",
     "text": [
      "RDKit ERROR: [15:25:39] Explicit valence for atom # 10 N, 5, is greater than permitted\n",
      "RDKit ERROR: [15:25:46] Explicit valence for atom # 17 N, 5, is greater than permitted\n",
      "RDKit ERROR: [15:25:49] Explicit valence for atom # 14 N, 5, is greater than permitted\n",
      "RDKit ERROR: [15:25:51] Explicit valence for atom # 16 N, 4, is greater than permitted\n",
      "RDKit ERROR: [15:26:19] Explicit valence for atom # 10 N, 4, is greater than permitted\n",
      "RDKit ERROR: [15:26:24] Explicit valence for atom # 4 N, 5, is greater than permitted\n",
      "RDKit ERROR: [15:26:24] Explicit valence for atom # 14 N, 5, is greater than permitted\n",
      "RDKit ERROR: [15:26:24] Explicit valence for atom # 15 N, 5, is greater than permitted\n",
      "RDKit ERROR: [15:26:24] Explicit valence for atom # 6 N, 5, is greater than permitted\n",
      "RDKit ERROR: [15:26:30] Explicit valence for atom # 9 N, 5, is greater than permitted\n",
      "RDKit ERROR: [15:26:33] Explicit valence for atom # 21 N, 5, is greater than permitted\n",
      "RDKit ERROR: [15:26:46] Explicit valence for atom # 2 N, 5, is greater than permitted\n",
      "RDKit ERROR: [15:27:18] Explicit valence for atom # 25 N, 4, is greater than permitted\n",
      "RDKit ERROR: [15:27:18] Explicit valence for atom # 25 N, 4, is greater than permitted\n",
      "RDKit ERROR: [15:27:18] Explicit valence for atom # 28 N, 4, is greater than permitted\n",
      "RDKit ERROR: [15:27:18] Explicit valence for atom # 25 N, 4, is greater than permitted\n",
      "RDKit ERROR: [15:27:18] Explicit valence for atom # 25 N, 4, is greater than permitted\n",
      "RDKit ERROR: [15:27:18] Explicit valence for atom # 25 N, 4, is greater than permitted\n",
      "RDKit ERROR: [15:27:18] Explicit valence for atom # 25 N, 4, is greater than permitted\n",
      "RDKit ERROR: [15:27:39] Explicit valence for atom # 22 N, 4, is greater than permitted\n",
      "RDKit ERROR: [15:27:40] Explicit valence for atom # 23 N, 4, is greater than permitted\n",
      "RDKit ERROR: [15:27:41] Explicit valence for atom # 3 N, 4, is greater than permitted\n",
      "RDKit ERROR: [15:27:41] Explicit valence for atom # 4 N, 4, is greater than permitted\n",
      "RDKit ERROR: [15:27:41] Explicit valence for atom # 3 N, 4, is greater than permitted\n",
      "RDKit ERROR: [15:27:41] Explicit valence for atom # 4 N, 4, is greater than permitted\n",
      "RDKit ERROR: [15:27:41] Explicit valence for atom # 10 N, 4, is greater than permitted\n",
      "RDKit ERROR: [15:27:52] Explicit valence for atom # 7 N, 5, is greater than permitted\n",
      "RDKit ERROR: [15:27:52] Explicit valence for atom # 3 N, 5, is greater than permitted\n",
      "RDKit ERROR: [15:27:52] Explicit valence for atom # 5 N, 5, is greater than permitted\n",
      "RDKit ERROR: [15:27:52] Explicit valence for atom # 5 N, 5, is greater than permitted\n",
      "RDKit ERROR: [15:27:52] Explicit valence for atom # 5 N, 5, is greater than permitted\n",
      "RDKit ERROR: [15:27:57] Explicit valence for atom # 3 N, 4, is greater than permitted\n",
      "RDKit ERROR: [15:27:59] Explicit valence for atom # 6 N, 4, is greater than permitted\n",
      "RDKit ERROR: [15:28:08] Explicit valence for atom # 9 N, 5, is greater than permitted\n",
      "RDKit ERROR: [15:28:24] Explicit valence for atom # 0 C, 5, is greater than permitted\n",
      "RDKit ERROR: [15:28:31] Explicit valence for atom # 4 N, 4, is greater than permitted\n",
      "RDKit ERROR: [15:28:45] Explicit valence for atom # 16 N, 5, is greater than permitted\n",
      "RDKit ERROR: [15:28:45] Explicit valence for atom # 14 N, 5, is greater than permitted\n",
      "RDKit ERROR: [15:28:45] Explicit valence for atom # 4 N, 5, is greater than permitted\n",
      "RDKit ERROR: [15:28:50] Explicit valence for atom # 20 N, 5, is greater than permitted\n",
      "RDKit ERROR: [15:28:50] Explicit valence for atom # 22 N, 5, is greater than permitted\n",
      "RDKit ERROR: [15:28:50] Explicit valence for atom # 19 N, 5, is greater than permitted\n",
      "RDKit ERROR: [15:28:50] Explicit valence for atom # 24 N, 5, is greater than permitted\n",
      "RDKit ERROR: [15:28:50] Explicit valence for atom # 23 N, 5, is greater than permitted\n",
      "RDKit ERROR: [15:28:50] Explicit valence for atom # 19 N, 5, is greater than permitted\n",
      "RDKit ERROR: [15:28:50] Explicit valence for atom # 21 N, 5, is greater than permitted\n",
      "RDKit ERROR: [15:28:50] Explicit valence for atom # 20 N, 5, is greater than permitted\n",
      "RDKit ERROR: [15:28:50] Explicit valence for atom # 22 N, 5, is greater than permitted\n",
      "RDKit ERROR: [15:28:55] Explicit valence for atom # 17 N, 4, is greater than permitted\n",
      "RDKit ERROR: [15:29:09] Explicit valence for atom # 35 N, 4, is greater than permitted\n",
      "RDKit ERROR: [15:29:09] Explicit valence for atom # 1 N, 4, is greater than permitted\n",
      "RDKit ERROR: [15:29:13] Explicit valence for atom # 3 N, 5, is greater than permitted\n",
      "RDKit ERROR: [15:29:13] Explicit valence for atom # 32 N, 5, is greater than permitted\n",
      "RDKit ERROR: [15:29:13] Explicit valence for atom # 11 N, 5, is greater than permitted\n",
      "RDKit ERROR: [15:29:22] Explicit valence for atom # 25 N, 4, is greater than permitted\n",
      "RDKit ERROR: [15:29:33] Explicit valence for atom # 10 N, 5, is greater than permitted\n",
      "RDKit ERROR: [15:29:33] Explicit valence for atom # 10 N, 5, is greater than permitted\n",
      "RDKit ERROR: [15:29:41] Explicit valence for atom # 8 N, 5, is greater than permitted\n",
      "RDKit ERROR: [15:29:41] Explicit valence for atom # 9 N, 5, is greater than permitted\n",
      "RDKit ERROR: [15:29:41] Explicit valence for atom # 28 N, 5, is greater than permitted\n",
      "RDKit ERROR: [15:29:41] Explicit valence for atom # 16 N, 5, is greater than permitted\n",
      "RDKit ERROR: [15:29:41] Explicit valence for atom # 16 N, 5, is greater than permitted\n",
      "RDKit ERROR: [15:29:41] Explicit valence for atom # 30 N, 5, is greater than permitted\n",
      "RDKit ERROR: [15:29:41] Explicit valence for atom # 8 N, 5, is greater than permitted\n",
      "RDKit ERROR: [15:29:41] Explicit valence for atom # 8 N, 5, is greater than permitted\n",
      "RDKit ERROR: [15:29:41] Explicit valence for atom # 9 N, 5, is greater than permitted\n",
      "RDKit ERROR: [15:29:41] Explicit valence for atom # 17 N, 5, is greater than permitted\n",
      "RDKit ERROR: [15:29:41] Explicit valence for atom # 27 N, 5, is greater than permitted\n",
      "RDKit ERROR: [15:29:46] Explicit valence for atom # 25 N, 4, is greater than permitted\n",
      "RDKit ERROR: [15:29:52] Explicit valence for atom # 23 N, 5, is greater than permitted\n",
      "RDKit ERROR: [15:29:52] Explicit valence for atom # 37 N, 5, is greater than permitted\n",
      "RDKit ERROR: [15:29:52] Explicit valence for atom # 16 N, 5, is greater than permitted\n",
      "RDKit ERROR: [15:29:52] Explicit valence for atom # 14 N, 5, is greater than permitted\n",
      "RDKit ERROR: [15:29:55] Explicit valence for atom # 8 N, 5, is greater than permitted\n",
      "RDKit ERROR: [15:29:55] Explicit valence for atom # 7 N, 5, is greater than permitted\n",
      "RDKit ERROR: [15:29:55] Explicit valence for atom # 14 N, 5, is greater than permitted\n",
      "RDKit ERROR: [15:29:55] Explicit valence for atom # 14 N, 5, is greater than permitted\n",
      "RDKit ERROR: [15:29:55] Explicit valence for atom # 8 N, 5, is greater than permitted\n",
      "RDKit ERROR: [15:29:55] Explicit valence for atom # 7 N, 5, is greater than permitted\n",
      "RDKit ERROR: [15:29:58] Explicit valence for atom # 9 N, 4, is greater than permitted\n",
      "RDKit ERROR: [15:29:59] Explicit valence for atom # 25 N, 4, is greater than permitted\n",
      "RDKit ERROR: [15:30:03] Explicit valence for atom # 1 H, 2, is greater than permitted\n",
      "RDKit ERROR: [15:30:08] Explicit valence for atom # 19 N, 4, is greater than permitted\n",
      "RDKit ERROR: [15:30:26] Explicit valence for atom # 7 N, 5, is greater than permitted\n",
      "RDKit ERROR: [15:30:26] Explicit valence for atom # 6 N, 5, is greater than permitted\n",
      "RDKit ERROR: [15:30:59] Explicit valence for atom # 18 N, 5, is greater than permitted\n",
      "RDKit ERROR: [15:30:59] Explicit valence for atom # 17 N, 5, is greater than permitted\n",
      "RDKit ERROR: [15:30:59] Explicit valence for atom # 19 N, 5, is greater than permitted\n",
      "RDKit ERROR: [15:30:59] Explicit valence for atom # 4 N, 5, is greater than permitted\n",
      "RDKit ERROR: [15:30:59] Explicit valence for atom # 14 N, 5, is greater than permitted\n",
      "RDKit ERROR: [15:30:59] Explicit valence for atom # 17 N, 5, is greater than permitted\n",
      "RDKit ERROR: [15:30:59] Explicit valence for atom # 6 N, 5, is greater than permitted\n",
      "RDKit ERROR: [15:30:59] Explicit valence for atom # 17 N, 5, is greater than permitted\n",
      "RDKit ERROR: [15:31:03] Explicit valence for atom # 35 N, 5, is greater than permitted\n",
      "RDKit ERROR: [15:31:03] Explicit valence for atom # 11 N, 5, is greater than permitted\n",
      "RDKit ERROR: [15:31:03] Explicit valence for atom # 35 N, 5, is greater than permitted\n"
     ]
    },
    {
     "name": "stderr",
     "output_type": "stream",
     "text": [
      "RDKit ERROR: [15:31:08] Explicit valence for atom # 38 C, 5, is greater than permitted\n",
      "RDKit ERROR: [15:31:10] Explicit valence for atom # 26 N, 4, is greater than permitted\n",
      "RDKit ERROR: [15:31:15] Explicit valence for atom # 19 N, 5, is greater than permitted\n",
      "RDKit ERROR: [15:31:15] Explicit valence for atom # 20 N, 5, is greater than permitted\n",
      "RDKit ERROR: [15:31:16] Explicit valence for atom # 13 N, 4, is greater than permitted\n",
      "RDKit ERROR: [15:31:16] Explicit valence for atom # 16 N, 4, is greater than permitted\n",
      "RDKit ERROR: [15:31:16] Explicit valence for atom # 13 N, 4, is greater than permitted\n",
      "RDKit ERROR: [15:31:16] Explicit valence for atom # 16 N, 4, is greater than permitted\n",
      "RDKit ERROR: [15:31:16] Explicit valence for atom # 9 N, 5, is greater than permitted\n",
      "RDKit ERROR: [15:31:16] Explicit valence for atom # 12 N, 5, is greater than permitted\n",
      "RDKit ERROR: [15:31:16] Explicit valence for atom # 12 N, 5, is greater than permitted\n",
      "RDKit ERROR: [15:31:16] Explicit valence for atom # 15 N, 5, is greater than permitted\n",
      "RDKit ERROR: [15:31:16] Explicit valence for atom # 4 N, 5, is greater than permitted\n",
      "RDKit ERROR: [15:31:17] Explicit valence for atom # 5 N, 5, is greater than permitted\n",
      "RDKit ERROR: [15:31:31] Explicit valence for atom # 11 N, 5, is greater than permitted\n",
      "RDKit ERROR: [15:31:33] Explicit valence for atom # 19 C, 5, is greater than permitted\n"
     ]
    }
   ],
   "source": [
    "import logging\n",
    "\n",
    "from rdkit import RDLogger\n",
    "\n",
    "RDLogger.logger().setLevel(getattr(RDLogger, 'ERROR'))\n",
    "\n",
    "logger = logging.getLogger()\n",
    "loglevel = getattr(logging, 'ERROR')\n",
    "logger.setLevel(loglevel)\n",
    "ch = logging.StreamHandler(sys.stdout)\n",
    "ch.setLevel(loglevel)\n",
    "\n",
    "\n",
    "\n",
    "\n",
    "def get_finger_rdk(smiles):\n",
    "    mol=Chem.MolFromSmiles(str(smiles))\n",
    "    if mol is not None:\n",
    "        Chem.SanitizeMol(mol)\n",
    "        return pd.Series({'mol__inchikey':Chem.InchiToInchiKey(Chem.MolToInchi(mol)),'morgan':np.array(Chem.GetMorganFingerprintAsBitVect(mol,nBits=8192,radius=6),dtype=np.int8),'mol':mol})\n",
    "    else:\n",
    "#         print(smiles) \n",
    "        return pd.Series({'mol__inchikey':None,'morgan':np.nan,'mol':None})\n",
    "\n",
    "df_fps=df_flt2[:].Structure.apply(get_finger_rdk)\n",
    "#print()\n",
    "#df_fps=df_flt2[:100].can.str.slice(0,-2).apply(get_finger_rdk)\n",
    "#print(df_flt1.Structure.count())\n",
    "#print(df_fps.count())\n",
    "#df_fps[df_fps.mol__inchikey.isnull()]\n",
    "#df_fps"
   ]
  },
  {
   "cell_type": "code",
   "execution_count": 558,
   "metadata": {
    "ExecuteTime": {
     "end_time": "2017-02-17T17:26:49.394846",
     "start_time": "2017-02-17T17:26:49.378769"
    }
   },
   "outputs": [
    {
     "data": {
      "text/plain": [
       "array([ 0.,  0.,  0., ...,  0.,  0.,  0.], dtype=float32)"
      ]
     },
     "execution_count": 558,
     "metadata": {},
     "output_type": "execute_result"
    }
   ],
   "source": [
    "#%timeit get_finger_rdk('N#C[C-]([N+]1=CC=CC=C1)C(C2=CC=CC=C2)=O')"
   ]
  },
  {
   "cell_type": "code",
   "execution_count": 167,
   "metadata": {
    "ExecuteTime": {
     "end_time": "2017-04-20T16:40:52.387814-04:00",
     "start_time": "2017-04-20T16:40:52.329356"
    }
   },
   "outputs": [
    {
     "name": "stdout",
     "output_type": "stream",
     "text": [
      "<class 'pandas.core.frame.DataFrame'>\n",
      "Int64Index: 118417 entries, 2372 to 30480261\n",
      "Data columns (total 3 columns):\n",
      "mol              117826 non-null object\n",
      "mol__inchikey    117826 non-null object\n",
      "morgan           117826 non-null object\n",
      "dtypes: object(3)\n",
      "memory usage: 3.6+ MB\n"
     ]
    }
   ],
   "source": [
    "#show(df_fps.sample(2))\n",
    "df_fps.info()"
   ]
  },
  {
   "cell_type": "code",
   "execution_count": 168,
   "metadata": {
    "ExecuteTime": {
     "end_time": "2017-04-20T16:41:32.029395-04:00",
     "start_time": "2017-04-20T16:41:31.975229"
    },
    "collapsed": true
   },
   "outputs": [],
   "source": [
    "#help(df_flt1.join)\n",
    "df_flt3=df_flt2.join(df_fps,how='inner',rsuffix='_fps')"
   ]
  },
  {
   "cell_type": "code",
   "execution_count": 177,
   "metadata": {
    "ExecuteTime": {
     "end_time": "2017-04-20T16:54:56.062741-04:00",
     "start_time": "2017-04-20T16:54:56.038999"
    }
   },
   "outputs": [
    {
     "data": {
      "text/html": [
       "<table border=\"1\" class=\"dataframe\">\n",
       "  <thead>\n",
       "    <tr style=\"text-align: right;\">\n",
       "      <th></th>\n",
       "      <th>InChI Key</th>\n",
       "      <th>CAS Registry Number</th>\n",
       "      <th>Chemical Name</th>\n",
       "      <th>Structure</th>\n",
       "      <th>Linear Structure Formula</th>\n",
       "      <th>max_eps</th>\n",
       "      <th>median</th>\n",
       "      <th>count</th>\n",
       "      <th>mean</th>\n",
       "      <th>std</th>\n",
       "      <th>min</th>\n",
       "      <th>max</th>\n",
       "      <th>max_min</th>\n",
       "      <th>std_rj</th>\n",
       "      <th>mean_rj</th>\n",
       "      <th>can</th>\n",
       "      <th>check_inchi</th>\n",
       "      <th>mol</th>\n",
       "      <th>mol__inchikey</th>\n",
       "      <th>morgan</th>\n",
       "    </tr>\n",
       "    <tr>\n",
       "      <th>Substance Identification: Reaxys Registry Number</th>\n",
       "      <th></th>\n",
       "      <th></th>\n",
       "      <th></th>\n",
       "      <th></th>\n",
       "      <th></th>\n",
       "      <th></th>\n",
       "      <th></th>\n",
       "      <th></th>\n",
       "      <th></th>\n",
       "      <th></th>\n",
       "      <th></th>\n",
       "      <th></th>\n",
       "      <th></th>\n",
       "      <th></th>\n",
       "      <th></th>\n",
       "      <th></th>\n",
       "      <th></th>\n",
       "      <th></th>\n",
       "      <th></th>\n",
       "      <th></th>\n",
       "    </tr>\n",
       "  </thead>\n",
       "  <tbody>\n",
       "    <tr>\n",
       "      <th>2745177</th>\n",
       "      <td>DHDYTSMZSUHCIP-VAWYXSNFSA-N</td>\n",
       "      <td>27781-35-7</td>\n",
       "      <td>2,3-dicyano-3t-(4-dimethylamino-phenyl)-acrylic acid amide; 2,3-Dicyan-3t-(4-dimethylamino-phenyl)-acrylsaeure-amid; trans-alpha.beta-Dicyano-p-(N,N-dimethylamino)-cinnamamid</td>\n",
       "      <td>CN(C)C1=CC=C(C=C1)C(C#N)=C(/C#N)C(N)=O</td>\n",
       "      <td>C13H12N4O</td>\n",
       "      <td>NaN</td>\n",
       "      <td>2.589855</td>\n",
       "      <td>2</td>\n",
       "      <td>2.589855</td>\n",
       "      <td>0.076464</td>\n",
       "      <td>2.535787</td>\n",
       "      <td>2.643923</td>\n",
       "      <td>0.108136</td>\n",
       "      <td>NaN</td>\n",
       "      <td>2.589855</td>\n",
       "      <td>CN(c1ccc(cc1)C(=C(C(=O)N)C#N)C#N)C</td>\n",
       "      <td>DHDYTSMZSUHCIP-UHFFFAOYSA-N\\n</td>\n",
       "      <td><svg baseProfile=\"full\" height=\"200px\" version=\"1.1\" width=\"200px\" xml:space=\"preserve\" xmlns:rdkit=\"http://www.rdkit.org/xml\" xmlns:svg=\"http://www.w3.org/2000/svg\" xmlns:xlink=\"http://www.w3.org/1999/xlink\">\\n<rect height=\"200\" style=\"opacity:1.0;fill:#FFFFFF;stroke:none\" width=\"200\" x=\"0\" y=\"0\"> </rect>\\n<path d=\"M 9.09091,87.2753 15.0405,94.7944\" style=\"fill:none;fill-rule:evenodd;stroke:#000000;stroke-width:2px;stroke-linecap:butt;stroke-linejoin:miter;stroke-opacity:1\"/>\\n<path d=\"M 15.0405,94.7944 20.9901,102.313\" style=\"fill:none;fill-rule:evenodd;stroke:#0000FF;stroke-width:2px;stroke-linecap:butt;stroke-linejoin:miter;stroke-opacity:1\"/>\\n<path d=\"M 22.5908,110.431 18.9047,119.719\" style=\"fill:none;fill-rule:evenodd;stroke:#0000FF;stroke-width:2px;stroke-linecap:butt;stroke-linejoin:miter;stroke-opacity:1\"/>\\n<path d=\"M 18.9047,119.719 15.2187,129.007\" style=\"fill:none;fill-rule:evenodd;stroke:#000000;stroke-width:2px;stroke-linecap:butt;stroke-linejoin:miter;stroke-opacity:1\"/>\\n<path d=\"M 27.7194,105.855 38.0072,104.345\" style=\"fill:none;fill-rule:evenodd;stroke:#0000FF;stroke-width:2px;stroke-linecap:butt;stroke-linejoin:miter;stroke-opacity:1\"/>\\n<path d=\"M 38.0072,104.345 48.2951,102.834\" style=\"fill:none;fill-rule:evenodd;stroke:#000000;stroke-width:2px;stroke-linecap:butt;stroke-linejoin:miter;stroke-opacity:1\"/>\\n<path d=\"M 48.2951,102.834 57.278,80.1996\" style=\"fill:none;fill-rule:evenodd;stroke:#000000;stroke-width:2px;stroke-linecap:butt;stroke-linejoin:miter;stroke-opacity:1\"/>\\n<path d=\"M 54.1694,101.236 60.4575,85.3914\" style=\"fill:none;fill-rule:evenodd;stroke:#000000;stroke-width:2px;stroke-linecap:butt;stroke-linejoin:miter;stroke-opacity:1;stroke-dasharray:6,6\"/>\\n<path d=\"M 48.2951,102.834 63.4057,121.931\" style=\"fill:none;fill-rule:evenodd;stroke:#000000;stroke-width:2px;stroke-linecap:butt;stroke-linejoin:miter;stroke-opacity:1\"/>\\n<path d=\"M 54.381,102.677 64.9585,116.044\" style=\"fill:none;fill-rule:evenodd;stroke:#000000;stroke-width:2px;stroke-linecap:butt;stroke-linejoin:miter;stroke-opacity:1;stroke-dasharray:6,6\"/>\\n<path d=\"M 57.278,80.1996 81.3715,76.6618\" style=\"fill:none;fill-rule:evenodd;stroke:#000000;stroke-width:2px;stroke-linecap:butt;stroke-linejoin:miter;stroke-opacity:1\"/>\\n<path d=\"M 61.5996,84.4876 78.4651,82.0111\" style=\"fill:none;fill-rule:evenodd;stroke:#000000;stroke-width:2px;stroke-linecap:butt;stroke-linejoin:miter;stroke-opacity:1;stroke-dasharray:6,6\"/>\\n<path d=\"M 81.3715,76.6618 96.4822,95.7584\" style=\"fill:none;fill-rule:evenodd;stroke:#000000;stroke-width:2px;stroke-linecap:butt;stroke-linejoin:miter;stroke-opacity:1\"/>\\n<path d=\"M 79.8188,82.5484 90.3962,95.9161\" style=\"fill:none;fill-rule:evenodd;stroke:#000000;stroke-width:2px;stroke-linecap:butt;stroke-linejoin:miter;stroke-opacity:1;stroke-dasharray:6,6\"/>\\n<path d=\"M 96.4822,95.7584 87.4993,118.393\" style=\"fill:none;fill-rule:evenodd;stroke:#000000;stroke-width:2px;stroke-linecap:butt;stroke-linejoin:miter;stroke-opacity:1\"/>\\n<path d=\"M 90.6078,97.357 84.3198,113.201\" style=\"fill:none;fill-rule:evenodd;stroke:#000000;stroke-width:2px;stroke-linecap:butt;stroke-linejoin:miter;stroke-opacity:1;stroke-dasharray:6,6\"/>\\n<path d=\"M 96.4822,95.7584 120.576,92.2206\" style=\"fill:none;fill-rule:evenodd;stroke:#000000;stroke-width:2px;stroke-linecap:butt;stroke-linejoin:miter;stroke-opacity:1\"/>\\n<path d=\"M 87.4993,118.393 63.4057,121.931\" style=\"fill:none;fill-rule:evenodd;stroke:#000000;stroke-width:2px;stroke-linecap:butt;stroke-linejoin:miter;stroke-opacity:1\"/>\\n<path d=\"M 83.1777,114.105 66.3122,116.581\" style=\"fill:none;fill-rule:evenodd;stroke:#000000;stroke-width:2px;stroke-linecap:butt;stroke-linejoin:miter;stroke-opacity:1;stroke-dasharray:6,6\"/>\\n<path d=\"M 120.576,92.2206 129.559,69.586\" style=\"fill:none;fill-rule:evenodd;stroke:#000000;stroke-width:2px;stroke-linecap:butt;stroke-linejoin:miter;stroke-opacity:1\"/>\\n<path d=\"M 120.576,92.2206 135.686,111.317\" style=\"fill:none;fill-rule:evenodd;stroke:#000000;stroke-width:2px;stroke-linecap:butt;stroke-linejoin:miter;stroke-opacity:1\"/>\\n<path d=\"M 119.023,98.1072 129.6,111.475\" style=\"fill:none;fill-rule:evenodd;stroke:#000000;stroke-width:2px;stroke-linecap:butt;stroke-linejoin:miter;stroke-opacity:1\"/>\\n<path d=\"M 129.559,69.586 133.245,60.2981\" style=\"fill:none;fill-rule:evenodd;stroke:#000000;stroke-width:2px;stroke-linecap:butt;stroke-linejoin:miter;stroke-opacity:1\"/>\\n<path d=\"M 133.245,60.2981 136.931,51.0101\" style=\"fill:none;fill-rule:evenodd;stroke:#0000FF;stroke-width:2px;stroke-linecap:butt;stroke-linejoin:miter;stroke-opacity:1\"/>\\n<path d=\"M 135.191,68.5962 138.325,60.7015\" style=\"fill:none;fill-rule:evenodd;stroke:#000000;stroke-width:2px;stroke-linecap:butt;stroke-linejoin:miter;stroke-opacity:1\"/>\\n<path d=\"M 138.325,60.7015 141.458,52.8067\" style=\"fill:none;fill-rule:evenodd;stroke:#0000FF;stroke-width:2px;stroke-linecap:butt;stroke-linejoin:miter;stroke-opacity:1\"/>\\n<path d=\"M 126.138,65.0031 129.271,57.1083\" style=\"fill:none;fill-rule:evenodd;stroke:#000000;stroke-width:2px;stroke-linecap:butt;stroke-linejoin:miter;stroke-opacity:1\"/>\\n<path d=\"M 129.271,57.1083 132.404,49.2136\" style=\"fill:none;fill-rule:evenodd;stroke:#0000FF;stroke-width:2px;stroke-linecap:butt;stroke-linejoin:miter;stroke-opacity:1\"/>\\n<path d=\"M 135.686,111.317 159.78,107.779\" style=\"fill:none;fill-rule:evenodd;stroke:#000000;stroke-width:2px;stroke-linecap:butt;stroke-linejoin:miter;stroke-opacity:1\"/>\\n<path d=\"M 135.686,111.317 126.703,133.952\" style=\"fill:none;fill-rule:evenodd;stroke:#000000;stroke-width:2px;stroke-linecap:butt;stroke-linejoin:miter;stroke-opacity:1\"/>\\n<path d=\"M 159.78,107.779 170.068,106.269\" style=\"fill:none;fill-rule:evenodd;stroke:#000000;stroke-width:2px;stroke-linecap:butt;stroke-linejoin:miter;stroke-opacity:1\"/>\\n<path d=\"M 170.068,106.269 180.356,104.758\" style=\"fill:none;fill-rule:evenodd;stroke:#0000FF;stroke-width:2px;stroke-linecap:butt;stroke-linejoin:miter;stroke-opacity:1\"/>\\n<path d=\"M 163.574,112.145 172.319,110.861\" style=\"fill:none;fill-rule:evenodd;stroke:#000000;stroke-width:2px;stroke-linecap:butt;stroke-linejoin:miter;stroke-opacity:1\"/>\\n<path d=\"M 172.319,110.861 181.063,109.577\" style=\"fill:none;fill-rule:evenodd;stroke:#0000FF;stroke-width:2px;stroke-linecap:butt;stroke-linejoin:miter;stroke-opacity:1\"/>\\n<path d=\"M 162.159,102.508 170.903,101.223\" style=\"fill:none;fill-rule:evenodd;stroke:#000000;stroke-width:2px;stroke-linecap:butt;stroke-linejoin:miter;stroke-opacity:1\"/>\\n<path d=\"M 170.903,101.223 179.648,99.9394\" style=\"fill:none;fill-rule:evenodd;stroke:#0000FF;stroke-width:2px;stroke-linecap:butt;stroke-linejoin:miter;stroke-opacity:1\"/>\\n<path d=\"M 126.703,133.952 132.492,141.268\" style=\"fill:none;fill-rule:evenodd;stroke:#000000;stroke-width:2px;stroke-linecap:butt;stroke-linejoin:miter;stroke-opacity:1\"/>\\n<path d=\"M 132.492,141.268 138.281,148.584\" style=\"fill:none;fill-rule:evenodd;stroke:#0000FF;stroke-width:2px;stroke-linecap:butt;stroke-linejoin:miter;stroke-opacity:1\"/>\\n<path d=\"M 126.35,131.542 116.198,133.033\" style=\"fill:none;fill-rule:evenodd;stroke:#000000;stroke-width:2px;stroke-linecap:butt;stroke-linejoin:miter;stroke-opacity:1\"/>\\n<path d=\"M 116.198,133.033 106.047,134.524\" style=\"fill:none;fill-rule:evenodd;stroke:#FF0000;stroke-width:2px;stroke-linecap:butt;stroke-linejoin:miter;stroke-opacity:1\"/>\\n<path d=\"M 127.057,136.361 116.906,137.852\" style=\"fill:none;fill-rule:evenodd;stroke:#000000;stroke-width:2px;stroke-linecap:butt;stroke-linejoin:miter;stroke-opacity:1\"/>\\n<path d=\"M 116.906,137.852 106.754,139.342\" style=\"fill:none;fill-rule:evenodd;stroke:#FF0000;stroke-width:2px;stroke-linecap:butt;stroke-linejoin:miter;stroke-opacity:1\"/>\\n<text style=\"font-size:8px;font-style:normal;font-weight:normal;fill-opacity:1;stroke:none;font-family:sans-serif;text-anchor:start;fill:#0000FF\" x=\"20.6837\" y=\"110.431\"><tspan>N</tspan></text>\\n<text style=\"font-size:8px;font-style:normal;font-weight:normal;fill-opacity:1;stroke:none;font-family:sans-serif;text-anchor:start;fill:#0000FF\" x=\"135.024\" y=\"51.0101\"><tspan>N</tspan></text>\\n<text style=\"font-size:8px;font-style:normal;font-weight:normal;fill-opacity:1;stroke:none;font-family:sans-serif;text-anchor:start;fill:#0000FF\" x=\"180.356\" y=\"108.3\"><tspan>N</tspan></text>\\n<text style=\"font-size:8px;font-style:normal;font-weight:normal;fill-opacity:1;stroke:none;font-family:sans-serif;text-anchor:start;fill:#0000FF\" x=\"133.424\" y=\"157.513\"><tspan>NH</tspan><tspan style=\"baseline-shift:sub;font-size:6px;\">2</tspan><tspan/></text>\\n<text style=\"font-size:8px;font-style:normal;font-weight:normal;fill-opacity:1;stroke:none;font-family:sans-serif;text-anchor:start;fill:#FF0000\" x=\"98.8193\" y=\"141.548\"><tspan>O</tspan></text>\\n</svg></td>\n",
       "      <td>DHDYTSMZSUHCIP-UHFFFAOYSA-N</td>\n",
       "      <td>[0, 0, 0, 0, 0, 0, 0, 0, 0, 0, 0, 0, 0, 0, 0, 0, 0, 0, 0, 0, 0, 0, 0, 0, 0, 0, 0, 0, 0, 0, 0, 0, 0, 0, 0, 0, 0, 0, 0, 0, 0, 0, 0, 0, 0, 0, 0, 0, 0, 0, 0, 0, 0, 0, 0, 0, 0, 0, 0, 0, 0, 0, 0, 0, 0, 0, 0, 0, 0, 0, 0, 0, 0, 0, 0, 0, 0, 0, 0, 0, 0, 0, 0, 0, 0, 0, 0, 0, 0, 0, 0, 0, 0, 0, 0, 0, 0, 0, 0, 0, ...]</td>\n",
       "    </tr>\n",
       "  </tbody>\n",
       "</table>"
      ],
      "text/plain": [
       "<IPython.core.display.HTML object>"
      ]
     },
     "execution_count": 177,
     "metadata": {},
     "output_type": "execute_result"
    }
   ],
   "source": [
    "show(df_flt3.loc[2745177:2745178,][['mol','Structure']])\n",
    "show(df_flt3.loc[2745177:2745178,])"
   ]
  },
  {
   "cell_type": "code",
   "execution_count": 178,
   "metadata": {
    "ExecuteTime": {
     "end_time": "2017-04-20T21:45:36.636975-04:00",
     "start_time": "2017-04-20T21:45:26.799745"
    },
    "collapsed": true
   },
   "outputs": [],
   "source": [
    "df_flt3.to_pickle('/home/denn/home/ml/data/sf/Reaxys4__fix_fps8k_uv.pickle')"
   ]
  },
  {
   "cell_type": "code",
   "execution_count": 9,
   "metadata": {
    "ExecuteTime": {
     "end_time": "2016-11-11T16:24:16.258544",
     "start_time": "2016-11-11T16:23:26.814489"
    }
   },
   "outputs": [
    {
     "name": "stderr",
     "output_type": "stream",
     "text": [
      "RDKit ERROR: [16:23:27] Explicit valence for atom # 10 C, 6, is greater than permitted\n",
      "ERROR:root:Could not create RdKit mol from smiles: C(C1=C2C=CC=CC2=C(C[C]2345[BH]678[BH]9%10%11[BH]%12%13%14[BH]696[BH]%129%12[BH]%13%13%15[BH]%10%14%10[BH]27%11[BH]3%13%10[C]49%15(C2=CC=CC=C2)[BH]586%12)C2=CC=CC=C12)[C]1234[BH]567[BH]89%10[BH]%11%12%13[BH]585[BH]%118%11[BH]%12%12%14[BH]9%139[BH]16%10[BH]2%129[C]38%14(C1=CC=CC=C1)[BH]475%11, inchi: None\n",
      "Traceback (most recent call last):\n",
      "  File \"/home/denn/home/a2g2/blocks/block.py\", line 53, in __init__\n",
      "    raise Exception(\"Mol not created\")\n",
      "Exception: Mol not created\n",
      "RDKit ERROR: [16:23:27] Explicit valence for atom # 15 C, 6, is greater than permitted\n",
      "ERROR:root:Could not create RdKit mol from smiles: C(C1=C2C=CC=CC2=CC2=CC=CC=C12)[C]1234[BH]567[BH]89%10[BH]%11%12%13[BH]585[BH]%118%11[BH]%12%12%14[BH]9%139[BH]16%10[BH]2%129[C]38%14(C1=CC=CC=C1)[BH]475%11, inchi: None\n",
      "Traceback (most recent call last):\n",
      "  File \"/home/denn/home/a2g2/blocks/block.py\", line 53, in __init__\n",
      "    raise Exception(\"Mol not created\")\n",
      "Exception: Mol not created\n",
      "RDKit ERROR: [16:23:27] Explicit valence for atom # 15 C, 6, is greater than permitted\n",
      "ERROR:root:Could not create RdKit mol from smiles: C(C1=C2C=CC=CC2=CC2=CC=CC=C12)[C]1234[BH]567[BH]89%10[BH]%11%12%13[BH]585[BH]%118%11[BH]%12%12%14[BH]9%139[BH]16%10[BH]2%129[C]38%14(CC1=C2C=CC=CC2=CC2=CC=CC=C12)[BH]475%11, inchi: None\n",
      "Traceback (most recent call last):\n",
      "  File \"/home/denn/home/a2g2/blocks/block.py\", line 53, in __init__\n",
      "    raise Exception(\"Mol not created\")\n",
      "Exception: Mol not created\n",
      "RDKit ERROR: [16:23:29] Explicit valence for atom # 5 N, 4, is greater than permitted\n",
      "ERROR:root:Could not create RdKit mol from smiles: C1=CC2=C(C3=[N]4C(C=C3)=C(C3=CC=C5N3[Zn]43N2C1=C(C1=[N]3C(C=C1)=C5C1=CC=CC=C1)C1=CC=CC=C1)C1=CC=CC=C1)C1=CC2=NC3=C(N=C2C=C1)C1=CC=CC2=CC4=C(C=CC=C4)C3=C12, inchi: None\n",
      "Traceback (most recent call last):\n",
      "  File \"/home/denn/home/a2g2/blocks/block.py\", line 53, in __init__\n",
      "    raise Exception(\"Mol not created\")\n",
      "Exception: Mol not created\n",
      "RDKit ERROR: [16:23:29] Explicit valence for atom # 5 N, 4, is greater than permitted\n",
      "ERROR:root:Could not create RdKit mol from smiles: C1=CC2=C(C3=[N]4C(C=C3)=C(C3=CC=C5[N-]3[Ni++]43[N-]2C1=C(C1=[N]3C(C=C1)=C5C1=C2C=CC=CC2=CC2=C1C=CC=C2)C1=CC=CC=C1)C1=CC=CC=C1)C1=C2C=CC=CC2=CC2=C1C=CC=C2, inchi: None\n",
      "Traceback (most recent call last):\n",
      "  File \"/home/denn/home/a2g2/blocks/block.py\", line 53, in __init__\n",
      "    raise Exception(\"Mol not created\")\n",
      "Exception: Mol not created\n",
      "RDKit ERROR: [16:23:30] Explicit valence for atom # 13 C, 5, is greater than permitted\n",
      "ERROR:root:Could not create RdKit mol from smiles: C1=CC2=CC3=C(C=CC=C3)C(C#C[C]34=[CH]5[C@@H-]6[CH]7=[CH]3[Fe++]45673456[C@H-]7[CH]3=[CH]4[CH]5=[CH]67)=C2C=C1, inchi: None\n",
      "Traceback (most recent call last):\n",
      "  File \"/home/denn/home/a2g2/blocks/block.py\", line 53, in __init__\n",
      "    raise Exception(\"Mol not created\")\n",
      "Exception: Mol not created\n",
      "RDKit ERROR: [16:23:31] Explicit valence for atom # 6 C, 6, is greater than permitted\n",
      "ERROR:root:Could not create RdKit mol from smiles: C1=CC=C(C=C1)[C]1234[BH]567[BH]89%10[BH]%11%12%13[BH]585[BH]%118%11[BH]%12%12%14[BH]9%139[BH]16%10[BH]2%129[C]38%14(C1=C2C=CC=CC2=C(C2=C1C=CC=C2)[C]1236[BH]89%10[BH]%12%13%14[BH]%15%16%17[BH]8%128[BH]%15%12%15[BH]%16%16%18[BH]%13%17%13[BH]19%14[BH]2%16%13[C]3%12%18(C1=CC=CC=C1)[BH]6%108%15)[BH]475%11, inchi: None\n",
      "Traceback (most recent call last):\n",
      "  File \"/home/denn/home/a2g2/blocks/block.py\", line 53, in __init__\n",
      "    raise Exception(\"Mol not created\")\n",
      "Exception: Mol not created\n",
      "RDKit ERROR: [16:23:31] Explicit valence for atom # 6 N, 4, is greater than permitted\n",
      "ERROR:root:Could not create RdKit mol from smiles: C1=CN2C(=C1)C=[N](C1=CC3=CC4=C(C=C3C=C1)C=C(C=C4)[N]1=CC3=CC=CN3[B]1(C1=CC=CC=C1)C1=CC=CC=C1)[B]2(C1=CC=CC=C1)C1=CC=CC=C1, inchi: None\n",
      "Traceback (most recent call last):\n",
      "  File \"/home/denn/home/a2g2/blocks/block.py\", line 53, in __init__\n",
      "    raise Exception(\"Mol not created\")\n",
      "Exception: Mol not created\n",
      "RDKit ERROR: [16:23:31] Explicit valence for atom # 2 N, 4, is greater than permitted\n",
      "ERROR:root:Could not create RdKit mol from smiles: C1C[N]2=CC3=C(O[Cr]2245OC(=[O]2)C2=CC=C(C=C2)N=CC2=C6C=CC=CC6=CC6=C2C=CC=C6)C=CC=C3.O4C2=C(C=CC=C2)C=[N]15, inchi: None\n",
      "Traceback (most recent call last):\n",
      "  File \"/home/denn/home/a2g2/blocks/block.py\", line 53, in __init__\n",
      "    raise Exception(\"Mol not created\")\n",
      "Exception: Mol not created\n",
      "RDKit ERROR: [16:23:31] Explicit valence for atom # 2 N, 4, is greater than permitted\n",
      "ERROR:root:Could not create RdKit mol from smiles: C1C[N]2=CC3=C(O[Fe]2245OC(=[O]2)C2=CC=C(C=C2)N=CC2=C6C=CC=CC6=CC6=C2C=CC=C6)C=CC=C3.O4C2=C(C=CC=C2)C=[N]15, inchi: None\n",
      "Traceback (most recent call last):\n",
      "  File \"/home/denn/home/a2g2/blocks/block.py\", line 53, in __init__\n",
      "    raise Exception(\"Mol not created\")\n",
      "Exception: Mol not created\n",
      "RDKit ERROR: [16:23:31] Explicit valence for atom # 3 O, 3, is greater than permitted\n",
      "ERROR:root:Could not create RdKit mol from smiles: CC(=O)[O-][Cu++]12[O-]C3=C(C=C(C=C3C[N@@]1(CC1=C3C=CC=CC3=CC3=CC=CC=C13)CC[N]2(C)C)C(C)(C)C)C(C)(C)C, inchi: None\n",
      "Traceback (most recent call last):\n",
      "  File \"/home/denn/home/a2g2/blocks/block.py\", line 53, in __init__\n",
      "    raise Exception(\"Mol not created\")\n",
      "Exception: Mol not created\n",
      "RDKit ERROR: [16:23:31] Explicit valence for atom # 15 N, 4, is greater than permitted\n",
      "ERROR:root:Could not create RdKit mol from smiles: CC(C)(C)C1=CC(=CC(=C1)C1=C2C=CC3=[N]2[Ni++]24[N-]5C1=CC=C5C(=C1C=CC(C(=C5C=CC([N-]25)=C3Br)C2=CC(=CC(=C2)C(C)(C)C)C(C)(C)C)=[N]41)C1=C2C=CC=CC2=CC2=C1C=CC=C2)C(C)(C)C, inchi: None\n",
      "Traceback (most recent call last):\n",
      "  File \"/home/denn/home/a2g2/blocks/block.py\", line 53, in __init__\n",
      "    raise Exception(\"Mol not created\")\n",
      "Exception: Mol not created\n",
      "RDKit ERROR: [16:23:31] Explicit valence for atom # 15 N, 4, is greater than permitted\n",
      "ERROR:root:Could not create RdKit mol from smiles: CC(C)(C)C1=CC(=CC(=C1)C1=C2C=CC3=[N]2[Ni++]24[N-]5C1=CC=C5C(=C1C=CC(C(=C5C=CC([N-]25)=C3C2=CC=CC=C2)C2=CC(=CC(=C2)C(C)(C)C)C(C)(C)C)=[N]41)C1=C2C=CC=CC2=CC2=C1C=CC=C2)C(C)(C)C, inchi: None\n",
      "Traceback (most recent call last):\n",
      "  File \"/home/denn/home/a2g2/blocks/block.py\", line 53, in __init__\n",
      "    raise Exception(\"Mol not created\")\n",
      "Exception: Mol not created\n",
      "RDKit ERROR: [16:23:31] Explicit valence for atom # 15 N, 4, is greater than permitted\n",
      "ERROR:root:Could not create RdKit mol from smiles: CC(C)(C)C1=CC(=CC(=C1)C1=C2C=CC3=[N]2[Zn]24N5C(=CC=C15)C(=C1C=CC(C(=C5C=CC(N25)=C3C2=C3C=CC=CC3=CC3=C2C=CC=C3)C2=CC(=CC(=C2)C(C)(C)C)C(C)(C)C)=[N]41)C1=CC=CC=C1)C(C)(C)C, inchi: None\n",
      "Traceback (most recent call last):\n",
      "  File \"/home/denn/home/a2g2/blocks/block.py\", line 53, in __init__\n",
      "    raise Exception(\"Mol not created\")\n",
      "Exception: Mol not created\n",
      "RDKit ERROR: [16:23:31] Explicit valence for atom # 35 N, 4, is greater than permitted\n",
      "ERROR:root:Could not create RdKit mol from smiles: CC(C)(C)C1=CC=C(C(=C1)N1C(=O)C2=CC=C3C4=C5C(=CC=C4)C(=CC=C5C4=C3C2=C(C=C4)C1=O)[N]#C[Au+][C-]1=C(F)C(F)=C(F)C(F)=C1F)C(C)(C)C, inchi: None\n",
      "Traceback (most recent call last):\n",
      "  File \"/home/denn/home/a2g2/blocks/block.py\", line 53, in __init__\n",
      "    raise Exception(\"Mol not created\")\n",
      "Exception: Mol not created\n",
      "RDKit ERROR: [16:23:31] Explicit valence for atom # 35 N, 4, is greater than permitted\n",
      "ERROR:root:Could not create RdKit mol from smiles: CC(C)(C)C1=CC=C(C(=C1)N1C(=O)C2=CC=C3C4=C5C(=CC=C4)C(=CC=C5C4=C3C2=C(C=C4)C1=O)[N]#C[Cr](C#[O])(C#[O])(C#[O])(C#[O])C#[O])C(C)(C)C, inchi: None\n",
      "Traceback (most recent call last):\n",
      "  File \"/home/denn/home/a2g2/blocks/block.py\", line 53, in __init__\n",
      "    raise Exception(\"Mol not created\")\n",
      "Exception: Mol not created\n",
      "RDKit ERROR: [16:23:31] Explicit valence for atom # 35 N, 4, is greater than permitted\n",
      "ERROR:root:Could not create RdKit mol from smiles: CC(C)(C)C1=CC=C(C(=C1)N1C(=O)C2=CC=C3C4=C5C(=CC=C4)C(=CC=C5C4=C3C2=C(C=C4)C1=O)[N]#C[Mo](C#[O])(C#[O])(C#[O])(C#[O])C#[O])C(C)(C)C, inchi: None\n",
      "Traceback (most recent call last):\n",
      "  File \"/home/denn/home/a2g2/blocks/block.py\", line 53, in __init__\n",
      "    raise Exception(\"Mol not created\")\n",
      "Exception: Mol not created\n",
      "RDKit ERROR: [16:23:31] Explicit valence for atom # 35 N, 4, is greater than permitted\n",
      "ERROR:root:Could not create RdKit mol from smiles: CC(C)(C)C1=CC=C(C(=C1)N1C(=O)C2=CC=C3C4=C5C(=CC=C4)C(=CC=C5C4=C3C2=C(C=C4)C1=O)[N]#C[W](C#[O])(C#[O])(C#[O])(C#[O])C#[O])C(C)(C)C, inchi: None\n",
      "Traceback (most recent call last):\n",
      "  File \"/home/denn/home/a2g2/blocks/block.py\", line 53, in __init__\n",
      "    raise Exception(\"Mol not created\")\n",
      "Exception: Mol not created\n",
      "RDKit ERROR: [16:23:31] Explicit valence for atom # 35 N, 4, is greater than permitted\n",
      "ERROR:root:Could not create RdKit mol from smiles: CC(C)(C)C1=CC=C(C(=C1)N1C(=O)C2=CC=C3C4=C5C(=CC=C4)C(=CC=C5C4=C3C2=C(C=C4)C1=O)[N]#[C])C(C)(C)C, inchi: None\n",
      "Traceback (most recent call last):\n",
      "  File \"/home/denn/home/a2g2/blocks/block.py\", line 53, in __init__\n",
      "    raise Exception(\"Mol not created\")\n",
      "Exception: Mol not created\n",
      "RDKit ERROR: [16:23:32] Explicit valence for atom # 4 N, 4, is greater than permitted\n",
      "ERROR:root:Could not create RdKit mol from smiles: CC(C)(C)[N]#C[Au+][C-]1=C(F)C(F)=C(C2=CC=C3C4=C5C(C=CC=C5C5=C3C2=CC=C5)=CC=C4)C(F)=C1F, inchi: None\n",
      "Traceback (most recent call last):\n",
      "  File \"/home/denn/home/a2g2/blocks/block.py\", line 53, in __init__\n",
      "    raise Exception(\"Mol not created\")\n",
      "Exception: Mol not created\n",
      "RDKit ERROR: [16:23:32] Explicit valence for atom # 4 N, 5, is greater than permitted\n",
      "ERROR:root:Could not create RdKit mol from smiles: CC(C)CN=1=NC2=C(N=1)C(C1=CC=C(C=C1)N(C1=CC=CC=C1)C1=CC=CC=C1)=C1N=C3C(=NC1=C2C1=CC=C(C=C1)N(C1=CC=CC=C1)C1=CC=CC=C1)C1=C2C=CC=CC2=CC2=CC=CC3=C12, inchi: None\n",
      "Traceback (most recent call last):\n",
      "  File \"/home/denn/home/a2g2/blocks/block.py\", line 53, in __init__\n",
      "    raise Exception(\"Mol not created\")\n",
      "Exception: Mol not created\n",
      "RDKit ERROR: [16:23:32] Explicit valence for atom # 11 N, 4, is greater than permitted\n",
      "ERROR:root:Could not create RdKit mol from smiles: CC(C)[Si](C#CC1=C2C=CC3=[N]2[Mg++]24[N-]5C(=CC=C15)C(C#CC1=C5C=CC=CC5=CC5=CC=CC=C15)=C1C=CC(C(C#C[Si](C(C)C)(C(C)C)C(C)C)=C5C=CC([N-]25)=C3C#CC2=C3C=CC=CC3=CC3=CC=CC=C23)=[N]41)(C(C)C)C(C)C, inchi: None\n",
      "Traceback (most recent call last):\n",
      "  File \"/home/denn/home/a2g2/blocks/block.py\", line 53, in __init__\n",
      "    raise Exception(\"Mol not created\")\n",
      "Exception: Mol not created\n",
      "RDKit ERROR: [16:23:33] Explicit valence for atom # 7 B, 4, is greater than permitted\n",
      "ERROR:root:Could not create RdKit mol from smiles: CC1=C(C(C)=C2N1[B](F)(F)[N]1=C(C)C(=C(C)C1=C2C1=C(C)C=C(C)C=C1C)C1=CC2=CC3=CC=CC=C3C=C2C=C1)C1=CC2=CC3=CC=CC=C3C=C2C=C1, inchi: None\n",
      "Traceback (most recent call last):\n",
      "  File \"/home/denn/home/a2g2/blocks/block.py\", line 53, in __init__\n",
      "    raise Exception(\"Mol not created\")\n",
      "Exception: Mol not created\n",
      "RDKit ERROR: [16:23:33] Explicit valence for atom # 7 B, 4, is greater than permitted\n",
      "ERROR:root:Could not create RdKit mol from smiles: CC1=C(C(C)=C2N1[B](F)(F)[N]1=C(C)C(I)=C(C)C1=C2C1=C(C)C=C(C)C=C1C)C1=CC2=CC3=CC=CC=C3C=C2C=C1, inchi: None\n",
      "Traceback (most recent call last):\n",
      "  File \"/home/denn/home/a2g2/blocks/block.py\", line 53, in __init__\n",
      "    raise Exception(\"Mol not created\")\n",
      "Exception: Mol not created\n",
      "RDKit ERROR: [16:23:33] Explicit valence for atom # 7 N, 4, is greater than permitted\n",
      "ERROR:root:Could not create RdKit mol from smiles: CC1=C(C)C2=CC3=[N]4C(C(C)=C3C)=C(C3=C(C)C(C)=C5C=C6C(C)=C(C)C7=[N]6[Zn]4(N2C1=C7)N35)C1=C2C=CC=CC2=CC2=CC=CC(Br)=C12, inchi: None\n",
      "Traceback (most recent call last):\n",
      "  File \"/home/denn/home/a2g2/blocks/block.py\", line 53, in __init__\n",
      "    raise Exception(\"Mol not created\")\n",
      "Exception: Mol not created\n",
      "RDKit ERROR: [16:23:33] Explicit valence for atom # 8 N, 4, is greater than permitted\n",
      "ERROR:root:Could not create RdKit mol from smiles: CC1=C2C=C3C=CC=[N]3[B](F)(F)N2C(C=CC2=C3C=CC=CC3=C(C)C3=CC=CC=C23)=C1, inchi: None\n",
      "Traceback (most recent call last):\n",
      "  File \"/home/denn/home/a2g2/blocks/block.py\", line 53, in __init__\n",
      "    raise Exception(\"Mol not created\")\n",
      "Exception: Mol not created\n",
      "RDKit ERROR: [16:23:33] Explicit valence for atom # 8 N, 4, is greater than permitted\n",
      "ERROR:root:Could not create RdKit mol from smiles: CC1=C2C=C3C=CC=[N]3[B](F)(F)N2C(C=CC2=C3C=CC=CC3=CC3=CC=CC=C23)=C1, inchi: None\n",
      "Traceback (most recent call last):\n",
      "  File \"/home/denn/home/a2g2/blocks/block.py\", line 53, in __init__\n",
      "    raise Exception(\"Mol not created\")\n",
      "Exception: Mol not created\n",
      "RDKit ERROR: [16:23:33] Explicit valence for atom # 10 B, 4, is greater than permitted\n",
      "ERROR:root:Could not create RdKit mol from smiles: CC1=C2C=CC=CC2=C2N1[B](F)(F)[N]1=C(C)C3=C(C=CC=C3)C1=C2C1=CC=C2C=C3C=CC=CC3=CC2=C1, inchi: None\n",
      "Traceback (most recent call last):\n",
      "  File \"/home/denn/home/a2g2/blocks/block.py\", line 53, in __init__\n",
      "    raise Exception(\"Mol not created\")\n",
      "Exception: Mol not created\n",
      "RDKit ERROR: [16:23:33] Explicit valence for atom # 9 N, 4, is greater than permitted\n",
      "ERROR:root:Could not create RdKit mol from smiles: CC1=CC(=O)OC2=C3C=[N](C4=CC5=CC6=CC=CC=C6C=C5C=C4)[Ir+3]456([O-]C3=CC=C12)[C-]1=C(C=CC=C1)C1=CC=CC=[N]41.C1=CC(C2=CC=CC=[N]52)=[C-]6C=C1, inchi: None\n",
      "Traceback (most recent call last):\n",
      "  File \"/home/denn/home/a2g2/blocks/block.py\", line 53, in __init__\n",
      "    raise Exception(\"Mol not created\")\n",
      "Exception: Mol not created\n",
      "RDKit ERROR: [16:23:33] Can't kekulize mol \n",
      "RDKit ERROR: \n",
      "RDKit ERROR: [16:23:33] Explicit valence for atom # 14 N, 4, is greater than permitted\n",
      "ERROR:root:Could not create RdKit mol from smiles: CC1=CC(C)=C(C(C)=C1)C1=C2C=CC3=[N]2[Fe++]245[N-]6C(=CC=C16)C(=C1C=CC(C(=C6C=CC([N-]26)=C3C2=C(NC(=O)C3=CC(CN6C=C[N]4=C6)=CC=C3)C=CC=C2)C2=C(C)C=C(C)C=C2C)=[N]51)C1=CC=CC2=C1C=C1C(C=CC=C1C(O)=O)=C2, inchi: None\n",
      "Traceback (most recent call last):\n",
      "  File \"/home/denn/home/a2g2/blocks/block.py\", line 53, in __init__\n",
      "    raise Exception(\"Mol not created\")\n",
      "Exception: Mol not created\n",
      "RDKit ERROR: [16:23:33] Explicit valence for atom # 9 B, 4, is greater than permitted\n",
      "ERROR:root:Could not create RdKit mol from smiles: CC1=CC(C)=C(C(C)=C1)[B]1(C2=C(N(C3=CC=CC=C23)C2=CC=C(C=C2)[Si](C)(C)C2=CC=C(C=C2)C2=C3C=CC=CC3=C(C3=CC=CC=C3)C3=CC=CC=C23)C2=[N]1C=CC=C2)C1=C(C)C=C(C)C=C1C, inchi: None\n",
      "Traceback (most recent call last):\n",
      "  File \"/home/denn/home/a2g2/blocks/block.py\", line 53, in __init__\n",
      "    raise Exception(\"Mol not created\")\n",
      "Exception: Mol not created\n",
      "RDKit ERROR: [16:23:33] Explicit valence for atom # 9 B, 4, is greater than permitted\n",
      "ERROR:root:Could not create RdKit mol from smiles: CC1=CC(C)=C(C(C)=C1)[B]1(C2=CC=C3C=C4C=CC=CC4=CC3=C2C2=[N]1C=CC1=C2C=CC=C1)C1=C(C)C=C(C)C=C1C, inchi: None\n",
      "Traceback (most recent call last):\n",
      "  File \"/home/denn/home/a2g2/blocks/block.py\", line 53, in __init__\n",
      "    raise Exception(\"Mol not created\")\n",
      "Exception: Mol not created\n",
      "RDKit ERROR: [16:23:33] Explicit valence for atom # 6 N, 4, is greater than permitted\n",
      "ERROR:root:Could not create RdKit mol from smiles: CC1=CC(C)=C2[N-]1[Zn++]1([N-]3C(C)=CC(C)=C3C(=C3C(C)=CC(C)=[N]13)C1=C3C=CC=CC3=CC3=CC=CC=C13)[N]1=C(C)C=C(C)C1=C2C1=C2C=CC=CC2=CC2=CC=CC=C12, inchi: None\n",
      "Traceback (most recent call last):\n",
      "  File \"/home/denn/home/a2g2/blocks/block.py\", line 53, in __init__\n",
      "    raise Exception(\"Mol not created\")\n",
      "Exception: Mol not created\n",
      "RDKit ERROR: [16:23:33] Explicit valence for atom # 21 N, 4, is greater than permitted\n",
      "ERROR:root:Could not create RdKit mol from smiles: CC1=CC(C=CC2=C3C=CC=CC3=C(C)C3=CC=CC=C23)=[N]2C1=C(C1=C(C)C=C(C=CC3=C4C=CC=CC4=C(C)C4=CC=CC=C34)N1[B]2(F)F)C1=CC=C(I)C=C1, inchi: None\n",
      "Traceback (most recent call last):\n",
      "  File \"/home/denn/home/a2g2/blocks/block.py\", line 53, in __init__\n",
      "    raise Exception(\"Mol not created\")\n",
      "Exception: Mol not created\n",
      "RDKit ERROR: [16:23:33] Explicit valence for atom # 21 N, 4, is greater than permitted\n",
      "ERROR:root:Could not create RdKit mol from smiles: CC1=CC(C=CC2=C3C=CC=CC3=C(C)C3=CC=CC=C23)=[N]2C1=C(C1=CC=CN1[B]2(F)F)C1=CC=C(NC(=O)CCl)C=C1, inchi: None\n",
      "Traceback (most recent call last):\n",
      "  File \"/home/denn/home/a2g2/blocks/block.py\", line 53, in __init__\n",
      "    raise Exception(\"Mol not created\")\n",
      "Exception: Mol not created\n",
      "RDKit ERROR: [16:23:33] Explicit valence for atom # 20 N, 4, is greater than permitted\n",
      "ERROR:root:Could not create RdKit mol from smiles: CC1=CC(C=CC2=C3C=CC=CC3=CC3=CC=CC=C23)=[N]2C1=C(C1=CC=CN1[B]2(F)F)C1=CC=C(NC(=O)CCl)C=C1, inchi: None\n",
      "Traceback (most recent call last):\n",
      "  File \"/home/denn/home/a2g2/blocks/block.py\", line 53, in __init__\n",
      "    raise Exception(\"Mol not created\")\n",
      "Exception: Mol not created\n",
      "RDKit ERROR: [16:23:33] Explicit valence for atom # 6 B, 4, is greater than permitted\n",
      "ERROR:root:Could not create RdKit mol from smiles: CC1=CC2=C3N1[B](F)(F)[N]1=C(C)C=CC1=C3C1=C3C=CC=CC3=CC3=CC=CC2=C13, inchi: None\n",
      "Traceback (most recent call last):\n",
      "  File \"/home/denn/home/a2g2/blocks/block.py\", line 53, in __init__\n",
      "    raise Exception(\"Mol not created\")\n",
      "Exception: Mol not created\n",
      "RDKit ERROR: [16:23:33] Explicit valence for atom # 12 N, 4, is greater than permitted\n",
      "ERROR:root:Could not create RdKit mol from smiles: CC1=CC=C(C=C1)C1=C2C=CC3=[N]2[Ni++]24[N-]5C(=CC=C15)C(=C1C=CC(C(=C5C=CC([N-]25)=C3NC2=CC3=CC5=CC=CC=C5C=C3C=C2)C2=CC=C(C)C=C2)=[N]41)C1=CC=CC=C1, inchi: None\n",
      "Traceback (most recent call last):\n",
      "  File \"/home/denn/home/a2g2/blocks/block.py\", line 53, in __init__\n",
      "    raise Exception(\"Mol not created\")\n",
      "Exception: Mol not created\n",
      "RDKit ERROR: [16:23:38] Explicit valence for atom # 7 Bi, 5, is greater than permitted\n",
      "ERROR:root:Could not create RdKit mol from smiles: CC1=CC=C(C=C1)[Bi](F)(F)(C1=CC=C(C)C=C1)C1=C2C=CC=CC2=CC2=C1C=CC=C2, inchi: None\n",
      "Traceback (most recent call last):\n",
      "  File \"/home/denn/home/a2g2/blocks/block.py\", line 53, in __init__\n",
      "    raise Exception(\"Mol not created\")\n",
      "Exception: Mol not created\n",
      "RDKit ERROR: [16:23:38] Explicit valence for atom # 23 Te, 4, is greater than permitted\n",
      "ERROR:root:Could not create RdKit mol from smiles: CC1=CC=C(N=CC2=C3C=CC=CC3=CC3=CC=CC=C23)C(=C1)[Te](Cl)(Cl)C1=C(C)C=C(C)C=C1C, inchi: None\n",
      "Traceback (most recent call last):\n",
      "  File \"/home/denn/home/a2g2/blocks/block.py\", line 53, in __init__\n",
      "    raise Exception(\"Mol not created\")\n",
      "Exception: Mol not created\n",
      "RDKit ERROR: [16:23:38] Explicit valence for atom # 23 Te, 4, is greater than permitted\n",
      "ERROR:root:Could not create RdKit mol from smiles: CC1=CC=C(N=CC2=C3C=CC=CC3=CC3=CC=CC=C23)C(=C1)[Te](Cl)(Cl)C1=C2C=CC=CC2=CC=C1, inchi: None\n",
      "Traceback (most recent call last):\n",
      "  File \"/home/denn/home/a2g2/blocks/block.py\", line 53, in __init__\n",
      "    raise Exception(\"Mol not created\")\n",
      "Exception: Mol not created\n",
      "RDKit ERROR: [16:23:38] Explicit valence for atom # 6 B, 4, is greater than permitted\n",
      "ERROR:root:Could not create RdKit mol from smiles: CC1=CC=C2N1[B](F)(F)[N]1=C(C)C=CC1=C2C1=C2C=CC=CC2=CC2=CC=CC=C12, inchi: None\n",
      "Traceback (most recent call last):\n",
      "  File \"/home/denn/home/a2g2/blocks/block.py\", line 53, in __init__\n",
      "    raise Exception(\"Mol not created\")\n",
      "Exception: Mol not created\n",
      "RDKit ERROR: [16:23:38] Explicit valence for atom # 5 N, 4, is greater than permitted\n",
      "ERROR:root:Could not create RdKit mol from smiles: CC1=CC=C2[N-]1[Zn++]1([N-]3C(C)=CC=C3C(=C3C=CC(C)=[N]13)C1=C3C=CC=CC3=CC3=CC=CC=C13)[N]1=C(C)C=CC1=C2C1=C2C=CC=CC2=CC2=CC=CC=C12, inchi: None\n",
      "Traceback (most recent call last):\n",
      "  File \"/home/denn/home/a2g2/blocks/block.py\", line 53, in __init__\n",
      "    raise Exception(\"Mol not created\")\n",
      "Exception: Mol not created\n",
      "RDKit ERROR: [16:23:38] Explicit valence for atom # 2 O, 3, is greater than permitted\n",
      "ERROR:root:Could not create RdKit mol from smiles: CC1=[O][B]2(OC(=O)C(=O)O2)OC(=C1)C1=C2C=CC=CC2=CC2=C1C=CC=C2, inchi: None\n",
      "Traceback (most recent call last):\n",
      "  File \"/home/denn/home/a2g2/blocks/block.py\", line 53, in __init__\n",
      "    raise Exception(\"Mol not created\")\n",
      "Exception: Mol not created\n",
      "RDKit ERROR: [16:23:38] Explicit valence for atom # 10 N, 4, is greater than permitted\n",
      "ERROR:root:Could not create RdKit mol from smiles: CCC(CC)C1=C2C=CC3=[N]2[Ni++]24[N-]5C1=CC=C5C(=C1C=CC(C(C(CC)CC)=C5C=CC([N-]25)=C3C2=C3C=CC=CC3=CC3=C2C=CC=C3)=[N]41)C1=C2C=CC=CC2=CC2=C1C=CC=C2, inchi: None\n",
      "Traceback (most recent call last):\n",
      "  File \"/home/denn/home/a2g2/blocks/block.py\", line 53, in __init__\n",
      "    raise Exception(\"Mol not created\")\n",
      "Exception: Mol not created\n",
      "RDKit ERROR: [16:23:38] Explicit valence for atom # 10 N, 4, is greater than permitted\n",
      "ERROR:root:Could not create RdKit mol from smiles: CCC(CC)C1=C2C=CC3=[N]2[Zn++]24[N-]5C1=CC=C5C(=C1C=CC(C(C(CC)CC)=C5C=CC([N-]25)=C3C2=C3C=CC=CC3=CC3=C2C=CC=C3)=[N]41)C1=C2C=CC=CC2=CC2=C1C=CC=C2, inchi: None\n",
      "Traceback (most recent call last):\n",
      "  File \"/home/denn/home/a2g2/blocks/block.py\", line 53, in __init__\n",
      "    raise Exception(\"Mol not created\")\n",
      "Exception: Mol not created\n",
      "RDKit ERROR: [16:23:38] Explicit valence for atom # 18 N, 4, is greater than permitted\n",
      "ERROR:root:Could not create RdKit mol from smiles: CCC1=C(C)N2C(=C1C)C(=C1C(C)=C(CC)C(C)=[N]1[B]2(F)F)C1=CC=C(C=C1)[NH]1=C(C=C(O[B]1(F)F)C(F)(F)F)C1=CC=C2C=C3C=CC=CC3=CC2=C1, inchi: None\n",
      "Traceback (most recent call last):\n",
      "  File \"/home/denn/home/a2g2/blocks/block.py\", line 53, in __init__\n",
      "    raise Exception(\"Mol not created\")\n",
      "Exception: Mol not created\n",
      "RDKit ERROR: [16:23:38] Explicit valence for atom # 18 N, 4, is greater than permitted\n",
      "ERROR:root:Could not create RdKit mol from smiles: CCC1=C(C)N2C(=C1C)C(=C1C(C)=C(CC)C(C)=[N]1[B]2(F)F)C1=CC=C(NC(=C/C(=O)C(F)(F)F)C2=CC=C3C=C4C=CC=CC4=CC3=C2)C=C1, inchi: None\n",
      "Traceback (most recent call last):\n",
      "  File \"/home/denn/home/a2g2/blocks/block.py\", line 53, in __init__\n",
      "    raise Exception(\"Mol not created\")\n",
      "Exception: Mol not created\n",
      "RDKit ERROR: [16:23:38] Explicit valence for atom # 5 N, 4, is greater than permitted\n",
      "ERROR:root:Could not create RdKit mol from smiles: CCC1=C(C)[N-]2C(=C1C)C(=C1C(C)=C(CC)C(C)=[N]1[Zn++]21[N-]2C(C)=C(CC)C(C)=C2C(=C2C(C)=C(CC)C(C)=[N]12)C1=C2C=CC=CC2=CC2=CC=CC=C12)C1=C2C=CC=CC2=CC2=CC=CC=C12, inchi: None\n",
      "Traceback (most recent call last):\n",
      "  File \"/home/denn/home/a2g2/blocks/block.py\", line 53, in __init__\n",
      "    raise Exception(\"Mol not created\")\n",
      "Exception: Mol not created\n",
      "RDKit ERROR: [16:23:38] Explicit valence for atom # 27 N, 4, is greater than permitted\n",
      "ERROR:root:Could not create RdKit mol from smiles: CCC1=C(CC)C2=C(C#CC#CC3=C4C=C5C=CC=CC5=CC4=CC=C3)C3=[N]4C(=CC5=C(CC)C(CC)=C6C=C7C(CC)=C(CC)C8=[N]7[Ni++]4([N-]2C1=C8)[N-]56)C(CC)=C3CC, inchi: None\n",
      "Traceback (most recent call last):\n",
      "  File \"/home/denn/home/a2g2/blocks/block.py\", line 53, in __init__\n",
      "    raise Exception(\"Mol not created\")\n",
      "Exception: Mol not created\n",
      "RDKit ERROR: [16:23:38] Explicit valence for atom # 27 N, 4, is greater than permitted\n",
      "ERROR:root:Could not create RdKit mol from smiles: CCC1=C(CC)C2=C(C#CC#CC3=C4C=CC=CC4=CC4=CC=CC=C34)C3=[N]4C(=CC5=C(CC)C(CC)=C6C=C7C(CC)=C(CC)C8=[N]7[Ni++]4([N-]2C1=C8)[N-]56)C(CC)=C3CC, inchi: None\n",
      "Traceback (most recent call last):\n",
      "  File \"/home/denn/home/a2g2/blocks/block.py\", line 53, in __init__\n",
      "    raise Exception(\"Mol not created\")\n",
      "Exception: Mol not created\n",
      "RDKit ERROR: [16:23:38] Explicit valence for atom # 9 N, 4, is greater than permitted\n",
      "ERROR:root:Could not create RdKit mol from smiles: CCC1=C(CC)C2=CC3=[N]4C(=CC5=C(CC)C(CC)=C6C=C7C(CC)=C(CC)C8=[N]7[Sn+4]4([O-]C(=O)C4=C7C=CC=CC7=CC7=CC=CC=C47)([O-]C(=O)C4=C7C=CC=CC7=CC7=CC=CC=C47)([N-]2C1=C8)[N-]56)C(CC)=C3CC, inchi: None\n",
      "Traceback (most recent call last):\n",
      "  File \"/home/denn/home/a2g2/blocks/block.py\", line 53, in __init__\n",
      "    raise Exception(\"Mol not created\")\n",
      "Exception: Mol not created\n",
      "RDKit ERROR: [16:23:38] Explicit valence for atom # 8 N, 4, is greater than permitted\n",
      "ERROR:root:Could not create RdKit mol from smiles: CCC1=CC=C(C=C1)[N]1=CC2=[C-](C=C3C4=C5C(C=CC=C5C5=C3C2=CC=C5)=CC=C4)[Pt++]1([CH3-])[P](C1=CC=CC=C1)(C1=CC=CC=C1)C1=CC=CC=C1, inchi: None\n",
      "Traceback (most recent call last):\n",
      "  File \"/home/denn/home/a2g2/blocks/block.py\", line 53, in __init__\n",
      "    raise Exception(\"Mol not created\")\n",
      "Exception: Mol not created\n",
      "RDKit ERROR: [16:23:38] Explicit valence for atom # 8 N, 4, is greater than permitted\n",
      "ERROR:root:Could not create RdKit mol from smiles: CCC1=CC=C(C=C1)[N]1=CC2=[C-](C=C3C4=C5C(C=CC=C5C5=C3C2=CC=C5)=CC=C4)[Pt++]11[O]=C(C)[CH-]C(C)=[O]1, inchi: None\n",
      "Traceback (most recent call last):\n",
      "  File \"/home/denn/home/a2g2/blocks/block.py\", line 53, in __init__\n",
      "    raise Exception(\"Mol not created\")\n",
      "Exception: Mol not created\n",
      "RDKit ERROR: [16:23:38] Explicit valence for atom # 8 N, 4, is greater than permitted\n",
      "ERROR:root:Could not create RdKit mol from smiles: CCC1=CC=C(C=C1)[N]1=CC2=[C-](C=C3C4=C5C(C=CC=C5C5=C3C2=CC=C5)=CC=C4)[Pt++]11[S-]C(OC)=[S]1, inchi: None\n",
      "Traceback (most recent call last):\n",
      "  File \"/home/denn/home/a2g2/blocks/block.py\", line 53, in __init__\n",
      "    raise Exception(\"Mol not created\")\n",
      "Exception: Mol not created\n",
      "RDKit ERROR: [16:23:38] Explicit valence for atom # 8 N, 4, is greater than permitted\n",
      "ERROR:root:Could not create RdKit mol from smiles: CCC1=CC=C(C=C1)[N]1=CC2=[C-](C=C3C4=C5C(C=CC=C5C5=C3C2=CC=C5)=CC=C4)[Pt+4]1([CH3-])([CH3-])([I-])[P](C1=CC=CC=C1)(C1=CC=CC=C1)C1=CC=CC=C1, inchi: None\n",
      "Traceback (most recent call last):\n",
      "  File \"/home/denn/home/a2g2/blocks/block.py\", line 53, in __init__\n",
      "    raise Exception(\"Mol not created\")\n",
      "Exception: Mol not created\n",
      "RDKit ERROR: [16:23:38] Explicit valence for atom # 8 N, 4, is greater than permitted\n",
      "ERROR:root:Could not create RdKit mol from smiles: CCC1=CC=C(C=C1)[N]1=CC2=[C-](C=C3C4=C5C(C=CC=C5C5=C3C2=CC=C5)=CC=C4)[Pt+4]11([CH3-])([I-])[O]=C(C)[CH-]C(C)=[O]1, inchi: None\n",
      "Traceback (most recent call last):\n",
      "  File \"/home/denn/home/a2g2/blocks/block.py\", line 53, in __init__\n",
      "    raise Exception(\"Mol not created\")\n",
      "Exception: Mol not created\n",
      "RDKit ERROR: [16:23:39] Explicit valence for atom # 10 N, 4, is greater than permitted\n",
      "ERROR:root:Could not create RdKit mol from smiles: CCCCC1=C(C)C2=C3C4=[N]5C(=CC6=C(CCCC)C(C)=C7N6[Zn]55N2C1=CC1=[N]5C(C(C)=C1CCCC)=C7C1=C(OCC2=C5C=CC=CC5=C(COC5=CC=CC=C35)C3=CC=CC=C23)C=CC=C1)C(CCCC)=C4C, inchi: None\n",
      "Traceback (most recent call last):\n",
      "  File \"/home/denn/home/a2g2/blocks/block.py\", line 53, in __init__\n",
      "    raise Exception(\"Mol not created\")\n",
      "Exception: Mol not created\n",
      "RDKit ERROR: [16:23:39] Explicit valence for atom # 11 N, 4, is greater than permitted\n",
      "ERROR:root:Could not create RdKit mol from smiles: CCCCCCC1=C2C=CC3=[N]2[Ni++]24[N-]5C1=CC=C5C(=C1C=CC(C(CCCCCC)=C5C=CC([N-]25)=C3C2=C3C=CC=CC3=CC3=C2C=CC=C3)=[N]41)C1=C2C=CC=CC2=CC2=C1C=CC=C2, inchi: None\n",
      "Traceback (most recent call last):\n",
      "  File \"/home/denn/home/a2g2/blocks/block.py\", line 53, in __init__\n",
      "    raise Exception(\"Mol not created\")\n",
      "Exception: Mol not created\n",
      "RDKit ERROR: [16:23:39] Explicit valence for atom # 11 N, 4, is greater than permitted\n",
      "ERROR:root:Could not create RdKit mol from smiles: CCCCCCC1=C2C=CC3=[N]2[Ni++]24[N-]5C1=CC=C5C(=C1C=CC(C(CCCCCC)=C5C=CC([N-]25)=C3CCCCCC)=[N]41)C1=C2C=CC=CC2=CC2=C1C=CC=C2, inchi: None\n",
      "Traceback (most recent call last):\n",
      "  File \"/home/denn/home/a2g2/blocks/block.py\", line 53, in __init__\n",
      "    raise Exception(\"Mol not created\")\n",
      "Exception: Mol not created\n",
      "RDKit ERROR: [16:23:39] Explicit valence for atom # 11 N, 4, is greater than permitted\n",
      "ERROR:root:Could not create RdKit mol from smiles: CCCCCCC1=C2C=CC3=[N]2[Zn++]24[N-]5C1=CC=C5C(=C1C=CC(C(CCCCCC)=C5C=CC([N-]25)=C3C2=C3C=CC=CC3=CC3=C2C=CC=C3)=[N]41)C1=C2C=CC=CC2=CC2=C1C=CC=C2, inchi: None\n",
      "Traceback (most recent call last):\n",
      "  File \"/home/denn/home/a2g2/blocks/block.py\", line 53, in __init__\n",
      "    raise Exception(\"Mol not created\")\n",
      "Exception: Mol not created\n",
      "RDKit ERROR: [16:23:39] Explicit valence for atom # 11 N, 4, is greater than permitted\n",
      "ERROR:root:Could not create RdKit mol from smiles: CCCCCCC1=C2C=CC3=[N]2[Zn++]24[N-]5C1=CC=C5C(=C1C=CC(C(CCCCCC)=C5C=CC([N-]25)=C3CCCCCC)=[N]41)C1=C2C=CC=CC2=CC2=C1C=CC=C2, inchi: None\n",
      "Traceback (most recent call last):\n",
      "  File \"/home/denn/home/a2g2/blocks/block.py\", line 53, in __init__\n",
      "    raise Exception(\"Mol not created\")\n",
      "Exception: Mol not created\n",
      "RDKit ERROR: [16:23:40] Explicit valence for atom # 29 C, 6, is greater than permitted\n",
      "ERROR:root:Could not create RdKit mol from smiles: CCCCCCCCC1(CCCCCCCC)C2=CC=CC=C2C2=C1C=C(C=C2)[C]1234[BH]567[BH]89%10[BH]%11%12%13[BH]585[BH]%118%11[BH]%12%12%14[BH]9%139[BH]16%10[BH]2%129[C]38%14(CC1=C2C=CC=CC2=CC2=CC=CC=C12)[BH]475%11, inchi: None\n",
      "Traceback (most recent call last):\n",
      "  File \"/home/denn/home/a2g2/blocks/block.py\", line 53, in __init__\n",
      "    raise Exception(\"Mol not created\")\n",
      "Exception: Mol not created\n",
      "RDKit ERROR: [16:23:42] Explicit valence for atom # 10 C, 5, is greater than permitted\n",
      "ERROR:root:Could not create RdKit mol from smiles: CCCCOC1=C(F)C(F)=[C-]([Au+]C#[N]C2=CC=C3C4=C5C(C=CC=C5C5=C3C2=CC=C5)=CC=C4)C(F)=C1F, inchi: None\n",
      "Traceback (most recent call last):\n",
      "  File \"/home/denn/home/a2g2/blocks/block.py\", line 53, in __init__\n",
      "    raise Exception(\"Mol not created\")\n",
      "Exception: Mol not created\n",
      "RDKit ERROR: [16:23:42] Explicit valence for atom # 10 C, 5, is greater than permitted\n",
      "ERROR:root:Could not create RdKit mol from smiles: CCCCOC1=C(F)C(F)=[C-]([Au+][C](NC2=CC=C3C4=C5C(C=CC=C5C5=C3C2=CC=C5)=CC=C4)N(CC)CC)C(F)=C1F, inchi: None\n",
      "Traceback (most recent call last):\n",
      "  File \"/home/denn/home/a2g2/blocks/block.py\", line 53, in __init__\n",
      "    raise Exception(\"Mol not created\")\n",
      "Exception: Mol not created\n",
      "RDKit ERROR: [16:23:42] Explicit valence for atom # 28 O, 3, is greater than permitted\n",
      "ERROR:root:Could not create RdKit mol from smiles: CCCC[C@@]12[C@@]3(C4=CC=C5C6=C7C(C=CC=C7C7=C5C4=CC=C7)=CC=C6)[Co]1(C#[O])(C#[O])(C#[O])[Co]23(C#[O])(C#[O])C#[O], inchi: None\n",
      "Traceback (most recent call last):\n",
      "  File \"/home/denn/home/a2g2/blocks/block.py\", line 53, in __init__\n",
      "    raise Exception(\"Mol not created\")\n",
      "Exception: Mol not created\n",
      "RDKit ERROR: [16:23:44] Explicit valence for atom # 9 C, 5, is greater than permitted\n",
      "ERROR:root:Could not create RdKit mol from smiles: CCN(CC)C1=[S][Pt++]2([S-]1)[C-]1=C(C=[N]2C2=CC=C(CC)C=C2)C2=CC=CC3=C2C(=C1)C1=C2C(C=CC=C32)=CC=C1, inchi: None\n",
      "Traceback (most recent call last):\n",
      "  File \"/home/denn/home/a2g2/blocks/block.py\", line 53, in __init__\n",
      "    raise Exception(\"Mol not created\")\n",
      "Exception: Mol not created\n",
      "RDKit ERROR: [16:23:44] Explicit valence for atom # 8 C, 5, is greater than permitted\n",
      "ERROR:root:Could not create RdKit mol from smiles: CCN(CC)C1=[S][Pt+4]2([CH3-])([I-])([S-]1)[C-]1=C(C=[N]2C2=CC=C(CC)C=C2)C2=CC=CC3=C2C(=C1)C1=C2C(C=CC=C32)=CC=C1, inchi: None\n",
      "Traceback (most recent call last):\n",
      "  File \"/home/denn/home/a2g2/blocks/block.py\", line 53, in __init__\n",
      "    raise Exception(\"Mol not created\")\n",
      "Exception: Mol not created\n",
      "RDKit ERROR: [16:23:44] Explicit valence for atom # 28 C, 5, is greater than permitted\n",
      "ERROR:root:Could not create RdKit mol from smiles: CCN(CC)[C](NC1=CC=C2C3=C4C(C=CC=C4C4=C2C1=CC=C4)=CC=C3)[Au+][C-]1=C(F)C(F)=C(F)C(F)=C1F, inchi: None\n",
      "Traceback (most recent call last):\n",
      "  File \"/home/denn/home/a2g2/blocks/block.py\", line 53, in __init__\n",
      "    raise Exception(\"Mol not created\")\n",
      "Exception: Mol not created\n",
      "RDKit ERROR: [16:23:44] Explicit valence for atom # 13 B, 4, is greater than permitted\n",
      "ERROR:root:Could not create RdKit mol from smiles: CCOC(=O)C1=C(CC)C(C)=C2N1[B](F)(F)[N]1=C(C(=O)OCC)C(CC)=C(C)C1=C2C1=CC=C(C=C1)C1=C2C=CC=CC2=CC2=C1C=CC=C2, inchi: None\n",
      "Traceback (most recent call last):\n",
      "  File \"/home/denn/home/a2g2/blocks/block.py\", line 53, in __init__\n",
      "    raise Exception(\"Mol not created\")\n",
      "Exception: Mol not created\n",
      "RDKit ERROR: [16:23:44] Explicit valence for atom # 22 O, 3, is greater than permitted\n",
      "ERROR:root:Could not create RdKit mol from smiles: CCOC(C=CC1=C2C=CC=CC2=C(C=CC(OCC)=[Cr](C#[O])(C#[O])(C#[O])(C#[O])C#[O])C2=CC=CC=C12)=[Cr](C#[O])(C#[O])(C#[O])(C#[O])C#[O], inchi: None\n",
      "Traceback (most recent call last):\n",
      "  File \"/home/denn/home/a2g2/blocks/block.py\", line 53, in __init__\n",
      "    raise Exception(\"Mol not created\")\n",
      "Exception: Mol not created\n",
      "RDKit ERROR: [16:23:44] Explicit valence for atom # 9 C, 5, is greater than permitted\n",
      "ERROR:root:Could not create RdKit mol from smiles: CC[P](CC)(CC)[Pd++]([I-])([C-]1=C(F)C(F)=C(C(F)=C1F)C1=CC=C2C3=C4C(C=CC=C4C4=C2C1=CC=C4)=CC=C3)[P](CC)(CC)CC, inchi: None\n",
      "Traceback (most recent call last):\n",
      "  File \"/home/denn/home/a2g2/blocks/block.py\", line 53, in __init__\n",
      "    raise Exception(\"Mol not created\")\n",
      "Exception: Mol not created\n",
      "RDKit ERROR: [16:23:44] Explicit valence for atom # 8 Br, 2, is greater than permitted\n",
      "ERROR:root:Could not create RdKit mol from smiles: CC[P](CC)(CC)[Pt++]([Br-])([C-]1=C(F)C(F)=C(C(F)=C1F)C1=CC=C2C3=C4C(C=CC=C4C4=C2C1=CC=C4)=CC=C3)[P](CC)(CC)CC, inchi: None\n",
      "Traceback (most recent call last):\n",
      "  File \"/home/denn/home/a2g2/blocks/block.py\", line 53, in __init__\n",
      "    raise Exception(\"Mol not created\")\n",
      "Exception: Mol not created\n",
      "RDKit ERROR: [16:23:44] Explicit valence for atom # 8 Br, 2, is greater than permitted\n",
      "ERROR:root:Could not create RdKit mol from smiles: CC[P](CC)(CC)[Pt++]([Br-])([C-]1=C2C=CC=C3C4=CC=CC5=C(Br)C=CC(C(C=C1)=C23)=C45)[P](CC)(CC)CC, inchi: None\n",
      "Traceback (most recent call last):\n",
      "  File \"/home/denn/home/a2g2/blocks/block.py\", line 53, in __init__\n",
      "    raise Exception(\"Mol not created\")\n",
      "Exception: Mol not created\n",
      "RDKit ERROR: [16:23:44] Explicit valence for atom # 8 C, 5, is greater than permitted\n",
      "ERROR:root:Could not create RdKit mol from smiles: CC[P](CC)(CC)[Pt++]([C-]#CC1=CC=CC=C1)([C-]#CC1=C2C=C3C=CC=CC3=CC2=C(C#C[Si](C(C)C)(C(C)C)C(C)C)C2=CC3=CC=CC=C3C=C12)[P](CC)(CC)CC, inchi: None\n",
      "Traceback (most recent call last):\n",
      "  File \"/home/denn/home/a2g2/blocks/block.py\", line 53, in __init__\n",
      "    raise Exception(\"Mol not created\")\n",
      "Exception: Mol not created\n",
      "RDKit ERROR: [16:23:44] Explicit valence for atom # 8 C, 5, is greater than permitted\n",
      "ERROR:root:Could not create RdKit mol from smiles: CC[P](CC)(CC)[Pt++]([C-]#CC1=CC=CC=C1)([C-]#CC1=C2C=C3C=CC=CC3=CC2=C(C#C[Si](C(C)C)(C(C)C)C(C)C)C2=CC=CC=C12)[P](CC)(CC)CC, inchi: None\n",
      "Traceback (most recent call last):\n",
      "  File \"/home/denn/home/a2g2/blocks/block.py\", line 53, in __init__\n",
      "    raise Exception(\"Mol not created\")\n",
      "Exception: Mol not created\n",
      "RDKit ERROR: [16:23:44] Explicit valence for atom # 9 C, 5, is greater than permitted\n",
      "ERROR:root:Could not create RdKit mol from smiles: CC[P](CC)(CC)[Pt++]([I-])([C-]#CC1=C2C=C3C=CC=CC3=CC2=C(C#C[Si](C(C)C)(C(C)C)C(C)C)C2=CC3=CC=CC=C3C=C12)[P](CC)(CC)CC, inchi: None\n",
      "Traceback (most recent call last):\n",
      "  File \"/home/denn/home/a2g2/blocks/block.py\", line 53, in __init__\n",
      "    raise Exception(\"Mol not created\")\n",
      "Exception: Mol not created\n",
      "RDKit ERROR: [16:23:44] Explicit valence for atom # 9 C, 5, is greater than permitted\n",
      "ERROR:root:Could not create RdKit mol from smiles: CC[P](CC)(CC)[Pt++]([I-])([C-]#CC1=C2C=C3C=CC=CC3=CC2=C(C#C[Si](C(C)C)(C(C)C)C(C)C)C2=CC=CC=C12)[P](CC)(CC)CC, inchi: None\n",
      "Traceback (most recent call last):\n",
      "  File \"/home/denn/home/a2g2/blocks/block.py\", line 53, in __init__\n",
      "    raise Exception(\"Mol not created\")\n",
      "Exception: Mol not created\n",
      "RDKit ERROR: [16:23:44] Explicit valence for atom # 9 C, 5, is greater than permitted\n",
      "ERROR:root:Could not create RdKit mol from smiles: CC[P](CC)(CC)[Pt++]([I-])([C-]1=C(F)C(F)=C(C(F)=C1F)C1=CC=C2C3=C4C(C=CC=C4C4=C2C1=CC=C4)=CC=C3)[P](CC)(CC)CC, inchi: None\n",
      "Traceback (most recent call last):\n",
      "  File \"/home/denn/home/a2g2/blocks/block.py\", line 53, in __init__\n",
      "    raise Exception(\"Mol not created\")\n",
      "Exception: Mol not created\n",
      "RDKit ERROR: [16:23:44] Explicit valence for atom # 8 Br, 2, is greater than permitted\n",
      "ERROR:root:Could not create RdKit mol from smiles: CC[P](CC)(CC)[Pt+4]([Br-])([Br-])([Br-])([C-]1=C2C=CC=C3C4=CC=CC5=C(Br)C=CC(C(C=C1)=C23)=C45)[P](CC)(CC)CC, inchi: None\n",
      "Traceback (most recent call last):\n",
      "  File \"/home/denn/home/a2g2/blocks/block.py\", line 53, in __init__\n",
      "    raise Exception(\"Mol not created\")\n",
      "Exception: Mol not created\n",
      "RDKit ERROR: [16:23:44] Explicit valence for atom # 8 Cl, 2, is greater than permitted\n",
      "ERROR:root:Could not create RdKit mol from smiles: CC[P](CC)(CC)[Pt+4]([Cl-])([Cl-])([Cl-])([C-]1=C2C=CC=C3C4=CC=CC5=CC=CC(C(C=C1)=C23)=C45)[P](CC)(CC)CC, inchi: None\n",
      "Traceback (most recent call last):\n",
      "  File \"/home/denn/home/a2g2/blocks/block.py\", line 53, in __init__\n",
      "    raise Exception(\"Mol not created\")\n",
      "Exception: Mol not created\n",
      "RDKit ERROR: [16:23:44] Explicit valence for atom # 22 N, 4, is greater than permitted\n",
      "ERROR:root:Could not create RdKit mol from smiles: CN(C)C1=CC=C(C=C1)N=NC1=CC=C(C=C1)[S@@](=O)N1CC[NH](CC1)[Pt++]([I-])([I-])[C]1N(C)C=CN1CC1=C2C=CC=CC2=CC2=CC=CC=C12, inchi: None\n",
      "Traceback (most recent call last):\n",
      "  File \"/home/denn/home/a2g2/blocks/block.py\", line 53, in __init__\n",
      "    raise Exception(\"Mol not created\")\n",
      "Exception: Mol not created\n",
      "RDKit ERROR: [16:23:44] Explicit valence for atom # 12 O, 3, is greater than permitted\n",
      "ERROR:root:Could not create RdKit mol from smiles: CN(C)C1=CC=C(C=CC2=CC(=[O][B](F)(F)O2)C2=C3C=CC=CC3=CC3=CC=CC=C23)C=C1, inchi: None\n",
      "Traceback (most recent call last):\n",
      "  File \"/home/denn/home/a2g2/blocks/block.py\", line 53, in __init__\n",
      "    raise Exception(\"Mol not created\")\n",
      "Exception: Mol not created\n",
      "RDKit ERROR: [16:23:44] Explicit valence for atom # 24 N, 4, is greater than permitted\n",
      "ERROR:root:Could not create RdKit mol from smiles: CN1C=CN(CC2=C3C=CC=CC3=CC3=CC=CC=C23)C1=[Pt++]([I-])([I-])[N]1=CC=CC=C1, inchi: None\n",
      "Traceback (most recent call last):\n",
      "  File \"/home/denn/home/a2g2/blocks/block.py\", line 53, in __init__\n",
      "    raise Exception(\"Mol not created\")\n",
      "Exception: Mol not created\n",
      "RDKit ERROR: [16:23:44] Explicit valence for atom # 34 N, 4, is greater than permitted\n",
      "ERROR:root:Could not create RdKit mol from smiles: CN1C=CN(CC2=CC=C(C=NOCC3=C4C=CC=CC4=CC4=CC=CC=C34)C=C2)[C]1[Pt++]([I-])([I-])[NH2]C1CCCCC1, inchi: None\n",
      "Traceback (most recent call last):\n",
      "  File \"/home/denn/home/a2g2/blocks/block.py\", line 53, in __init__\n",
      "    raise Exception(\"Mol not created\")\n",
      "Exception: Mol not created\n",
      "RDKit ERROR: [16:23:46] Explicit valence for atom # 4 C, 5, is greater than permitted\n",
      "ERROR:root:Could not create RdKit mol from smiles: COC(=O)[C-]1=C(C2=C(C=CC=C2)C2=C3N=CN(C)C3=NC=[N]2[Ir+3]11234([Cl-])[C@-]5(C)[C]1(C)=[C]2(C)[C]3(C)=[C]45C)C1=C2C=CC=CC2=CC2=CC=CC=C12, inchi: None\n",
      "Traceback (most recent call last):\n",
      "  File \"/home/denn/home/a2g2/blocks/block.py\", line 53, in __init__\n",
      "    raise Exception(\"Mol not created\")\n",
      "Exception: Mol not created\n",
      "RDKit ERROR: [16:23:46] Explicit valence for atom # 4 C, 5, is greater than permitted\n",
      "ERROR:root:Could not create RdKit mol from smiles: COC(=O)[C-]1=C(C2=C(C=CC=C2)C2=C3N=CN(C)C3=NC=[N]2[Rh+3]11234([Cl-])[C@-]5(C)[C]1(C)=[C]2(C)[C]3(C)=[C]45C)C1=C2C=CC=CC2=CC2=CC=CC=C12, inchi: None\n",
      "Traceback (most recent call last):\n",
      "  File \"/home/denn/home/a2g2/blocks/block.py\", line 53, in __init__\n",
      "    raise Exception(\"Mol not created\")\n",
      "Exception: Mol not created\n",
      "RDKit ERROR: [16:23:50] Explicit valence for atom # 16 Cl, 2, is greater than permitted\n",
      "ERROR:root:Could not create RdKit mol from smiles: COC1=CC2=C(C(OC)=C1)C1=C3C4=C2[P]([Au+][Cl-])(C2=C4C4=C(C=CC=C4C3=CC=C1)C1=C(OC)C=C(OC)C=C21)C1=CC=CC=C1, inchi: None\n",
      "Traceback (most recent call last):\n",
      "  File \"/home/denn/home/a2g2/blocks/block.py\", line 53, in __init__\n",
      "    raise Exception(\"Mol not created\")\n",
      "Exception: Mol not created\n",
      "RDKit ERROR: [16:23:53] Explicit valence for atom # 29 N, 4, is greater than permitted\n",
      "ERROR:root:Could not create RdKit mol from smiles: COC1=CC=C(C=C1)C1=C2C=CC(C#CC3=C4C=CC=CC4=CC4=CC=CC=C34)=[N]2[B](F)(F)N2C=CC=C12, inchi: None\n",
      "Traceback (most recent call last):\n",
      "  File \"/home/denn/home/a2g2/blocks/block.py\", line 53, in __init__\n",
      "    raise Exception(\"Mol not created\")\n",
      "Exception: Mol not created\n",
      "RDKit ERROR: [16:23:53] Explicit valence for atom # 9 O, 3, is greater than permitted\n",
      "ERROR:root:Could not create RdKit mol from smiles: COC1=CC=C(C=C1)C1=[O][B](F)(F)OC(=C1)C1=CC=C2C=C3C=CC=CC3=CC2=C1, inchi: None\n",
      "Traceback (most recent call last):\n",
      "  File \"/home/denn/home/a2g2/blocks/block.py\", line 53, in __init__\n",
      "    raise Exception(\"Mol not created\")\n",
      "Exception: Mol not created\n",
      "RDKit ERROR: [16:23:57] Explicit valence for atom # 8 Te, 4, is greater than permitted\n",
      "ERROR:root:Could not create RdKit mol from smiles: COC1=CC=C(C=C1)[Te](Cl)(Cl)C1=CC(C)=CC=C1N=CC1=C2C=CC=CC2=CC2=CC=CC=C12, inchi: None\n",
      "Traceback (most recent call last):\n",
      "  File \"/home/denn/home/a2g2/blocks/block.py\", line 53, in __init__\n",
      "    raise Exception(\"Mol not created\")\n",
      "Exception: Mol not created\n",
      "RDKit ERROR: [16:23:57] Explicit valence for atom # 13 N, 4, is greater than permitted\n",
      "ERROR:root:Could not create RdKit mol from smiles: COC1=CC=CC2=C3C4=CC5=C(C6=[N]7C(C=C6)=C(C6=CC=C8N6[Zn]76N5C4=C(C4=[N]6C(C=C4)=C8C4=CC(=CC(=C4)C(C)(C)C)C(C)(C)C)C4=CC=C(OC)C(C=C12)=C34)C1=CC=CC=C1)C1=CC(=CC(=C1)C(C)(C)C)C(C)(C)C, inchi: None\n",
      "Traceback (most recent call last):\n",
      "  File \"/home/denn/home/a2g2/blocks/block.py\", line 53, in __init__\n",
      "    raise Exception(\"Mol not created\")\n",
      "Exception: Mol not created\n",
      "RDKit ERROR: [16:23:58] Explicit valence for atom # 1 C, 6, is greater than permitted\n",
      "ERROR:root:Could not create RdKit mol from smiles: C[C]1234[BH]567[BH]89%10[BH]%11%12%13[BH]585[BH]%118%11[BH]%12%12%14[BH]9%139[BH]16%10[BH]2%129[C]38%14(CC1=C2C=CC=CC2=C(C[C]2368[BH]9%10%12[BH]%13%14%15[BH]%16%17%18[BH]9%139[BH]%16%13%16[BH]%17%17%19[BH]%14%18%14[BH]2%10%15[BH]3%17%14[C]6%13%19(C)[BH]8%129%16)C2=CC=CC=C12)[BH]475%11, inchi: None\n",
      "Traceback (most recent call last):\n",
      "  File \"/home/denn/home/a2g2/blocks/block.py\", line 53, in __init__\n",
      "    raise Exception(\"Mol not created\")\n",
      "Exception: Mol not created\n",
      "RDKit ERROR: [16:23:58] Explicit valence for atom # 1 C, 6, is greater than permitted\n",
      "ERROR:root:Could not create RdKit mol from smiles: C[C]1234[BH]567[BH]89%10[BH]%11%12%13[BH]585[BH]%118%11[BH]%12%12%14[BH]9%139[BH]16%10[BH]2%129[C]38%14(CC1=C2C=CC=CC2=CC2=CC=CC=C12)[BH]475%11, inchi: None\n",
      "Traceback (most recent call last):\n",
      "  File \"/home/denn/home/a2g2/blocks/block.py\", line 53, in __init__\n",
      "    raise Exception(\"Mol not created\")\n",
      "Exception: Mol not created\n",
      "RDKit ERROR: [16:23:58] Explicit valence for atom # 1 N, 4, is greater than permitted\n",
      "ERROR:root:Could not create RdKit mol from smiles: C[N]1(C)CC[N](=CC2=C3C=CC=CC3=CC3=CC=CC=C23)[Cu++]11([N-]=N#N)[N-](=N#N)[Cu++]2([N-]=N#N)([N](CC[N]2(C)C)=CC2=C3C=CC=CC3=CC3=CC=CC=C23)[N-]1=N#N, inchi: None\n",
      "Traceback (most recent call last):\n",
      "  File \"/home/denn/home/a2g2/blocks/block.py\", line 53, in __init__\n",
      "    raise Exception(\"Mol not created\")\n",
      "Exception: Mol not created\n",
      "RDKit ERROR: [16:23:58] Explicit valence for atom # 1 N, 4, is greater than permitted\n",
      "ERROR:root:Could not create RdKit mol from smiles: C[N]1(C)CC[N](=CC2=C3C=CC=CC3=CC3=CC=CC=C23)[Cu++]11([S-]C#[N][Cu++]2([S-]C#[N]1)([N-]=C=S)[N](CC[N]2(C)C)=CC1=C2C=CC=CC2=CC2=CC=CC=C12)[N-]=C=S, inchi: None\n",
      "Traceback (most recent call last):\n",
      "  File \"/home/denn/home/a2g2/blocks/block.py\", line 53, in __init__\n",
      "    raise Exception(\"Mol not created\")\n",
      "Exception: Mol not created\n",
      "RDKit ERROR: [16:23:58] Explicit valence for atom # 1 O, 3, is greater than permitted\n",
      "ERROR:root:Could not create RdKit mol from smiles: C[O]1CC[O](C)[Ta+5]1([Cl-])([Cl-])([Cl-])=[N--]C1=CC2=C(C=C1)C=[C]1=CC=CC=[C]1=C2, inchi: None\n",
      "Traceback (most recent call last):\n",
      "  File \"/home/denn/home/a2g2/blocks/block.py\", line 53, in __init__\n",
      "    raise Exception(\"Mol not created\")\n",
      "Exception: Mol not created\n",
      "RDKit ERROR: [16:23:58] Explicit valence for atom # 5 Cl, 2, is greater than permitted\n",
      "ERROR:root:Could not create RdKit mol from smiles: C[P](C)(C)[Ru++]([Cl-])([CH-]=CC1=C2C=CC=CC2=C(C=[CH-][Ru++]([Cl-])(C#[O])([P](C)(C)C)([P](C)(C)C)[P](C)(C)C)C2=CC=CC=C12)(C#[O])([P](C)(C)C)[P](C)(C)C, inchi: None\n",
      "Traceback (most recent call last):\n",
      "  File \"/home/denn/home/a2g2/blocks/block.py\", line 53, in __init__\n",
      "    raise Exception(\"Mol not created\")\n",
      "Exception: Mol not created\n",
      "RDKit ERROR: [16:23:58] Explicit valence for atom # 5 Cl, 2, is greater than permitted\n",
      "ERROR:root:Could not create RdKit mol from smiles: C[P](C)(C)[Ru++]([Cl-])([CH-]=CC1=CC2=CC3=CC=C(C=[CH-][Ru++]([Cl-])(C#[O])([P](C)(C)C)([P](C)(C)C)[P](C)(C)C)C=C3C=C2C=C1)(C#[O])([P](C)(C)C)[P](C)(C)C, inchi: None\n",
      "Traceback (most recent call last):\n",
      "  File \"/home/denn/home/a2g2/blocks/block.py\", line 53, in __init__\n",
      "    raise Exception(\"Mol not created\")\n",
      "Exception: Mol not created\n",
      "RDKit ERROR: [16:23:58] Explicit valence for atom # 5 Cl, 2, is greater than permitted\n",
      "ERROR:root:Could not create RdKit mol from smiles: C[P](C)(C)[Ru++]([Cl-])([CH-]=CC1=CC=CC2=CC3=C(C=[CH-][Ru++]([Cl-])(C#[O])([P](C)(C)C)([P](C)(C)C)[P](C)(C)C)C=CC=C3C=C12)(C#[O])([P](C)(C)C)[P](C)(C)C, inchi: None\n",
      "Traceback (most recent call last):\n",
      "  File \"/home/denn/home/a2g2/blocks/block.py\", line 53, in __init__\n",
      "    raise Exception(\"Mol not created\")\n",
      "Exception: Mol not created\n",
      "RDKit ERROR: [16:23:58] Explicit valence for atom # 5 Cl, 2, is greater than permitted\n",
      "ERROR:root:Could not create RdKit mol from smiles: C[P](C)(C)[Ru++]([Cl-])([CH-]=CC1=CC=CC2=CC3=CC=CC(C=[CH-][Ru++]([Cl-])(C#[O])([P](C)(C)C)([P](C)(C)C)[P](C)(C)C)=C3C=C12)(C#[O])([P](C)(C)C)[P](C)(C)C, inchi: None\n",
      "Traceback (most recent call last):\n",
      "  File \"/home/denn/home/a2g2/blocks/block.py\", line 53, in __init__\n",
      "    raise Exception(\"Mol not created\")\n",
      "Exception: Mol not created\n",
      "RDKit ERROR: [16:23:58] Explicit valence for atom # 6 N, 4, is greater than permitted\n",
      "ERROR:root:Could not create RdKit mol from smiles: Cl[Pd]12N3C4=C(C5=[N]1[C@@H](C=C5)C(C1=CC=CC=C1)C1=C5C=CC=CC5=C(C([C@H]5C=CC(C(=C3C=C4)C3=CC=CC=C3)=[N]25)C2=CC=CC=C2)C2=CC=CC=C12)C1=CC=CC=C1, inchi: None\n",
      "Traceback (most recent call last):\n",
      "  File \"/home/denn/home/a2g2/blocks/block.py\", line 53, in __init__\n",
      "    raise Exception(\"Mol not created\")\n",
      "Exception: Mol not created\n",
      "RDKit ERROR: [16:23:58] Explicit valence for atom # 11 B, 4, is greater than permitted\n",
      "ERROR:root:Could not create RdKit mol from smiles: FC1=C(F)C(F)=C(C(F)=C1F)[B]1(C2=CC=CC=C2C=[N]1C1=CC=C2C=C3C=CC=CC3=CC2=C1)C1=C(F)C(F)=C(F)C(F)=C1F, inchi: None\n",
      "Traceback (most recent call last):\n",
      "  File \"/home/denn/home/a2g2/blocks/block.py\", line 53, in __init__\n",
      "    raise Exception(\"Mol not created\")\n",
      "Exception: Mol not created\n",
      "RDKit ERROR: [16:23:58] Explicit valence for atom # 6 C, 5, is greater than permitted\n",
      "ERROR:root:Could not create RdKit mol from smiles: FC1=C(F)C(F)=[C-]([Au+]C#[N]C2=CC=C3C4=C5C(C=CC=C5C5=C3C2=CC=C5)=CC=C4)C(F)=C1F, inchi: None\n",
      "Traceback (most recent call last):\n",
      "  File \"/home/denn/home/a2g2/blocks/block.py\", line 53, in __init__\n",
      "    raise Exception(\"Mol not created\")\n",
      "Exception: Mol not created\n",
      "RDKit ERROR: [16:23:58] Explicit valence for atom # 1 B, 4, is greater than permitted\n",
      "ERROR:root:Could not create RdKit mol from smiles: F[B]1(F)OC(=CC(=[O]1)C1=CC=CC=C1)C1=CC=C2C=C3C=CC=CC3=CC2=C1, inchi: None\n",
      "Traceback (most recent call last):\n",
      "  File \"/home/denn/home/a2g2/blocks/block.py\", line 53, in __init__\n",
      "    raise Exception(\"Mol not created\")\n",
      "Exception: Mol not created\n",
      "RDKit ERROR: [16:23:58] Explicit valence for atom # 6 N, 4, is greater than permitted\n",
      "ERROR:root:Could not create RdKit mol from smiles: N#CC1=C(C#N)[N]2=CC3=CC=CC=[N]3[Cu]223(N1CC1=C4C=CC=CC4=CC4=CC=CC=C14)N(CC1=C4C=CC=CC4=CC4=CC=CC=C14)C(C#N)=C(C#N)[N]2=CC1=[N]3C=CC=C1, inchi: None\n",
      "Traceback (most recent call last):\n",
      "  File \"/home/denn/home/a2g2/blocks/block.py\", line 53, in __init__\n",
      "    raise Exception(\"Mol not created\")\n",
      "Exception: Mol not created\n",
      "RDKit ERROR: [16:23:58] Explicit valence for atom # 9 N, 4, is greater than permitted\n",
      "ERROR:root:Could not create RdKit mol from smiles: NC1=CC=CC=C1C1=N[N](=CC2=C3C=CC=CC3=CC3=C2C=CC=C3)[Ni++]2([O-]1)[O-]C(=N[N]2=CC1=C2C=CC=CC2=CC2=C1C=CC=C2)C1=C(N)C=CC=C1, inchi: None\n",
      "Traceback (most recent call last):\n",
      "  File \"/home/denn/home/a2g2/blocks/block.py\", line 53, in __init__\n",
      "    raise Exception(\"Mol not created\")\n",
      "Exception: Mol not created\n",
      "RDKit ERROR: [16:24:00] Explicit valence for atom # 2 O, 3, is greater than permitted\n",
      "ERROR:root:Could not create RdKit mol from smiles: O1C(=[O][Cr]1123OC4=C(C=CC=C4)C=[N]1C1=C(C=CC=C1)[N]2=CC1=C(O3)C=CC=C1)C1=CC=C(C=C1)N=CC1=C2C=CC=CC2=CC2=C1C=CC=C2, inchi: None\n",
      "Traceback (most recent call last):\n",
      "  File \"/home/denn/home/a2g2/blocks/block.py\", line 53, in __init__\n",
      "    raise Exception(\"Mol not created\")\n",
      "Exception: Mol not created\n",
      "RDKit ERROR: [16:24:00] Explicit valence for atom # 2 O, 3, is greater than permitted\n",
      "ERROR:root:Could not create RdKit mol from smiles: O1C(=[O][Fe]1123OC4=C(C=CC=C4)C=[N]1C1=C(C=CC=C1)[N]2=CC1=C(O3)C=CC=C1)C1=CC=C(C=C1)N=CC1=C2C=CC=CC2=CC2=C1C=CC=C2, inchi: None\n",
      "Traceback (most recent call last):\n",
      "  File \"/home/denn/home/a2g2/blocks/block.py\", line 53, in __init__\n",
      "    raise Exception(\"Mol not created\")\n",
      "Exception: Mol not created\n",
      "RDKit ERROR: [16:24:06] Explicit valence for atom # 4 C, 5, is greater than permitted\n",
      "ERROR:root:Could not create RdKit mol from smiles: O=C(NC[C]12=[CH]3[CH]4=[CH]5[C@H-]1[Fe++]23451234[C@H-]5[CH]1=[CH]2[CH]3=[CH]45)C1=C2C=CC=CC2=CC2=C1C=CC=C2, inchi: None\n",
      "Traceback (most recent call last):\n",
      "  File \"/home/denn/home/a2g2/blocks/block.py\", line 53, in __init__\n",
      "    raise Exception(\"Mol not created\")\n",
      "Exception: Mol not created\n",
      "RDKit ERROR: [16:24:06] Explicit valence for atom # 26 C, 5, is greater than permitted\n",
      "ERROR:root:Could not create RdKit mol from smiles: O=C(OCCOCCOCCOC1=CC=C(OCCOCCOCCO[C]23=[CH]4[CH]5=[CH]6[C@H-]2[Fe++]34562345[C@H-]6[CH]2=[CH]3[CH]4=[CH]56)C=C1)C1=C2C=CC=CC2=CC2=C1C=CC=C2, inchi: None\n",
      "Traceback (most recent call last):\n",
      "  File \"/home/denn/home/a2g2/blocks/block.py\", line 53, in __init__\n",
      "    raise Exception(\"Mol not created\")\n",
      "Exception: Mol not created\n",
      "RDKit ERROR: [16:24:06] Explicit valence for atom # 25 N, 4, is greater than permitted\n",
      "ERROR:root:Could not create RdKit mol from smiles: O=C(O[Si]123(OC(=O)C4=C5C=CC=CC5=CC5=CC=CC=C45)N4C5=NC6=[N]1C(=NC1=C7C=CC=CC7=C(N=C7C8=C(C=CC=C8)C(N=C4C4=C5C=CC=C4)=[N]27)N31)C1=C6C=CC=C1)C1=C2C=CC=CC2=CC2=CC=CC=C12, inchi: None\n",
      "Traceback (most recent call last):\n",
      "  File \"/home/denn/home/a2g2/blocks/block.py\", line 53, in __init__\n",
      "    raise Exception(\"Mol not created\")\n",
      "Exception: Mol not created\n",
      "RDKit ERROR: [16:24:08] Explicit valence for atom # 4 N, 5, is greater than permitted\n",
      "ERROR:root:Could not create RdKit mol from smiles: O=C1CCN(=CC2=C3C=CC=CC3=CC3=C2C=CC=C3)=N1, inchi: None\n",
      "Traceback (most recent call last):\n",
      "  File \"/home/denn/home/a2g2/blocks/block.py\", line 53, in __init__\n",
      "    raise Exception(\"Mol not created\")\n",
      "Exception: Mol not created\n",
      "RDKit ERROR: [16:24:08] Explicit valence for atom # 7 N, 5, is greater than permitted\n",
      "ERROR:root:Could not create RdKit mol from smiles: O=N(=O)C1=CC(C=N2=CC(=NC2C2=C3C=CC=CC3=C(C3N=C(C=N3=CC3=CC(=CC=C3)N(=O)=O)C3=CC=CC=C3)C3=CC=CC=C23)C2=CC=CC=C2)=CC=C1, inchi: None\n",
      "Traceback (most recent call last):\n",
      "  File \"/home/denn/home/a2g2/blocks/block.py\", line 53, in __init__\n",
      "    raise Exception(\"Mol not created\")\n",
      "Exception: Mol not created\n",
      "RDKit ERROR: [16:24:08] Explicit valence for atom # 7 N, 5, is greater than permitted\n",
      "ERROR:root:Could not create RdKit mol from smiles: O=N(=O)C1=CC(C=N2=CC(=NC2C2=C3C=CC=CC3=CC3=C2C=CC=C3)C2=CC=CC=C2)=CC=C1, inchi: None\n",
      "Traceback (most recent call last):\n",
      "  File \"/home/denn/home/a2g2/blocks/block.py\", line 53, in __init__\n",
      "    raise Exception(\"Mol not created\")\n",
      "Exception: Mol not created\n",
      "RDKit ERROR: [16:24:08] Explicit valence for atom # 8 N, 5, is greater than permitted\n",
      "ERROR:root:Could not create RdKit mol from smiles: O=N(=O)C1=CC=C(C=N2=CC(=NC2C2=C3C=CC=CC3=C(C3N=C(C=N3=CC3=CC=C(C=C3)N(=O)=O)C3=CC=CC=C3)C3=CC=CC=C23)C2=CC=CC=C2)C=C1, inchi: None\n",
      "Traceback (most recent call last):\n",
      "  File \"/home/denn/home/a2g2/blocks/block.py\", line 53, in __init__\n",
      "    raise Exception(\"Mol not created\")\n",
      "Exception: Mol not created\n",
      "RDKit ERROR: [16:24:08] Explicit valence for atom # 8 N, 5, is greater than permitted\n",
      "ERROR:root:Could not create RdKit mol from smiles: O=N(=O)C1=CC=C(C=N2=CC(=NC2C2=C3C=CC=CC3=CC3=C2C=CC=C3)C2=CC=CC=C2)C=C1, inchi: None\n",
      "Traceback (most recent call last):\n",
      "  File \"/home/denn/home/a2g2/blocks/block.py\", line 53, in __init__\n",
      "    raise Exception(\"Mol not created\")\n",
      "Exception: Mol not created\n",
      "RDKit ERROR: [16:24:08] Explicit valence for atom # 20 N, 4, is greater than permitted\n",
      "ERROR:root:Could not create RdKit mol from smiles: OC(=O)C1=CC2=C3N=C4C5=CC6=CC=C(C=C6C=C5C5=[N]4[Zn++]46[N-]7C(=N5)C5=C(C=C(C=C5)C(O)=O)C7=NC5=[N]4C(=NC([N-]36)=C2C=C1)C1=C5C=[C]2=[C](C=C3C=C(C=CC3=C2)C(O)=O)=C1)C(O)=O, inchi: None\n",
      "Traceback (most recent call last):\n",
      "  File \"/home/denn/home/a2g2/blocks/block.py\", line 53, in __init__\n",
      "    raise Exception(\"Mol not created\")\n",
      "Exception: Mol not created\n",
      "RDKit ERROR: [16:24:08] Explicit valence for atom # 6 N, 4, is greater than permitted\n",
      "ERROR:root:Could not create RdKit mol from smiles: OC(=O)C1=CC=[N]2C(=C1)C1=[N](C=CC(=C1)C(O)=O)[Ru++]21([Cl-])([Cl-])[N]2=C(C=CC=C2)C2=[N]1C1=CC=C(C=C1C(=C2)C1=CC=CC=C1)C1=CC=C(C=CC2=C3C=CC=CC3=CC3=CC=CC=C23)C=C1, inchi: None\n",
      "Traceback (most recent call last):\n",
      "  File \"/home/denn/home/a2g2/blocks/block.py\", line 53, in __init__\n",
      "    raise Exception(\"Mol not created\")\n",
      "Exception: Mol not created\n",
      "RDKit ERROR: [16:24:08] Explicit valence for atom # 6 N, 4, is greater than permitted\n",
      "ERROR:root:Could not create RdKit mol from smiles: OC(=O)C1=CC=[N]2C(=C1)C1=[N](C=CC(=C1)C(O)=O)[Ru++]21([N-]=C=S)([N-]=C=S)[N]2=CC=C(C=CC3=C4C=CC=CC4=CC4=C3C=CC=C4)C=C2C2=[N]1C=CC(C=CC1=C3C=CC=CC3=CC3=C1C=CC=C3)=C2, inchi: None\n",
      "Traceback (most recent call last):\n",
      "  File \"/home/denn/home/a2g2/blocks/block.py\", line 53, in __init__\n",
      "    raise Exception(\"Mol not created\")\n",
      "Exception: Mol not created\n",
      "RDKit ERROR: [16:24:09] Explicit valence for atom # 9 N, 4, is greater than permitted\n",
      "ERROR:root:Could not create RdKit mol from smiles: OC1=C(C=C(CN2C=C[N]3=C2C2=CC=CC=[N]2[Re+]3([Cl-])(C#[O])(C#[O])C#[O])C=C1)C1=C2C=CC=CC2=CC2=CC=CC=C12, inchi: None\n",
      "Traceback (most recent call last):\n",
      "  File \"/home/denn/home/a2g2/blocks/block.py\", line 53, in __init__\n",
      "    raise Exception(\"Mol not created\")\n",
      "Exception: Mol not created\n",
      "RDKit ERROR: [16:24:09] Explicit valence for atom # 9 N, 4, is greater than permitted\n",
      "ERROR:root:Could not create RdKit mol from smiles: OC1=CC=CC=C1C1=N[N](=CC2=C3C=CC=CC3=CC3=C2C=CC=C3)[Ni++]2([O-]1)[O-]C(=N[N]2=CC1=C2C=CC=CC2=CC2=C1C=CC=C2)C1=C(O)C=CC=C1, inchi: None\n",
      "Traceback (most recent call last):\n",
      "  File \"/home/denn/home/a2g2/blocks/block.py\", line 53, in __init__\n",
      "    raise Exception(\"Mol not created\")\n",
      "Exception: Mol not created\n",
      "RDKit ERROR: [16:24:09] Explicit valence for atom # 14 N, 5, is greater than permitted\n",
      "ERROR:root:Could not create RdKit mol from smiles: OCC1=C2C=CC=CC2=C(C2N=C(C=N2=CC2=CC=C(C=C2)N(=O)=O)C2=CC=CC=C2)C2=C1C=CC=C2, inchi: None\n",
      "Traceback (most recent call last):\n",
      "  File \"/home/denn/home/a2g2/blocks/block.py\", line 53, in __init__\n",
      "    raise Exception(\"Mol not created\")\n",
      "Exception: Mol not created\n",
      "RDKit ERROR: [16:24:09] Explicit valence for atom # 14 N, 5, is greater than permitted\n",
      "ERROR:root:Could not create RdKit mol from smiles: OCC1=C2C=CC=CC2=C(C2N=C(C=N2=CC2=CC=CC(=C2)N(=O)=O)C2=CC=CC=C2)C2=C1C=CC=C2, inchi: None\n",
      "Traceback (most recent call last):\n",
      "  File \"/home/denn/home/a2g2/blocks/block.py\", line 53, in __init__\n",
      "    raise Exception(\"Mol not created\")\n",
      "Exception: Mol not created\n",
      "RDKit ERROR: [16:24:13] Explicit valence for atom # 27 C, 5, is greater than permitted\n",
      "ERROR:root:Could not create RdKit mol from smiles: S1N=C2C(=N1)C(=CC=C2C#CC1=C2C=CC=CC2=CC2=C1C=CC=C2)C#C[C]12=[CH]3[CH]4=[CH]5[C@@H-]1[Fe++]23451234[C@H-]5[CH]1=[CH]2[CH]3=[CH]45, inchi: None\n",
      "Traceback (most recent call last):\n",
      "  File \"/home/denn/home/a2g2/blocks/block.py\", line 53, in __init__\n",
      "    raise Exception(\"Mol not created\")\n",
      "Exception: Mol not created\n",
      "RDKit ERROR: [16:24:13] Explicit valence for atom # 0 B, 4, is greater than permitted\n",
      "ERROR:root:Could not create RdKit mol from smiles: [BH3][P](C1=CC=CC=C1)(C1=CC=C(O)C=C1)C1=CC=C2C3=C4C(C=CC=C4C4=C2C1=CC=C4)=CC=C3, inchi: None\n",
      "Traceback (most recent call last):\n",
      "  File \"/home/denn/home/a2g2/blocks/block.py\", line 53, in __init__\n",
      "    raise Exception(\"Mol not created\")\n",
      "Exception: Mol not created\n",
      "RDKit ERROR: [16:24:13] Explicit valence for atom # 0 C, 5, is greater than permitted\n",
      "ERROR:root:Could not create RdKit mol from smiles: [CH3-][Hg++][C-]#CC1=CC=C(C=C1)C1=C2C=CC=CC2=CC2=C1C=CC=C2, inchi: None\n",
      "Traceback (most recent call last):\n",
      "  File \"/home/denn/home/a2g2/blocks/block.py\", line 53, in __init__\n",
      "    raise Exception(\"Mol not created\")\n",
      "Exception: Mol not created\n",
      "RDKit ERROR: [16:24:13] Explicit valence for atom # 1 N, 4, is greater than permitted\n",
      "ERROR:root:Could not create RdKit mol from smiles: [C]#[N]C1=CC=C2C3=C4C(C=CC=C4C4=C2C1=CC=C4)=CC=C3, inchi: None\n",
      "Traceback (most recent call last):\n",
      "  File \"/home/denn/home/a2g2/blocks/block.py\", line 53, in __init__\n",
      "    raise Exception(\"Mol not created\")\n",
      "Exception: Mol not created\n",
      "RDKit ERROR: [16:24:13] Explicit valence for atom # 0 Cl, 2, is greater than permitted\n",
      "ERROR:root:Could not create RdKit mol from smiles: [Cl-][Cu++]12([Cl-])[N]3=C(SC=C3)C3=CC(=CC(C4=[N]1C=CS4)=[N]23)C1=C2C=CC=CC2=CC2=C1C=CC=C2, inchi: None\n",
      "Traceback (most recent call last):\n",
      "  File \"/home/denn/home/a2g2/blocks/block.py\", line 53, in __init__\n",
      "    raise Exception(\"Mol not created\")\n",
      "Exception: Mol not created\n",
      "RDKit ERROR: [16:24:13] Explicit valence for atom # 0 Cl, 2, is greater than permitted\n",
      "ERROR:root:Could not create RdKit mol from smiles: [Cl-][Fe+3]12([N-](C(=O)C3=CC=CC(C(=O)[N-]1C1=CC=C4C=C5C=CC=CC5=CC4=C1)=[N]23)C1=CC=C2C=C3C=CC=CC3=CC2=C1)[O]1CCCC1, inchi: None\n",
      "Traceback (most recent call last):\n",
      "  File \"/home/denn/home/a2g2/blocks/block.py\", line 53, in __init__\n",
      "    raise Exception(\"Mol not created\")\n",
      "Exception: Mol not created\n",
      "RDKit ERROR: [16:24:13] Explicit valence for atom # 0 Cl, 2, is greater than permitted\n",
      "ERROR:root:Could not create RdKit mol from smiles: [Cl-][Fe+3]1234[O-]C(=O)C5=C([O-]1)C=CC=C5.C(C1=C5C=CC=CC5=CC5=CC=CC=C15)[N]2(CC1=CC=CC=[N]31)CC1=[N]4C=CC=C1, inchi: None\n",
      "Traceback (most recent call last):\n",
      "  File \"/home/denn/home/a2g2/blocks/block.py\", line 53, in __init__\n",
      "    raise Exception(\"Mol not created\")\n",
      "Exception: Mol not created\n",
      "RDKit ERROR: [16:24:13] Explicit valence for atom # 0 Cl, 2, is greater than permitted\n",
      "ERROR:root:Could not create RdKit mol from smiles: [Cl-][Fe+3]1234[O-]C5=C([O-]1)C=C(CCNCC1=C6C=CC=CC6=CC6=CC=CC=C16)C=C5.C(C1=CC=CC=C1)[N]2(CC1=[N]3C=CC=C1)CC1=[N]4C=CC=C1, inchi: None\n",
      "Traceback (most recent call last):\n",
      "  File \"/home/denn/home/a2g2/blocks/block.py\", line 53, in __init__\n",
      "    raise Exception(\"Mol not created\")\n",
      "Exception: Mol not created\n",
      "RDKit ERROR: [16:24:13] Explicit valence for atom # 0 F, 2, is greater than permitted\n",
      "ERROR:root:Could not create RdKit mol from smiles: [F-][B+3]1([F-])[N-]2C=CC=C2C(C#CC2=C3C=CC=CC3=CC3=CC=CC=C23)=C2C=CC=[N]12, inchi: None\n",
      "Traceback (most recent call last):\n",
      "  File \"/home/denn/home/a2g2/blocks/block.py\", line 53, in __init__\n",
      "    raise Exception(\"Mol not created\")\n",
      "Exception: Mol not created\n",
      "RDKit ERROR: [16:24:13] Explicit valence for atom # 17 O, 3, is greater than permitted\n",
      "ERROR:root:Could not create RdKit mol from smiles: [H]C(=C([H])C1=C2C=CC=CC2=CC2=C1C=CC=C2)C1=[O][B]2(OC(=O)C(=O)O2)OC(=C1)C1=CC=CC=C1, inchi: None\n",
      "Traceback (most recent call last):\n",
      "  File \"/home/denn/home/a2g2/blocks/block.py\", line 53, in __init__\n",
      "    raise Exception(\"Mol not created\")\n",
      "Exception: Mol not created\n",
      "RDKit ERROR: [16:24:13] Explicit valence for atom # 2 C, 5, is greater than permitted\n",
      "ERROR:root:Could not create RdKit mol from smiles: [H]C(=C([H])[C]12=[CH]3[C@@H-]4[CH]5=[CH]1[Fe++]23451234[C@H-]5[CH]1=[CH]2[CH]3=[CH]45)C1=C2C=CC=CC2=CC2=C1C=CC=C2, inchi: None\n",
      "Traceback (most recent call last):\n",
      "  File \"/home/denn/home/a2g2/blocks/block.py\", line 53, in __init__\n",
      "    raise Exception(\"Mol not created\")\n",
      "Exception: Mol not created\n",
      "RDKit ERROR: [16:24:13] Explicit valence for atom # 5 C, 5, is greater than permitted\n",
      "ERROR:root:Could not create RdKit mol from smiles: [H]C(=NN=C(C)[C]12=[CH]3[C@@H-]4[CH]5=[CH]1[Fe++]23451234[C@H-]5[CH]1=[CH]2[CH]3=[CH]45)C1=C2C=CC=CC2=CC2=C1C=CC=C2, inchi: None\n",
      "Traceback (most recent call last):\n",
      "  File \"/home/denn/home/a2g2/blocks/block.py\", line 53, in __init__\n",
      "    raise Exception(\"Mol not created\")\n",
      "Exception: Mol not created\n",
      "RDKit ERROR: [16:24:13] Explicit valence for atom # 0 C, 5, is greater than permitted\n",
      "ERROR:root:Could not create RdKit mol from smiles: [H][C@-]12[C]3([H])=[C]4([H])[C]5([H])=[C]1([H])[Fe++]23451234[C@-]5([H])[C]1([H])=[C]2([H])[C]3([H])=[C]45CN(C)CC1=C2C=CC=CC2=C(CC2=CC3=C(OCCOCCOCCOCCO3)C=C2)C2=CC=CC=C12, inchi: None\n",
      "Traceback (most recent call last):\n",
      "  File \"/home/denn/home/a2g2/blocks/block.py\", line 53, in __init__\n",
      "    raise Exception(\"Mol not created\")\n",
      "Exception: Mol not created\n",
      "RDKit ERROR: [16:24:13] Explicit valence for atom # 0 C, 5, is greater than permitted\n",
      "ERROR:root:Could not create RdKit mol from smiles: [H][C@-]12[C]3([H])=[C]4([H])[C]5([H])=[C]1([H])[Fe++]23451234[C@-]5([H])[C]1([H])=[C]2([H])[C]3([H])=[C]45CN(C)CC1=C2C=CC=CC2=CC2=CC=CC=C12, inchi: None\n",
      "Traceback (most recent call last):\n",
      "  File \"/home/denn/home/a2g2/blocks/block.py\", line 53, in __init__\n",
      "    raise Exception(\"Mol not created\")\n",
      "Exception: Mol not created\n",
      "RDKit ERROR: [16:24:13] Explicit valence for atom # 0 C, 5, is greater than permitted\n",
      "ERROR:root:Could not create RdKit mol from smiles: [H][C@-]12[C]3([H])=[C]4([H])[C]5([H])=[C]1([H])[Fe++]23451234[C]5([H])=[C]1([H])[C@-]2(C1=NN([C@@H](C1)C1=C2C=CC=CC2=CC2=CC=CC=C12)C1=NC=CC=C1)[C]3([H])=[C]45[H], inchi: None\n",
      "Traceback (most recent call last):\n",
      "  File \"/home/denn/home/a2g2/blocks/block.py\", line 53, in __init__\n",
      "    raise Exception(\"Mol not created\")\n",
      "Exception: Mol not created\n",
      "RDKit ERROR: [16:24:13] Explicit valence for atom # 0 C, 5, is greater than permitted\n",
      "ERROR:root:Could not create RdKit mol from smiles: [H][C@-]12[C]3([H])=[C]4([H])[C]5([H])=[C]1([H])[Fe++]23451234[C]5([H])=[C]1([H])[C@-]2([Se]CCN(CC[Se][C@@-]12[C]6([H])=[C]7([H])[C]8([H])=[C]1([H])[Fe++]26781267[C@@-]8([H])[C]1([H])=[C]2([H])[C]6([H])=[C]78[H])CC1=C2C=CC=CC2=CC2=CC=CC=C12)[C]3([H])=[C]45[H], inchi: None\n",
      "Traceback (most recent call last):\n",
      "  File \"/home/denn/home/a2g2/blocks/block.py\", line 53, in __init__\n",
      "    raise Exception(\"Mol not created\")\n",
      "Exception: Mol not created\n",
      "RDKit ERROR: [16:24:13] Explicit valence for atom # 6 N, 4, is greater than permitted\n",
      "ERROR:root:Could not create RdKit mol from smiles: [H][C@@]12CCCC[C@@]1([H])[N]1=CC3=CC=C4C=CC5=CC6=CC=CC=C6C=C5C4=C3[O-][V+4]11(=[O--])[O-]C3=C4C(C=CC5=CC6=CC=CC=C6C=C45)=CC=C3C=[N]21, inchi: None\n",
      "Traceback (most recent call last):\n",
      "  File \"/home/denn/home/a2g2/blocks/block.py\", line 53, in __init__\n",
      "    raise Exception(\"Mol not created\")\n",
      "Exception: Mol not created\n",
      "RDKit ERROR: [16:24:14] Explicit valence for atom # 0 C, 5, is greater than permitted\n",
      "ERROR:root:Could not create RdKit mol from smiles: [H][C]12=[C]3([H])[C@@-]45[Se]C[C@H](CC6=C7C=CC=CC7=CC7=CC=CC=C67)C[Se][C@@-]67[C]8([H])=[C]9([H])[C]%10([H])=[C]6([H])[Fe++]134789%101[C]2([H])=[C]51[H], inchi: None\n",
      "Traceback (most recent call last):\n",
      "  File \"/home/denn/home/a2g2/blocks/block.py\", line 53, in __init__\n",
      "    raise Exception(\"Mol not created\")\n",
      "Exception: Mol not created\n",
      "RDKit ERROR: [16:24:14] Explicit valence for atom # 0 O, 3, is greater than permitted\n",
      "ERROR:root:Could not create RdKit mol from smiles: [O-]1C(=N[N](=CC2=C3C=CC=CC3=CC3=C2C=CC=C3)[Ni++]11[O-]C(=N[N]1=CC1=C2C=CC=CC2=CC2=C1C=CC=C2)C1=CC=CC=C1)C1=CC=CC=C1, inchi: None\n",
      "Traceback (most recent call last):\n",
      "  File \"/home/denn/home/a2g2/blocks/block.py\", line 53, in __init__\n",
      "    raise Exception(\"Mol not created\")\n",
      "Exception: Mol not created\n",
      "RDKit ERROR: [16:24:14] Explicit valence for atom # 0 O, 3, is greater than permitted\n",
      "ERROR:root:Could not create RdKit mol from smiles: [O-]1C2=CC=CC3=CC=C(C=CC4=C5C=CC=CC5=CC5=CC=CC=C45)[N](=C23)[Zn++]11[O-]C2=CC=CC3=CC=C(C=CC4=C5C=CC=CC5=CC5=CC=CC=C45)[N]1=C23, inchi: None\n",
      "Traceback (most recent call last):\n",
      "  File \"/home/denn/home/a2g2/blocks/block.py\", line 53, in __init__\n",
      "    raise Exception(\"Mol not created\")\n",
      "Exception: Mol not created\n",
      "RDKit ERROR: [16:24:14] Explicit valence for atom # 0 O, 3, is greater than permitted\n",
      "ERROR:root:Could not create RdKit mol from smiles: [O]#C[Cr](C#[O])(C#[O])(C#[O])(C#[O])C#[N]C1=CC=C2C3=C4C(C=CC=C4C4=C2C1=CC=C4)=CC=C3, inchi: None\n",
      "Traceback (most recent call last):\n",
      "  File \"/home/denn/home/a2g2/blocks/block.py\", line 53, in __init__\n",
      "    raise Exception(\"Mol not created\")\n",
      "Exception: Mol not created\n",
      "RDKit ERROR: [16:24:14] Explicit valence for atom # 0 O, 3, is greater than permitted\n",
      "ERROR:root:Could not create RdKit mol from smiles: [O]#C[Cr]12345(C#[O])(C#[O])[CH]6=[CH]1[C]21=CC2=C(C=CC=C2)C(C2=CC=CC=C2)=[C]31[CH]4=[CH]56, inchi: None\n",
      "Traceback (most recent call last):\n",
      "  File \"/home/denn/home/a2g2/blocks/block.py\", line 53, in __init__\n",
      "    raise Exception(\"Mol not created\")\n",
      "Exception: Mol not created\n",
      "RDKit ERROR: [16:24:14] Explicit valence for atom # 0 O, 3, is greater than permitted\n",
      "ERROR:root:Could not create RdKit mol from smiles: [O]#C[Mo](C#[O])(C#[O])(C#[O])(C#[O])C#[N]C1=CC=C2C3=C4C(C=CC=C4C4=C2C1=CC=C4)=CC=C3, inchi: None\n",
      "Traceback (most recent call last):\n",
      "  File \"/home/denn/home/a2g2/blocks/block.py\", line 53, in __init__\n",
      "    raise Exception(\"Mol not created\")\n",
      "Exception: Mol not created\n",
      "RDKit ERROR: [16:24:14] Explicit valence for atom # 0 O, 3, is greater than permitted\n",
      "ERROR:root:Could not create RdKit mol from smiles: [O]#C[W](C#[O])(C#[O])(C#[O])(C#[O])C#[N]C1=CC=C2C3=C4C(C=CC=C4C4=C2C1=CC=C4)=CC=C3, inchi: None\n",
      "Traceback (most recent call last):\n",
      "  File \"/home/denn/home/a2g2/blocks/block.py\", line 53, in __init__\n",
      "    raise Exception(\"Mol not created\")\n",
      "Exception: Mol not created\n"
     ]
    }
   ],
   "source": [
    "from blocks import block\n",
    "from rdkit.Chem.Descriptors import MolWt\n",
    "def blockify(s):\n",
    "    try:\n",
    "        return block.Block(smiles=s)\n",
    "    except:\n",
    "        return None\n",
    "\n",
    "import logging\n",
    "\n",
    "from rdkit import RDLogger\n",
    "\n",
    "RDLogger.logger().setLevel(getattr(RDLogger, 'ERROR'))\n",
    "\n",
    "logger = logging.getLogger()\n",
    "loglevel = getattr(logging, 'ERROR')\n",
    "logger.setLevel(loglevel)\n",
    "ch = logging.StreamHandler(sys.stdout)\n",
    "ch.setLevel(loglevel)\n",
    "\n",
    "\n",
    "\n",
    "dfexp=reax_uv_gr.reset_index()\n",
    "dfexp['block'] = dfexp.Structure.apply(blockify)\n",
    "dfexp=dfexp.dropna(subset=['block'])\n",
    "dfexp['mol'] = dfexp.block.apply(lambda b: b.mol)\n",
    "dfexp['smiles']=dfexp.block.apply(lambda b: b.smiles())\n",
    "dfexp['MolWt']=dfexp.mol.apply(lambda m: MolWt(m))\n",
    "dfexp['mol__inchikey'] = dfexp.block.apply(lambda b: b.inchikey)\n",
    "dfexp['mol__inchikey']=dfexp['mol__inchikey'].str.split('-').str[0]\n"
   ]
  },
  {
   "cell_type": "code",
   "execution_count": 10,
   "metadata": {
    "ExecuteTime": {
     "end_time": "2016-11-11T16:24:16.261649",
     "start_time": "2016-11-11T16:24:16.259874"
    },
    "collapsed": true
   },
   "outputs": [],
   "source": [
    "#show(dfexp[dfexp['mol__inchikey'].str.contains('CSHWQDPOILHKBI')])"
   ]
  },
  {
   "cell_type": "code",
   "execution_count": 11,
   "metadata": {
    "ExecuteTime": {
     "end_time": "2016-11-11T16:24:22.040206",
     "start_time": "2016-11-11T16:24:16.262912"
    }
   },
   "outputs": [
    {
     "name": "stdout",
     "output_type": "stream",
     "text": [
      "6810\n",
      "6530\n",
      "6138\n",
      "4070\n",
      "3532\n"
     ]
    }
   ],
   "source": [
    "dfexp = dfexp.set_index('mol__inchikey')\n",
    "print(dfexp['Structure'].count())\n",
    "df_filter=dfexp[(dfexp['MolWt']<1000)]\n",
    "print(df_filter['Structure'].count())\n",
    "\n",
    "df_filter=df_filter[df_filter['mol'].apply(lambda m: not m.HasSubstructMatch(Chem.MolFromSmarts('[Si,Se,Li,Na]')))]\n",
    "print(df_filter['Structure'].count())\n",
    "#df_filter=df_filter[df_filter['mol'].apply(lambda m: m.HasSubstructMatch(Chem.MolFromSmarts('O=C([#6;D2])[O;H1]')))]\n",
    "#print(df_filter['Structure'].count())\n",
    "\n",
    "df_filter=df_filter[df_filter['mol'].apply(lambda m: not m.HasSubstructMatch(Chem.MolFromSmarts('CCCC')))]\n",
    "print(df_filter['Structure'].count())\n",
    "\n",
    "df_filter=df_filter[df_filter['mol'].apply(lambda m: not m.HasSubstructMatch(Chem.MolFromSmarts('c1ccc2cc3ccccc3cc2c1.c1ccc2cc3ccccc3cc2c1')))]\n",
    "print(df_filter['Structure'].count())\n",
    "\n",
    "# df_filter=df_filter[np.logical_not((df_filter['std_rj']>10) & (df_filter['count']>2))]\n",
    "# print(df_filter['Structure'].count())\n",
    "# df_filter=df_filter[(df_filter['std_rj']>10)]\n",
    "# print(df_filter['Structure'].count())\n",
    "#print(df_filter[df_filter['count']==1].count())\n",
    "#print(Chem.Mol.GetAtoms(df_filter.iloc[1]['mol']).)\n",
    "#show(df_filter[['mol']].sample(10))\n",
    "\n",
    "#print(reax_uv[reax_uv['Structure']=='N#CC1=C2C=CC=CC2=CC2=CC=CC=C12'][cols])"
   ]
  },
  {
   "cell_type": "code",
   "execution_count": 12,
   "metadata": {
    "ExecuteTime": {
     "end_time": "2016-11-11T17:05:54.329506",
     "start_time": "2016-11-11T17:05:54.024966"
    },
    "collapsed": true
   },
   "outputs": [],
   "source": [
    "df_filter.to_pickle('/home/denn/harvard/SF/Library/Reaxys/anth_peryl_uv_below1000_reaxys2.pickle')"
   ]
  },
  {
   "cell_type": "code",
   "execution_count": 13,
   "metadata": {
    "ExecuteTime": {
     "end_time": "2016-11-11T17:06:06.996439",
     "start_time": "2016-11-11T17:06:06.222761"
    },
    "collapsed": true
   },
   "outputs": [],
   "source": [
    "df_filter['mol'].apply(Chem.MolToSmiles).to_csv('/home/denn/harvard/SF/Library/Reaxys/anth_peryl_uv_below1000_reaxys2.smi',index=False)"
   ]
  }
 ],
 "metadata": {
  "anaconda-cloud": {},
  "celltoolbar": "Initialisation Cell",
  "kernelspec": {
   "display_name": "Python [conda env:a2g2_idp]",
   "language": "python",
   "name": "conda-env-a2g2_idp-py"
  },
  "language_info": {
   "codemirror_mode": {
    "name": "ipython",
    "version": 3
   },
   "file_extension": ".py",
   "mimetype": "text/x-python",
   "name": "python",
   "nbconvert_exporter": "python",
   "pygments_lexer": "ipython3",
   "version": "3.5.2"
  }
 },
 "nbformat": 4,
 "nbformat_minor": 1
}
