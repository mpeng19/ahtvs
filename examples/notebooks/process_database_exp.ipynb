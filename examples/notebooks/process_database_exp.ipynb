{
 "cells": [
  {
   "cell_type": "code",
   "execution_count": null,
   "metadata": {
    "ExecuteTime": {
     "end_time": "2018-05-02T22:02:27.535490-04:00",
     "start_time": "2018-05-02T18:02:23.872461Z"
    }
   },
   "outputs": [],
   "source": [
    "import os\n",
    "import sys\n",
    "import django\n",
    "import pprint\n",
    "import pandas as pd\n",
    "# from django_pandas.io import read_frame\n",
    "import itertools\n",
    "from blocks import block\n",
    "import numpy as np\n",
    "\n",
    "# setup the djhango settings file.  Change this to use the settings file that connects you to your desired database\n",
    "os.environ[\"DJANGO_SETTINGS_MODULE\"] = \"djangochem.settings.denn\"\n",
    "# this must be run to setup access to the django settings and make database access work etc.\n",
    "django.setup()\n",
    "\n",
    "# import the models that you want to access\n",
    "from pgmols.models import Mol, Calc, Geom\n",
    "from jobs.models import Job, JobConfig\n",
    "\n",
    "# this is all setup for the notebook\n",
    "from IPython.display import HTML\n",
    "import matplotlib\n",
    "%matplotlib inline\n",
    "from rdkit.Chem import AllChem as Chem\n",
    "from rdkit.Chem.Draw import IPythonConsole\n",
    "from rdkit.Chem import Draw\n",
    "from rdkit.Chem import PandasTools # headsup: this import change the behavior of dataframes with mols in them\n",
    "# some global configuration of the pandastools\n",
    "PandasTools.molRepresentation = 'svg'\n",
    "PandasTools.molSize = (200,200)\n",
    "\n",
    "#constatns\n",
    "HA_TO_EV = 27.211399\n",
    "# this is a little helper function to render images inside a dataframe\n",
    "# once again, there are ways to monkey patch the rendering of dataframes, but I am trying to \n",
    "# avoid most of that to make things a bit easier to understand\n",
    "\n",
    "def show(df):\n",
    "    return HTML(df.to_html(escape=False))"
   ]
  },
  {
   "cell_type": "code",
   "execution_count": null,
   "metadata": {
    "ExecuteTime": {
     "end_time": "2018-05-02T22:02:28.565180-04:00",
     "start_time": "2018-05-02T22:02:28.561462Z"
    }
   },
   "outputs": [],
   "source": [
    "# exprt_list=['BIOPPFDHKHWJIA-UHFFFAOYSA-N','NXXNVJDXUHMAHU-UHFFFAOYSA-N','QQLRAWFMOWCSBU-UHFFFAOYSA-N']"
   ]
  },
  {
   "cell_type": "code",
   "execution_count": null,
   "metadata": {
    "ExecuteTime": {
     "end_time": "2018-05-02T22:02:30.112924-04:00",
     "start_time": "2018-05-02T22:02:29.247236Z"
    }
   },
   "outputs": [],
   "source": [
    "#import simplejson as simplejson\n",
    "\n",
    "\n",
    "from django.db.models.expressions import RawSQL\n",
    "from django.core import serializers\n",
    "from django.db.models import Q,F,Min,Case,When,Value\n",
    "#parentjob__config__name__contains='tddft',\n",
    "all_calcs = Calc.objects \\\n",
    "    .filter(Q(mol__group__name__exact='sf'),\n",
    "#            Q(mol__inchikey='BIOPPFDHKHWJIA-UHFFFAOYSA-N')|Q(mol__inchikey='NXXNVJDXUHMAHU-UHFFFAOYSA-N')|Q(mol__inchikey='QQLRAWFMOWCSBU-UHFFFAOYSA-N'),\n",
    "            parentjob__status__exact='done',\n",
    "            method__name__contains='hybrid') \\\n",
    "    .exclude(Q(method__name__contains='_tda_')\n",
    "               |\n",
    "#              Q(geoms__parentjob__config__parent_class_name__exact='Mol')|\n",
    "              Q(mol__inchikey__exact='STTGYIUESPWXOW-UHFFFAOYNA-N')\n",
    "            )\\\n",
    "    .annotate(totalenergy=RawSQL(\"((props->>%s)::numeric)\", ('totalenergy',)))\\\n",
    "    .annotate(s2=Case(When(Q(parentjob__config__name='b3lyp_6-31gs_opt_t1_qchem')|\n",
    "                                 Q(parentjob__config__name='b3lyp_6-31gs_opt_BS_qchem'),\n",
    "                                 then=RawSQL(\"((props->>%s)::numeric)\", ('s2',)))),default=Value(None))\\\n",
    "    .annotate(excitedstates=Case(When(parentjob__config__name__contains='tddft',\n",
    "                                 then=RawSQL(\"((props->>%s)::json)\", ('excitedstates',)))), default=Value(None))\\\n",
    "    .order_by('mol__inchikey','parentjob__config__name','totalenergy')\n",
    "\n",
    "    # .annotate(t1_opt=Case(When(=parentjob__config__name='b3lyp_6-31gs_opt_t1_qchem',\n",
    "    #                              properties__method__name='b3lyp_tddft_631gs_rpa_s0_geom',\n",
    "    #                              then='properties__value')),default=Value(None))\\\n",
    "    # .annotate(ene=Case(When(parentjob__config__name__contains='tddft',\n",
    "    #                              then=RawSQL(\"((props#>%s)::json)\", ('excitedstates',)))), default=Value(None))\\\n",
    "\n",
    "\n",
    "all_calcs_values=all_calcs.values('id',\n",
    "#                                  'geoms',\n",
    "                                  'geoms__parents',\n",
    "#                                  'geoms__parents__parents',\n",
    "                                  'geoms__parents__xyz',\n",
    "                                  'geoms__method',\n",
    "                                  'geoms__xyz',\n",
    "                                  'geoms__parentjob__config__name',\n",
    "                                  'mol__inchikey',\n",
    "                                  'mol__smiles',\n",
    "                                  'mol__tags',\n",
    "                                  'method__name',\n",
    "                                  'parentjob__config__name',\n",
    "                                  'totalenergy',\n",
    "                                  's2',\n",
    "                                  'excitedstates')\n",
    "#print(all_calcs_values.query)\n",
    "#print(list(all_calcs.values_list('totalenergy')))\n",
    "all_calcs_dict=list(all_calcs_values)\n",
    "df = pd.DataFrame(all_calcs_dict)\n",
    "\n",
    "#df=df[df.filter(df.excitedstates!=None)]\n",
    "#print(simplejson.dumps(all_calcs_dict))\n",
    "#df['parentjob__config__name']=df['parentjob__config__name'].str.replace('b3lyp_6-31gs_opt_qchem','b3lyp_6-31gs_opt_BS_qchem')\n",
    "df['parentjob__config__name']=df['parentjob__config__name'].str.replace('-','_')\n",
    "\n",
    "df['totalenergy']=df['totalenergy'].astype(float)\n",
    "df['s2']=df['s2'].astype(float)\n",
    "#df.sort_values('mol__inchikey',inplace=True)\n",
    "#print(df.dtypes)\n",
    "#df['totalenergy']=pd.to_numeric(df['totalenergy'],errors='coerce')\n",
    "#print(df.head())\n",
    "#show(df[:1])\n",
    "#df_props=df.pop('props')\n",
    "#df = pd.concat([df,df_props.apply(pd.Series)],axis=1)\n",
    "#df['block'] = df.mol__smiles.apply(lambda s: block.Block(smiles=s))\n",
    "#df['mol'] = df.block.apply(lambda b: b.mol)\n",
    "#df['mol']=df.mol__smiles.apply(Chem.MolFromSmiles)\n",
    "cols=['id','geoms__parents','mol__inchikey','parentjob__config__name','totalenergy','mol__tags']\n",
    "#df[cols][:10]\n",
    "show(df[cols][:])\n",
    "df.parentjob__config__name.value_counts()\n"
   ]
  },
  {
   "cell_type": "code",
   "execution_count": null,
   "metadata": {
    "ExecuteTime": {
     "end_time": "2018-05-02T22:02:31.871177-04:00",
     "start_time": "2018-05-02T22:02:31.836228Z"
    }
   },
   "outputs": [],
   "source": [
    "def to_xyz(geoms):\n",
    "    output = str(len(geoms)) + \"\\n\\n\"\n",
    "    for g in geoms:\n",
    "        output += \" \".join([PERIODICTABLE.GetElementSymbol(int(g[0])), str(g[1]), str(g[2]), str(g[3])]) + \"\\n\"\n",
    "    return output\n",
    "PERIODICTABLE = Chem.GetPeriodicTable()\n",
    "\n",
    "\n",
    "#Get B3LYP geometries in XYZ file format for conformers indexed by geoms geomID\n",
    "df_xyz=df[['geoms__method','geoms__parents','geoms__parentjob__config__name','mol__inchikey','geoms__xyz']]\n",
    "show(df_xyz.sample(2))\n"
   ]
  },
  {
   "cell_type": "code",
   "execution_count": null,
   "metadata": {
    "ExecuteTime": {
     "end_time": "2018-05-02T22:02:33.042875-04:00",
     "start_time": "2018-05-02T22:02:32.809044Z"
    }
   },
   "outputs": [],
   "source": [
    "df_xyz=df_xyz[df_xyz.geoms__parentjob__config__name=='b3lyp_6-31gs_opt_BS_qchem']\n",
    "df_xyz=df_xyz.drop_duplicates(subset=['geoms__parents','mol__inchikey'])\n",
    "df_xyz['xyz']=df['geoms__xyz'].apply(to_xyz)\n",
    "df_xyz=df_xyz.set_index(['geoms__parents'])\n",
    "\n",
    "df_xyz['geoms__method'].mean()"
   ]
  },
  {
   "cell_type": "code",
   "execution_count": null,
   "metadata": {
    "ExecuteTime": {
     "end_time": "2018-05-02T22:02:33.741447-04:00",
     "start_time": "2018-05-02T22:02:33.596721Z"
    }
   },
   "outputs": [],
   "source": [
    "cols=['geoms__parents','mol__inchikey','parentjob__config__name','totalenergy','s2','excitedstates']\n",
    "df_p=df[cols].set_index(['mol__inchikey','geoms__parents'])\n",
    "#dfp=df_p.unstack('parentjob__config__name',)\n",
    "#dfp=pd.pivot_table(df[cols],index=['mol__inchikey','geoms__parents'],columns='parentjob__config__name',values=['totalenergy','s2','excitedstates'],aggfunc=np.count_nonzero)\n",
    "dfp=df_p.pivot(columns='parentjob__config__name')\n",
    "#print(dfp[:1])\n",
    "dft=dfp['totalenergy']['b3lyp_6_31gs_opt_BS_qchem']\n",
    "dft=dft.groupby(level=0).min().to_frame()\n",
    "\n",
    "df_calc=pd.DataFrame(index=dfp.index)\n",
    "df_calc['t1_opt']=(dfp['totalenergy']['b3lyp_6_31gs_opt_t1_qchem']-dfp['totalenergy']['b3lyp_6_31gs_opt_BS_qchem'])*HA_TO_EV\n",
    "df_calc['t1_opt1']=(dfp['totalenergy']['b3lyp_6_31gs_opt_t1_qchem']-dfp['totalenergy']['b3lyp_6_31gs_tddft'])*HA_TO_EV\n",
    "df_calc['dft_energy']=(dfp['totalenergy']['b3lyp_6_31gs_opt_BS_qchem']-dft['b3lyp_6_31gs_opt_BS_qchem'])*HA_TO_EV\n",
    "df_calc['s2_BS']=dfp['s2']['b3lyp_6_31gs_opt_BS_qchem']\n",
    "df_calc['s2_t1']=dfp['s2']['b3lyp_6_31gs_opt_t1_qchem']\n",
    "        #df_calc=pd.merge(df_calc, confs_norm_e, how='outer', right_index=True, left_index=True)\n",
    "#df_calc=pd.concat([df_calc, confs_norm_e],axis=1)\n",
    "df_calc.index = df_calc.index.set_names(['mol__inchikey','geoms__parents'])\n",
    "#df_calc=df_calc.sort_index(by='dft_energy',axis=0)\n",
    "df_calc=df_calc.groupby(level=0, group_keys=False).apply(lambda x: x.sort_values('dft_energy'))\n",
    "#df_calc=df_calc.sortlevel(level=1,sort_remaining=False)\n",
    "cols_calc=['t1_opt','t1_opt1']\n",
    "#dfp[cols_calc][:10]\n",
    "#df_calc[:30]\n",
    "#dfpc=dfp[cols_calc]#.reset_index(level='parentjob__config__name',drop=True)\n",
    "#print(dfp.index)\n",
    "#dfp1 = pd.merge(dfp, dft, how='right', right_index=True, left_index=True)\n",
    "#df_calc['conf_dft_energy']=df_calc[b3lyp_6_31gs_opt_BS_qchem_x]-confs_norm_e.totalenergy_y\n",
    "#dfp1['totalenergy'][['b3lyp_6_31gs_opt_BS_qchem','b3lyp_6_31gs_tddft']][:20]\n",
    "#dfpc[:1]\n",
    "#df_calc['diff_energy']=df_calc['dft_energy']-df_calc['dftb_energy'].astype(float)\n",
    "df_calc[:10]\n",
    "#dfp[:1]"
   ]
  },
  {
   "cell_type": "code",
   "execution_count": null,
   "metadata": {
    "ExecuteTime": {
     "end_time": "2018-05-02T22:02:35.247927-04:00",
     "start_time": "2018-05-02T22:02:34.467176Z"
    }
   },
   "outputs": [],
   "source": [
    "#start = t.time()\n",
    "dfe = dfp.excitedstates.b3lyp_6_31gs_tddft.apply(pd.Series)\n",
    "dfe1 = dfe.stack()\n",
    "dfe2 = dfe1.apply(pd.Series)\n",
    "#dfe2.multiplicity=='singlet'\n",
    "dfe2 = dfe2[['energy','multiplicity','oscillator_strength','pbht']]\n",
    "#dfe2.index = dfe2.index.set_names(['mol__inchikey','geoms__parents','state'])\n",
    "#dfe2 = dfe2.reset_index().set_index(['mol__inchikey','geoms__parents','multiplicity','state'])\n",
    "#dfe2 = dfe2.sort_index(level='multiplicity')\n",
    "#dfe2 = dfe2.sort_index(level='geoms__parents')\n",
    "#dfe2.dropna(inplace=True)\n",
    "#dfe3 = dfe2.pivot(columns='multiplicity')\n",
    "#dfe3 = dfe2.unstack('multiplicity')\n",
    "df_s = dfe2[dfe2.multiplicity=='singlet'].rename(columns={'energy':'s1_vert'})\n",
    "df_t = dfe2[dfe2.multiplicity=='triplet'].rename(columns={'energy':'t1_vert'})\n",
    "#dfe3.index.set_names(['mol__inchikey', 'geoms__parents', 'tran'],inplace=True)\n",
    "#dfe3.xs(tran,level=[0,1])\n",
    "dfs1=df_s.groupby(level=[0,1], group_keys=False).apply(lambda x: x.sort_values('s1_vert').iloc[0])\n",
    "dft1=df_t.groupby(level=[0,1], group_keys=False).apply(lambda x: x.sort_values('t1_vert').iloc[0])\n",
    "dft2=df_t.groupby(level=[0,1], group_keys=False).apply(lambda x: x.sort_values('t1_vert').iloc[1]).rename(columns={'t1_vert':'t2_vert'})\n",
    "\n",
    "#dfs1=dfs1.groupby(level=[0,1]).min()['s1_vert']\n",
    "#dft1=dft1.groupby(level=[0,1]).min()['t1_vert']\n",
    "#show(df_s[:10])\n",
    "#show(dft2[:10])\n",
    "#print(dft1[:10])\n",
    "df_ex = dfs1.join(dft1,lsuffix='_s1').join(dft2, lsuffix='_t1',rsuffix='_t2')\n",
    "#print(dfe2.index)\n",
    "#dfe2[:10]\n",
    "#dfe3[:3]\n",
    "#print(dfpc.index)\n",
    "df_calcs = pd.merge(df_calc, df_ex, how='outer', right_index=True, left_index=True)\n",
    "\n",
    "\n",
    "df_acenes = pd.read_csv('/home/denn/harvard/SF/Library/acenes_calcs.csv')\n",
    "#df_acenes.set_index(['mol__inchikey','geoms__parents'],inplace=True)\n",
    "df_calcs.reset_index(inplace=True)\n",
    "#df_calcs = pd.merge(df_calcs, df_acenes, how='outer', right_index=True, left_index=True)\n",
    "#df_acenes.set_index(['mol__inchikey','geoms__parents'],inplace=True)\n",
    "df_calcs=df_calcs.append(df_acenes)\n",
    "df_calcs.set_index(['mol__inchikey','geoms__parents'],inplace=True)\n",
    "#show(df_calcs.ix['SLIUAWYAILUBJU-UHFFFAOYNA-N'])\n",
    "df_calcs[:3]\n",
    "#dfs1[:10]\n",
    "#rint(t.time()-start)"
   ]
  },
  {
   "cell_type": "code",
   "execution_count": null,
   "metadata": {
    "ExecuteTime": {
     "end_time": "2018-05-02T22:02:35.870364-04:00",
     "start_time": "2018-05-02T22:02:35.497484Z"
    }
   },
   "outputs": [],
   "source": [
    "if 'lcwpbe_6_31gs_tddft_qchem' in dfp.excitedstates.columns:\n",
    "    dfe = dfp.excitedstates.lcwpbe_6_31gs_tddft_qchem.apply(pd.Series)\n",
    "    \n",
    "    dfe1 = dfe.stack()\n",
    "    dfe2 = dfe1.apply(pd.Series)\n",
    "\n",
    "    dfe2 = dfe2[['energy','multiplicity','oscillator_strength','pbht']]\n",
    "\n",
    "    df_s = dfe2[dfe2.multiplicity=='singlet'].rename(columns={'energy':'s1_vert_lcpbe'})\n",
    "#     df_t = dfe2[dfe2.multiplicity=='triplet'].rename(columns={'energy':'t1_vert_lcpbe'})\n",
    "    \n",
    "    dfs1=df_s.groupby(level=[0,1], group_keys=False).apply(lambda x: x.sort_values('s1_vert_lcpbe').iloc[0])\n",
    "#     dft1=df_t.groupby(level=[0,1], group_keys=False).apply(lambda x: x.sort_values('t1_vert_lcpbe').iloc[0])\n",
    "#     dft2=df_t.groupby(level=[0,1], group_keys=False).apply(lambda x: x.sort_values('t1_vert_lcpbe').iloc[1]).rename(columns={'t1_vert_lcpbe':'t2_vert_lcpbe'})\n",
    "\n",
    "    #df_ex = dfs1.join(dft1,lsuffix='_s1_lcpbe')#.join(dft2, lsuffix='_t1_lcpbe',rsuffix='_t2_lcpbe')\n",
    "    print(\"lcpbe_count\",dfs1.shape)\n",
    "    #df_calcs = pd.merge(df_calcs, df_ex, how='outer', right_index=True, left_index=True)\n",
    "    df_calcs = pd.merge(df_calcs, dfs1, how='outer', right_index=True, left_index=True,suffixes=('','_s1_wb97xd'))\n",
    "show(df_calcs[:3])"
   ]
  },
  {
   "cell_type": "code",
   "execution_count": null,
   "metadata": {
    "ExecuteTime": {
     "end_time": "2018-05-02T22:02:36.998477-04:00",
     "start_time": "2018-05-02T22:02:36.331671Z"
    }
   },
   "outputs": [],
   "source": [
    "if 'wb97xd_6_31gs_tddft' in dfp.excitedstates.columns:\n",
    "    dfe = dfp.excitedstates.wb97xd_6_31gs_tddft.apply(pd.Series)\n",
    "    dfe1 = dfe.stack()\n",
    "    dfe2 = dfe1.apply(pd.Series)\n",
    "\n",
    "    dfe2 = dfe2[['energy','multiplicity','oscillator_strength','pbht']]\n",
    "\n",
    "    df_s = dfe2[dfe2.multiplicity=='singlet'].rename(columns={'energy':'s1_vert_wb97xd'})\n",
    "    df_t = dfe2[dfe2.multiplicity=='triplet'].rename(columns={'energy':'t1_vert_wb97xd'})\n",
    "    \n",
    "    dfs1=df_s.groupby(level=[0,1], group_keys=False).apply(lambda x: x.sort_values('s1_vert_wb97xd').iloc[0])\n",
    "    \n",
    "    dft1=df_t.groupby(level=[0,1], group_keys=False).apply(lambda x: x.sort_values('t1_vert_wb97xd').iloc[0])\n",
    "    dft2=df_t.groupby(level=[0,1], group_keys=False).apply(lambda x: x.sort_values('t1_vert_wb97xd').iloc[1]).rename(columns={'t1_vert_wb97xd':'t2_vert_wb97xd'})\n",
    "    df_ex = dfs1.join(dft1,lsuffix='_s1_wb97xd').join(dft2, lsuffix='_t1_wb97xd',rsuffix='_t2_wb97xd')\n",
    "    print(\"wb97xd_count\",dfs1.shape)\n",
    "    df_calcs = pd.merge(df_calcs, df_ex, how='outer', right_index=True, left_index=True)\n",
    "#     df_calcs = pd.merge(df_calcs, dfs1, how='outer', right_index=True, left_index=True,suffixes=('','_s1_wb97xd'))\n",
    "show(df_calcs[:3])\n"
   ]
  },
  {
   "cell_type": "code",
   "execution_count": null,
   "metadata": {
    "ExecuteTime": {
     "end_time": "2018-05-02T22:02:38.131309-04:00",
     "start_time": "2018-05-02T22:02:37.253165Z"
    }
   },
   "outputs": [],
   "source": [
    "if 'm062x_6_31gs_tddft' in dfp.excitedstates.columns:\n",
    "    dfe = dfp.excitedstates.m062x_6_31gs_tddft.apply(pd.Series)\n",
    "    dfe1 = dfe.stack()\n",
    "    dfe2 = dfe1.apply(pd.Series)\n",
    "\n",
    "    dfe2 = dfe2[['energy','multiplicity','oscillator_strength','pbht']]\n",
    "\n",
    "    df_s = dfe2[dfe2.multiplicity=='singlet'].rename(columns={'energy':'s1_vert_m062x'})\n",
    "    df_t = dfe2[dfe2.multiplicity=='triplet'].rename(columns={'energy':'t1_vert_m062x'})\n",
    "    \n",
    "    dfs1=df_s.groupby(level=[0,1], group_keys=False).apply(lambda x: x.sort_values('s1_vert_m062x').iloc[0])\n",
    "    \n",
    "    dft1=df_t.groupby(level=[0,1], group_keys=False).apply(lambda x: x.sort_values('t1_vert_m062x').iloc[0])\n",
    "    dft2=df_t.groupby(level=[0,1], group_keys=False).apply(lambda x: x.sort_values('t1_vert_m062x').iloc[1]).rename(columns={'t1_vert_m062x':'t2_vert_m062x'})\n",
    "    df_ex = dfs1.join(dft1,lsuffix='_s1_m062x').join(dft2, lsuffix='_t1_m062x',rsuffix='_t2_m062x')\n",
    "    print(\"m062x_count\",dfs1.shape)\n",
    "    df_calcs = pd.merge(df_calcs, df_ex, how='outer', right_index=True, left_index=True)\n",
    "#     df_calcs = pd.merge(df_calcs, dfs1, how='outer', right_index=True, left_index=True,suffixes=('','_s1_m062x'))\n",
    "show(df_calcs[:3])"
   ]
  },
  {
   "cell_type": "code",
   "execution_count": null,
   "metadata": {
    "ExecuteTime": {
     "end_time": "2018-05-02T22:02:39.221070-04:00",
     "start_time": "2018-05-02T22:02:39.089690Z"
    }
   },
   "outputs": [],
   "source": [
    "dfexp = pd.read_csv('/home/denn/harvard/SF/Library/exp_set_1_th_no_pentderiv.csv')\n",
    "dfexp['block'] = dfexp.smiles.apply(lambda s: block.Block(smiles=s))\n",
    "dfexp['mol'] = dfexp.block.apply(lambda b: b.mol)\n",
    "dfexp['mol__inchikey'] = dfexp.block.apply(lambda b: b.inchikey)\n",
    "dfexpi = dfexp.set_index('mol__inchikey')\n",
    "\n",
    "df_all = pd.merge(df_calcs, dfexpi, how='right', right_index=True, left_index=True)\n",
    "\n",
    "#df_calcs[:10]\n",
    "show(df_all.ix['SLIUAWYAILUBJU-UHFFFAOYNA-N'])\n",
    "#show(df_all.ix['STTGYIUESPWXOW-UHFFFAOYNA-N'])\n",
    "#show(df_all[df_all.t1_opt.isnull()|df_all.t1_opt1.isnull()]['mol'].to_frame())\n",
    "#print()"
   ]
  },
  {
   "cell_type": "code",
   "execution_count": null,
   "metadata": {
    "ExecuteTime": {
     "end_time": "2018-05-02T22:02:40.254839-04:00",
     "start_time": "2018-05-02T22:02:40.242291Z"
    }
   },
   "outputs": [],
   "source": [
    "# df_check1=pd.merge(df_all.reset_index(),df_xyz.reset_index()).reset_index(drop=True)#.join(df_smiles,how='inner')\n",
    "# import pybel\n",
    "# #from dask import dataframe as dd\n",
    "# #pybel.informats\n",
    "# #pybel.outformats\n",
    "# #dd_check=dd.from_pandas(df_check,10)\n",
    "# #%timeit pybel.readstring('xyz',df_check.loc['YZLGAWUIHCFDLO']['xyz']).write('inchikey')\n",
    "\n",
    "# def obl(xyz):\n",
    "#     m=pybel.readstring('xyz',xyz)\n",
    "#     return pd.Series({'can':m.write('can'),'check_inchi':m.write('inchikey').split('-')[0]})\n",
    "\n",
    "# #df_check['check_inchi']=df_check['xyz'].apply(lambda m: pybel.readstring('xyz',m).write('inchikey').split('-')[0])\n",
    "# #df_check['check_smi']=df_check['xyz'].apply(lambda m: pybel.readstring('xyz',m).write('can'))\n",
    "# df_check=df_check1.join(df_check1['xyz'].apply(obl))\n",
    "# #dd_check['check_inchi']=dd_check['xyz'].apply(func=lambda m: pybel.readstring('xyz',m).write('inchikey'),meta=dd_check['xyz'])\n",
    "\n",
    "# #df_check.sample(1)\n",
    "# #df_check.mol__smiles\n",
    "# df_not_valid=df_check[df_check.mol__inchikey!=df_check.check_inchi]\n",
    "# df_not_valid_s=pd.merge(df_not_valid,df_smiles.reset_index())\n",
    "# #df_not_valid_s[['mol__smiles','can']].sample(10)\n",
    "# df_not_valid_s['mol']=df_not_valid_s.mol__smiles.apply(Chem.MolFromSmiles)\n",
    "# #df_check.sample(1)\n",
    "# #df_check.mol__smiles\n",
    "# df_valid=df_check[df_check.mol__inchikey==df_check.check_inchi]\n",
    "# df_valid_s=pd.merge(df_valid,df_smiles.reset_index())\n",
    "# #df_not_valid_s[['mol__smiles','can']].sample(10)\n",
    "# #df_not_valid_s['mol']=df_not_valid_s.mol__smiles.apply(Chem.MolFromSmiles)\n",
    "# df_valid_s.count()\n",
    "# df_all=df_valid.set_index(['mol__inchikey','geoms__parents'])"
   ]
  },
  {
   "cell_type": "code",
   "execution_count": null,
   "metadata": {
    "ExecuteTime": {
     "end_time": "2018-05-02T22:02:44.481519-04:00",
     "start_time": "2018-05-02T22:02:44.458874Z"
    }
   },
   "outputs": [],
   "source": [
    "df_high=df_all[df_all.dft_energy>0.1]\n",
    "#print(df_high.count())\n",
    "df_min=df_all[df_all.dft_energy==0.0]\n",
    "print(df_min.count())\n",
    "df_low=df_all[df_all.dft_energy<=0.1]\n",
    "print(df_low.count())"
   ]
  },
  {
   "cell_type": "code",
   "execution_count": null,
   "metadata": {
    "ExecuteTime": {
     "end_time": "2018-05-02T22:25:46.986506-04:00",
     "start_time": "2018-05-02T22:25:46.977343Z"
    }
   },
   "outputs": [],
   "source": [
    "df_low.to_pickle('/home/denn/home2/data/SF/SF_calibraion_data_set.pkl')"
   ]
  },
  {
   "cell_type": "code",
   "execution_count": null,
   "metadata": {
    "ExecuteTime": {
     "end_time": "2017-10-03T14:23:34.205854-04:00",
     "start_time": "2017-10-03T14:23:34.152268Z"
    },
    "scrolled": true
   },
   "outputs": [],
   "source": [
    "from rdkit.Chem import rdDepictor\n",
    "from rdkit.Chem.Draw import rdMolDraw2D\n",
    "def moltosvg(mol,molSize=(450,150),kekulize=True):\n",
    "    mc = Chem.Mol(mol.ToBinary())\n",
    "    if kekulize:\n",
    "        try:\n",
    "            Chem.Kekulize(mc)\n",
    "        except:\n",
    "            mc = Chem.Mol(mol.ToBinary())\n",
    "    if not mc.GetNumConformers():\n",
    "        rdDepictor.Compute2DCoords(mc)\n",
    "    drawer = rdMolDraw2D.MolDraw2DSVG(molSize[0],molSize[1])\n",
    "    drawer.DrawMolecule(mc)\n",
    "    drawer.FinishDrawing()\n",
    "    svg = drawer.GetDrawingText()\n",
    "    # It seems that the svg renderer used doesn't quite hit the spec.\n",
    "    # Here are some fixes to make it work in the notebook, although I think\n",
    "    # the underlying issue needs to be resolved at the generation step\n",
    "    return svg.replace('svg:','')\n",
    "\n",
    "mols = df_all.mol.groupby(level=0).head(1)\n",
    "#[mols.get_value(i) for i in range(mols.size)]\n",
    "#mols[0]\n",
    "\n",
    "#[moltosvg(m).replace('\\n','') for m in df_all.mol.groupby(level=0).head(1)]\n",
    "\n",
    "#df_all.mol.apply(lambda m: Chem.MolToSVG(m,0))"
   ]
  },
  {
   "cell_type": "code",
   "execution_count": null,
   "metadata": {
    "ExecuteTime": {
     "end_time": "2017-10-03T14:23:34.823014-04:00",
     "start_time": "2017-10-03T14:23:34.772209Z"
    },
    "code_folding": [
     7
    ]
   },
   "outputs": [],
   "source": [
    "from plotly.offline import download_plotlyjs, init_notebook_mode, iplot, plot\n",
    "from plotly.graph_objs import *\n",
    "#from sklearn import datasets, linear_model\n",
    "\n",
    "from numpy import arange,array,ones\n",
    "from scipy import stats\n",
    "\n",
    "def plot_calc_vs_theo(dfi:pd.DataFrame, calc, exp):\n",
    "    init_notebook_mode()\n",
    "\n",
    "    df=dfi[[exp,calc]].dropna()\n",
    "\n",
    "    xt1=df[exp].as_matrix()\n",
    "    yt1=df[calc].as_matrix()\n",
    "\n",
    "    slope, intercept, r_value, p_value, std_err = stats.linregress(xt1,yt1)\n",
    "    line = slope*xt1+intercept\n",
    "\n",
    "    print(slope)\n",
    "    print(intercept)\n",
    "    \n",
    "    trace0 = Scatter(\n",
    "        x=xt1,\n",
    "        y=yt1,\n",
    "        mode='markers',\n",
    "        name=calc,\n",
    "    #     marker=dict(\n",
    "\n",
    "    #     ),\n",
    "        text=[i[0]+' : '+str(i[1]) for i in df.index.get_values()],\n",
    "    )\n",
    "    trace2 = Scatter(\n",
    "                      x=xt1, \n",
    "                      y=line, \n",
    "                      mode='lines',\n",
    "                      marker=Marker(color='rgb(31, 119, 180)'),\n",
    "                      name='Fit'\n",
    "                      )\n",
    "\n",
    "    annotation = Annotation(\n",
    "                        xref='paper',\n",
    "                        yref='paper',\n",
    "                       x=0,\n",
    "                       y=1,\n",
    "         #xanchor='left',\n",
    "         #yanchor='top',\n",
    "                      text='Slope: '+str(slope)+' r_value: '+str(r_value)+'\\n Intercept: '+str(intercept),\n",
    "                      showarrow=False,\n",
    "                      font=Font(size=16)\n",
    "                      )\n",
    "\n",
    "    data = [trace0,trace2]\n",
    "    layout = Layout(\n",
    "        xaxis= dict(\n",
    "            title= exp,\n",
    "            ticklen= 5,\n",
    "            zeroline= False,\n",
    "            gridwidth= 1,\n",
    "            \n",
    "        ),\n",
    "        yaxis=dict(\n",
    "            title= calc,\n",
    "            ticklen= 5,\n",
    "            gridwidth= 1,\n",
    "            \n",
    "        ),\n",
    "    #     shapes=dict(\n",
    "    #             type='line',\n",
    "    #             xref='x',\n",
    "    #             yref= 'y',\n",
    "    #             x0= 0,\n",
    "    #             y0= 0,\n",
    "    #             x1= 5,\n",
    "    #             y1= 5,\n",
    "    #     ),\n",
    "         annotations=[annotation],\n",
    "        showlegend=False,\n",
    "        height=700,\n",
    "        width=700,\n",
    "    )\n",
    "\n",
    "    fig = dict( data=data, layout=layout )\n",
    "\n",
    "    iplot(fig,image_height=1200,image_width=1200)\n",
    "    #plot(fig,image_height=1200,image_width=1200)\n"
   ]
  },
  {
   "cell_type": "code",
   "execution_count": null,
   "metadata": {
    "ExecuteTime": {
     "end_time": "2017-10-03T14:23:35.438886-04:00",
     "start_time": "2017-10-03T14:23:35.362384Z"
    },
    "code_folding": [
     0
    ]
   },
   "outputs": [],
   "source": [
    "def plot_calc_vs_theo_std(dfi:pd.DataFrame, calc, exp, height=800,width=800):\n",
    "    init_notebook_mode()\n",
    "\n",
    "    df=dfi[[exp,calc]].dropna()\n",
    "    \n",
    "    df_group=df.groupby(level=0)\n",
    "    xt1=df_group[exp].mean().values\n",
    "    yt1=df_group[calc].mean().values\n",
    "    yt1e=df_group[calc].std().fillna(0.).values\n",
    "\n",
    "    slope, intercept, r_value, p_value, std_err = stats.linregress(xt1,yt1)\n",
    "    line = slope*xt1+intercept\n",
    "\n",
    "    print(slope)\n",
    "    print(intercept)\n",
    "    \n",
    "    trace0 = Scatter(\n",
    "        x=xt1,\n",
    "        y=yt1,\n",
    "        mode='markers',\n",
    "        name=calc,\n",
    "    #     marker=dict(\n",
    "\n",
    "    #     ),\n",
    "        text=[i[0]+' : '+str(i[1]) for i in df_group[exp].mean().index.get_values()],\n",
    "        error_y=dict(\n",
    "            type='data',\n",
    "            array=yt1e,\n",
    "            visible=True\n",
    "        )\n",
    "    )\n",
    "    trace2 = Scatter(\n",
    "                      x=xt1, \n",
    "                      y=line, \n",
    "                      mode='lines',\n",
    "                      marker=Marker(color='rgb(31, 119, 180)'),\n",
    "                      name='Fit'\n",
    "                      )\n",
    "\n",
    "    annotation = Annotation(\n",
    "                        xref='paper',\n",
    "                        yref='paper',\n",
    "                       x=0,\n",
    "                       y=1,\n",
    "         #xanchor='left',\n",
    "         #yanchor='top',\n",
    "                      text='R_value: {:.5f} Slope: {:.4f} Intercept: {:.3f}'.format(r_value,slope,intercept),\n",
    "                      showarrow=False,\n",
    "                      font=Font(size=height/40)\n",
    "                      )\n",
    "\n",
    "    data = [trace0,trace2]\n",
    "    layout = Layout(\n",
    "        xaxis= dict(\n",
    "            title= exp,\n",
    "            ticklen= 5,\n",
    "            zeroline= False,\n",
    "            gridwidth= 1,\n",
    "            titlefont=Font(size=height/40),\n",
    "            tickfont=Font(size=height/40)\n",
    "        ),\n",
    "        yaxis=dict(\n",
    "            title= calc,\n",
    "            ticklen= 5,\n",
    "            gridwidth= 1,\n",
    "            titlefont=Font(size=height/40),\n",
    "            tickfont=Font(size=height/40)\n",
    "        ),\n",
    "                shapes=[dict(\n",
    "                        type='line',\n",
    "                        xref='x',\n",
    "                        yref= 'y',\n",
    "                        x0= np.min(yt1)-0.05,\n",
    "                        y0= np.min(yt1)-0.05,\n",
    "                        x1= np.max(yt1)+0.05,\n",
    "                        y1= np.max(yt1)+0.05,\n",
    "                        line = {\n",
    "                'color': 'red',\n",
    "                'width': 2,\n",
    "                'dash':'dash'\n",
    "            }\n",
    "                )],\n",
    "         annotations=[annotation],\n",
    "        showlegend=False,\n",
    "        height=height,\n",
    "        width=width,\n",
    "    )\n",
    "\n",
    "    fig = dict( data=data, layout=layout )\n",
    "\n",
    "    iplot(fig,image_height=height,image_width=width)\n",
    "    \n",
    "    #plot(fig,image_height=height,image_width=width,show_link=False,include_plotlyjs=True)\n"
   ]
  },
  {
   "cell_type": "code",
   "execution_count": null,
   "metadata": {
    "ExecuteTime": {
     "end_time": "2017-10-03T14:23:35.852132-04:00",
     "start_time": "2017-10-03T14:23:35.849495Z"
    }
   },
   "outputs": [],
   "source": [
    "#plot_calc_vs_theo(df_min,'t1_opt','exp_t1')"
   ]
  },
  {
   "cell_type": "code",
   "execution_count": null,
   "metadata": {
    "ExecuteTime": {
     "end_time": "2017-10-03T14:23:36.532961-04:00",
     "start_time": "2017-10-03T14:23:36.424692Z"
    }
   },
   "outputs": [],
   "source": [
    "plot_calc_vs_theo_std(df_low,'t1_opt','exp_t1')"
   ]
  },
  {
   "cell_type": "code",
   "execution_count": null,
   "metadata": {
    "ExecuteTime": {
     "end_time": "2017-10-03T14:23:37.303207-04:00",
     "start_time": "2017-10-03T14:23:37.202849Z"
    }
   },
   "outputs": [],
   "source": [
    "plot_calc_vs_theo_std(df_low,'t1_vert','exp_t1')"
   ]
  },
  {
   "cell_type": "code",
   "execution_count": null,
   "metadata": {
    "ExecuteTime": {
     "end_time": "2017-10-03T14:23:38.500755-04:00",
     "start_time": "2017-10-03T14:23:38.401982Z"
    }
   },
   "outputs": [],
   "source": [
    "plot_calc_vs_theo_std(df_low,'t1_vert_wb97xd','exp_t1')"
   ]
  },
  {
   "cell_type": "code",
   "execution_count": null,
   "metadata": {
    "ExecuteTime": {
     "end_time": "2017-10-03T14:23:39.759311-04:00",
     "start_time": "2017-10-03T14:23:39.721751Z"
    }
   },
   "outputs": [],
   "source": [
    "show(df_low[:1])"
   ]
  },
  {
   "cell_type": "code",
   "execution_count": null,
   "metadata": {
    "ExecuteTime": {
     "end_time": "2017-10-03T14:23:41.460421-04:00",
     "start_time": "2017-10-03T14:23:41.369876Z"
    }
   },
   "outputs": [],
   "source": [
    "def max_min(group, x_n):\n",
    "    x = group[x_n]\n",
    "    return np.max(x)-np.min(x)\n",
    "#['dft_energy']\n",
    "df_=df_low.reset_index()\n",
    "#df_['mol__inchikey']=df_['mol__inchikey'].str.split('-').str[0]\n",
    "df_mae_t1=df_.groupby('mol__inchikey').apply(max_min,'t1_opt').to_frame().rename(columns={0:'mm_t1'})\n",
    "df_mae_count=df_.groupby('mol__inchikey').count()['geoms__parents'].to_frame().rename(columns={'geoms__parents':'conf_count'})\n",
    "#print(df_mae_count)\n",
    "df_mae_s1=df_.groupby('mol__inchikey').apply(max_min,'s1_vert').to_frame().rename(columns={0:'mm_s1'})\n",
    "df_mae1=df_.set_index('mol__inchikey').groupby(level=0).apply(lambda x: x.sort_values('dft_energy').iloc[0])\n",
    "#print(df_reaxys1.index)\n",
    "#print(df_mae1.index)\n",
    "df_confs=df_mae1.join(df_mae_t1).join(df_mae_s1).join(df_mae_count)#.join(df_smiles)"
   ]
  },
  {
   "cell_type": "code",
   "execution_count": null,
   "metadata": {
    "ExecuteTime": {
     "end_time": "2017-10-03T14:23:42.292043-04:00",
     "start_time": "2017-10-03T14:23:42.250599Z"
    }
   },
   "outputs": [],
   "source": [
    "show(df_confs[:1])"
   ]
  },
  {
   "cell_type": "code",
   "execution_count": null,
   "metadata": {
    "ExecuteTime": {
     "end_time": "2017-10-03T14:23:43.730938-04:00",
     "start_time": "2017-10-03T14:23:43.284381Z"
    }
   },
   "outputs": [],
   "source": [
    "#Header for HTML table output\n",
    "# Reference Semantic.ui\n",
    "# JQuery\n",
    "html_start = \"\"\"\n",
    "<!DOCTYPE html>\n",
    "<html>\n",
    "<head>\n",
    "<meta http-equiv=\"Content-type\" content=\"text/html; charset=utf-8\">\n",
    "<meta name=\"viewport\" content=\"width=device-width,initial-scale=1\">\n",
    "<title>SF Candidates</title>\n",
    "\n",
    "<link rel=\"stylesheet\" type=\"text/css\" href=\"https://cdn.datatables.net/v/dt/jqc-1.12.3/jszip-2.5.0/pdfmake-0.1.18/dt-1.10.12/b-1.2.2/b-colvis-1.2.2/b-html5-1.2.2/fh-3.1.2/r-2.1.0/sc-1.4.2/datatables.min.css\"/>\n",
    " \n",
    "<script type=\"text/javascript\" src=\"https://cdn.datatables.net/v/dt/jqc-1.12.3/jszip-2.5.0/pdfmake-0.1.18/dt-1.10.12/b-1.2.2/b-colvis-1.2.2/b-html5-1.2.2/fh-3.1.2/r-2.1.0/sc-1.4.2/datatables.min.js\"></script>\n",
    "\n",
    "\n",
    "\n",
    "<link rel=\"stylesheet\" type=\"text/css\" href=\"https://cdnjs.cloudflare.com/ajax/libs/semantic-ui/2.2.1/semantic.min.css\">\n",
    "<link rel=\"stylesheet\" type=\"text/css\" href=\"https://cdn.datatables.net/1.10.12/css/dataTables.semanticui.min.css\">\n",
    "<link rel=\"stylesheet\" type=\"text/css\" href=\"https://cdn.datatables.net/buttons/1.2.2/css/buttons.semanticui.min.css\">\n",
    "\n",
    "\n",
    "\t<script type=\"text/javascript\" language=\"javascript\" src=\"https://cdn.datatables.net/1.10.12/js/dataTables.semanticui.min.js\">\n",
    "\t</script>\n",
    "\t<script type=\"text/javascript\" language=\"javascript\" src=\"https://cdnjs.cloudflare.com/ajax/libs/semantic-ui/2.2.1/semantic.min.js\">\n",
    "\t</script>\n",
    "    <script type=\"text/javascript\" language=\"javascript\" src=\"https://cdnjs.cloudflare.com/ajax/libs/3Dmol/1.1.1/3Dmol-nojquery-min.js\">\n",
    "\t</script>\n",
    "\t\n",
    "    <style type=\"text/css\" class=\"init\">\n",
    "\t\n",
    "\t</style>\n",
    "\t<script type=\"text/javascript\" class=\"init\">\n",
    "\t\n",
    "        $(document).ready(function() {\n",
    "            var table = $('#example').DataTable( {\n",
    "                lengthChange: true,\n",
    "                \"lengthMenu\": [ 3, 10, 25, 50, 75, 100 ],\n",
    "                buttons: [ 'copy', 'excel', 'colvis' ],\n",
    "                \n",
    "            } );\n",
    "        \n",
    "            table.buttons().container()\n",
    "                .appendTo( $('div.eight.column:eq(0)', table.table().container()) );\n",
    "        } );\n",
    "        var blobObject = null;\n",
    "\n",
    "        function createDownloadLink(anchorSelector, str, fileName){\n",
    "\n",
    "            if(window.navigator.msSaveOrOpenBlob) {\n",
    "                var fileData = [str];\n",
    "                blobObject = new Blob(fileData);\n",
    "                $(anchorSelector).click(function(){\n",
    "                    window.navigator.msSaveOrOpenBlob(blobObject, fileName);\n",
    "                });\n",
    "            } else {\n",
    "                var url = \"data:text/plain;charset=utf-8,\" + encodeURIComponent(str);\n",
    "                $(anchorSelector).attr(\"href\", url);\n",
    "            }\n",
    "        }\n",
    "\t</script>\n",
    "</head>\n",
    "<body>\n",
    "<div class=\"ui container\">\n",
    "\"\"\"\n",
    "\n",
    "html_end = \"\"\"\n",
    "</div>\n",
    "</body>\n",
    "</html>\n",
    "\"\"\"\n",
    "\n",
    "#Generate HTML report in interactive table with 3D view\n",
    "\n",
    "report_file_name=\"/home/denn/home/ml/data/sf/export_sam/exp.html\"\n",
    "\n",
    "def pop3d(conformer):\n",
    "    popup = '<div class=\"ui primary button\" id=\"view3d_{}\">View 3D</div>'.format(conformer)\n",
    "    return popup\n",
    "\n",
    "def download3d(conformer):\n",
    "    popup = '<a href=\"#\" class=\"ui primary button\" id=\"download3d_{}\">View 3D</a>'.format(conformer)\n",
    "    return popup\n",
    "\n",
    "def buy_emol(tags):\n",
    "    if 'emol1' in tags:\n",
    "        return '<i class=\"shopping bag icon\"></i><div style=\"display: none;\">buy</div>'\n",
    "    else:\n",
    "        return ''\n",
    "def pubchem_link(inchikey):\n",
    "    cell='<a href=\"https://pubchem.ncbi.nlm.nih.gov/search/#collection=compounds&query_type=text&query={}\" target=\"_blank\">{}</a>'.format(inchikey,inchikey)\n",
    "    return cell\n",
    "\n",
    "df_html=df_confs.reset_index()\n",
    "df_html['mol3d']=df_html['mol__inchikey'].apply(pop3d)+'<br>Conformers: '+df_html['conf_count'].map(str)\n",
    "# df_html['Buy (eMol)']=df_html['mol__tags'].apply(buy_emol)\n",
    "df_html['mol__inchikey_link']=df_html['mol__inchikey'].apply(pubchem_link)+df_html['smiles']\\\n",
    "    .apply('<div style=\"width:10em;word-break:break-all;\" class=\"ui small segment\" data-tooltip=\"SMILES could be pasted to ChemDraw or used to search in Reaxys, etc.\">{}</div>'.format)\n",
    "#df_html['T1, eV']=df_html['t1_opt'].apply(lambda s:\"{0:.2f}\".format(s))+'<br>Max-min: '+df_html['mm_t1'].apply(lambda s:\"{0:.2f}\".format(s))\n",
    "html_js = \"\"\"\n",
    "    <div class=\"ui small modal\" id=\"mol3Dmodal\">\n",
    "        <i class=\"close icon\"></i>\n",
    "        <div class=\"header\">3D view (rotate with mouse)</div>\n",
    "        <div class=\"content\">\n",
    "            <div style=\"height: 350px; width: 720px; position: relative;\" class='viewer_3Dmoljs' data-backgroundcolor='0xffffff'></div>\n",
    "            <div class=\"action\">\n",
    "                Conformer: <div id=\"conf_num\" class=\"ui label\"></div>\n",
    "                <div class=\"ui primary labeled icon button\" id=\"prev_conf\" tabindex=\"0\">\n",
    "                  <i class=\"left arrow icon\"></i>\n",
    "                  Prev\n",
    "                </div>\n",
    "                <div class=\"ui primary right labeled icon button\" id=\"next_conf\" tabindex=\"0\">\n",
    "                  <i class=\"right arrow icon\"></i>\n",
    "                  Next\n",
    "                </div>mi\n",
    "            </div>\n",
    "\n",
    "            <p>dft_energy: in eV from lowest energy conformer</p>\n",
    "            <div id=\"modal_table\"></div>\n",
    "        </div>\n",
    "    </div>\n",
    "    <script>\n",
    "        $('#conf_num').data('count', 0);\n",
    "        $('#conf_num').html($('#conf_num').data('count'))\n",
    "        $('#next_conf').click(function(){\n",
    "            var count = $('#conf_num').data('count');\n",
    "            var view = $3Dmol.viewers[0];\n",
    "            if (count<view.getFrames()-1){\n",
    "                count = count + 1;\n",
    "                view.setFrame(count);\n",
    "                view.zoomTo();\n",
    "                view.render();\n",
    "                $('#conf_num').data('count', count);\n",
    "                $('#conf_num').html(count);\n",
    "            }\n",
    "        });\n",
    "        $('#prev_conf').click(function(){\n",
    "            var count = $('#conf_num').data('count');\n",
    "            var view = $3Dmol.viewers[0];\n",
    "            if (count>0){\n",
    "                count = count - 1;\n",
    "                view.setFrame(count);\n",
    "                view.zoomTo();\n",
    "                view.render();\n",
    "                $('#conf_num').data('count', count);\n",
    "                $('#conf_num').html(count);\n",
    "            }\n",
    "        });\n",
    "    </script>\n",
    "    <h1 class=\"ui header\">Experimental T1</h1>\n",
    "    <p class=\"ui header\"></p>\n",
    "\"\"\"\n",
    "modal_cols=['dft_energy','t1_opt','t1_vert','t2_vert','s1_vert','oscillator_strength_s1']\n",
    "html_button_js=\"<script>\"\n",
    "for conformer in df_html['mol__inchikey'][:]:\n",
    "    html_button_js+=\"$('#mol3Dmodal').modal('attach events', '#view3d_{}');\".format(conformer)\n",
    "    df_sel=df_low.ix[conformer].sort_values('dft_energy').reset_index()\n",
    "#     df_sel['down3d']=df_sel.geoms__parents.apply(download3d)\n",
    "#     print(df_sel.info())\n",
    "#     print(df_sel['geoms__parents'])\n",
    "    #print(df_sel.to_html(escape=True).replace('<table border=\"1\" class=\"dataframe\">','<table class=\"ui celled table\" cellspacing=\"0\" width=\"100%\">').replace(\"\\n\", \"\\\\n\"))\n",
    "    html_modal_table= \"$('#modal_table').html('%s');\" % df_sel[modal_cols].to_html(escape=False).replace('<table border=\"1\" class=\"dataframe\">','<table class=\"ui celled table\" cellspacing=\"0\" width=\"100%\">').replace(\"\\n\", \"\")\n",
    "#     print(html_modal_table)\n",
    "    #print(df_sel['geoms__parents'].tolist())\n",
    "    try:\n",
    "        xyz_str=(''.join(df_xyz.loc[df_sel['geoms__parents']]['xyz'])).replace(\"\\n\", \"\\\\n\")\n",
    "    except:\n",
    "        xyz_str=''.replace(\"\\n\", \"\\\\n\")\n",
    "    html_button_js+=(\"$('#view3d_%s').click(function() { $('#conf_num').data('count', 0); $('#conf_num').html($('#conf_num').data('count')); var view = $3Dmol.viewers[0];view.removeAllModels();view.addModelsAsFrames('%s','xyz');view.setStyle({'stick':{}});view.addStyle({'sphere':{'radius':0.4}});view.zoomTo();view.render();%s});\" \\\n",
    "                     % (conformer,xyz_str,html_modal_table))\n",
    "    \n",
    "#     j1=\"$(function () {\"\n",
    "#     j2=\"\"\n",
    "#     for i,row in df_xyz.loc[df_sel['geoms__parents']].iterrows():\n",
    "#         j2+='createDownloadLink(\"#down3d_%s\",\"%s\",\"%s.xyz\");' % (i,row['xyz'],i)\n",
    "#     j3=\"});\"\n",
    "#     jdown=j1+j2+j3\n",
    "#     print(jdown)\n",
    "html_button_js+=\"</script>\"\n",
    "\n",
    "\n",
    "pd.options.display.float_format = '{:,.2f}'.format\n",
    "html_table=df_html[['mol__inchikey_link','mol','mol3d','t1_opt','exp_t1','s1_vert','exp_s1']]\\\n",
    "    .rename(index=str, columns={'mol__inchikey_link':'InChIKey linked to PubChem (SMILES in the box)','mol':'Molecule','mol3d':'3D','t1_opt':'T1, eV','s1_vert':'S1, eV','criteria1':'S1-2T1, eV','criteria2':'T2-2T1, eV','mm_t1':'T1 max-min, eV','mm_s1':'S1 max-min, eV'}).to_html(escape=False)\n",
    "html_table=html_table.replace('<table border=\"1\" class=\"dataframe\">','<table id=\"example\" class=\"ui celled table\" cellspacing=\"0\" width=\"100%\">')\n",
    "\n",
    "# Write the report to disk \n",
    "with open(report_file_name, \"w\") as text_file:\n",
    "   text_file.write(html_start+html_js+html_table+html_button_js+html_end)\n"
   ]
  },
  {
   "cell_type": "code",
   "execution_count": null,
   "metadata": {
    "ExecuteTime": {
     "end_time": "2017-10-03T14:23:51.849713-04:00",
     "start_time": "2017-10-03T14:23:51.827807Z"
    }
   },
   "outputs": [],
   "source": [
    "df_xyz.sample(1)"
   ]
  },
  {
   "cell_type": "code",
   "execution_count": null,
   "metadata": {
    "ExecuteTime": {
     "end_time": "2017-10-03T14:23:57.870723-04:00",
     "start_time": "2017-10-03T14:23:53.596505Z"
    }
   },
   "outputs": [],
   "source": [
    "from sklearn.metrics import mean_absolute_error,mean_squared_error\n",
    "df_=df_min\n",
    "print(mean_absolute_error(df_['exp_t1'], df_['t1_opt']))\n",
    "print(np.sqrt(mean_squared_error(df_['exp_t1'], df_['t1_opt'])))"
   ]
  },
  {
   "cell_type": "code",
   "execution_count": null,
   "metadata": {
    "ExecuteTime": {
     "end_time": "2017-10-03T14:23:57.876635-04:00",
     "start_time": "2017-10-03T14:23:57.872422Z"
    }
   },
   "outputs": [],
   "source": [
    "print(mean_absolute_error(df_['exp_t1'], df_['t1_vert']))\n",
    "print(np.sqrt(mean_squared_error(df_['exp_t1'], df_['t1_vert'])))"
   ]
  },
  {
   "cell_type": "code",
   "execution_count": null,
   "metadata": {
    "ExecuteTime": {
     "end_time": "2017-10-03T14:32:47.578458-04:00",
     "start_time": "2017-10-03T14:32:47.258441Z"
    },
    "scrolled": true
   },
   "outputs": [],
   "source": [
    "def mae(group, y_true, y_pred):\n",
    "    d = group[y_true]\n",
    "    w = group[y_pred]\n",
    "    try:\n",
    "        return np.mean(np.abs((d - w)))\n",
    "    except ZeroDivisionError:\n",
    "        return d.mean()\n",
    "                              \n",
    "#df_mae=df_min.reset_index().groupby('mol__inchikey').apply(mae,'exp_t1','t1_opt').to_frame()\n",
    "df_mae=df_min.reset_index().groupby('mol__inchikey').min()#.to_frame()\n",
    "#df_mae=pd.merge(df_mae, dfexpi, how='outer', right_index=True, left_index=True)\n",
    "show(df_mae[['mol','s1_vert','s1_vert_lcpbe','s1_vert_wb97xd','exp_s1','t1_opt','exp_t1']])\n",
    "#show(df_mae)"
   ]
  },
  {
   "cell_type": "code",
   "execution_count": null,
   "metadata": {
    "ExecuteTime": {
     "end_time": "2017-10-03T14:24:00.505468-04:00",
     "start_time": "2017-10-03T14:24:00.497527Z"
    },
    "scrolled": false
   },
   "outputs": [],
   "source": [
    "# def mm(group, y_true):\n",
    "#     d = group[y_true]\n",
    "#     #w = group[y_pred]\n",
    "#     try:\n",
    "#         return np.mean(np.abs((d - w)))\n",
    "#     except ZeroDivisionError:\n",
    "#         return d.mean()\n",
    "                              \n",
    "# df_mae=df_all.reset_index().groupby('mol__inchikey').describe()#.to_frame()\n",
    "#df_mae=pd.merge(df_mae, dfexpi, how='outer', right_index=True, left_index=True)\n",
    "#print(df_mae.index)\n",
    "#show(df_mae[[0,'mol']])\n",
    "#show(df_mae[['t1_opt','s1_vert']])\n",
    "\n",
    "from sklearn.metrics import mean_absolute_error\n",
    "df_=df_min\n",
    "print(mean_absolute_error(df_['exp_s1'], df_['s1_vert']))\n",
    "print(mean_absolute_error(df_['exp_s1'], df_['s1_vert']*0.884560153698+0.186701541979))"
   ]
  },
  {
   "cell_type": "code",
   "execution_count": null,
   "metadata": {
    "ExecuteTime": {
     "end_time": "2017-10-03T14:24:02.653092-04:00",
     "start_time": "2017-10-03T14:24:02.570171Z"
    },
    "scrolled": false
   },
   "outputs": [],
   "source": [
    "plot_calc_vs_theo_std(df_low,'s1_vert','exp_s1')"
   ]
  },
  {
   "cell_type": "code",
   "execution_count": null,
   "metadata": {
    "ExecuteTime": {
     "end_time": "2017-10-03T14:24:03.919841-04:00",
     "start_time": "2017-10-03T14:24:03.836988Z"
    },
    "scrolled": false
   },
   "outputs": [],
   "source": [
    "plot_calc_vs_theo_std(df_low,'s1_vert_lcpbe','exp_s1')"
   ]
  },
  {
   "cell_type": "code",
   "execution_count": null,
   "metadata": {
    "ExecuteTime": {
     "end_time": "2017-10-03T14:24:05.281116-04:00",
     "start_time": "2017-10-03T14:24:05.198656Z"
    }
   },
   "outputs": [],
   "source": [
    "plot_calc_vs_theo_std(df_low,'s1_vert_wb97xd','exp_s1')"
   ]
  },
  {
   "cell_type": "code",
   "execution_count": null,
   "metadata": {
    "ExecuteTime": {
     "end_time": "2017-10-03T22:30:35.853429-04:00",
     "start_time": "2017-10-03T22:30:35.744233Z"
    }
   },
   "outputs": [],
   "source": [
    "plot_calc_vs_theo_std(df_low,'s1_vert_m062x','exp_s1')"
   ]
  },
  {
   "cell_type": "code",
   "execution_count": null,
   "metadata": {
    "scrolled": true
   },
   "outputs": [],
   "source": [
    "df_mae=df_min.reset_index().groupby('mol__inchikey').apply(mae,'exp_s1','s1_vert').to_frame()\n",
    "df_mae=pd.merge(df_mae, dfexpi, how='outer', right_index=True, left_index=True)\n",
    "df_mae.sort_values([0],ascending=False,inplace=True)\n",
    "#\n",
    "show(df_mae[[0,'mol']])"
   ]
  },
  {
   "cell_type": "code",
   "execution_count": null,
   "metadata": {},
   "outputs": [],
   "source": [
    "# error_cals = Job.objects.filter(\n",
    "#             status__exact='error')\\\n",
    "#     .order_by('config__name')\n",
    "# show(pd.DataFrame(list(error_cals.values('config__name','config__parent_class_name'))))\n",
    "\n",
    "error_mols = Geom.objects.filter(\n",
    "            childjobs__status__exact='error')\\\n",
    "            .filter(Q(mol__group__name__exact='sf_lib') )\\\n",
    "            .order_by('mol__inchikey')\n",
    "dfm=pd.DataFrame(list(error_mols.values('mol__inchikey','mol__smiles','childjobs__config__name','mol__tags')))\n",
    "dfm['mol']=dfm.mol__smiles.apply(Chem.MolFromSmiles)\n",
    "#dfm=dfm.set_index(['mol__inchikey','childjobs__config__name'])\n",
    "show(dfm[['childjobs__config__name','mol','mol__inchikey']])"
   ]
  },
  {
   "cell_type": "code",
   "execution_count": null,
   "metadata": {},
   "outputs": [],
   "source": []
  },
  {
   "cell_type": "code",
   "execution_count": null,
   "metadata": {},
   "outputs": [],
   "source": [
    "#            .filter(Q(mol__group__name__exact='sf_acenes') | Q(mol__group__name__exact='sf'))\\\n",
    "\n",
    "error_mols = Geom.objects.filter(\n",
    "            childjobs__status__contains='claimed')\\\n",
    "            .order_by('mol__inchikey')\n",
    "\n",
    "dfm=pd.DataFrame(list(error_mols.values('mol__smiles','childjobs__config__name','mol__tags','childjobs__uuid')))\n",
    "\n",
    "dfm['mol']=dfm.mol__smiles.apply(Chem.MolFromSmiles)\n",
    "\n",
    "#show(dfm)"
   ]
  },
  {
   "cell_type": "code",
   "execution_count": null,
   "metadata": {},
   "outputs": [],
   "source": [
    "#            .filter(Q(mol__group__name__exact='sf_acenes') | Q(mol__group__name__exact='sf'))\\\n",
    "\n",
    "emptu_jobs = Geom.objects.filter(\n",
    "            childjobs__status__contains='claimed')\\\n",
    "            .order_by('mol__inchikey')\n",
    "\n",
    "dfm=pd.DataFrame(list(error_mols.values('mol__smiles','childjobs__config__name','mol__tags','childjobs__uuid')))\n",
    "\n",
    "dfm['mol']=dfm.mol__smiles.apply(Chem.MolFromSmiles)\n",
    "\n",
    "#show(dfm)"
   ]
  },
  {
   "cell_type": "code",
   "execution_count": null,
   "metadata": {},
   "outputs": [],
   "source": [
    "#grouped = df.groupby(by=['mol__inchikey'],axis=0)\n",
    "#print(grouped.groups)\n",
    "#print(grouped['parentjob__config__name'].head())"
   ]
  },
  {
   "cell_type": "code",
   "execution_count": null,
   "metadata": {},
   "outputs": [],
   "source": [
    "time_calcs = Calc.objects.filter(mol__group__name__exact='sf', parentjob__status__exact='done',method__name__contains='tddft')\\\n",
    "        .exclude(method__name__exact='tddft_tda_hybrid_b3lyp', parentjob__config__name__exact='b3lyp_6-31gs_tddft')\\\n",
    "    .values('mol__inchikey','parentjob__config__name','parentjob__duration').distinct()\\\n",
    "    .order_by('mol__inchikey')\n",
    "\n",
    "#print(time_calcs)\n",
    "\n",
    "dftime = pd.DataFrame(list(time_calcs))\n",
    "\n",
    "#show(df.head())\n",
    "#for c in all_calcs:\n",
    "#    print(c.id,c.mol.inchikey, c.parentjob.config.name, c.parentjob.duration)"
   ]
  },
  {
   "cell_type": "code",
   "execution_count": null,
   "metadata": {},
   "outputs": [],
   "source": [
    "mol = Mol.objects.filter(Q(group__name__exact='sf_acenes') | Q(group__name__exact='sf')).get(inchikey='MMHOLFVKLFQKKD-UHFFFAOYNA-N')\n",
    "\n",
    "geoms = Geom.objects.filter(mol=mol,parentjob__config__parent_class_name__exact='Mol')\n",
    "\n",
    "# g = geoms[0]\n",
    "# \n",
    "# g.\n",
    "for g in geoms[:1]:\n",
    "    for chg in g.children.all():\n",
    "        calcs = Calc.objects.filter(parentjob__parentid=chg.id)\n",
    "        print(calcs)\n",
    "    \n",
    "    \n",
    "#print(geoms.values('method__name'))\n",
    "#print(mols.geom_set.all().values('calcs__children__parentjob__config__name'))"
   ]
  },
  {
   "cell_type": "code",
   "execution_count": null,
   "metadata": {},
   "outputs": [],
   "source": [
    "jobsformol=Calc.objects.filter(mol__inchikey__exact='MWPLVEDNUUSJAV-UHFFFAOYNA-N').values('parentjob__config__name','parentjob__status','geoms','geoms__parents')\n",
    "pd.DataFrame(list(jobsformol))"
   ]
  },
  {
   "cell_type": "code",
   "execution_count": null,
   "metadata": {},
   "outputs": [],
   "source": [
    "from django.core import serializers\n",
    "from django.db.models import Q,F,Min\n",
    "\n",
    "all_calcs = Calc.objects \\\n",
    "    .filter(Q(mol__group__name__exact='sf_acenes') | Q(mol__group__name__exact='sf'),\n",
    "            parentjob__status__exact='done', \n",
    "            method__name__contains='hybrid') \\\n",
    "    .order_by('mol__inchikey','parentjob__config__name')\\\n",
    "    .exclude(method__name__contains='_tda_')\n",
    "\n",
    "\n",
    "\n",
    "#print(all_calcs.values_list('parentjob__config__name').distinct())\n",
    "#print(set(all_calcs.values_list('method__name').distinct())-set(all_calcs.exclude(method__name__contains='_tda_').values_list('method__name').distinct()))\n",
    "#print()\n",
    "#    .prefetch_related('props')\n",
    "#grp_calcs = all_calcs.values('mol__inchikey').annotate(methods = 'parentjob__config__name')\n",
    "#print(grp_calcs)\n",
    "#print(serializers.serialize('json',))\n",
    "#print(all_calcs.values_list('mol__inchikey','mol__smiles','parentjob__config__name','props'))\n",
    "\n",
    "#for c in all_calcs:\n",
    "#print(c.geoms.get().as_xyz())\n",
    "#    print(c.mol.inchikey, c.parentjob.config.name, c.method.name, c.props.get('totalenergy'))\n",
    "#print(json.dump(list(grp_calcs)))\n",
    "\n",
    "\n",
    "calc_dict = {}\n",
    "for key, calc in itertools.groupby(all_calcs, lambda c: c.mol.inchikey):\n",
    "    listcalc = list(calc)\n",
    "    energy_dict = dict(map(lambda p: (p.parentjob.config.name, p.props), listcalc))\n",
    "    mol_dict = dict(map(lambda p: (key, p.mol.smiles), listcalc))\n",
    "    #print(energy_dict.keys())\n",
    "    res_dict = {'mol': Chem.MolFromSmiles(mol_dict[key])}\n",
    "    if 'b3lyp_6-31gs_opt_qchem' in energy_dict:\n",
    "        if 'b3lyp_6-31gs_opt_s1' in energy_dict:\n",
    "            s1_opt = energy_dict['b3lyp_6-31gs_opt_s1'].get('totalenergy') * 27.211399 - energy_dict['b3lyp_6-31gs_opt_qchem'].get('totalenergy') * 27.211399\n",
    "            res_dict.update({'s1_opt': s1_opt})\n",
    "        if ('b3lyp_6-31gs_opt_t1_qchem' in energy_dict):\n",
    "            t1_opt = energy_dict['b3lyp_6-31gs_opt_t1_qchem'].get('totalenergy') * 27.211399 - energy_dict[\n",
    "                                                                                                   'b3lyp_6-31gs_opt_qchem'].get(\n",
    "                'totalenergy') * 27.211399\n",
    "            res_dict.update({'t1_opt': t1_opt})\n",
    "        if ('b3lyp_6-31gs_opt_t1_qchem' in energy_dict) & ('b3lyp_6-31gs_opt_s1' in energy_dict):\n",
    "            res_dict.update({'s1-2t1': s1_opt - 2 * t1_opt})\n",
    "    if ('b3lyp_6-31gs_tddft' in energy_dict):\n",
    "        exst = energy_dict['b3lyp_6-31gs_tddft'].get('excitedstates')\n",
    "        if exst[0].get('multiplicity') == 'triplet':\n",
    "            res_dict.update({'t1_vert': (exst[0].get('energy'), exst[0].get('oscillator_strength'))})\n",
    "        for tran in exst:\n",
    "            if tran.get('multiplicity') == 'singlet':\n",
    "                res_dict.update({'s1_vert': (tran.get('energy'), tran.get('oscillator_strength'))})\n",
    "                break\n",
    "\n",
    "    if ('lcwpbeh_6-31gs_tddft' in energy_dict):\n",
    "        exst = energy_dict['lcwpbeh_6-31gs_tddft'].get('excitedstates')\n",
    "        if exst[0].get('multiplicity') == 'triplet':\n",
    "            res_dict.update({'t1_vert_lc': (exst[0].get('energy'), exst[0].get('oscillator_strength'))})\n",
    "        for tran in exst:\n",
    "            if tran.get('multiplicity') == 'singlet':\n",
    "                res_dict.update({'s1_vert_lc': (tran.get('energy'), tran.get('oscillator_strength'))})\n",
    "                break\n",
    "\n",
    "    if 'b3lyp_6-31gs_opt_qchem' in energy_dict:\n",
    "        #hl_gap = energy_dict['b3lyp_6-31gs_opt_qchem'].get('lumo')*27.211399-energy_dict['b3lyp_6-31gs_opt_qchem'].get('homo')*27.211399\n",
    "        hl_gap = (energy_dict['b3lyp_6-31gs_opt_qchem'].get('lumo') - energy_dict['b3lyp_6-31gs_opt_qchem'].get(\n",
    "            'homo')) * 27.211399\n",
    "        res_dict.update({'hl_gap': hl_gap})\n",
    "\n",
    "    method = 'b3lyp_6-31gs_opt_BS_qchem'\n",
    "    if method in energy_dict:\n",
    "        hl_gap = (energy_dict[method].get('lumo') - energy_dict[method].get('homo')) * 27.211399\n",
    "        res_dict.update({'hl_gap_BS': hl_gap})\n",
    "\n",
    "    calc_dict[key] = res_dict\n",
    "\n",
    "#print(calc_dict)\n",
    "df = pd.DataFrame(calc_dict).transpose()\n",
    "\n",
    "dfexp = pd.read_csv('/home/denn/harvard/SF/Library/exp_set_1_th.csv')\n",
    "dfexp['block'] = dfexp.smiles.apply(lambda s: block.Block(smiles=s))\n",
    "dfexp['mol'] = dfexp.block.apply(lambda b: b.mol)\n",
    "dfexp['inchikey'] = dfexp.block.apply(lambda b: b.inchikey)\n",
    "dfexpi = dfexp.set_index('inchikey')\n",
    "\n",
    "df_all = pd.merge(df, dfexpi, on='mol', how='right', right_index=True, left_index=True)\n",
    "\n",
    "#show(df_all[['mol','hl_gap','hl_gap_BS','s1_vert','s1_vert_lc','t1_opt','exp_s1']][:10])\n",
    "#show(df[['mol','hl_gap','hl_gap_BS','s1_vert','s1_vert_lc','s1_opt','t1_opt']])\n",
    "#df.to_html(open('sf_acenes_phz.html', 'w'),escape=False)"
   ]
  }
 ],
 "metadata": {
  "anaconda-cloud": {},
  "kernelspec": {
   "display_name": "Python [conda env:a2g2_idp]",
   "language": "python",
   "name": "conda-env-a2g2_idp-py"
  },
  "language_info": {
   "codemirror_mode": {
    "name": "ipython",
    "version": 3
   },
   "file_extension": ".py",
   "mimetype": "text/x-python",
   "name": "python",
   "nbconvert_exporter": "python",
   "pygments_lexer": "ipython3",
   "version": "3.5.2"
  }
 },
 "nbformat": 4,
 "nbformat_minor": 1
}
