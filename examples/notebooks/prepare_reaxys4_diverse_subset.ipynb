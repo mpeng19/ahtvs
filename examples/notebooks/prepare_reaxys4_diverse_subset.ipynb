{
 "cells": [
  {
   "cell_type": "code",
   "execution_count": null,
   "metadata": {
    "ExecuteTime": {
     "end_time": "2017-04-09T11:18:33.512734-04:00",
     "start_time": "2017-04-09T11:18:31.969605"
    }
   },
   "outputs": [],
   "source": [
    "import numpy as np\n",
    "import pandas as pd\n",
    "import matplotlib.pyplot as plt\n",
    "\n",
    "# this is all setup for the notebook\n",
    "from IPython.display import HTML\n",
    "import matplotlib\n",
    "%matplotlib inline\n",
    "from rdkit.Chem import AllChem as Chem\n",
    "from rdkit.Chem.Draw import IPythonConsole\n",
    "from rdkit.Chem import Draw\n",
    "from rdkit.Chem import PandasTools # headsup: this import change the behavior of dataframes with mols in them\n",
    "# some global configuration of the pandastools\n",
    "PandasTools.molRepresentation = 'svg'\n",
    "PandasTools.molSize = (200,200)\n",
    "\n",
    "from plotly.offline import download_plotlyjs, init_notebook_mode, iplot,plot\n",
    "from plotly.graph_objs import *\n",
    "init_notebook_mode()\n",
    "from plotly.tools import FigureFactory as FF\n",
    "\n",
    "\n",
    "#constatns\n",
    "HA_TO_EV = 27.211399\n",
    "PERIODICTABLE = Chem.GetPeriodicTable()\n",
    "NM_TO_EV=1240\n",
    "\n",
    "# this is a little helper function to render images inside a dataframe\n",
    "# once again, there are ways to monkey patch the rendering of dataframes, but I am trying to \n",
    "# avoid most of that to make things a bit easier to understand\n",
    "def show(df):\n",
    "    return HTML(df.to_html(escape=False))\n",
    "\n",
    "from rdkit import SimDivFilters,DataStructs"
   ]
  },
  {
   "cell_type": "code",
   "execution_count": null,
   "metadata": {
    "ExecuteTime": {
     "end_time": "2017-04-09T11:18:41.762152-04:00",
     "start_time": "2017-04-09T11:18:33.514772"
    },
    "scrolled": true
   },
   "outputs": [],
   "source": [
    "df_reaxys3 = pd.read_pickle('/home/denn/home/ml/data/sf/Reaxys4_fps_uv.pickle')\n",
    "df_reaxys3 = df_reaxys3.dropna(subset=['mean_rj'])[:]\n",
    "df_reaxys3=df_reaxys3[~df_reaxys3.index.duplicated(False)]\n",
    "#df_reaxys3.head(1)"
   ]
  },
  {
   "cell_type": "code",
   "execution_count": null,
   "metadata": {
    "ExecuteTime": {
     "end_time": "2017-04-09T11:29:26.151338-04:00",
     "start_time": "2017-04-09T11:19:02.916297"
    }
   },
   "outputs": [],
   "source": [
    "fps=df_reaxys3.morgan.apply(lambda arr: DataStructs.cDataStructs.CreateFromBitString(''.join(map(str, arr)))).tolist()"
   ]
  },
  {
   "cell_type": "code",
   "execution_count": null,
   "metadata": {
    "ExecuteTime": {
     "end_time": "2017-04-09T11:29:26.155051-04:00",
     "start_time": "2017-04-09T11:29:26.152773"
    }
   },
   "outputs": [],
   "source": [
    "# import pickle\n",
    "# with open('/home/denn/home/ml/data/sf/Reaxys4_fps_uv_list_fps_rdkit.pickle','wb') as f:\n",
    "#     pickle.dump(fps,f)"
   ]
  },
  {
   "cell_type": "code",
   "execution_count": null,
   "metadata": {
    "ExecuteTime": {
     "start_time": "2017-04-09T15:19:07.553Z"
    }
   },
   "outputs": [],
   "source": [
    "# def fn(i,j,fps=fps):\n",
    "#     return 1.0-DataStructs.TanimotoSimilarity(fps[i],fps[j])\n",
    "# mmp =SimDivFilters.MaxMinPicker()\n",
    "# lazy_ids = mmp.LazyPick(fn,1000,50)"
   ]
  },
  {
   "cell_type": "code",
   "execution_count": null,
   "metadata": {
    "ExecuteTime": {
     "end_time": "2017-04-07T09:04:21.398494-04:00",
     "start_time": "2017-04-07T09:01:37.219991"
    }
   },
   "outputs": [],
   "source": [
    "# mmp =SimDivFilters.MaxMinPicker()\n",
    "# bv_ids = mmp.LazyBitVectorPick(fps,len(fps),200)"
   ]
  },
  {
   "cell_type": "code",
   "execution_count": null,
   "metadata": {
    "ExecuteTime": {
     "start_time": "2017-04-09T15:19:28.521Z"
    }
   },
   "outputs": [],
   "source": [
    "for b in [5000,10000,20000]:\n",
    "    mmp =SimDivFilters.MaxMinPicker()\n",
    "    bv_ids = mmp.LazyBitVectorPick(fps,len(fps),b)\n",
    "    df_reaxys3.iloc[list(bv_ids)].to_pickle('/home/denn/home/ml/data/sf/Reaxys4_fps_uv_distinct_{}.pickle'.format(b))"
   ]
  },
  {
   "cell_type": "code",
   "execution_count": null,
   "metadata": {
    "ExecuteTime": {
     "end_time": "2017-04-07T10:43:33.094200-04:00",
     "start_time": "2017-04-07T10:43:33.021840"
    }
   },
   "outputs": [],
   "source": [
    "Draw.MolsToGridImage([Chem.MolFromSmiles(s) for s in df_reaxys3.iloc[list(bv_ids)].sample(10).Structure],molsPerRow=4)"
   ]
  },
  {
   "cell_type": "code",
   "execution_count": null,
   "metadata": {},
   "outputs": [],
   "source": [
    "# import pickle\n",
    "# with open('/home/denn/home/ml/data/sf/Reaxys4_fps_uv_list_fps_rdkit.pickle','wb') as f:\n",
    "#     pickle.dump(fps,f)"
   ]
  }
 ],
 "metadata": {
  "kernelspec": {
   "display_name": "Python [conda env:a2g2_idp]",
   "language": "python",
   "name": "conda-env-a2g2_idp-py"
  },
  "language_info": {
   "codemirror_mode": {
    "name": "ipython",
    "version": 3
   },
   "file_extension": ".py",
   "mimetype": "text/x-python",
   "name": "python",
   "nbconvert_exporter": "python",
   "pygments_lexer": "ipython3",
   "version": "3.5.2"
  }
 },
 "nbformat": 4,
 "nbformat_minor": 2
}
