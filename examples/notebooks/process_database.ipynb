{
 "cells": [
  {
   "cell_type": "code",
   "execution_count": null,
   "metadata": {
    "ExecuteTime": {
     "end_time": "2018-05-03T20:35:51.677801-04:00",
     "start_time": "2018-05-03T20:35:51.528700Z"
    },
    "nbpresent": {
     "id": "c6a8c0fe-70d9-4ba9-bc78-c7ae67088136"
    }
   },
   "outputs": [],
   "source": [
    "import os\n",
    "import sys\n",
    "import django\n",
    "import pprint\n",
    "import pandas as pd\n",
    "from django_pandas.io import read_frame\n",
    "import itertools\n",
    "from blocks import block\n",
    "import numpy as np\n",
    "\n",
    "# setup the djhango settings file.  Change this to use the settings file that connects you to your desired database\n",
    "os.environ[\"DJANGO_SETTINGS_MODULE\"] = \"djangochem.settings.denn\"\n",
    "# this must be run to setup access to the django settings and make database access work etc.\n",
    "django.setup()\n",
    "\n",
    "# import the models that you want to access\n",
    "from pgmols.models import Mol, Calc, Geom\n",
    "from jobs.models import Job, JobConfig\n",
    "\n",
    "# this is all setup for the notebook\n",
    "from IPython.display import HTML\n",
    "import matplotlib\n",
    "%matplotlib inline\n",
    "from rdkit.Chem import AllChem as Chem\n",
    "from rdkit.Chem.Draw import IPythonConsole\n",
    "from rdkit.Chem import Draw\n",
    "from rdkit.Chem import PandasTools # headsup: this import change the behavior of dataframes with mols in them\n",
    "# some global configuration of the pandastools\n",
    "PandasTools.molRepresentation = 'svg'\n",
    "PandasTools.molSize = (200,200)\n",
    "\n",
    "from plotly.offline import download_plotlyjs, init_notebook_mode, iplot,plot\n",
    "from plotly.graph_objs import *\n",
    "init_notebook_mode()\n",
    "from plotly.tools import FigureFactory as FF\n",
    "\n",
    "\n",
    "#constatns\n",
    "HA_TO_EV = 27.211399\n",
    "PERIODICTABLE = Chem.GetPeriodicTable()\n",
    "NM_TO_EV=1240\n",
    "\n",
    "# this is a little helper function to render images inside a dataframe\n",
    "# once again, there are ways to monkey patch the rendering of dataframes, but I am trying to \n",
    "# avoid most of that to make things a bit easier to understand\n",
    "def show(df):\n",
    "    return HTML(df.to_html(escape=False))\n",
    "\n",
    "# covert from database geoms obect to xyz file format string\n",
    "def to_xyz(geoms):\n",
    "    output = str(len(geoms)) + \"\\n\\n\"\n",
    "    for g in geoms:\n",
    "        output += \" \".join([PERIODICTABLE.GetElementSymbol(int(g[0])), str(g[1]), str(g[2]), str(g[3])]) + \"\\n\"\n",
    "    return output\n",
    "\n",
    "\n"
   ]
  },
  {
   "cell_type": "code",
   "execution_count": null,
   "metadata": {},
   "outputs": [],
   "source": []
  },
  {
   "cell_type": "code",
   "execution_count": null,
   "metadata": {
    "ExecuteTime": {
     "end_time": "2018-05-02T22:30:14.783624-04:00",
     "start_time": "2018-05-02T22:30:14.713574Z"
    },
    "code_folding": [
     9
    ]
   },
   "outputs": [],
   "source": [
    "import IPython.display\n",
    "import time, json\n",
    "\n",
    "#surface type constants\n",
    "VDW =1\n",
    "MS=2\n",
    "SAS=3\n",
    "SES=4\n",
    "\n",
    "class view3dMol(object):\n",
    "    '''A class for constructing embedded 3Dmol.js views in ipython notebooks.\n",
    "       The results are completely static which means there is no need for there\n",
    "       to be an active kernel but also that there is no communication between\n",
    "       the javascript viewer and ipython.\n",
    "       \n",
    "       The API for the created object is exactly that for $3Dmol.GLViewer, with\n",
    "       the exception that the functions all return None.\n",
    "       http://3dmol.csb.pitt.edu/doc/$3Dmol.GLViewer.html\n",
    "    '''\n",
    "    def __init__(self,width=640,height=480,query='',options=dict(),js='http://3dmol.csb.pitt.edu/build/3Dmol.js'):\n",
    "        '''Create a 3Dmol.js view.\n",
    "            width -- width in pixels of container\n",
    "            height -- height in pixels of container\n",
    "            query -- optional argument to provide to $3Dmol.download\n",
    "            options -- optional options to provide to $3Dmol.download\n",
    "            js -- url for 3Dmol.js'''\n",
    "        divid = \"3dmolviewer_UNIQUEID\" \n",
    "        \n",
    "        self.startjs = '<div id=\"%s\"  style=\"position: relative; width: %dpx; height: %dpx\">' % (divid,width,height)\n",
    "        self.startjs += '<script>'\n",
    "        self.endjs = '</script>';\n",
    "        \n",
    "        #load 3dmol, but only once\n",
    "        self.startjs += \"if(typeof $3Dmolpromise === 'undefined') $3Dmolpromise = $.when($.getScript('%s'))\" % js\n",
    "        \n",
    "        self.startjs += \";$3Dmolpromise.done(function() {\";\n",
    "        self.endjs = \"});\" + self.endjs\n",
    "        \n",
    "        self.startjs += 'var viewer = $3Dmol.createViewer($(\"#%s\"),{backgroundColor:\"white\"});' % divid\n",
    "        if query:\n",
    "            self.startjs += '$3Dmol.download(\"%s\", viewer, %s, function() {' % (query,json.dumps(options))\n",
    "            self.endjs = \"})\" + self.endjs        \n",
    "        self.endjs = \"viewer.render();\" + self.endjs;\n",
    "\n",
    "    def show(self):\n",
    "        return IPython.display.HTML(self._repr_html_())\n",
    "    \n",
    "    def _repr_html_(self):\n",
    "        html = (self.startjs+self.endjs).replace('UNIQUEID',str(time.time()).replace('.',''))\n",
    "        #print html\n",
    "        return html\n",
    "\n",
    "    def _repr_html1_(self,conformer):\n",
    "        html = (self.startjs+self.endjs).replace('UNIQUEID',str(conformer))\n",
    "        #print html\n",
    "        return html\n",
    "    \n",
    "    def __getattr__(self,name):\n",
    "        '''auto-instantiate javascript calls based on whatever the user provided'''\n",
    "        if name.startswith('_'): #object to ipython canary functions\n",
    "            raise AttributeError(\"%r object has no attribute %r\" %\n",
    "                         (self.__class__, attr))\n",
    "        def makejs(*args):            \n",
    "            cmd = 'viewer.%s(' % name;\n",
    "            for arg in args:\n",
    "                cmd += '%s,' % json.dumps(arg)\n",
    "            cmd = cmd.rstrip(',')\n",
    "            cmd += ');';\n",
    "            self.startjs += cmd\n",
    "            return self\n",
    "            \n",
    "        return makejs"
   ]
  },
  {
   "cell_type": "code",
   "execution_count": null,
   "metadata": {
    "ExecuteTime": {
     "end_time": "2018-05-02T22:30:15.446205-04:00",
     "start_time": "2018-05-02T22:30:15.429428Z"
    },
    "code_folding": [
     0
    ]
   },
   "outputs": [],
   "source": [
    "#Header for HTML table output\n",
    "# Reference Semantic.ui\n",
    "# JQuery\n",
    "html_start = \"\"\"\n",
    "<!DOCTYPE html>\n",
    "<html>\n",
    "<head>\n",
    "<meta http-equiv=\"Content-type\" content=\"text/html; charset=utf-8\">\n",
    "<meta name=\"viewport\" content=\"width=device-width,initial-scale=1\">\n",
    "<title>SF Candidates</title>\n",
    "\n",
    "<link rel=\"stylesheet\" type=\"text/css\" href=\"https://cdn.datatables.net/v/dt/jqc-1.12.3/jszip-2.5.0/pdfmake-0.1.18/dt-1.10.12/b-1.2.2/b-colvis-1.2.2/b-html5-1.2.2/fh-3.1.2/r-2.1.0/sc-1.4.2/datatables.min.css\"/>\n",
    " \n",
    "<script type=\"text/javascript\" src=\"https://cdn.datatables.net/v/dt/jqc-1.12.3/jszip-2.5.0/pdfmake-0.1.18/dt-1.10.12/b-1.2.2/b-colvis-1.2.2/b-html5-1.2.2/fh-3.1.2/r-2.1.0/sc-1.4.2/datatables.min.js\"></script>\n",
    "\n",
    "\n",
    "\n",
    "<link rel=\"stylesheet\" type=\"text/css\" href=\"https://cdnjs.cloudflare.com/ajax/libs/semantic-ui/2.2.1/semantic.min.css\">\n",
    "<link rel=\"stylesheet\" type=\"text/css\" href=\"https://cdn.datatables.net/1.10.12/css/dataTables.semanticui.min.css\">\n",
    "<link rel=\"stylesheet\" type=\"text/css\" href=\"https://cdn.datatables.net/buttons/1.2.2/css/buttons.semanticui.min.css\">\n",
    "\n",
    "\n",
    "\t<script type=\"text/javascript\" language=\"javascript\" src=\"https://cdn.datatables.net/1.10.12/js/dataTables.semanticui.min.js\">\n",
    "\t</script>\n",
    "\t<script type=\"text/javascript\" language=\"javascript\" src=\"https://cdnjs.cloudflare.com/ajax/libs/semantic-ui/2.2.1/semantic.min.js\">\n",
    "\t</script>\n",
    "    <script type=\"text/javascript\" language=\"javascript\" src=\"https://cdnjs.cloudflare.com/ajax/libs/3Dmol/1.0.6/3Dmol-nojquery-min.js\">\n",
    "\t</script>\n",
    "\t\n",
    "    <style type=\"text/css\" class=\"init\">\n",
    "\t\n",
    "\t</style>\n",
    "\t<script type=\"text/javascript\" class=\"init\">\n",
    "\t\n",
    "        $(document).ready(function() {\n",
    "            var table = $('#example').DataTable( {\n",
    "                lengthChange: true,\n",
    "                \"lengthMenu\": [ 3, 10, 25, 50, 75, 100 ],\n",
    "                buttons: [ 'copy', 'excel', 'colvis' ],\n",
    "                \n",
    "            } );\n",
    "        \n",
    "            table.buttons().container()\n",
    "                .appendTo( $('div.eight.column:eq(0)', table.table().container()) );\n",
    "        } );\n",
    "        var blobObject = null;\n",
    "\n",
    "        function createDownloadLink(anchorSelector, str, fileName){\n",
    "\n",
    "            if(window.navigator.msSaveOrOpenBlob) {\n",
    "                var fileData = [str];\n",
    "                blobObject = new Blob(fileData);\n",
    "                $(anchorSelector).click(function(){\n",
    "                    window.navigator.msSaveOrOpenBlob(blobObject, fileName);\n",
    "                });\n",
    "            } else {\n",
    "                var url = \"data:text/plain;charset=utf-8,\" + encodeURIComponent(str);\n",
    "                $(anchorSelector).attr(\"href\", url);\n",
    "            }\n",
    "        }\n",
    "\t</script>\n",
    "</head>\n",
    "<body>\n",
    "<div class=\"ui container\">\n",
    "\"\"\"\n",
    "\n",
    "html_end = \"\"\"\n",
    "</div>\n",
    "</body>\n",
    "</html>\n",
    "\"\"\""
   ]
  },
  {
   "cell_type": "code",
   "execution_count": null,
   "metadata": {
    "ExecuteTime": {
     "end_time": "2018-05-07T19:21:53.068948-04:00",
     "start_time": "2018-05-07T19:20:29.526714Z"
    },
    "nbpresent": {
     "id": "fe6df8b8-742c-49fe-a533-2e221d1c58ed"
    }
   },
   "outputs": [],
   "source": [
    "from django.db.models.expressions import RawSQL\n",
    "from django.core import serializers\n",
    "from django.db.models import Q,F,Min,Case,When,Value\n",
    "#    .filter(Q(mol__inchikey__contains='BIOPPFDHKHWJIA')|Q(mol__inchikey__contains='NXXNVJDXUHMAHU')|Q(mol__inchikey__contains='QQLRAWFMOWCSBU')|Q(mol__inchikey__contains='MWPLVEDNUUSJAV'))\\\n",
    "all_calcs = Calc.objects \\\n",
    "    .filter(mol__group__name__exact='sf_lib',\n",
    "            parentjob__status__exact='done',\n",
    "            method__name__contains='hybrid') \\\n",
    "    .filter(Q(mol__tags__contains=['reaxys1'])|Q(mol__tags__contains=['emol1'])|Q(mol__tags__contains=['anthracene2'])|Q(mol__tags__contains=['reaxys2'])|Q(mol__tags__contains=['reaxys5']))\\\n",
    "    .exclude(Q(method__name__contains='_tda_')\n",
    "               |\n",
    "#              Q(geoms__parentjob__config__parent_class_name__exact='Mol')|\n",
    "            Q(mol__tags__contains=['bridge'])|\n",
    "            Q(mol__tags__contains=['acceptor'])\n",
    "            )\\\n",
    "    .annotate(totalenergy=RawSQL(\"((props->>%s)::numeric)\", ('totalenergy',)))\\\n",
    "    .annotate(homo=RawSQL(\"((props->>%s)::numeric)\", ('homo',)))\\\n",
    "    .annotate(lumo=RawSQL(\"((props->>%s)::numeric)\", ('lumo',)))\\\n",
    "    .annotate(s2=Case(When(Q(parentjob__config__name='b3lyp_6-31gs_opt_t1_qchem')|\n",
    "                                 Q(parentjob__config__name='b3lyp_6-31gs_opt_BS_qchem'),\n",
    "                                 then=RawSQL(\"((props->>%s)::numeric)\", ('s2',)))),default=Value(None))\\\n",
    "    .annotate(excitedstates=Case(When(parentjob__config__name__contains='tddft',\n",
    "                                 then=RawSQL(\"((props->>%s)::json)\", ('excitedstates',)))), default=Value(None))\\\n",
    "    .order_by('mol__inchikey','parentjob__config__name','totalenergy')\n",
    "\n",
    "\n",
    "all_calcs_values=all_calcs.values('id',\n",
    "                                  'geoms__parentjob__config__name',\n",
    "                                  'geoms__xyz',\n",
    "                                  'geoms__method',\n",
    "                                  'geoms__parents',\n",
    "                                  'geoms__parents__xyz',\n",
    "                                  'geoms__parents__method',\n",
    "                                  'geoms__parents__parents',\n",
    "                                  'mol__inchikey',\n",
    "                                  'mol__smiles',\n",
    "                                  'mol__tags',\n",
    "                                  'method__name',\n",
    "                                  'parentjob__config__name',\n",
    "                                  'totalenergy',\n",
    "                                  's2',\n",
    "                                  'excitedstates',\n",
    "                                  'homo',\n",
    "                                  'lumo',\n",
    "                                 )\n",
    "\n",
    "all_calcs_dict=list(all_calcs_values)\n",
    "df = pd.DataFrame(all_calcs_dict)\n",
    "\n",
    "show(df[['id','geoms__parents','mol__inchikey','parentjob__config__name','totalenergy']][:1])"
   ]
  },
  {
   "cell_type": "code",
   "execution_count": null,
   "metadata": {
    "ExecuteTime": {
     "end_time": "2018-05-07T19:26:54.520934-04:00",
     "start_time": "2018-05-07T19:26:53.676973Z"
    }
   },
   "outputs": [],
   "source": [
    "df['parentjob__config__name']=df['parentjob__config__name'].str.replace('-','_')\n",
    "df['geoms__parentjob__config__name']=df['geoms__parentjob__config__name'].str.replace('-','_')\n",
    "df['mol__inchikey']=df['mol__inchikey'].str.split('-').str[0]\n",
    "\n",
    "df['totalenergy']=df['totalenergy'].astype(float)\n",
    "df['s2']=df['s2'].astype(float)\n",
    "df['homo']=df['homo'].astype(float)\n",
    "df['lumo']=df['lumo'].astype(float)\n",
    "\n",
    "print(df.info())\n",
    "show(df[['id','geoms__parents','mol__inchikey','parentjob__config__name','totalenergy']].sample(1))"
   ]
  },
  {
   "cell_type": "code",
   "execution_count": null,
   "metadata": {
    "ExecuteTime": {
     "end_time": "2018-05-02T22:39:11.778624-04:00",
     "start_time": "2018-05-02T22:39:11.712186Z"
    }
   },
   "outputs": [],
   "source": [
    "df_smiles=pd.DataFrame(list(Mol.objects.filter(group__name__exact='sf_lib').values('inchikey','smiles','tags')))\n",
    "df_smiles=df_smiles.rename(columns={'inchikey':'mol__inchikey','smiles':'mol__smiles','tags':'mol__tags'})\n",
    "#df_smiles=df_smiles.drop_duplicates()\n",
    "df_smiles['mol__inchikey']=df_smiles['mol__inchikey'].str.split('-').str[0]\n",
    "df_smiles=df_smiles.set_index('mol__inchikey')\n",
    "show(df_smiles[:2])"
   ]
  },
  {
   "cell_type": "code",
   "execution_count": null,
   "metadata": {
    "ExecuteTime": {
     "end_time": "2018-05-02T22:39:45.029386-04:00",
     "start_time": "2018-05-02T22:39:12.842501Z"
    }
   },
   "outputs": [],
   "source": [
    "#Get B3LYP geometries in XYZ file format for conformers indexed by geoms geomID\n",
    "df_xyz=df[['geoms__method','geoms__parents','geoms__parentjob__config__name','mol__inchikey','geoms__xyz']]\n",
    "df_xyz=df_xyz[(df_xyz.geoms__parentjob__config__name=='b3lyp_6_31gs_opt_qchem')|(df_xyz.geoms__parentjob__config__name=='b3lyp_6_31gs_opt_BS_qchem')]\n",
    "df_xyz=df_xyz.drop_duplicates(subset=['geoms__parents','mol__inchikey'])\n",
    "df_xyz['xyz']=df['geoms__xyz'].apply(to_xyz)\n",
    "df_xyz=df_xyz.set_index(['geoms__parents'])\n",
    "print(df_xyz.count())"
   ]
  },
  {
   "cell_type": "code",
   "execution_count": null,
   "metadata": {
    "ExecuteTime": {
     "end_time": "2018-05-02T22:39:45.037827-04:00",
     "start_time": "2018-05-02T22:39:45.031675Z"
    }
   },
   "outputs": [],
   "source": [
    "df_xyz['geoms__method'].mean()\n",
    "#df_xyz.count()\n"
   ]
  },
  {
   "cell_type": "code",
   "execution_count": null,
   "metadata": {
    "ExecuteTime": {
     "end_time": "2018-05-03T21:34:01.726064-04:00",
     "start_time": "2018-05-03T21:34:01.706535Z"
    }
   },
   "outputs": [],
   "source": [
    "def to_sdf(geoms,name):\n",
    "    output =name+'\\n\\n\\n{0:03d}'.format(len(geoms)) + \"  0  0  0  1  0            999 V2000\\n\"\n",
    "    for g in geoms:\n",
    "        output += '{:10.4f}{:10.4f}{:10.4f} {:<3}{}\\n'.format((g[1]), (g[2]), (g[3]), PERIODICTABLE.GetElementSymbol(int(g[0])), \" 0  0  0  0  0  0\")\n",
    "    output += 'M  END\\n$$$$'\n",
    "    return output  \n",
    "\n",
    "sdf_savepath = \"/home/denn/home2/data/\"\n",
    "for i,r in df_xyz[:2].iterrows():\n",
    "    with(open(os.path.join(sdf_savepath,\"{}_{}.sdf\".format(str(r.mol__inchikey),str(i))), \"w\")) as sdf_file:\n",
    "        sdf_file.write(to_sdf(r.geoms__xyz,\"{}_{}\".format(str(r.mol__inchikey),str(i))))\n"
   ]
  },
  {
   "cell_type": "code",
   "execution_count": null,
   "metadata": {
    "ExecuteTime": {
     "end_time": "2018-05-04T01:18:48.862996-04:00",
     "start_time": "2018-05-04T01:18:47.611377Z"
    },
    "code_folding": []
   },
   "outputs": [],
   "source": [
    "from rdkit import Chem\n",
    "from rdkit.Chem import AllChem\n",
    "import itertools\n",
    "from rdkit.Chem import rdmolops\n",
    "from collections import defaultdict\n",
    "import copy\n",
    "\n",
    "\n",
    "def getUA(maxValence_list, valence_list):\n",
    "    UA = []\n",
    "    DU = []\n",
    "    for i, (maxValence,valence) in enumerate(zip(maxValence_list, valence_list)):\n",
    "        if maxValence - valence > 0:\n",
    "            UA.append(i)\n",
    "            DU.append(maxValence - valence)\n",
    "    return UA,DU\n",
    "\n",
    "\n",
    "def get_BO(AC,valences):\n",
    "    BO = AC.copy()\n",
    "    BO_valence = list(BO.sum(axis=1))\n",
    "    UA,DU = getUA(valences, BO_valence)\n",
    "\n",
    "    while len(DU) > 1:\n",
    "        UA_pairs = list(itertools.combinations(UA, 2))\n",
    "\n",
    "        for i,j in UA_pairs:\n",
    "            if BO[i,j] > 0:\n",
    "                BO[i,j] += 1\n",
    "                BO[j,i] += 1\n",
    "                break\n",
    "        \n",
    "        BO_valence = list(BO.sum(axis=1))\n",
    "        UA_new, DU_new = getUA(valences, BO_valence)\n",
    "\n",
    "        if DU_new != DU:\n",
    "            UA = copy.copy(UA_new)\n",
    "            DU = copy.copy(DU_new)\n",
    "        else:\n",
    "            break\n",
    "    \n",
    "    return BO\n",
    "\n",
    "\n",
    "def BO_is_OK(BO,AC,charge,DU,atomic_valence_electrons,atomicNumList,charged_fragments):\n",
    "\n",
    "    q = 0\n",
    "    if charged_fragments:\n",
    "        BO_valences = list(BO.sum(axis=1))\n",
    "        for i,atom in enumerate(atomicNumList):\n",
    "            q += get_atomic_charge(atom,atomic_valence_electrons[atom],BO_valences[i])\n",
    "            if atom == 6:\n",
    "                number_of_single_bonds_to_C = list(BO[i,:]).count(1)\n",
    "                if number_of_single_bonds_to_C == 2 and BO_valences[i] == 2:\n",
    "                    q += 1\n",
    "                if number_of_single_bonds_to_C == 3 and q + 1 < charge:\n",
    "                    q += 2\n",
    "\n",
    "    if (BO-AC).sum() == sum(DU) and charge == q:\n",
    "        return True\n",
    "    else:\n",
    "        return False\n",
    "\n",
    "\n",
    "def get_atomic_charge(atom,atomic_valence_electrons,BO_valence):\n",
    "    if atom == 1:\n",
    "        charge = 1 - BO_valence\n",
    "    elif atom == 5:\n",
    "        charge = 3 - BO_valence\n",
    "    elif atom == 15 and BO_valence == 5:\n",
    "        charge = 0\n",
    "    elif atom == 16 and BO_valence == 6:\n",
    "        charge = 0\n",
    "    else:\n",
    "        charge = atomic_valence_electrons - 8 + BO_valence\n",
    "          \n",
    "    return charge\n",
    "\n",
    "def clean_charges(mol):\n",
    "# this is a temporary hack. The real solution is to generate several BO matrices in AC2BO and pick the one\n",
    "# with the lowest number of atomic charges\n",
    "#\n",
    "    rxn_smarts = ['[N+:1]=[*:2]-[O-:3]>>[N+0:1]-[*:2]=[O-0:3]',\n",
    "                  '[N+:1]=[*:2]-[*:3]=[*:4]-[O-:5]>>[N+0:1]-[*:2]=[*:3]-[*:4]=[O-0:5]']\n",
    "\n",
    "    for smarts in rxn_smarts:\n",
    "        patt = Chem.MolFromSmarts(smarts.split(\">>\")[0])\n",
    "        while mol.HasSubstructMatch(patt):\n",
    "            rxn = AllChem.ReactionFromSmarts(smarts)\n",
    "            ps = rxn.RunReactants((mol,))\n",
    "            mol = ps[0][0]\n",
    "                    \n",
    "    return mol\n",
    "\n",
    "\n",
    "def BO2mol(mol,BO_matrix, atomicNumList,atomic_valence_electrons,mol_charge,charged_fragments):\n",
    "# based on code written by Paolo Toscani\n",
    "\n",
    "    l = len(BO_matrix)\n",
    "    l2 = len(atomicNumList)\n",
    "    BO_valences = list(BO_matrix.sum(axis=1))\n",
    "\n",
    "    if (l != l2):\n",
    "        raise RuntimeError('sizes of adjMat ({0:d}) and atomicNumList '\n",
    "            '{1:d} differ'.format(l, l2))\n",
    "\n",
    "    rwMol = Chem.RWMol(mol)\n",
    "\n",
    "    bondTypeDict = {\n",
    "        1: Chem.BondType.SINGLE,\n",
    "        2: Chem.BondType.DOUBLE,\n",
    "        3: Chem.BondType.TRIPLE\n",
    "    }\n",
    "\n",
    "    for i in range(l):\n",
    "        for j in range(i + 1, l):\n",
    "            bo = int(round(BO_matrix[i, j]))\n",
    "            if (bo == 0):\n",
    "                continue\n",
    "            bt = bondTypeDict.get(bo, Chem.BondType.SINGLE)\n",
    "            rwMol.AddBond(i, j, bt)\n",
    "    mol = rwMol.GetMol()\n",
    "\n",
    "    if charged_fragments:\n",
    "        mol = set_atomic_charges(mol,atomicNumList,atomic_valence_electrons,BO_valences,BO_matrix,mol_charge)\n",
    "    else:\n",
    "        mol = set_atomic_radicals(mol,atomicNumList,atomic_valence_electrons,BO_valences)\n",
    "\n",
    "    return mol\n",
    "\n",
    "def set_atomic_charges(mol,atomicNumList,atomic_valence_electrons,BO_valences,BO_matrix,mol_charge):\n",
    "    q = 0\n",
    "    for i,atom in enumerate(atomicNumList):\n",
    "        a = mol.GetAtomWithIdx(i)\n",
    "        charge = get_atomic_charge(atom,atomic_valence_electrons[atom],BO_valences[i])\n",
    "        q += charge\n",
    "        if atom == 6:\n",
    "            number_of_single_bonds_to_C = list(BO_matrix[i,:]).count(1)\n",
    "            if number_of_single_bonds_to_C == 2 and BO_valences[i] == 2:\n",
    "                    q += 1\n",
    "                    charge = 0\n",
    "            if number_of_single_bonds_to_C == 3 and q + 1 < mol_charge:\n",
    "                    q += 2\n",
    "                    charge = 1\n",
    "\n",
    "        if (abs(charge) > 0):\n",
    "            a.SetFormalCharge(int(charge))\n",
    "    rdmolops.SanitizeMol(mol)\n",
    "\n",
    "    mol = clean_charges(mol)\n",
    "\n",
    "    return mol\n",
    "\n",
    "\n",
    "def set_atomic_radicals(mol,atomicNumList,atomic_valence_electrons,BO_valences):\n",
    "# The number of radical electrons = absolute atomic charge\n",
    "    for i,atom in enumerate(atomicNumList):\n",
    "        a = mol.GetAtomWithIdx(i)\n",
    "        charge = get_atomic_charge(atom,atomic_valence_electrons[atom],BO_valences[i])\n",
    "\n",
    "        if (abs(charge) > 0):\n",
    "            a.SetNumRadicalElectrons(int(abs(charge)))\n",
    "\n",
    "    return mol\n",
    "\n",
    "\n",
    "def AC2BO(AC,atomicNumList,charge,charged_fragments):\n",
    "    atomic_valence = defaultdict(list)\n",
    "    atomic_valence[1] = [1]\n",
    "    atomic_valence[6] = [3]\n",
    "    atomic_valence[6] = [4]\n",
    "    atomic_valence[7] = [4,3]\n",
    "    atomic_valence[8] = [2,1]\n",
    "    atomic_valence[9] = [1]\n",
    "    atomic_valence[14] = [4]\n",
    "    atomic_valence[15] = [5,4,3]\n",
    "    atomic_valence[16] = [6,4,2]\n",
    "    atomic_valence[17] = [1]\n",
    "    atomic_valence[35] = [1]\n",
    "    atomic_valence[53] = [1]\n",
    "    \n",
    "\n",
    "    atomic_valence_electrons = {}\n",
    "    atomic_valence_electrons[1] = 1\n",
    "    atomic_valence_electrons[5] = 3\n",
    "    atomic_valence_electrons[6] = 4\n",
    "    atomic_valence_electrons[7] = 5\n",
    "    atomic_valence_electrons[8] = 6\n",
    "    atomic_valence_electrons[9] = 7\n",
    "    atomic_valence_electrons[14] = 4\n",
    "    atomic_valence_electrons[15] = 5\n",
    "    atomic_valence_electrons[16] = 6\n",
    "    atomic_valence_electrons[17] = 7\n",
    "    atomic_valence_electrons[35] = 7\n",
    "    atomic_valence_electrons[53] = 7\n",
    "\n",
    "# make a list of valences, e.g. for CO: [[4],[2,1]]\n",
    "    valences_list_of_lists = []\n",
    "    for atomicNum in atomicNumList:\n",
    "        valences_list_of_lists.append(atomic_valence[atomicNum])\n",
    "\n",
    "# convert [[4],[2,1]] to [[4,2],[4,1]]\n",
    "    valences_list = list(itertools.product(*valences_list_of_lists))\n",
    "\n",
    "    best_BO = AC.copy()\n",
    "\n",
    "# implemenation of algorithm shown in Figure 2\n",
    "# UA: unsaturated atoms\n",
    "# DU: degree of unsaturation (u matrix in Figure)\n",
    "# best_BO: Bcurr in Figure \n",
    "#\n",
    "    for valences in valences_list:\n",
    "        AC_valence = list(AC.sum(axis=1))\n",
    "        UA,DU_from_AC = getUA(valences, AC_valence)\n",
    "        if len(UA) == 0 or BO_is_OK(AC,AC,charge,DU_from_AC,atomic_valence_electrons,atomicNumList,charged_fragments):\n",
    "            best_BO = AC.copy()\n",
    "            break\n",
    "        else:\n",
    "            BO = get_BO(AC,valences)\n",
    "            if BO_is_OK(BO,AC,charge,DU_from_AC,atomic_valence_electrons,atomicNumList,charged_fragments):\n",
    "                best_BO = BO.copy()\n",
    "                break\n",
    "            elif BO.sum() > best_BO.sum():\n",
    "                    best_BO = BO.copy()\n",
    "\n",
    "    return best_BO,atomic_valence_electrons\n",
    "\n",
    "\n",
    "def AC2mol(mol,AC,atomicNumList,charge,charged_fragments):\n",
    "# convert AC matrix to bond order (BO) matrix\n",
    "    BO,atomic_valence_electrons = AC2BO(AC,atomicNumList,charge,charged_fragments)\n",
    "\n",
    "# add BO connectivity and charge info to mol object\n",
    "    mol = BO2mol(mol,BO, atomicNumList,atomic_valence_electrons,charge,charged_fragments)\n",
    "    \n",
    "    return mol\n",
    "\n",
    "\n",
    "def get_proto_mol(atomicNumList):\n",
    "    mol = Chem.MolFromSmarts(\"[#\"+str(atomicNumList[0])+\"]\")\n",
    "    rwMol = Chem.RWMol(mol)\n",
    "    for i in range(1,len(atomicNumList)):\n",
    "        a = Chem.Atom(int(atomicNumList[i]))\n",
    "        rwMol.AddAtom(a)\n",
    "    \n",
    "    mol = rwMol.GetMol()\n",
    "\n",
    "    return mol\n",
    "\n",
    "def get_atomicNumList(atomic_symbols):\n",
    "    symbol2number = {}\n",
    "    symbol2number[\"H\"] = 1\n",
    "    symbol2number[\"B\"] = 5\n",
    "    symbol2number[\"C\"] = 6\n",
    "    symbol2number[\"N\"] = 7\n",
    "    symbol2number[\"O\"] = 8\n",
    "    symbol2number[\"F\"] = 9\n",
    "    symbol2number[\"Si\"] = 14\n",
    "    symbol2number[\"P\"] = 15\n",
    "    symbol2number[\"S\"] = 16\n",
    "    symbol2number[\"Cl\"] = 17\n",
    "    symbol2number[\"Br\"] = 35\n",
    "    symbol2number[\"I\"] = 53\n",
    "    \n",
    "    atomicNumList = []\n",
    "    \n",
    "    for symbol in atomic_symbols:\n",
    "        atomicNumList.append(symbol2number[symbol])\n",
    "    \n",
    "    return atomicNumList\n",
    "\n",
    "def read_xyz_file(filename):\n",
    "\n",
    "    atomic_symbols = []\n",
    "    xyz_coordinates = []\n",
    "\n",
    "    with open(filename, \"r\") as file:\n",
    "        for line_number,line in enumerate(file):\n",
    "            if line_number == 0:\n",
    "                num_atoms = int(line)\n",
    "            elif line_number == 1:\n",
    "                if \"charge=\" in line:\n",
    "                    charge = int(line.split(\"=\")[1])\n",
    "                else:\n",
    "                    charge = 0\n",
    "            else:\n",
    "                atomic_symbol, x, y, z = line.split()\n",
    "                atomic_symbols.append(atomic_symbol)\n",
    "                xyz_coordinates.append([float(x),float(y),float(z)])\n",
    "\n",
    "    atomicNumList = get_atomicNumList(atomic_symbols)\n",
    "    \n",
    "    return atomicNumList,charge,xyz_coordinates\n",
    "\n",
    "def xyz2AC(atomicNumList,xyz):\n",
    "    import numpy as np\n",
    "    mol = get_proto_mol(atomicNumList)\n",
    "\n",
    "    conf = Chem.Conformer(mol.GetNumAtoms())\n",
    "    for i in range(mol.GetNumAtoms()):\n",
    "        conf.SetAtomPosition(i,(xyz[i][0],xyz[i][1],xyz[i][2]))\n",
    "    mol.AddConformer(conf)\n",
    "\n",
    "    dMat = Chem.Get3DDistanceMatrix(mol)\n",
    "    pt = Chem.GetPeriodicTable()\n",
    "\n",
    "    num_atoms = len(atomicNumList)\n",
    "    AC = np.zeros((num_atoms,num_atoms)).astype(int)\n",
    "\n",
    "    for i in range(num_atoms):\n",
    "        a_i = mol.GetAtomWithIdx(i)\n",
    "        Rcov_i = pt.GetRcovalent(a_i.GetAtomicNum())*1.30\n",
    "        for j in range(i+1,num_atoms):\n",
    "            a_j = mol.GetAtomWithIdx(j)\n",
    "            Rcov_j = pt.GetRcovalent(a_j.GetAtomicNum())*1.30\n",
    "            if dMat[i,j] <= Rcov_i + Rcov_j:\n",
    "                AC[i,j] = 1\n",
    "                AC[j,i] = 1\n",
    "\n",
    "    return AC,mol\n",
    "\n",
    "def xyz2mol(atomicNumList,charge,xyz_coordinates,charged_fragments):\n",
    "\n",
    "# Get atom connectivity (AC) matrix, list of atomic numbers, molecular charge, \n",
    "# and mol object with no connectivity information\n",
    "    AC,mol = xyz2AC(atomicNumList,xyz_coordinates)\n",
    "\n",
    "# Convert AC to bond order matrix and add connectivity and charge info to mol object\n",
    "    new_mol = AC2mol(mol,AC,atomicNumList,charge,charged_fragments)\n",
    "    \n",
    "    return new_mol"
   ]
  },
  {
   "cell_type": "code",
   "execution_count": null,
   "metadata": {
    "ExecuteTime": {
     "end_time": "2018-05-04T02:10:07.612786-04:00",
     "start_time": "2018-05-04T02:10:07.592004Z"
    }
   },
   "outputs": [],
   "source": [
    "from joblib import Parallel, delayed\n",
    "import multiprocessing\n",
    "\n",
    "sdf_savepath = \"/home/denn/home2/data/SF/sdf/\"\n",
    "def write_sdf(row):\n",
    "    i,r=row\n",
    "    arr=np.vstack(np.array(r.geoms__xyz))\n",
    "    w = Chem.SDWriter(os.path.join(sdf_savepath,\"{}_{}.sdf\".format(str(r.mol__inchikey),str(i))))\n",
    "    mol=xyz2mol(arr[:,0].ravel().astype(np.uint8),0,arr[:,1:],True)\n",
    "    mol.SetProp(\"_Name\",\"{}\".format(i))\n",
    "    w.write(mol)\n",
    "\n",
    "# for row in df_xyz[:10].iterrows():\n",
    "#     write_sdf(row)\n",
    "# sdfw=Parallel(n_jobs=8)(delayed(write_sdf)(row) for row in df_xyz[:1000].iterrows())\n"
   ]
  },
  {
   "cell_type": "code",
   "execution_count": null,
   "metadata": {
    "ExecuteTime": {
     "end_time": "2018-05-07T19:29:36.528785-04:00",
     "start_time": "2018-05-07T19:29:08.584890Z"
    }
   },
   "outputs": [],
   "source": [
    "# Get DTFB geometries in XYZ file format for conformers indexed by geoms__parents geomID\n",
    "df_xyz=df[['geoms__parents__method','geoms__parents','mol__inchikey','geoms__parents__xyz']]\n",
    "df_xyz=df_xyz.drop_duplicates(subset=['geoms__parents','mol__inchikey'])\n",
    "df_xyz['xyz']=df['geoms__parents__xyz'].apply(to_xyz)\n",
    "df_xyz=df_xyz.set_index(['geoms__parents'])\n",
    "df_xyz['geoms__parents__method'].mean()"
   ]
  },
  {
   "cell_type": "code",
   "execution_count": null,
   "metadata": {
    "ExecuteTime": {
     "end_time": "2018-05-04T04:48:22.283618-04:00",
     "start_time": "2018-05-04T02:41:01.336834Z"
    },
    "scrolled": true
   },
   "outputs": [],
   "source": [
    "from multiprocessing import Pool\n",
    "\n",
    "with Pool(processes=16) as pool:\n",
    "    ress=pool.imap_unordered(write_sdf,df_xyz.iterrows(),1)\n",
    "    for i,res in enumerate(ress):\n",
    "        print(i,end=' ')\n",
    "    print()\n",
    "\n",
    "# with Pool(processes=4) as pool:\n",
    "#     ress=[pool.apply_async(write_sdf,(row,)) for row in df_xyz[:200].iterrows()]\n",
    "#     for i,res in enumerate(ress):\n",
    "#         res.get()\n",
    "#         print(i,end=' ')\n",
    "#     print()\n",
    "    \n",
    "    "
   ]
  },
  {
   "cell_type": "code",
   "execution_count": null,
   "metadata": {
    "ExecuteTime": {
     "end_time": "2018-05-07T21:38:34.709962-04:00",
     "start_time": "2018-05-07T19:34:41.726152Z"
    },
    "scrolled": true
   },
   "outputs": [],
   "source": [
    "sdf_savepath = \"/home/denn/home2/data/SF/sdf_DFTB/\"\n",
    "def write_sdf(row):\n",
    "    i,r=row\n",
    "    arr=np.vstack(np.array(r.geoms__parents__xyz))\n",
    "    w = Chem.SDWriter(os.path.join(sdf_savepath,\"{}_{}.sdf\".format(str(r.mol__inchikey),str(i))))\n",
    "    mol=xyz2mol(arr[:,0].ravel().astype(np.uint8),0,arr[:,1:],True)\n",
    "    mol.SetProp(\"_Name\",\"{}\".format(i))\n",
    "    w.write(mol)\n",
    "\n",
    "from multiprocessing import Pool\n",
    "\n",
    "with Pool(processes=16) as pool:\n",
    "    ress=pool.imap_unordered(write_sdf,df_xyz.iterrows(),1)\n",
    "    for i,res in enumerate(ress):\n",
    "        print(i,end=' ')\n",
    "    print()"
   ]
  },
  {
   "cell_type": "code",
   "execution_count": null,
   "metadata": {
    "ExecuteTime": {
     "end_time": "2018-05-04T00:57:10.903425-04:00",
     "start_time": "2018-05-04T00:57:10.898950Z"
    }
   },
   "outputs": [],
   "source": [
    "# np.vstack(list((df_xyz[:1].geoms__xyz)))"
   ]
  },
  {
   "cell_type": "code",
   "execution_count": null,
   "metadata": {
    "ExecuteTime": {
     "end_time": "2018-05-07T19:33:57.152754-04:00",
     "start_time": "2018-05-07T19:33:57.124272Z"
    }
   },
   "outputs": [],
   "source": [
    "df_xyz.info()"
   ]
  },
  {
   "cell_type": "code",
   "execution_count": null,
   "metadata": {
    "ExecuteTime": {
     "end_time": "2018-05-02T22:39:45.120685-04:00",
     "start_time": "2018-05-02T22:39:45.060840Z"
    }
   },
   "outputs": [],
   "source": [
    "df_xyz.count()"
   ]
  },
  {
   "cell_type": "code",
   "execution_count": null,
   "metadata": {
    "ExecuteTime": {
     "end_time": "2018-05-02T22:39:50.636301-04:00",
     "start_time": "2018-05-02T22:39:45.122785Z"
    },
    "nbpresent": {
     "id": "021e74e6-963f-4b5f-a72d-4af6d163eefd"
    }
   },
   "outputs": [],
   "source": [
    "cols=['geoms__parents','mol__inchikey','parentjob__config__name','totalenergy','s2','excitedstates','homo','lumo']\n",
    "df_p=df[cols].set_index(['mol__inchikey','geoms__parents'])\n",
    "\n",
    "dfp=df_p.pivot(columns='parentjob__config__name')\n",
    "#print(dfp[:1])\n",
    "dft=dfp['totalenergy']['b3lyp_6_31gs_opt_qchem']\n",
    "dft=dft.groupby(level=0).min().to_frame()\n",
    "\n",
    "#Get geometries in XYZ file format for conformers indexed by geoms__parents geomID\n",
    "# df_xyz=df[['geoms__parents','mol__inchikey','geoms__parents__xyz']]\n",
    "# df_xyz=df_xyz.drop_duplicates(subset=['geoms__parents','mol__inchikey'])\n",
    "# df_xyz['xyz']=df['geoms__parents__xyz'].apply(to_xyz)\n",
    "# df_xyz=df_xyz.set_index(['geoms__parents'])\n",
    "\n",
    "\n",
    "\n",
    "df_calc=pd.DataFrame(index=dfp.index)\n",
    "df_calc['t1_opt']=(dfp['totalenergy']['b3lyp_6_31gs_opt_t1_qchem']-dfp['totalenergy']['b3lyp_6_31gs_opt_qchem'])*HA_TO_EV\n",
    "df_calc['t1_opt1']=(dfp['totalenergy']['b3lyp_6_31gs_opt_t1_qchem']-dfp['totalenergy']['b3lyp_6_31gs_tddft'])*HA_TO_EV\n",
    "df_calc['dft_energy']=(dfp['totalenergy']['b3lyp_6_31gs_opt_qchem']-dft['b3lyp_6_31gs_opt_qchem'])*HA_TO_EV\n",
    "df_calc['s2_t1']=dfp['s2']['b3lyp_6_31gs_opt_t1_qchem']\n",
    "\n",
    "df_calc['homo']=dfp['homo']['b3lyp_6_31gs_tddft']*HA_TO_EV\n",
    "df_calc['lumo']=dfp['lumo']['b3lyp_6_31gs_tddft']*HA_TO_EV\n",
    "\n",
    "df_calc.index = df_calc.index.set_names(['mol__inchikey','geoms__parents'])\n",
    "\n",
    "df_calc=df_calc.groupby(level=0, group_keys=False).apply(lambda x: x.sort_values('dft_energy'))\n",
    "\n",
    "cols_calc=['t1_opt','t1_opt1']\n",
    "\n"
   ]
  },
  {
   "cell_type": "code",
   "execution_count": null,
   "metadata": {
    "ExecuteTime": {
     "end_time": "2018-05-02T22:41:52.931576-04:00",
     "start_time": "2018-05-02T22:39:50.638738Z"
    },
    "nbpresent": {
     "id": "988eb1b5-f612-4a99-8b61-a8d33c0fdc6c"
    }
   },
   "outputs": [],
   "source": [
    "dfe = dfp.excitedstates.b3lyp_6_31gs_tddft.apply(pd.Series)\n",
    "dfe1 = dfe.stack()\n",
    "dfe2 = dfe1.apply(pd.Series)\n",
    "\n",
    "dfe2 = dfe2[['energy','multiplicity','oscillator_strength','pbht']]\n",
    "\n",
    "df_s = dfe2[dfe2.multiplicity=='singlet'].rename(columns={'energy':'s1_vert'})\n",
    "df_t = dfe2[dfe2.multiplicity=='triplet'].rename(columns={'energy':'t1_vert'})\n",
    "\n",
    "dfs1=df_s.groupby(level=[0,1], group_keys=False).apply(lambda x: x.sort_values('s1_vert').iloc[0])\n",
    "dft1=df_t.groupby(level=[0,1], group_keys=False).apply(lambda x: x.sort_values('t1_vert').iloc[0])\n",
    "dft2=df_t.groupby(level=[0,1], group_keys=False).apply(lambda x: x.sort_values('t1_vert').iloc[1]).rename(columns={'t1_vert':'t2_vert'})\n",
    "\n",
    "df_ex = dfs1.join(dft1,lsuffix='_s1').join(dft2, lsuffix='_t1',rsuffix='_t2')\n",
    "\n",
    "df_calcs = pd.merge(df_calc, df_ex, how='outer', right_index=True, left_index=True)\n",
    "\n",
    "df_all=df_calcs\n"
   ]
  },
  {
   "cell_type": "code",
   "execution_count": null,
   "metadata": {
    "ExecuteTime": {
     "end_time": "2018-05-02T22:41:52.936747-04:00",
     "start_time": "2018-05-02T22:41:52.933994Z"
    }
   },
   "outputs": [],
   "source": [
    "#df_calc"
   ]
  },
  {
   "cell_type": "code",
   "execution_count": null,
   "metadata": {
    "ExecuteTime": {
     "end_time": "2018-05-02T22:42:41.153037-04:00",
     "start_time": "2018-05-02T22:41:52.938463Z"
    },
    "nbpresent": {
     "id": "29cacf3a-1549-4bf4-b28e-071fe621d1c9"
    }
   },
   "outputs": [],
   "source": [
    "if 'lcwpbe_6_31gs_tddft_qchem' in dfp.excitedstates.columns:\n",
    "    dfe = dfp.excitedstates.lcwpbe_6_31gs_tddft_qchem.apply(pd.Series)\n",
    "    dfe1 = dfe.stack()\n",
    "    dfe2 = dfe1.apply(pd.Series)\n",
    "\n",
    "    dfe2 = dfe2[['energy','multiplicity','oscillator_strength','pbht']]\n",
    "\n",
    "    df_s = dfe2[dfe2.multiplicity=='singlet'].rename(columns={'energy':'s1_vert_lcpbe'})\n",
    "\n",
    "    dfs1=df_s.groupby(level=[0,1], group_keys=False).apply(lambda x: x.sort_values('s1_vert_lcpbe').iloc[0])\n",
    "\n",
    "\n",
    "    df_calcs = pd.merge(df_calcs, dfs1, how='outer', right_index=True, left_index=True,suffixes=('','_s1_lcpbe'))\n",
    "    df_all=df_calcs\n",
    "show(df_calcs[:3])\n",
    "print(df_all.count())"
   ]
  },
  {
   "cell_type": "code",
   "execution_count": null,
   "metadata": {
    "ExecuteTime": {
     "end_time": "2018-05-02T22:42:41.158524-04:00",
     "start_time": "2018-05-02T22:42:41.155401Z"
    }
   },
   "outputs": [],
   "source": [
    "#len(dfp.excitedstates.wb97xd_6_31gs_tddft[dfp.excitedstates.wb97xd_6_31gs_tddft.isnull()])"
   ]
  },
  {
   "cell_type": "code",
   "execution_count": null,
   "metadata": {
    "ExecuteTime": {
     "end_time": "2018-05-02T22:43:53.693323-04:00",
     "start_time": "2018-05-02T22:42:41.161317Z"
    }
   },
   "outputs": [],
   "source": [
    "if 'wb97xd_6_31gs_tddft' in dfp.excitedstates.columns:\n",
    "    dfe = dfp.excitedstates.wb97xd_6_31gs_tddft.apply(pd.Series)\n",
    "    dfe1 = dfe.stack()\n",
    "    dfe2 = dfe1.apply(pd.Series)\n",
    "\n",
    "    dfe2 = dfe2[['energy','multiplicity','oscillator_strength','pbht']]\n",
    "\n",
    "    df_s = dfe2[dfe2.multiplicity=='singlet'].rename(columns={'energy':'s1_vert_wb97xd'})\n",
    "\n",
    "    dfs1=df_s.groupby(level=[0,1], group_keys=False).apply(lambda x: x.sort_values('s1_vert_wb97xd').iloc[0])\n",
    "\n",
    "\n",
    "    df_calcs = pd.merge(df_calcs, dfs1, how='outer', right_index=True, left_index=True,suffixes=('','_s1_wb97xd'))\n",
    "    df_all=df_calcs\n",
    "show(df_calcs[:3])\n",
    "print(df_all.count())"
   ]
  },
  {
   "cell_type": "code",
   "execution_count": null,
   "metadata": {
    "ExecuteTime": {
     "end_time": "2018-05-02T22:43:53.699514-04:00",
     "start_time": "2018-05-02T22:43:53.696288Z"
    }
   },
   "outputs": [],
   "source": [
    "#df_all.s1_vert_wb97xd.sample(10)"
   ]
  },
  {
   "cell_type": "code",
   "execution_count": null,
   "metadata": {
    "ExecuteTime": {
     "end_time": "2018-05-02T22:43:53.881412-04:00",
     "start_time": "2018-05-02T22:43:53.702273Z"
    }
   },
   "outputs": [],
   "source": [
    "#df_check=pd.merge(df_dnn.reset_index(),df_xyz.reset_index()).set_index('mol__inchikey').reset_index()#.join(df_smiles,how='inner')\n",
    "df_check1=pd.merge(df_all.reset_index(),df_xyz.reset_index()).reset_index(drop=True)#.join(df_smiles,how='inner')"
   ]
  },
  {
   "cell_type": "code",
   "execution_count": null,
   "metadata": {
    "ExecuteTime": {
     "end_time": "2018-05-02T22:46:58.401158-04:00",
     "start_time": "2018-05-02T22:43:53.883685Z"
    }
   },
   "outputs": [],
   "source": [
    "import pybel\n",
    "#from dask import dataframe as dd\n",
    "#pybel.informats\n",
    "#pybel.outformats\n",
    "#dd_check=dd.from_pandas(df_check,10)\n",
    "#%timeit pybel.readstring('xyz',df_check.loc['YZLGAWUIHCFDLO']['xyz']).write('inchikey')\n",
    "\n",
    "def obl(xyz):\n",
    "    m=pybel.readstring('xyz',xyz)\n",
    "    return pd.Series({'can':m.write('can'),'check_inchi':m.write('inchikey').split('-')[0]})\n",
    "\n",
    "#df_check['check_inchi']=df_check['xyz'].apply(lambda m: pybel.readstring('xyz',m).write('inchikey').split('-')[0])\n",
    "#df_check['check_smi']=df_check['xyz'].apply(lambda m: pybel.readstring('xyz',m).write('can'))\n",
    "df_check=df_check1.join(df_check1['xyz'].apply(obl))\n",
    "#dd_check['check_inchi']=dd_check['xyz'].apply(func=lambda m: pybel.readstring('xyz',m).write('inchikey'),meta=dd_check['xyz'])\n",
    "\n"
   ]
  },
  {
   "cell_type": "code",
   "execution_count": null,
   "metadata": {
    "ExecuteTime": {
     "end_time": "2018-05-02T22:46:58.406076-04:00",
     "start_time": "2018-05-02T22:46:58.403547Z"
    }
   },
   "outputs": [],
   "source": [
    "#df_check.sample(5)"
   ]
  },
  {
   "cell_type": "code",
   "execution_count": null,
   "metadata": {
    "ExecuteTime": {
     "end_time": "2018-05-02T22:46:59.133553-04:00",
     "start_time": "2018-05-02T22:46:58.407853Z"
    }
   },
   "outputs": [],
   "source": [
    "#df_check.sample(1)\n",
    "#df_check.mol__smiles\n",
    "df_not_valid=df_check[df_check.mol__inchikey!=df_check.check_inchi]\n",
    "df_not_valid_s=pd.merge(df_not_valid,df_smiles.reset_index())\n",
    "#df_not_valid_s[['mol__smiles','can']].sample(10)\n",
    "df_not_valid_s['mol']=df_not_valid_s.mol__smiles.apply(Chem.MolFromSmiles)"
   ]
  },
  {
   "cell_type": "code",
   "execution_count": null,
   "metadata": {
    "ExecuteTime": {
     "end_time": "2018-05-02T22:46:59.138330-04:00",
     "start_time": "2018-05-02T22:46:59.135412Z"
    }
   },
   "outputs": [],
   "source": [
    "print(df_not_valid_s.shape)"
   ]
  },
  {
   "cell_type": "code",
   "execution_count": null,
   "metadata": {
    "ExecuteTime": {
     "end_time": "2018-05-02T22:46:59.261159-04:00",
     "start_time": "2018-05-02T22:46:59.139999Z"
    }
   },
   "outputs": [],
   "source": [
    "#df_check.sample(1)\n",
    "#df_check.mol__smiles\n",
    "df_valid=df_check[df_check.mol__inchikey==df_check.check_inchi]\n",
    "df_valid_s=pd.merge(df_valid,df_smiles.reset_index())\n",
    "#df_not_valid_s[['mol__smiles','can']].sample(10)\n",
    "#df_not_valid_s['mol']=df_not_valid_s.mol__smiles.apply(Chem.MolFromSmiles)\n",
    "df_valid_s.count()"
   ]
  },
  {
   "cell_type": "code",
   "execution_count": null,
   "metadata": {
    "ExecuteTime": {
     "end_time": "2018-05-02T22:47:05.053439-04:00",
     "start_time": "2018-05-02T22:46:59.263012Z"
    },
    "code_folding": [
     0
    ]
   },
   "outputs": [],
   "source": [
    "#Generate HTML report in interactive table with 3D view valid mols\n",
    "\n",
    "report_file_name=\"/home/denn/home/ml/not_valid.html\"\n",
    "\n",
    "def pop3d(conformer):\n",
    "    popup = '<div class=\"ui primary button\" id=\"view3d_{}\">View 3D</div>'.format(conformer)\n",
    "    return popup\n",
    "\n",
    "def buy_emol(tags):\n",
    "    if 'emol1' in tags:\n",
    "        return '<i class=\"shopping bag icon\"></i><div style=\"display: none;\">buy</div>'\n",
    "    else:\n",
    "        return ''\n",
    "def pubchem_link(inchikey):\n",
    "    cell='<a href=\"https://pubchem.ncbi.nlm.nih.gov/search/#collection=compounds&query_type=text&query={}\" target=\"_blank\">{}</a>'.format(inchikey,inchikey)\n",
    "    return cell\n",
    "\n",
    "df_html=df_not_valid_s.copy().drop_duplicates(subset=['mol__inchikey'])\n",
    "df_html['mol3d']=df_html['mol__inchikey'].apply(pop3d)#+'<br>Conformers: '+df_html['conf_count'].map(str)\n",
    "#df_html['Buy (eMol)']=df_html['mol__tags'].apply(buy_emol)\n",
    "df_html['mol__inchikey_link']=df_html['mol__inchikey'].apply(pubchem_link)+df_html['mol__smiles']\\\n",
    "    .apply('<div style=\"width:10em;word-break:break-all;\" class=\"ui small segment\" data-tooltip=\"SMILES could be pasted to ChemDraw or used to search in Reaxys, etc.\">{}</div>'.format)\n",
    "#df_html['T1, eV']=df_html['t1_opt'].apply(lambda s:\"{0:.2f}\".format(s))+'<br>Max-min: '+df_html['mm_t1'].apply(lambda s:\"{0:.2f}\".format(s))\n",
    "html_js = \"\"\"\n",
    "    <div class=\"ui small modal\" id=\"mol3Dmodal\">\n",
    "        <i class=\"close icon\"></i>\n",
    "        <div class=\"header\">3D view (rotate with mouse)</div>\n",
    "        <div class=\"content\">\n",
    "            <div style=\"height: 350px; width: 720px; position: relative;\" class='viewer_3Dmoljs' data-backgroundcolor='0xffffff'></div>\n",
    "            <div class=\"action\">\n",
    "                Conformer: <div id=\"conf_num\" class=\"ui label\"></div>\n",
    "                <div class=\"ui primary labeled icon button\" id=\"prev_conf\" tabindex=\"0\">\n",
    "                  <i class=\"left arrow icon\"></i>\n",
    "                  Prev\n",
    "                </div>\n",
    "                <div class=\"ui primary right labeled icon button\" id=\"next_conf\" tabindex=\"0\">\n",
    "                  <i class=\"right arrow icon\"></i>\n",
    "                  Next\n",
    "                </div>mi\n",
    "            </div>\n",
    "\n",
    "            <p>dft_energy: in eV from lowest energy conformer</p>\n",
    "            <div id=\"modal_table\"></div>\n",
    "        </div>\n",
    "    </div>\n",
    "    <script>\n",
    "        $('#conf_num').data('count', 0);\n",
    "        $('#conf_num').html($('#conf_num').data('count'))\n",
    "        $('#next_conf').click(function(){\n",
    "            var count = $('#conf_num').data('count');\n",
    "            var view = $3Dmol.viewers[0];\n",
    "            if (count<view.getFrames()-1){\n",
    "                count = count + 1;\n",
    "                view.setFrame(count);\n",
    "                view.zoomTo();\n",
    "                view.render();\n",
    "                $('#conf_num').data('count', count);\n",
    "                $('#conf_num').html(count);\n",
    "            }\n",
    "        });\n",
    "        $('#prev_conf').click(function(){\n",
    "            var count = $('#conf_num').data('count');\n",
    "            var view = $3Dmol.viewers[0];\n",
    "            if (count>0){t\n",
    "                count = count - 1;\n",
    "                view.setFrame(count);\n",
    "                view.zoomTo();\n",
    "                view.render();\n",
    "                $('#conf_num').data('count', count);\n",
    "                $('#conf_num').html(count);\n",
    "            }\n",
    "        });\n",
    "    </script>\n",
    "    <h1 class=\"ui header\">Singlet Fission Failed Candidates</h1>\n",
    "    <p class=\"ui header\"></p>\n",
    "\"\"\"\n",
    "modal_cols=['dft_energy','t1_opt','t1_vert','t2_vert','s1_vert','oscillator_strength_s1', 'pbht_s1']\n",
    "html_button_js=\"<script>\"\n",
    "for conformer in df_html.mol__inchikey.drop_duplicates():\n",
    "    html_button_js+=\"$('#mol3Dmodal').modal('attach events', '#view3d_{}');\".format(conformer)\n",
    "    df_sel=df_not_valid_s[df_not_valid_s.mol__inchikey==conformer].sort_values('dft_energy').reset_index()\n",
    "    #print(df_sel.columns)\n",
    "    #print(df_sel.to_html(escape=True).replace('<table border=\"1\" class=\"dataframe\">','<table class=\"ui celled table\" cellspacing=\"0\" width=\"100%\">').replace(\"\\n\", \"\\\\n\"))\n",
    "    html_modal_table= \"$('#modal_table').html('%s');\" % df_sel[modal_cols].to_html(escape=True).replace('<table border=\"1\" class=\"dataframe\">','<table class=\"ui celled table\" cellspacing=\"0\" width=\"100%\">').replace(\"\\n\", \"\")\n",
    "    html_button_js+=(\"$('#view3d_%s').click(function() { $('#conf_num').data('count', 0); $('#conf_num').html($('#conf_num').data('count')); var view = $3Dmol.viewers[0];view.removeAllModels();view.addModelsAsFrames('%s','xyz');view.setStyle({'stick':{}});view.addStyle({'sphere':{'radius':0.4}});view.zoomTo();view.render();%s});\" \\\n",
    "                     % (conformer,''.join(df_xyz.loc[df_sel['geoms__parents']]['xyz']).replace(\"\\n\", \"\\\\n\"),html_modal_table))\n",
    "    #print(''.join(df_xyz.loc[df_sel['geoms__parents']]['xyz']))\n",
    "html_button_js+=\"</script>\"\n",
    "\n",
    "\n",
    "pd.options.display.float_format = '{:,.2f}'.format\n",
    "html_table=df_html[['mol__inchikey_link','mol','mol3d','t1_opt','s1_vert','mol__tags']].to_html(escape=False)\n",
    "    #.rename(index=str, columns={'mol__inchikey_link':'InChIKey linked to PubChem (SMILES in the box)','mol':'Molecule','mol3d':'3D','t1_opt':'T1, eV','s1_vert':'S1, eV','criteria1':'S1-2T1, eV','criteria2':'T2-2T1, eV','mm_t1':'T1 max-min, eV','mm_s1':'S1 max-min, eV'}).to_html(escape=False)\n",
    "html_table=html_table.replace('<table border=\"1\" class=\"dataframe\">','<table id=\"example\" class=\"ui celled table\" cellspacing=\"0\" width=\"100%\">')\n",
    "\n",
    "pd.options.display.float_format = '{:,.4f}'.format\n",
    "#Write the report to disk \n",
    "# with open(report_file_name, \"w\") as text_file:\n",
    "#    text_file.write(html_start+html_js+html_table+html_button_js+html_end)\n"
   ]
  },
  {
   "cell_type": "code",
   "execution_count": null,
   "metadata": {
    "ExecuteTime": {
     "end_time": "2018-05-02T22:47:05.099539-04:00",
     "start_time": "2018-05-02T22:47:05.055512Z"
    }
   },
   "outputs": [],
   "source": [
    "df_all=df_valid.set_index(['mol__inchikey','geoms__parents'])"
   ]
  },
  {
   "cell_type": "code",
   "execution_count": null,
   "metadata": {
    "ExecuteTime": {
     "end_time": "2018-05-02T22:47:05.103617-04:00",
     "start_time": "2018-05-02T22:47:05.101409Z"
    }
   },
   "outputs": [],
   "source": [
    "#df_all.to_pickle('/home/denn/home/ml/data/sf/reaxys2_all.pickle')"
   ]
  },
  {
   "cell_type": "code",
   "execution_count": null,
   "metadata": {
    "ExecuteTime": {
     "end_time": "2018-05-02T22:47:10.196363-04:00",
     "start_time": "2018-05-02T22:47:05.105304Z"
    }
   },
   "outputs": [],
   "source": [
    "df_tmp1=df_all.groupby(level=0).apply(lambda x: x.sort_values('dft_energy').iloc[0])\n",
    "#df_tmp1.count()"
   ]
  },
  {
   "cell_type": "code",
   "execution_count": null,
   "metadata": {
    "ExecuteTime": {
     "end_time": "2018-05-02T22:47:10.248006-04:00",
     "start_time": "2018-05-02T22:47:10.199070Z"
    }
   },
   "outputs": [],
   "source": [
    "print('All: '+ str(df_all['dft_energy'].count()))\n",
    "df_high=df_all[df_all.dft_energy>0.1]\n",
    "print('High (>0.1 eV): '+ str(df_high['dft_energy'].count()))\n",
    "df_min=df_all[df_all.dft_energy==0.0]\n",
    "df_low=df_all[df_all.dft_energy<0.1]\n",
    "print('Low (<0.1 eV): '+ str(df_low['dft_energy'].count()))\n",
    "print('Min: '+ str(df_min['dft_energy'].count()))"
   ]
  },
  {
   "cell_type": "code",
   "execution_count": null,
   "metadata": {
    "ExecuteTime": {
     "end_time": "2018-05-02T22:59:08.600405-04:00",
     "start_time": "2018-05-02T22:59:07.940732Z"
    }
   },
   "outputs": [],
   "source": [
    "print(df_all.columns)\n",
    "#df_all[['xyz','t1_opt','s1_vert','s1_vert_lcpbe','s1_vert_wb97xd']].to_pickle('/home/denn/home/ml/data/sf/anth_t1_s1_reaxys2_xyz.pickle')\n",
    "#df_low.to_pickle('/home/denn/home2/data/SF/SF_low_conformers.pkl')"
   ]
  },
  {
   "cell_type": "code",
   "execution_count": null,
   "metadata": {
    "ExecuteTime": {
     "end_time": "2017-06-23T18:49:34.820107-04:00",
     "start_time": "2017-06-23T18:49:34.807724"
    }
   },
   "outputs": [],
   "source": [
    "diffi=df_min.reset_index().set_index('mol__inchikey').index.symmetric_difference(df_tmp1.index)\n",
    "df_tmp1.loc[diffi]['dft_energy']\n",
    "#unzip(df_min.index)[:10]"
   ]
  },
  {
   "cell_type": "code",
   "execution_count": null,
   "metadata": {
    "ExecuteTime": {
     "end_time": "2017-06-23T18:49:36.056373-04:00",
     "start_time": "2017-06-23T18:49:36.050289"
    }
   },
   "outputs": [],
   "source": [
    "# # Statistics\n",
    "# def reject_outliers(sr, iq_range=0.5):\n",
    "#     pcnt = ((1 - iq_range) / 2)*100\n",
    "#     qlow, median, qhigh = np.percentile(sr,[pcnt, 50, 100-pcnt])\n",
    "#     iqr = qhigh - qlow\n",
    "#     return sr[ np.abs(sr - median) <= iqr]\n",
    "\n",
    "# df_t1_stat=df_all.dropna(subset=(['t1_opt'])).groupby(level=0)['t1_opt'].agg({\n",
    "# #                                                    'mode':lambda x: x.value_counts().idxmax(),\n",
    "# #                                                    'mode_count':lambda x: x.value_counts().max(),\n",
    "#                                                    't1_opt_std':np.std,\n",
    "# #                                                    'median':np.median,\n",
    "# #                                                    'max':np.max,\n",
    "# #                                                    'min':np.min,\n",
    "#                                                    't1_opt_max_min':lambda x: np.max(x)-np.min(x),\n",
    "# #                                                    'count':lambda x: x.count(),\n",
    "# #                                                    'mean':np.mean,\n",
    "# #                                                    'mad':lambda x: x.mad(),\n",
    "# #                                                    'mean_rj':lambda x: np.mean(reject_outliers(x,iq_range=0.5)),\n",
    "# #                                                    'std_rj':lambda x: np.std(reject_outliers(x,iq_range=0.5))\n",
    "#                                                    })"
   ]
  },
  {
   "cell_type": "code",
   "execution_count": null,
   "metadata": {
    "ExecuteTime": {
     "end_time": "2017-06-23T18:49:37.043283-04:00",
     "start_time": "2017-06-23T18:49:37.039874"
    }
   },
   "outputs": [],
   "source": [
    "#df_t1_stat.sample(10)"
   ]
  },
  {
   "cell_type": "code",
   "execution_count": null,
   "metadata": {
    "ExecuteTime": {
     "end_time": "2017-06-23T18:49:37.643890-04:00",
     "start_time": "2017-06-23T18:49:37.640423"
    }
   },
   "outputs": [],
   "source": [
    "# df_eng_stat=df_all.dropna(subset=(['dft_energy'])).groupby(level=0)['dft_energy'].agg({\n",
    "# #                                                    'mode':lambda x: x.value_counts().idxmax(),\n",
    "# #                                                    'mode_count':lambda x: x.value_counts().max(),\n",
    "#                                                    #'std':np.std,\n",
    "#                                                    #'median':np.median,\n",
    "#                                                    'dfte_max_min':np.max,\n",
    "#                                                    'count':lambda x: x.count(),\n",
    "#                                                    #'mean':np.mean,\n",
    "#                                                    #'mad':lambda x: x.mad(),\n",
    "# #                                                    'mean_rj':lambda x: np.mean(reject_outliers(x,iq_range=0.5)),\n",
    "# #                                                    'std_rj':lambda x: np.std(reject_outliers(x,iq_range=0.5))\n",
    "#                                                    })"
   ]
  },
  {
   "cell_type": "code",
   "execution_count": null,
   "metadata": {
    "ExecuteTime": {
     "end_time": "2017-06-23T18:49:38.052584-04:00",
     "start_time": "2017-06-23T18:49:38.050483"
    }
   },
   "outputs": [],
   "source": [
    "#df_eng_stat[:10]"
   ]
  },
  {
   "cell_type": "code",
   "execution_count": null,
   "metadata": {
    "ExecuteTime": {
     "end_time": "2017-06-23T18:49:38.569252-04:00",
     "start_time": "2017-06-23T18:49:38.564498"
    }
   },
   "outputs": [],
   "source": [
    "# df_dnn = df_min['t1_opt'].dropna().to_frame().reset_index().set_index('mol__inchikey').join(df_smiles,how='inner').join(df_t1_stat.fillna(0),how='left').join(df_eng_stat,how='left')\n",
    "# #df_dnn[df_dnn.t1_opt.isnull()][:10]\n",
    "# def get_finger_rdk(smiles):\n",
    "#     try:\n",
    "#         mol=Chem.MolFromSmiles(str(smiles))\n",
    "#         Chem.SanitizeMol(mol)\n",
    "#         return np.array(Chem.GetMorganFingerprintAsBitVect(mol,nBits=8192,radius=6),dtype=np.float32)\n",
    "#     except:\n",
    "#          return None\n",
    "# df_dnn['fp_rdk']=df_dnn.mol__smiles.apply(get_finger_rdk)\n",
    "# print(df_dnn.count())"
   ]
  },
  {
   "cell_type": "code",
   "execution_count": null,
   "metadata": {
    "ExecuteTime": {
     "end_time": "2017-06-23T18:49:40.196045-04:00",
     "start_time": "2017-06-23T18:49:40.193263"
    }
   },
   "outputs": [],
   "source": [
    "#df_dnn.to_pickle('/home/denn/home/ml/data/sf/anth_t1_opt_reaxys2_morgan6_8k.pickle')"
   ]
  },
  {
   "cell_type": "code",
   "execution_count": null,
   "metadata": {
    "ExecuteTime": {
     "end_time": "2018-05-02T23:00:04.845348-04:00",
     "start_time": "2018-05-02T23:00:03.802853Z"
    }
   },
   "outputs": [],
   "source": [
    "dfxray =pd.read_pickle('/home/denn/home2/ml/data/anthracene_core_xray1.pickle').reset_index()\n",
    "dfxray['mol__inchikey']=dfxray['mol__inchikey'].str.split('-').str[0]\n",
    "dfxray=dfxray.set_index('mol__inchikey')\n",
    "\n",
    "#df_emol=pd.read_pickle('/home/denn/home/ml/data/emolecules.pickle')\n",
    "#df_reaxys1=pd.read_pickle('/home/denn/harvard/SF/Library/Reaxys/anth_peryl_uv_below1000.pickle')#.reset_index()\n",
    "df_reaxys1=pd.read_pickle('/home/denn/harvard/SF/Library/Reaxys/anth_peryl_uv_below1000_reaxys2_newproc_all.pickle')#.reset_index()\n",
    "#df_reaxys1['mol__inchikey']=df_reaxys1['mol__inchikey'].str.split('-').str[0]\n",
    "#df_reaxys1=df_reaxys1.set_index('mol__inchikey')\n",
    "show(df_reaxys1[:1])"
   ]
  },
  {
   "cell_type": "code",
   "execution_count": null,
   "metadata": {
    "ExecuteTime": {
     "end_time": "2018-05-02T23:00:09.020184-04:00",
     "start_time": "2018-05-02T23:00:08.949883Z"
    }
   },
   "outputs": [],
   "source": [
    "df_match_min=pd.merge(df_min.reset_index(),dfxray.reset_index(),how='left',on='mol__inchikey',suffixes=('','_x'))\n",
    "df_match_min=df_match_min.set_index(['mol__inchikey','geoms__parents'])"
   ]
  },
  {
   "cell_type": "code",
   "execution_count": null,
   "metadata": {
    "ExecuteTime": {
     "end_time": "2018-05-02T23:00:16.367112-04:00",
     "start_time": "2018-05-02T23:00:10.158506Z"
    }
   },
   "outputs": [],
   "source": [
    "def max_min(group, x_n):\n",
    "    x = group[x_n]\n",
    "    return np.max(x)-np.min(x)\n",
    "#['dft_energy']\n",
    "                              \n",
    "df_=df_low.reset_index()\n",
    "#df_['mol__inchikey']=df_['mol__inchikey'].str.split('-').str[0]\n",
    "df_mae_t1=df_.groupby('mol__inchikey').apply(max_min,'t1_opt').to_frame().rename(columns={0:'mm_t1'})\n",
    "df_mae_count=df_.groupby('mol__inchikey').count()['geoms__parents'].to_frame().rename(columns={'geoms__parents':'conf_count'})\n",
    "#print(df_mae_count)\n",
    "df_mae_s1=df_.groupby('mol__inchikey').apply(max_min,'s1_vert').to_frame().rename(columns={0:'mm_s1'})\n",
    "df_mae1=df_.set_index('mol__inchikey').groupby(level=0).apply(lambda x: x.sort_values('dft_energy').iloc[0])\n",
    "#print(df_reaxys1.index)\n",
    "#print(df_mae1.index)\n",
    "df_confs=df_reaxys1[['mean_rj','std_rj','min']].join(df_mae1,how='right').join(df_mae_t1).join(df_mae_s1).join(df_mae_count)#.join(df_smiles)\n",
    "#show(df_mae[['mol','MAE_t1','MAE_s1','t1_opt','exp_t1','s1_vert','exp_s1']])\n",
    "#df_confs['s1_exp']=NM_TO_EV/df_confs['mean_rj']\n",
    "df_confs['s1_exp']=df_confs['mean_rj']\n",
    "print(df_confs.count())\n",
    "show(df_confs.sample(1))"
   ]
  },
  {
   "cell_type": "code",
   "execution_count": null,
   "metadata": {
    "ExecuteTime": {
     "end_time": "2018-05-02T23:00:16.373674-04:00",
     "start_time": "2018-05-02T23:00:16.369941Z"
    }
   },
   "outputs": [],
   "source": [
    "# dft5=df_confs.reset_index()\n",
    "# show(dft5[dft5['mol__inchikey'].str.contains('ABT')])\n"
   ]
  },
  {
   "cell_type": "code",
   "execution_count": null,
   "metadata": {
    "ExecuteTime": {
     "end_time": "2018-05-02T23:07:25.170924-04:00",
     "start_time": "2018-05-02T23:06:50.862279Z"
    },
    "scrolled": true
   },
   "outputs": [],
   "source": [
    "import warnings\n",
    "#warnings.simplefilter(action = \"ignore\")\n",
    "#import subprocess\n",
    "\n",
    "SLOPE=1.05\n",
    "INT=0\n",
    "\n",
    "# SLOPE=1\n",
    "# INT=0\n",
    "\n",
    "#df_d=df_min[['t1_opt','s1_vert','t2_vert','dft_energy']]\n",
    "df_d=df_confs.copy()\n",
    "df_d['s1_vert']=df_d['s1_vert']#*SLOPE+INT\n",
    "#df_d['s1_exp']=NM_TO_EV/df_d['mean_rj']\n",
    "df_d['2t1_opt']=df_d['t1_opt']*2\n",
    "df_d['criteria1']=df_d['s1_vert']-df_d['2t1_opt']\n",
    "df_d['criteria1_exp']=df_d['s1_exp']-df_d['2t1_opt']\n",
    "df_d['criteria2']=df_d['t2_vert']-df_d['2t1_opt']\n",
    "# print(df_d[(df_d['criteria1']>=-0.2)&(df_d['criteria1']<=0.2)].shape)\n",
    "# print(df_d[(df_d['criteria2']>=-0.0)&(df_d['criteria1']>=-0.2)&(df_d['criteria1']<=0.2)].shape)\n",
    "#df_d1=df_d.reset_index().groupby('mol__inchikey').describe()#.to_frame()\n",
    "# df_d=df_d[(df_d['criteria1']>=-0.0)&(df_d['criteria1']<=0.3)|(df_d['criteria1_exp']>=-0.0)]\n",
    "#Criteria simple\n",
    "# df_d=df_d[(df_d['criteria1']>=-0.2)&(df_d['criteria1']<=0.2)]\n",
    "# df_d=df_d[(df_d['criteria1_exp']>=-0.2)&(df_d['criteria1_exp']<=0.2)]\n",
    "# df_d=df_d[df_d['criteria2']>=-0.2]\n",
    "#df_d=df_d[(df_d['s1_exp'].isnull())|((df_d['s1_exp'].notnull())&(np.abs(df_d['s1_exp']-df_d['s1_vert'])<0.4))]\n",
    "# df_d=df_d[df_d['mm_t1']<0.2]\n",
    "# df_d=df_d[df_d['mm_s1']<0.2]\n",
    "#df_d=df_d[df_d['t1_opt']>1.3]\n",
    "#df_d=df_d.reset_index().groupby('mol__inchikey').describe()#.to_frame()\n",
    "df_d=df_d.reset_index().groupby('mol__inchikey').max()#.to_frame()\n",
    "#df_d=pd.merge(df_d, df_smiles, how='right', right_index=True, left_index=True)\n",
    "df_d=df_d.sort_values('criteria1_exp',ascending=False)\n",
    "df_d=df_d.sort_values('t1_opt',ascending=False)\n",
    "df_d=df_d.join(df_smiles)\n",
    "df_d['mol']=df_d.mol__smiles.apply(Chem.MolFromSmiles)\n",
    "#print(df_d.index)\n",
    "\n",
    "dfxray1=dfxray.groupby(level=0).first()\n",
    "df_match=pd.merge(df_d,dfxray1,how='left',right_index=True,left_index=True,suffixes=('','_x'))\n",
    "df_match=df_match.sort_values('t1_opt',ascending=False)\n",
    "#df_match=df_match.sort_values('criteria1',ascending=False)\n",
    "print(df_d['mol'].count())\n",
    "print(df_match['ccdc'].count())\n",
    "print(df_match.count())"
   ]
  },
  {
   "cell_type": "code",
   "execution_count": null,
   "metadata": {
    "ExecuteTime": {
     "end_time": "2018-05-02T23:08:03.429633-04:00",
     "start_time": "2018-05-02T23:08:02.781132Z"
    }
   },
   "outputs": [],
   "source": [
    "# df_match.to_pickle('/home/denn/home2/data/SF/SF_criteria.pkl')"
   ]
  },
  {
   "cell_type": "code",
   "execution_count": null,
   "metadata": {
    "ExecuteTime": {
     "end_time": "2017-06-25T12:57:24.397087-04:00",
     "start_time": "2017-06-25T12:57:24.242858"
    },
    "code_folding": []
   },
   "outputs": [],
   "source": [
    "#Generate HTML report in interactive table with 3D view\n",
    "\n",
    "report_file_name=\"/home/denn/home/ml/data/sf/export_sam/antr.html\"\n",
    "\n",
    "def pop3d(conformer):\n",
    "    popup = '<div class=\"ui primary button\" id=\"view3d_{}\">View 3D</div>'.format(conformer)\n",
    "    return popup\n",
    "\n",
    "def buy_emol(tags):\n",
    "    if 'emol1' in tags:\n",
    "        return '<i class=\"shopping bag icon\"></i><div style=\"display: none;\">buy</div>'\n",
    "    else:\n",
    "        return ''\n",
    "def pubchem_link(inchikey):\n",
    "    cell='<a href=\"https://pubchem.ncbi.nlm.nih.gov/search/#collection=compounds&query_type=text&query={}\" target=\"_blank\">{}</a>'.format(inchikey,inchikey)\n",
    "    return cell\n",
    "\n",
    "def download3d(conformer):\n",
    "    popup = '<a href=\"#\" class=\"ui primary button\" id=\"down3d_{}\">Download .xyz</a>'.format(conformer)\n",
    "    return popup\n",
    "\n",
    "df_html=df_match.reset_index()\n",
    "df_html['mol3d']=df_html['mol__inchikey'].apply(pop3d)+'<br>Conformers: '+df_html['conf_count'].map(str)\n",
    "df_html['Buy (eMol)']=df_html['mol__tags'].apply(buy_emol)\n",
    "df_html['mol__inchikey_link']=df_html['mol__inchikey'].apply(pubchem_link)+df_html['mol__smiles']\\\n",
    "    .apply('<div style=\"width:10em;word-break:break-all;\" class=\"ui small segment\" data-tooltip=\"SMILES could be pasted to ChemDraw or used to search in Reaxys, etc.\">{}</div>'.format)\n",
    "#df_html['T1, eV']=df_html['t1_opt'].apply(lambda s:\"{0:.2f}\".format(s))+'<br>Max-min: '+df_html['mm_t1'].apply(lambda s:\"{0:.2f}\".format(s))\n",
    "html_js = \"\"\"\n",
    "    <div class=\"ui small modal\" id=\"mol3Dmodal\">\n",
    "        <i class=\"close icon\"></i>\n",
    "        <div class=\"header\">3D view (rotate with mouse)</div>\n",
    "        <div class=\"content\">\n",
    "            <div style=\"height: 350px; width: 720px; position: relative;\" class='viewer_3Dmoljs' data-backgroundcolor='0xffffff'></div>\n",
    "            <div class=\"action\">\n",
    "                Conformer: <div id=\"conf_num\" class=\"ui label\"></div>\n",
    "                <div class=\"ui primary labeled icon button\" id=\"prev_conf\" tabindex=\"0\">\n",
    "                  <i class=\"left arrow icon\"></i>\n",
    "                  Prev\n",
    "                </div>\n",
    "                <div class=\"ui primary right labeled icon button\" id=\"next_conf\" tabindex=\"0\">\n",
    "                  <i class=\"right arrow icon\"></i>\n",
    "                  Next\n",
    "                </div>mi\n",
    "            </div>\n",
    "\n",
    "            <p>dft_energy: in eV from lowest energy conformer</p>\n",
    "            <div id=\"modal_table\"></div>\n",
    "        </div>\n",
    "    </div>\n",
    "    <script>\n",
    "        $('#conf_num').data('count', 0);\n",
    "        $('#conf_num').html($('#conf_num').data('count'))\n",
    "        $('#next_conf').click(function(){\n",
    "            var count = $('#conf_num').data('count');\n",
    "            var view = $3Dmol.viewers[0];\n",
    "            if (count<view.getFrames()-1){\n",
    "                count = count + 1;\n",
    "                view.setFrame(count);\n",
    "                view.zoomTo();\n",
    "                view.render();\n",
    "                $('#conf_num').data('count', count);\n",
    "                $('#conf_num').html(count);\n",
    "            }\n",
    "        });\n",
    "        $('#prev_conf').click(function(){\n",
    "            var count = $('#conf_num').data('count');\n",
    "            var view = $3Dmol.viewers[0];\n",
    "            if (count>0){\n",
    "                count = count - 1;\n",
    "                view.setFrame(count);\n",
    "                view.zoomTo();\n",
    "                view.render();\n",
    "                $('#conf_num').data('count', count);\n",
    "                $('#conf_num').html(count);\n",
    "            }\n",
    "        });\n",
    "        function down(ref,data,filename) {\n",
    "            properties = {type: 'plain/text'}; // Specify the file's mime-type.\n",
    "            try {\n",
    "              // Specify the filename using the File constructor, but ...\n",
    "              file = new File([data], filename, properties);\n",
    "            } catch (e) {\n",
    "              // ... fall back to the Blob constructor if that isn't supported.\n",
    "              file = new Blob([data], properties);\n",
    "            }\n",
    "            url = URL.createObjectURL(file);\n",
    "            console.log(ref);\n",
    "            document.getElementById(ref).href = url;\n",
    "        };\n",
    "    </script>\n",
    "    <h1 class=\"ui header\">Relevant Singlet Fission Candidates</h1>\n",
    "    <p class=\"ui header\"></p>\n",
    "\"\"\"\n",
    "modal_cols=['dft_energy','t1_opt','t1_vert','t2_vert','s1_vert','oscillator_strength_s1', 'homo','lumo','down3d']\n",
    "html_button_js=\"<script>\"\n",
    "for conformer in df_html['mol__inchikey'][:]:\n",
    "    html_button_js+=\"$('#mol3Dmodal').modal('attach events', '#view3d_{}');\".format(conformer)\n",
    "    df_sel=df_low.ix[conformer].sort_values('dft_energy').reset_index()\n",
    "    df_sel['down3d']=df_sel.geoms__parents.apply(download3d)\n",
    "    #print(df_sel.columns)\n",
    "    #print(df_sel.to_html(escape=True).replace('<table border=\"1\" class=\"dataframe\">','<table class=\"ui celled table\" cellspacing=\"0\" width=\"100%\">').replace(\"\\n\", \"\\\\n\"))\n",
    "    html_modal_table= \"$('#modal_table').html('%s');\" % df_sel[modal_cols].to_html(escape=False).replace('<table border=\"1\" class=\"dataframe\">','<table class=\"ui celled table\" cellspacing=\"0\" width=\"100%\">').replace(\"\\n\", \"\")\n",
    "    html_button_js+=(\"$('#view3d_%s').click(function() { $('#conf_num').data('count', 0); $('#conf_num').html($('#conf_num').data('count')); var view = $3Dmol.viewers[0];view.removeAllModels();view.addModelsAsFrames('%s','xyz');view.setStyle({'stick':{}});view.addStyle({'sphere':{'radius':0.4}});view.zoomTo();view.render();%s});\" \\\n",
    "                     % (conformer,''.join(df_xyz.loc[df_sel['geoms__parents']]['xyz']).replace(\"\\n\", \"\\\\n\"),html_modal_table))\n",
    "    #print(''.join(df_xyz.loc[df_sel['geoms__parents']]['xyz']))\n",
    "    for i,row in df_xyz.loc[df_sel['geoms__parents']].iterrows():\n",
    "        print(row.mol__inchikey)\n",
    "        with open('/home/denn/home/ml/data/sf/export_sam/'+row.mol__inchikey+'_'+str(i), \"w\") as text_file:\n",
    "            text_file.write(row.xyz)\n",
    "        \n",
    "    #     j1=\"$(function () {\"\n",
    "#     j2=\"\"\n",
    "#     for i,row in df_xyz.loc[df_sel['geoms__parents']].iterrows():\n",
    "#         j2+=('down(\"#down3d_%s\",\"%s\",\"%s.xyz\");' % (i,row['xyz'],i)).replace(\"\\n\", \"\\\\n\")\n",
    "#         #j2+=('createDownloadLink(\"#down3d_%s\",\"%s\",\"%s.xyz\");' % (i,row['xyz'],i)).replace(\"\\n\", \"\\\\n\")\n",
    "#     j3=\"});\"\n",
    "#     jdown=j1+j2+j3\n",
    "# #     jdown=j2\n",
    "# #     print(jdown)\n",
    "#     html_button_js+=jdown\n",
    "html_button_js+=\"</script>\"\n",
    "\n",
    "# html_button_js+=\"<script>\"\n",
    "# for conformer in df_html['mol__inchikey'][:]:\n",
    "#     df_sel=df_low.ix[conformer].sort_values('dft_energy').reset_index()\n",
    "# #     j1=\"$(function () {\"\n",
    "#     j2=\"\"\n",
    "#     for i,row in df_xyz.loc[df_sel['geoms__parents']].iterrows():\n",
    "#         j2+=('down(\"down3d_%s\",\"%s\",\"%s.xyz\");' % (i,row['xyz'],i)).replace(\"\\n\", \"\\\\n\")\n",
    "#         #j2+=('createDownloadLink(\"#down3d_%s\",\"%s\",\"%s.xyz\");' % (i,row['xyz'],i)).replace(\"\\n\", \"\\\\n\")\n",
    "# #     j3=\"});\"\n",
    "# #     jdown=j1+j2+j3\n",
    "#     jdown=j2\n",
    "# #     print(jdown)\n",
    "#     html_button_js+=jdown\n",
    "# html_button_js+=\"</script>\"\n",
    "\n",
    "pd.options.display.float_format = '{:,.2f}'.format\n",
    "html_table=df_html[['mol__inchikey_link','mol','mol3d','t1_opt','s1_vert','s1_exp','ccdc']]\\\n",
    "    .rename(index=str, columns={'mol__inchikey_link':'InChIKey linked to PubChem (SMILES in the box)','mol':'Molecule','mol3d':'3D','t1_opt':'T1, eV','s1_vert':'S1, eV','criteria1':'S1-2T1, eV','criteria2':'T2-2T1, eV','mm_t1':'T1 max-min, eV','mm_s1':'S1 max-min, eV'}).to_html(escape=False)\n",
    "html_table=html_table.replace('<table border=\"1\" class=\"dataframe\">','<table id=\"example\" class=\"ui celled table\" cellspacing=\"0\" width=\"100%\">')\n",
    "\n",
    "# Write the report to disk \n",
    "with open(report_file_name, \"w\") as text_file:\n",
    "    text_file.write(html_start+html_js+html_table+html_button_js+html_end)\n"
   ]
  },
  {
   "cell_type": "code",
   "execution_count": null,
   "metadata": {
    "ExecuteTime": {
     "end_time": "2017-02-23T19:28:17.959524-05:00",
     "start_time": "2017-02-23T19:28:17.956146"
    }
   },
   "outputs": [],
   "source": [
    "df_confs.columns"
   ]
  },
  {
   "cell_type": "code",
   "execution_count": null,
   "metadata": {
    "ExecuteTime": {
     "end_time": "2017-02-27T22:55:27.855284-05:00",
     "start_time": "2017-02-27T22:55:26.808749"
    }
   },
   "outputs": [],
   "source": [
    "SLOPE=1.05\n",
    "INT=0\n",
    "\n",
    "colorscale = ['#7A4579', '#D56073', 'rgb(236,158,105)', (1, 1, 0.2), (0.98,0.98,0.98)]\n",
    "\n",
    "df = pd.merge(df_confs.dropna(subset=['t1_opt','s1_vert']).join(df_smiles),dfxray1,how='left',right_index=True,left_index=True,suffixes=('','_x'))\n",
    "\n",
    "x = df['t1_opt'].as_matrix()\n",
    "y = df['s1_vert'].as_matrix()*SLOPE+INT\n",
    "fig = FF.create_2D_density(\n",
    "    x, y, colorscale=colorscale,\n",
    "    title='',\n",
    "    hist_color='rgb(255, 237, 222)', point_size=3,height=1200,width=1200\n",
    ")\n",
    "y0=np.min(y)-0.2\n",
    "y1=np.max(y)+0.2\n",
    "\n",
    "fig.layout.update({'shapes':[\n",
    "        # Line Vertical\n",
    "        {\n",
    "            'type': 'line',\n",
    "            'xref': 'x',\n",
    "            'yref': 'y',\n",
    "            'x0': y0/2,\n",
    "            'y0': y0,\n",
    "            'x1': y1/2,\n",
    "            'y1': y1,\n",
    "            'line': {\n",
    "                'color': 'red',\n",
    "                'width': 2,\n",
    "            }\n",
    "         }\n",
    "        ,\n",
    "        {\n",
    "            'type': 'line',\n",
    "            'xref': 'x',\n",
    "            'yref': 'y',\n",
    "            'x0': (y0+0.2)/2,\n",
    "            'y0': y0,\n",
    "            'x1': (y1+0.2)/2,\n",
    "            'y1': y1,\n",
    "            'line': {\n",
    "                'color': 'red',\n",
    "                'width': 1,\n",
    "                'dash':'dash'\n",
    "            }\n",
    "         }\n",
    "                    ,\n",
    "        {\n",
    "            'type': 'line',\n",
    "            'xref': 'x',\n",
    "            'yref': 'y',\n",
    "            'x0': (y0-0.2)/2,\n",
    "            'y0': y0,\n",
    "            'x1': (y1-0.2)/2,\n",
    "            'y1': y1,\n",
    "            'line': {\n",
    "                'color': 'red',\n",
    "                'width': 1,\n",
    "                'dash':'dash'\n",
    "            }\n",
    "         }\n",
    "        ]})\n",
    "titlefont = 23\n",
    "tickfont = 20\n",
    "fig.layout.xaxis.update({'title':'Calculated S0->T1, eV','titlefont':{'size':titlefont},'tickfont':{'size':tickfont}})\n",
    "fig.layout.yaxis.update({'title':'Calculated S0->S1, eV','titlefont':{'size':titlefont},'tickfont':{'size':tickfont}})\n",
    "fig.layout.yaxis2.update({'title':'Counts','titlefont':{'size':titlefont},'tickfont':{'size':tickfont}})\n",
    "fig.layout.xaxis2.update({'title':'Counts','titlefont':{'size':titlefont},'tickfont':{'size':tickfont}})\n",
    "\n",
    "\n",
    "fig.data[0].update({'text': ['{} : {} : {}'.format(i[0],i[1]['ccdc'],i[1]['mol__tags']) for i in df.iterrows()]})\n",
    "#print(fig)\n",
    "#help(fig)\n",
    "iplot(fig,image_height=1200,image_width=1200)\n"
   ]
  },
  {
   "cell_type": "code",
   "execution_count": null,
   "metadata": {
    "ExecuteTime": {
     "end_time": "2017-02-26T21:47:17.371896-05:00",
     "start_time": "2017-02-26T21:47:08.741646"
    }
   },
   "outputs": [],
   "source": [
    "# SLOPE=1.05\n",
    "# INT=0\n",
    "\n",
    "colorscale = ['#7A4579', '#D56073', 'rgb(236,158,105)', (1, 1, 0.2), (0.98,0.98,0.98)]\n",
    "\n",
    "df = pd.merge(df_confs.dropna(subset=['t1_opt','s1_vert']).join(df_smiles),dfxray1,how='left',right_index=True,left_index=True,suffixes=('','_x'))\n",
    "\n",
    "x = df['t1_opt'].as_matrix()\n",
    "y = df['s1_vert'].as_matrix()#*SLOPE+INT\n",
    "fig = FF.create_2D_density(\n",
    "    x, y, colorscale=colorscale,\n",
    "    title='',\n",
    "    hist_color='rgb(255, 237, 222)', point_size=3,height=900,width=900\n",
    ")\n",
    "y0=np.min(y)-0.2\n",
    "y1=np.max(y)+0.2\n",
    "\n",
    "fig.layout.update({'shapes':[\n",
    "        # Line Vertical\n",
    "        {\n",
    "            'type': 'line',\n",
    "            'xref': 'x',\n",
    "            'yref': 'y',\n",
    "            'x0': y0/2,\n",
    "            'y0': y0,\n",
    "            'x1': y1/2,\n",
    "            'y1': y1,\n",
    "            'line': {\n",
    "                'color': 'red',\n",
    "                'width': 2,\n",
    "            }\n",
    "         }\n",
    "        ,\n",
    "        {\n",
    "            'type': 'line',\n",
    "            'xref': 'x',\n",
    "            'yref': 'y',\n",
    "            'x0': (y0+0.2)/2,\n",
    "            'y0': y0,\n",
    "            'x1': (y1+0.2)/2,\n",
    "            'y1': y1,\n",
    "            'line': {\n",
    "                'color': 'red',\n",
    "                'width': 1,\n",
    "                'dash':'dash'\n",
    "            }\n",
    "         }\n",
    "                    ,\n",
    "        {\n",
    "            'type': 'line',\n",
    "            'xref': 'x',\n",
    "            'yref': 'y',\n",
    "            'x0': (y0-0.2)/2,\n",
    "            'y0': y0,\n",
    "            'x1': (y1-0.2)/2,\n",
    "            'y1': y1,\n",
    "            'line': {\n",
    "                'color': 'red',\n",
    "                'width': 1,\n",
    "                'dash':'dash'\n",
    "            }\n",
    "         }\n",
    "        ]})\n",
    "titlefont = 23\n",
    "tickfont = 20\n",
    "fig.layout.xaxis.update({'title':'Calculated S0->T1, eV','titlefont':{'size':titlefont},'tickfont':{'size':tickfont}})\n",
    "fig.layout.yaxis.update({'title':'Calculated S0->S1, eV','titlefont':{'size':titlefont},'tickfont':{'size':tickfont}})\n",
    "fig.layout.yaxis2.update({'title':'Counts','titlefont':{'size':titlefont},'tickfont':{'size':tickfont}})\n",
    "fig.layout.xaxis2.update({'title':'Counts','titlefont':{'size':titlefont},'tickfont':{'size':tickfont}})\n",
    "\n",
    "\n",
    "fig.data[0].update({'text': ['{} : {} : {}'.format(i[0],i[1]['ccdc'],i[1]['mol__tags']) for i in df.iterrows()]})\n",
    "#print(fig)\n",
    "#help(fig)\n",
    "#iplot(fig,image_height=1200,image_width=1200)\n",
    "#print(plot(fig))\n",
    "plot_div = plot(fig,image_height=900,image_width=900,output_type='div',show_link=False,include_plotlyjs=False)\n",
    "\n",
    "from rdkit.Chem import rdDepictor\n",
    "from rdkit.Chem.Draw import rdMolDraw2D\n",
    "def smitosvg(smiles,molSize=(450,150),kekulize=True):\n",
    "    mc = Chem.MolFromSmiles(smiles)\n",
    "    if kekulize:\n",
    "        try:\n",
    "            Chem.Kekulize(mc)\n",
    "        except:\n",
    "            mc = Chem.Mol(mol.ToBinary())\n",
    "    if not mc.GetNumConformers():\n",
    "        rdDepictor.Compute2DCoords(mc)\n",
    "    drawer = rdMolDraw2D.MolDraw2DSVG(molSize[0],molSize[1])\n",
    "    drawer.DrawMolecule(mc)\n",
    "    drawer.FinishDrawing()\n",
    "    svg = drawer.GetDrawingText()\n",
    "    # It seems that the svg renderer used doesn't quite hit the spec.\n",
    "    # Here are some fixes to make it work in the notebook, although I think\n",
    "    # the underlying issue needs to be resolved at the generation step\n",
    "    return svg.replace('svg:','')\n",
    "\n",
    "svgs = [smitosvg(smiles).replace('\\n','') for smiles in df.mol__smiles]\n",
    "\n",
    "plotHTML = '''\n",
    "    <html><head><meta charset=\"utf-8\" /></head><body>\n",
    "        <script type=\"text/javascript\" src=\"https://cdn.plot.ly/plotly-latest.js\"></script>\n",
    "        <table>\n",
    "            <tbody>\n",
    "                <tr>\n",
    "                    <td>%s</td>\n",
    "                    <td><div id=\"mol\" style=\"height: 300px; width: 300px;\"></div></td>\n",
    "                </tr>\n",
    "            </tbody>\n",
    "        </table>\n",
    "\n",
    "        <script type=\"text/javascript\">\n",
    "        var myPlot = document.getElementById('myDiv');\n",
    "        myPlot.on('plotly_hover', function(data){\n",
    "            document.getElementById('mol').innerHTML=svgs[data.points[0].pointNumber];\n",
    "        });\n",
    "\n",
    "        var svgs = %s;\n",
    "\n",
    "         </script></body></html>\n",
    "    '''\n",
    "\n",
    "from bs4 import BeautifulSoup\n",
    "soup = BeautifulSoup(plot_div, 'html.parser')\n",
    "\n",
    "div_id=soup.find_all('div')[0].get('id')\n",
    "plot_div=plot_div.replace(div_id,'myDiv')\n",
    "\n",
    "\n",
    "with open(\"/home/denn/home/temp/plot.html\", \"w\") as text_file:\n",
    "    text_file.write(plotHTML % (plot_div,str(svgs)))\n"
   ]
  },
  {
   "cell_type": "code",
   "execution_count": null,
   "metadata": {
    "ExecuteTime": {
     "end_time": "2017-02-26T21:55:11.142201-05:00",
     "start_time": "2017-02-26T21:55:10.676038"
    },
    "code_folding": [
     13
    ],
    "scrolled": true
   },
   "outputs": [],
   "source": [
    "colorscale = ['#7A4579', '#D56073', 'rgb(236,158,105)', (1, 1, 0.2), (0.98,0.98,0.98)]\n",
    "\n",
    "df = df_confs[(df_confs['s1_exp']<3.85)&(df_confs['s1_exp']>1.05)]\n",
    "\n",
    "x = df['t1_opt'].as_matrix()\n",
    "y = df['s1_exp'].as_matrix()\n",
    "fig = FF.create_2D_density(\n",
    "    x, y, colorscale=colorscale,\n",
    "    hist_color='rgb(255, 237, 222)', point_size=3,height=1200,width=1200\n",
    ")\n",
    "y0=1.3\n",
    "y1=4.1\n",
    "\n",
    "fig.layout.update({'shapes':[\n",
    "        # Line Vertical\n",
    "        {\n",
    "            'type': 'line',\n",
    "            'xref': 'x',\n",
    "            'yref': 'y',\n",
    "            'x0': y0/2,\n",
    "            'y0': y0,\n",
    "            'x1': y1/2,\n",
    "            'y1': y1,\n",
    "            'line': {\n",
    "                'color': 'red',\n",
    "                'width': 2,\n",
    "            }\n",
    "         }\n",
    "        ,\n",
    "        {\n",
    "            'type': 'line',\n",
    "            'xref': 'x',\n",
    "            'yref': 'y',\n",
    "            'x0': (y0+0.2)/2,\n",
    "            'y0': y0,\n",
    "            'x1': (y1+0.2)/2,\n",
    "            'y1': y1,\n",
    "            'line': {\n",
    "                'color': 'red',\n",
    "                'width': 1,\n",
    "                'dash':'dash'\n",
    "            }\n",
    "         }\n",
    "        ,\n",
    "        {\n",
    "            'type': 'line',\n",
    "            'xref': 'x',\n",
    "            'yref': 'y',\n",
    "            'x0': (y0-0.2)/2,\n",
    "            'y0': y0,\n",
    "            'x1': (y1-0.2)/2,\n",
    "            'y1': y1,\n",
    "            'line': {\n",
    "                'color': 'red',\n",
    "                'width': 1,\n",
    "                'dash':'dash'\n",
    "            }\n",
    "         }\n",
    "        ]})\n",
    "titlefont = 23\n",
    "tickfont = 20\n",
    "fig.layout.xaxis.update({'title':'Calculated S0->T1, eV','titlefont':{'size':titlefont},'tickfont':{'size':tickfont}})\n",
    "fig.layout.yaxis.update({'title':'Experimental S0->S1, eV','titlefont':{'size':titlefont},'tickfont':{'size':tickfont}})\n",
    "fig.layout.yaxis2.update({'title':'Counts','titlefont':{'size':titlefont},'tickfont':{'size':tickfont}})\n",
    "fig.layout.xaxis2.update({'title':'Counts','titlefont':{'size':titlefont},'tickfont':{'size':tickfont}})\n",
    "\n",
    "\n",
    "\n",
    "fig.data[0].update({'text': [str(i[0]) for i in df.iterrows()]})\n",
    "#print(fig)\n",
    "#help(fig)\n",
    "iplot(fig,image_height=1200,image_width=1200,show_link=False)\n",
    "#print(plot(fig))"
   ]
  },
  {
   "cell_type": "code",
   "execution_count": null,
   "metadata": {
    "ExecuteTime": {
     "end_time": "2017-03-02T20:02:11.591544-05:00",
     "start_time": "2017-03-02T20:01:57.437734"
    }
   },
   "outputs": [],
   "source": [
    "# SLOPE=1.05\n",
    "# INT=0\n",
    "\n",
    "colorscale = ['#7A4579', '#D56073', 'rgb(236,158,105)', (1, 1, 0.2), (0.98,0.98,0.98)]\n",
    "\n",
    "df = pd.merge(df_confs[(df_confs['s1_exp']<3.85)&(df_confs['s1_exp']>1.05)].dropna(subset=['t1_opt','s1_exp']).join(df_smiles),dfxray1,how='left',right_index=True,left_index=True,suffixes=('','_x'))\n",
    "\n",
    "x = df['t1_opt'].as_matrix()\n",
    "y = df['s1_exp'].as_matrix()#*SLOPE+INT\n",
    "fig = FF.create_2D_density(\n",
    "    x, y, colorscale=colorscale,\n",
    "    title='',\n",
    "    hist_color='rgb(255, 237, 222)', point_size=3,height=900,width=900\n",
    ")\n",
    "y0=np.min(y)-0.2\n",
    "y1=np.max(y)+0.2\n",
    "\n",
    "fig.layout.update({'shapes':[\n",
    "        # Line Vertical\n",
    "        {\n",
    "            'type': 'line',\n",
    "            'xref': 'x',\n",
    "            'yref': 'y',\n",
    "            'x0': y0/2,\n",
    "            'y0': y0,\n",
    "            'x1': y1/2,\n",
    "            'y1': y1,\n",
    "            'line': {\n",
    "                'color': 'red',\n",
    "                'width': 2,\n",
    "            }\n",
    "         }\n",
    "        ,\n",
    "        {\n",
    "            'type': 'line',\n",
    "            'xref': 'x',\n",
    "            'yref': 'y',\n",
    "            'x0': (y0+0.2)/2,\n",
    "            'y0': y0,\n",
    "            'x1': (y1+0.2)/2,\n",
    "            'y1': y1,\n",
    "            'line': {\n",
    "                'color': 'red',\n",
    "                'width': 1,\n",
    "                'dash':'dash'\n",
    "            }\n",
    "         }\n",
    "                    ,\n",
    "        {\n",
    "            'type': 'line',\n",
    "            'xref': 'x',\n",
    "            'yref': 'y',\n",
    "            'x0': (y0-0.2)/2,\n",
    "            'y0': y0,\n",
    "            'x1': (y1-0.2)/2,\n",
    "            'y1': y1,\n",
    "            'line': {\n",
    "                'color': 'red',\n",
    "                'width': 1,\n",
    "                'dash':'dash'\n",
    "            }\n",
    "         }\n",
    "        ]})\n",
    "titlefont = 23\n",
    "tickfont = 20\n",
    "fig.layout.xaxis.update({'title':'Calculated S0->T1, eV','titlefont':{'size':titlefont},'tickfont':{'size':tickfont}})\n",
    "fig.layout.yaxis.update({'title':'Experimental S0->S1, eV','titlefont':{'size':titlefont},'tickfont':{'size':tickfont}})\n",
    "fig.layout.yaxis2.update({'title':'Counts','titlefont':{'size':titlefont},'tickfont':{'size':tickfont}})\n",
    "fig.layout.xaxis2.update({'title':'Counts','titlefont':{'size':titlefont},'tickfont':{'size':tickfont}})\n",
    "\n",
    "\n",
    "fig.data[0].update({'text': ['{} : {} : {}'.format(i[0],i[1]['ccdc'],i[1]['mol__tags']) for i in df.iterrows()]})\n",
    "#print(fig)\n",
    "#help(fig)\n",
    "#iplot(fig,image_height=1200,image_width=1200)\n",
    "#print(plot(fig))\n",
    "plot_div = plot(fig,image_height=900,image_width=900,output_type='div',show_link=False,include_plotlyjs=False)\n",
    "\n",
    "from rdkit.Chem import rdDepictor\n",
    "from rdkit.Chem.Draw import rdMolDraw2D\n",
    "def moltosvg(smiles,molSize=(450,150),kekulize=True):\n",
    "    mc = Chem.MolFromSmiles(smiles)\n",
    "    if kekulize:\n",
    "        try:\n",
    "            Chem.Kekulize(mc)\n",
    "        except:\n",
    "            mc = Chem.Mol(mol.ToBinary())\n",
    "    if not mc.GetNumConformers():\n",
    "        rdDepictor.Compute2DCoords(mc)\n",
    "    drawer = rdMolDraw2D.MolDraw2DSVG(molSize[0],molSize[1])\n",
    "    drawer.DrawMolecule(mc)\n",
    "    drawer.FinishDrawing()\n",
    "    svg = drawer.GetDrawingText()\n",
    "    # It seems that the svg renderer used doesn't quite hit the spec.\n",
    "    # Here are some fixes to make it work in the notebook, although I think\n",
    "    # the underlying issue needs to be resolved at the generation step\n",
    "    return svg.replace('svg:','')\n",
    "\n",
    "svgs = [moltosvg(smiles).replace('\\n','') for smiles in df.mol__smiles]\n",
    "\n",
    "plotHTML = '''\n",
    "    <html><head><meta charset=\"utf-8\" /></head><body>\n",
    "        <script type=\"text/javascript\" src=\"https://cdn.plot.ly/plotly-latest.js\"></script>\n",
    "        <table>\n",
    "            <tbody>\n",
    "                <tr>\n",
    "                    <td>%s</td>\n",
    "                    <td><div id=\"mol\" style=\"height: 300px; width: 300px;\"></div></td>\n",
    "                </tr>\n",
    "            </tbody>\n",
    "        </table>\n",
    "\n",
    "        <script type=\"text/javascript\">\n",
    "        var myPlot = document.getElementById('myDiv');\n",
    "        myPlot.on('plotly_hover', function(data){\n",
    "            document.getElementById('mol').innerHTML=svgs[data.points[0].pointNumber];\n",
    "        });\n",
    "\n",
    "        var svgs = %s;\n",
    "\n",
    "         </script></body></html>\n",
    "    '''\n",
    "\n",
    "from bs4 import BeautifulSoup\n",
    "soup = BeautifulSoup(plot_div, 'html.parser')\n",
    "\n",
    "div_id=soup.find_all('div')[0].get('id')\n",
    "plot_div=plot_div.replace(div_id,'myDiv')\n",
    "\n",
    "\n",
    "with open(\"/home/denn/home/temp/plot.html\", \"w\") as text_file:\n",
    "    text_file.write(plotHTML % (plot_div,str(svgs)))\n"
   ]
  },
  {
   "cell_type": "code",
   "execution_count": null,
   "metadata": {
    "ExecuteTime": {
     "end_time": "2017-02-23T19:28:28.126032-05:00",
     "start_time": "2017-02-23T19:28:28.123348"
    }
   },
   "outputs": [],
   "source": [
    "# def view3d(conformer):\n",
    "#     view = view3dMol(height=300,width=300)\n",
    "#     view.addModel(''.join(df_xyz.loc[conformer]['xyz']),'xyz')\n",
    "#     view.zoom(3)\n",
    "#     view.setStyle({'stick':{}})\n",
    "#     view.addStyle({'sphere':{'radius':0.4}})\n",
    "#     return view._repr_html_()\n",
    "\n",
    "# #df_d['mol3d']=df_d['geoms__parents'].apply(view3d)\n",
    "# #df_d[['mol3d','mol']]\n",
    "# #df_d3[['mol3d','mol','t1_opt','s1_vert','2t1_opt','criteria1','criteria2','geoms__parents']].to_html('/home/denn/harvard/SF/Meetings/18Oct2016/anthracene_results3d.html',escape=False)\n",
    "# #show(df_d[['mol3d','mol','t1_opt','s1_vert','2t1_opt','criteria1','criteria2']][:10])"
   ]
  },
  {
   "cell_type": "code",
   "execution_count": null,
   "metadata": {
    "ExecuteTime": {
     "end_time": "2017-02-23T19:28:28.149664-05:00",
     "start_time": "2017-02-23T19:28:28.127139"
    }
   },
   "outputs": [],
   "source": [
    "# #Generate report\n",
    "# def pop3d(conformer):\n",
    "#     popup = '<div class=\"ui primary button\" id=\"view3d_{}\">View 3D</div>'.format(conformer)\n",
    "#     return popup\n",
    "#     #<div id=\"mol3D\"  style=\"position: relative; width: 600px; height: 400px\"></div>\n",
    "# #     <script>\n",
    "# #     $(function() {\n",
    "# #           let element = $('#mol3D');\n",
    "# #           let config = { backgroundColor: 'white' };\n",
    "# #           let view = $3Dmol.createViewer( element, config );\n",
    "# #           view.setStyle({'stick':{}})\n",
    "# #           view.addStyle({'sphere':{'radius':0.4}})\n",
    "# #           view.render();\n",
    "# #     });\n",
    "# #     </script>\n",
    "# df_html=df_match.reset_index()\n",
    "# df_html['mol3d']=df_html['geoms__parents'].apply(pop3d)\n",
    "# html_js = \"\"\"\n",
    "#     <div class=\"ui small modal\" id=\"mol3Dmodal\">\n",
    "#     <i class=\"close icon\"></i>\n",
    "#     <div class=\"header\">3D view (rotate with mouse)</div>\n",
    "#     <div style=\"height: 350px; width: 720px; position: relative;\" class='viewer_3Dmoljs' data-backgroundcolor='0xffffff'></div>\n",
    "#     </div>\n",
    "#     <h1 class=\"ui header\">Singlet Fission Candidates </h1>\n",
    "#     <p class=\"ui header\">Selected using S1-2T1 and T2-2T1 > -0.2 eV. You can sort each column by values, and look associated 3D geometry</p>\n",
    "# \"\"\"\n",
    "# html_button_js=\"<script>\"\n",
    "# for conformer in df_html['geoms__parents']:\n",
    "#     html_button_js+=\"$('#mol3Dmodal').modal('attach events', '#view3d_{}');\".format(conformer,conformer)\n",
    "#     html_button_js+=(\"$('#view3d_%s').click(function() {var view = $3Dmol.viewers[0];view.removeAllModels();view.addModel('%s','xyz');view.setStyle({'stick':{}});view.addStyle({'sphere':{'radius':0.4}});view.zoomTo();view.render();});\" % (conformer,''.join(df_xyz.loc[conformer]['xyz']))).replace(\"\\n\", \"\\\\n\")\n",
    "# html_button_js+=\"</script>\"\n",
    "\n",
    "\n",
    "# pd.options.display.float_format = '{:,.2f}'.format\n",
    "# html_table=df_html[['mol__inchikey','mol','mol3d','t1_opt','s1_vert','criteria1','criteria2']]\\\n",
    "#     .rename(index=str, columns={'mol__inchikey':'InChIKey (Unique Chemical Identifier)','mol':'Molecule','mol3d':'3D','t1_opt':'T1, eV','s1_vert':'S1, eV','criteria1':'S1-2T1, eV','criteria2':'T2-2T1, eV'}).to_html(escape=False)\n",
    "# html_table=html_table.replace('<table border=\"1\" class=\"dataframe\">','<table id=\"example\" class=\"ui celled table\" cellspacing=\"0\" width=\"100%\">')\n",
    "# with open(\"/home/denn/harvard/SF/Meetings/18Oct2016/SF_anthracene_results_live_nocor.html\", \"w\") as text_file:\n",
    "#     text_file.write(html_start+html_js+html_table+html_button_js+html_end)"
   ]
  },
  {
   "cell_type": "code",
   "execution_count": null,
   "metadata": {
    "ExecuteTime": {
     "end_time": "2017-03-08T20:13:26.434723-05:00",
     "start_time": "2017-03-08T20:13:26.430351"
    }
   },
   "outputs": [],
   "source": [
    "df_smiles[df_smiles.mol__tags]"
   ]
  },
  {
   "cell_type": "code",
   "execution_count": null,
   "metadata": {
    "ExecuteTime": {
     "end_time": "2017-03-08T19:50:02.736901-05:00",
     "start_time": "2017-03-08T19:50:02.555944"
    },
    "code_folding": [
     7
    ]
   },
   "outputs": [],
   "source": [
    "from plotly.offline import download_plotlyjs, init_notebook_mode, iplot\n",
    "from plotly.graph_objs import *\n",
    "\n",
    "from numpy import arange,array,ones\n",
    "from scipy import stats\n",
    "init_notebook_mode()\n",
    "\n",
    "def plot_calc_vs_theo(dfi:pd.DataFrame, calc, exp,height=800,width=800, errors=True, gen_html=False, html_filename=None):\n",
    "\n",
    "    if gen_html:\n",
    "        df=dfi[[exp,calc,'mol']].dropna()\n",
    "        if html_filename is None:\n",
    "            html_filename=\"/home/denn/home/temp/plot.html\"\n",
    "    else:\n",
    "        df=dfi[[exp,calc]].dropna()\n",
    "        \n",
    "    df_group=df.groupby(level=0)\n",
    "    xt1=df_group[exp].mean().values\n",
    "    yt1=df_group[calc].mean().values\n",
    "    if errors:\n",
    "        yt1e=df_group[calc].std().fillna(0.).values\n",
    "\n",
    "    slope, intercept, r_value, p_value, std_err = stats.linregress(xt1,yt1)\n",
    "    line = slope*xt1+intercept\n",
    "\n",
    "    print('Slope',slope)\n",
    "    print('Intercept',intercept)\n",
    "    \n",
    "    if errors:\n",
    "        trace0 = Scatter(\n",
    "            x=xt1,\n",
    "            y=yt1,\n",
    "            mode='markers',\n",
    "            name=calc,\n",
    "            text=[str(i) for i in df_group.head(1).index.get_values()],\n",
    "\n",
    "            error_y=dict(\n",
    "                type='data',\n",
    "                array=yt1e,\n",
    "                visible=True,\n",
    "                width=2,\n",
    "                color='blue'\n",
    "            )\n",
    "        )\n",
    "    else:\n",
    "        trace0 = Scatter(\n",
    "            x=xt1,\n",
    "            y=yt1,\n",
    "            mode='markers',\n",
    "            name=calc,\n",
    "            text=[str(i) for i in df_group.head(1).index.get_values()],\n",
    "        )\n",
    "            \n",
    "    \n",
    "    trace2 = Scatter(\n",
    "                      x=xt1, \n",
    "                      y=line, \n",
    "                      mode='lines',\n",
    "                      marker=Marker(color='rgb(31, 119, 180)'),\n",
    "                      name='Fit'\n",
    "                      )\n",
    "\n",
    "    annotation = Annotation(\n",
    "                        xref='paper',\n",
    "                        yref='paper',\n",
    "                       x=0,\n",
    "                       y=1,\n",
    "                         #xanchor='left',\n",
    "                         #yanchor='top',\n",
    "                      text='R_value: {:.5f} Slope: {:.4f} Intercept: {:.3f}'.format(r_value,slope,intercept),\n",
    "                      showarrow=False,\n",
    "                      font=Font(size=height/40)\n",
    "                      )\n",
    "\n",
    "    data = [trace0,trace2]\n",
    "    layout = Layout(\n",
    "        xaxis= dict(\n",
    "            title= exp,\n",
    "            ticklen= 5,\n",
    "            zeroline= False,\n",
    "            gridwidth= 1,\n",
    "            titlefont=Font(size=height/40),\n",
    "            tickfont=Font(size=height/40)\n",
    "        ),\n",
    "        yaxis=dict(\n",
    "            title= calc,\n",
    "            ticklen= 5,\n",
    "            gridwidth= 1,\n",
    "            titlefont=Font(size=height/40),\n",
    "            tickfont=Font(size=height/40)\n",
    "        ),\n",
    "                shapes=[dict(\n",
    "                        type='line',\n",
    "                        xref='x',\n",
    "                        yref= 'y',\n",
    "                        x0= np.min(yt1)-0.05,\n",
    "                        y0= np.min(yt1)-0.05,\n",
    "                        x1= np.max(yt1)+0.05,\n",
    "                        y1= np.max(yt1)+0.05,\n",
    "                        line = {\n",
    "                'color': 'red',\n",
    "                'width': 2,\n",
    "                'dash':'dash'\n",
    "            }\n",
    "                )],\n",
    "         annotations=[annotation],\n",
    "        showlegend=False,\n",
    "        height=height,\n",
    "        width=width,\n",
    "    )\n",
    "\n",
    "    fig = dict( data=data, layout=layout )\n",
    "\n",
    "    iplot(fig,image_height=height,image_width=width)\n",
    "    #plot(fig,image_height=height,image_width=width)\n",
    "    \n",
    "    if gen_html:\n",
    "        plot_div = plot(fig,image_height=900,image_width=900,output_type='div',show_link=False,include_plotlyjs=False)\n",
    "\n",
    "        from rdkit.Chem import rdDepictor\n",
    "        from rdkit.Chem.Draw import rdMolDraw2D\n",
    "        \n",
    "        if \n",
    "        def moltosvg(mol,molSize=(450,150),kekulize=True):\n",
    "            mc = Chem.Mol(mol.ToBinary())\n",
    "            if kekulize:\n",
    "                try:\n",
    "                    Chem.Kekulize(mc)\n",
    "                except:\n",
    "                    mc = Chem.Mol(mol.ToBinary())\n",
    "            if not mc.GetNumConformers():\n",
    "                rdDepictor.Compute2DCoords(mc)\n",
    "            drawer = rdMolDraw2D.MolDraw2DSVG(molSize[0],molSize[1])\n",
    "            drawer.DrawMolecule(mc)\n",
    "            drawer.FinishDrawing()\n",
    "            svg = drawer.GetDrawingText()\n",
    "            # It seems that the svg renderer used doesn't quite hit the spec.\n",
    "            # Here are some fixes to make it work in the notebook, although I think\n",
    "            # the underlying issue needs to be resolved at the generation step\n",
    "            return svg.replace('svg:','')\n",
    "\n",
    "        \n",
    "        svgs = [moltosvg(smiles).replace('\\n','') for smiles in df_group.head(1)['mol']]\n",
    "        plotHTML = '''\n",
    "        <html><head><meta charset=\"utf-8\" /></head><body>\n",
    "            <script type=\"text/javascript\" src=\"https://cdn.plot.ly/plotly-latest.js\"></script>\n",
    "            <table>\n",
    "                <tbody>\n",
    "                    <tr>\n",
    "                        <td>%s</td>\n",
    "                        <td><div id=\"mol\" style=\"height: 300px; width: 300px;\"></div></td>\n",
    "                    </tr>\n",
    "                </tbody>\n",
    "            </table>\n",
    "\n",
    "            <script type=\"text/javascript\">\n",
    "            var myPlot = document.getElementById('myDiv');\n",
    "            myPlot.on('plotly_hover', function(data){\n",
    "                document.getElementById('mol').innerHTML=svgs[data.points[0].pointNumber];\n",
    "            });\n",
    "\n",
    "            var svgs = %s;\n",
    "\n",
    "             </script></body></html>\n",
    "        '''\n",
    "        \n",
    "        \n",
    "        \n",
    "        from bs4 import BeautifulSoup\n",
    "        soup = BeautifulSoup(plot_div, 'html.parser')\n",
    "        \n",
    "        div_id=soup.find_all('div')[0].get('id')\n",
    "        plot_div=plot_div.replace(div_id,'myDiv')\n",
    "        \n",
    "        \n",
    "        with open(html_filename, \"w\") as text_file:\n",
    "            text_file.write(plotHTML % (plot_div,str(svgs)))\n",
    "\n"
   ]
  },
  {
   "cell_type": "code",
   "execution_count": null,
   "metadata": {
    "ExecuteTime": {
     "end_time": "2017-03-08T19:50:45.624729-05:00",
     "start_time": "2017-03-08T19:50:45.376204"
    }
   },
   "outputs": [],
   "source": [
    "plot_calc_vs_theo(df_confs.join(df_smiles),'t1_vert','t1_opt',errors=False)\n",
    "plot_calc_vs_theo(df_confs.join(df_smiles),'t1_vert','t1_opt',errors=False,gen_html=True)"
   ]
  },
  {
   "cell_type": "code",
   "execution_count": null,
   "metadata": {
    "ExecuteTime": {
     "end_time": "2017-02-27T22:24:34.706279-05:00",
     "start_time": "2017-02-27T22:24:34.314517"
    }
   },
   "outputs": [],
   "source": [
    "#df_reaxys1=pd.read_pickle('/home/denn/home/ml/data/sf/Reaxys4_uv.pickle')\n",
    "df_reaxys1=pd.read_pickle('/home/denn/harvard/SF/Library/Reaxys/anth_peryl_uv_below1000_reaxys2_newproc_all.pickle')"
   ]
  },
  {
   "cell_type": "code",
   "execution_count": null,
   "metadata": {
    "ExecuteTime": {
     "end_time": "2017-02-27T22:24:34.714378-05:00",
     "start_time": "2017-02-27T22:24:34.707578"
    },
    "scrolled": true
   },
   "outputs": [],
   "source": [
    "#print(df_min.reset_index(level=1)['s1_vert'])\n",
    "print(df_reaxys1.count())"
   ]
  },
  {
   "cell_type": "code",
   "execution_count": null,
   "metadata": {
    "ExecuteTime": {
     "end_time": "2017-02-26T20:06:52.900272-05:00",
     "start_time": "2017-02-26T20:06:52.898069"
    }
   },
   "outputs": [],
   "source": [
    "#df_reaxys1['mol__inchikey']=df_reaxys1['InChI Key'].str.split('-').str[0]"
   ]
  },
  {
   "cell_type": "code",
   "execution_count": null,
   "metadata": {
    "ExecuteTime": {
     "end_time": "2017-02-26T20:06:53.809203-05:00",
     "start_time": "2017-02-26T20:06:53.804924"
    }
   },
   "outputs": [],
   "source": [
    "#df_reaxys1=df_reaxys1.set_index('mol__inchikey')\n",
    "\n",
    "# df_s1_agg=df_low.groupby(level=1)['s1_vert','t1_opt','t2_vert','s1_vert_lcpbe','s1_vert_wb97xd'].agg({\n",
    "#                                                    's1_vert': {\n",
    "#                                                        'std':'std',\n",
    "#                                                        'median':'median',\n",
    "#                                                        'max':'max',\n",
    "#                                                        'min':'min',\n",
    "#                                                        'count':'count',\n",
    "#                                                        'mean':'mean',\n",
    "#                                                    },\n",
    "#                                                     's1_vert_lcpbe': {\n",
    "#                                                        'std':'std',\n",
    "#                                                        'median':'median',\n",
    "#                                                        'max':'max',\n",
    "#                                                        'min':'min',\n",
    "#                                                        'count':'count',\n",
    "#                                                        'mean':'mean',\n",
    "#                                                     }\n",
    "#                                                     })"
   ]
  },
  {
   "cell_type": "code",
   "execution_count": null,
   "metadata": {
    "ExecuteTime": {
     "end_time": "2017-02-26T20:38:23.738839-05:00",
     "start_time": "2017-02-26T20:38:23.682587"
    }
   },
   "outputs": [],
   "source": [
    "show(df_evt_b3lyp_s1[:5])"
   ]
  },
  {
   "cell_type": "code",
   "execution_count": null,
   "metadata": {
    "ExecuteTime": {
     "end_time": "2017-02-27T22:40:18.619288-05:00",
     "start_time": "2017-02-27T22:40:18.563638"
    },
    "scrolled": true
   },
   "outputs": [],
   "source": [
    "df_expvstheo=df_reaxys1.join(df_low.reset_index(level=1)[['s1_vert','geoms__parents','t1_opt','t2_vert','s1_vert_lcpbe','s1_vert_wb97xd']],how='inner')\n",
    "#print(df_expvstheo.shape)\n",
    "df_expvstheo1=df_expvstheo.reset_index().set_index(['mol__inchikey','geoms__parents'])\n",
    "\n",
    "print(df_expvstheo1.count())\n",
    "#show(df_expvstheo1.head(10))"
   ]
  },
  {
   "cell_type": "code",
   "execution_count": null,
   "metadata": {
    "ExecuteTime": {
     "end_time": "2017-02-26T20:38:28.745292-05:00",
     "start_time": "2017-02-26T20:38:28.743172"
    }
   },
   "outputs": [],
   "source": [
    "# s1='t1_opt'\n",
    "# df_expvstheo=df_expvstheo1.dropna(subset=[s1])\n",
    "# df_expvstheo[['t1_opt','smiles']].to_csv('/home/denn/home/ml/data/gp/anth_b3lyp_t1_reaxys2.csv',header=False,index=False)"
   ]
  },
  {
   "cell_type": "code",
   "execution_count": null,
   "metadata": {
    "ExecuteTime": {
     "end_time": "2017-02-27T22:24:35.925337-05:00",
     "start_time": "2017-02-27T22:24:35.888607"
    }
   },
   "outputs": [],
   "source": [
    "df_s1_agg=df_low.groupby(level=0)[['s1_vert','t1_opt','t2_vert','s1_vert_lcpbe','s1_vert_wb97xd']].agg({\n",
    "                                                       'std':'std',\n",
    "                                                       'median':'median',\n",
    "                                                       'max':'max',\n",
    "                                                       'min':'min',\n",
    "                                                       'count':'count',\n",
    "                                                       'mean':'mean',\n",
    "                                                   })\n",
    "\n",
    "#reax_s1.loc(('s1_vert','max_min'))=reax_s1.loc(('s1_vert','max'))-reax_s1.loc(('s1_vert','max'))"
   ]
  },
  {
   "cell_type": "code",
   "execution_count": null,
   "metadata": {
    "ExecuteTime": {
     "end_time": "2017-02-27T22:27:24.827329-05:00",
     "start_time": "2017-02-27T22:27:24.773025"
    }
   },
   "outputs": [],
   "source": [
    "\n",
    "#df_s1_agg.loc[:,(slice(None),'s1_vert')][:10]\n",
    "#df_s1_agg['max_min']=(df_s1_agg.loc[:,'max']-df_s1_agg.loc[:,'min'])\n",
    "\n",
    "\n",
    "\n",
    "\n",
    "\n",
    "\n"
   ]
  },
  {
   "cell_type": "code",
   "execution_count": null,
   "metadata": {
    "ExecuteTime": {
     "end_time": "2017-02-27T22:34:04.552575-05:00",
     "start_time": "2017-02-27T22:33:57.628151"
    },
    "scrolled": true
   },
   "outputs": [],
   "source": [
    "df_b3lyp_s1=df_s1_agg.xs('s1_vert',level=1,axis=1).copy()\n",
    "df_b3lyp_s1['max_min']=df_b3lyp_s1['max']-df_b3lyp_s1['min']\n",
    "df_evt_b3lyp_s1=df_reaxys1.join(df_b3lyp_s1,how='inner',rsuffix='_s1')\n",
    "\n",
    "s1='s1_vert'\n",
    "df_expvstheo=df_expvstheo1.dropna(subset=[s1,'mean_rj']).copy()\n",
    "df_expvstheo=df_expvstheo[df_expvstheo['max_min']<0.2]\n",
    "#df_expvstheo=df_expvstheo[df_expvstheo['std_rj'].fillna(0.)<0.1]\n",
    "#df_expvstheo=df_expvstheo[df_expvstheo['mean_rj']>320]\n",
    "print(df_expvstheo[s1].count())\n",
    "#df_expvstheo['s1_exp']=NM_TO_EV/df_expvstheo['max']\n",
    "df_expvstheo['s1_exp']=df_expvstheo['mean_rj']\n",
    "df_expvstheo['s1_diff']=df_expvstheo['s1_exp']-df_expvstheo[s1]\n",
    "#df_expvstheo=df_expvstheo[np.abs(df_expvstheo['s1_diff'])<1]\n",
    "#df_expvstheo=df_expvstheo[np.abs(df_expvstheo['s1_diff'])<0.8]\n",
    "\n",
    "#df_expvstheo[['mol',s1,'s1_exp','s1_diff']].to_pickle('/home/denn/home/ml/data/gp/anth_exp_theo_b3lyp_reaxys2.pickle')\n",
    "#df_expvstheo[['s1_diff','smiles']].to_csv('/home/denn/home/ml/data/gp/anth_diff_b3lyp_reaxys2.csv',header=False,index=False)\n",
    "#df_expvstheo[['s1_exp','smiles']].to_csv('/home/denn/home/ml/data/gp/anth_exp_b3lyp_reaxys2.csv',header=False,index=False)\n",
    "#df_expvstheo[['s1_vert','smiles']].to_csv('/home/denn/home/ml/data/gp/anth_b3lyp_b3lyp_reaxys2.csv',header=False,index=False)\n",
    "\n",
    "#plot_calc_vs_theo(df_expvstheo,s1,'s1_exp',1200, 1200, True)\n",
    "SLOPE=1.05\n",
    "INT=0\n",
    "df_evt_b3lyp_s1=df_evt_b3lyp_s1[df_evt_b3lyp_s1.max_min_s1<0.2]\n",
    "print(df_evt_b3lyp_s1.shape)\n",
    "df_evt_b3lyp_s1=df_evt_b3lyp_s1[df_evt_b3lyp_s1.max_min<0.2]\n",
    "print(df_evt_b3lyp_s1.shape)\n",
    "df_evt_b3lyp_s1['s1_exp']=df_evt_b3lyp_s1['min']\n",
    "df_evt_b3lyp_s1['s1_vert']=df_evt_b3lyp_s1['mean_s1']#*SLOPE\n",
    "\n",
    "X=df_evt_b3lyp_s1[['s1_exp','s1_vert']].values\n",
    "from sklearn.covariance import EllipticEnvelope\n",
    "outliers_fraction = 0.04\n",
    "clf=EllipticEnvelope(contamination=outliers_fraction)\n",
    "clf.fit(X)\n",
    "y_pred = clf.predict(X)\n",
    "df_evt_b3lyp_s1=df_evt_b3lyp_s1[y_pred==1]\n",
    "print(df_evt_b3lyp_s1.shape)\n",
    "\n",
    "df_evt_b3lyp_s1['s1_vert']=df_evt_b3lyp_s1['s1_vert']#*SLOPE\n",
    "df_evt_b3lyp_s1['s1_diff']=df_evt_b3lyp_s1['s1_exp']-df_evt_b3lyp_s1['s1_vert']\n",
    "#df_evt_b3lyp_s1=df_evt_b3lyp_s1[np.abs(df_evt_b3lyp_s1['s1_diff'])<0.6]\n",
    "#print(df_evt_b3lyp_s1.shape)\n",
    "\n",
    "#plot_calc_vs_theo(df_evt_b3lyp_s1,'s1_vert','s1_exp',800, 800, False,True)\n",
    "plot_calc_vs_theo(df_evt_b3lyp_s1,'s1_vert','s1_exp',800, 800, False,False)\n",
    "#df_evt_b3lyp_s1[['mol','s1_vert','s1_exp','s1_diff']].to_pickle('/home/denn/home/ml/data/gp/reaxys2_s1_exp_theo_b3lyp.pickle')\n",
    "\n",
    "from sklearn.metrics import mean_absolute_error,mean_squared_error\n",
    "def print_errors(title:str,exp:pd.DataFrame,calc:pd.DataFrame):\n",
    "        print(title,'MAE:',mean_absolute_error(exp, calc), 'RMSE',np.sqrt(mean_squared_error(exp, calc)))\n",
    "\n",
    "df_=df_evt_b3lyp_s1\n",
    "print(df_[s1].count())\n",
    "#print_errors('s1 mode',NM_TO_EV/df_['mode'], df_[s1])\n",
    "print_errors('s1 mean',df_['mean'], df_[s1])\n",
    "print_errors('s1 mean_rj',df_['mean_rj'], df_[s1])\n",
    "print_errors('s1 median',df_['median'], df_[s1])\n",
    "print_errors('s1 min',df_['min'], df_[s1])\n",
    "print('NM:')\n",
    "print_errors('s1 mean',NM_TO_EV/df_['mean'], NM_TO_EV/df_[s1])\n",
    "print_errors('s1 mean_rj',NM_TO_EV/df_['mean_rj'], NM_TO_EV/df_[s1])\n",
    "print_errors('s1 median',NM_TO_EV/df_['median'], NM_TO_EV/df_[s1])\n",
    "print_errors('s1 min',NM_TO_EV/df_['min'], NM_TO_EV/df_[s1])"
   ]
  },
  {
   "cell_type": "code",
   "execution_count": null,
   "metadata": {
    "ExecuteTime": {
     "end_time": "2017-02-27T22:43:22.721883-05:00",
     "start_time": "2017-02-27T22:43:18.129849"
    },
    "scrolled": true
   },
   "outputs": [],
   "source": [
    "df_lcpbe_s1=df_s1_agg.xs('s1_vert_lcpbe',level=1,axis=1).copy()\n",
    "df_lcpbe_s1['max_min']=df_lcpbe_s1['max']-df_lcpbe_s1['min']\n",
    "df_lcpbe_s1=df_reaxys1.join(df_lcpbe_s1,how='inner',rsuffix='_s1')\n",
    "\n",
    "s1='s1_vert_lcpbe'\n",
    "df_expvstheo=df_expvstheo1.dropna(subset=[s1,'mean_rj']).copy()\n",
    "df_expvstheo=df_expvstheo[df_expvstheo['max_min']<0.2]\n",
    "#df_expvstheo=df_expvstheo[df_expvstheo['std_rj'].fillna(0.)<0.1]\n",
    "#df_expvstheo=df_expvstheo[df_expvstheo['mean_rj']>320]\n",
    "print(df_expvstheo[s1].count())\n",
    "#df_expvstheo['s1_exp']=NM_TO_EV/df_expvstheo['max']\n",
    "df_expvstheo['s1_exp']=df_expvstheo['mean_rj']\n",
    "df_expvstheo['s1_diff']=df_expvstheo['s1_exp']-df_expvstheo[s1]\n",
    "#df_expvstheo=df_expvstheo[np.abs(df_expvstheo['s1_diff'])<1]\n",
    "#df_expvstheo=df_expvstheo[np.abs(df_expvstheo['s1_diff'])<0.8]\n",
    "\n",
    "#df_expvstheo[['mol',s1,'s1_exp','s1_diff']].to_pickle('/home/denn/home/ml/data/gp/anth_exp_theo_b3lyp_reaxys2.pickle')\n",
    "#df_expvstheo[['s1_diff','smiles']].to_csv('/home/denn/home/ml/data/gp/anth_diff_b3lyp_reaxys2.csv',header=False,index=False)\n",
    "#df_expvstheo[['s1_exp','smiles']].to_csv('/home/denn/home/ml/data/gp/anth_exp_b3lyp_reaxys2.csv',header=False,index=False)\n",
    "#df_expvstheo[['s1_vert','smiles']].to_csv('/home/denn/home/ml/data/gp/anth_b3lyp_b3lyp_reaxys2.csv',header=False,index=False)\n",
    "\n",
    "plot_calc_vs_theo(df_expvstheo,s1,'s1_exp',1200, 1200, True)\n",
    "# SLOPE=1.05\n",
    "# INT=0\n",
    "df_lcpbe_s1=df_lcpbe_s1[df_lcpbe_s1.max_min_s1<0.2]\n",
    "print(df_lcpbe_s1.shape)\n",
    "df_lcpbe_s1=df_lcpbe_s1[df_lcpbe_s1.max_min<0.2]\n",
    "print(df_lcpbe_s1.shape)\n",
    "df_lcpbe_s1['s1_exp']=df_lcpbe_s1['min']\n",
    "df_lcpbe_s1['s1_vert']=df_lcpbe_s1['mean_s1']#*SLOPE\n",
    "\n",
    "# X=df_lcpbe_s1[['s1_exp','s1_vert']].values\n",
    "# from sklearn.covariance import EllipticEnvelope\n",
    "# outliers_fraction = 0.04\n",
    "# clf=EllipticEnvelope(contamination=outliers_fraction)\n",
    "# clf.fit(X)\n",
    "# y_pred = clf.predict(X)\n",
    "# df_lcpbe_s1=df_lcpbe_s1[y_pred==1]\n",
    "# print(df_lcpbe_s1.shape)\n",
    "\n",
    "df_lcpbe_s1['s1_vert']=df_lcpbe_s1['s1_vert']#*SLOPE\n",
    "df_lcpbe_s1['s1_diff']=df_lcpbe_s1['s1_exp']-df_lcpbe_s1['s1_vert']\n",
    "#df_lcpbe_s1=df_lcpbe_s1[np.abs(df_lcpbe_s1['s1_diff'])<0.6]\n",
    "#print(df_lcpbe_s1.shape)\n",
    "\n",
    "#plot_calc_vs_theo(df_lcpbe_s1,'s1_vert','s1_exp',800, 800, False,True)\n",
    "plot_calc_vs_theo(df_lcpbe_s1,'s1_vert','s1_exp',800, 800, False,False)\n",
    "df_lcpbe_s1[['mol','s1_vert','s1_exp','s1_diff']].to_pickle('/home/denn/home/ml/data/gp/reaxys2_s1_exp_theo_lcpbe.pickle')\n",
    "\n",
    "from sklearn.metrics import mean_absolute_error,mean_squared_error\n",
    "def print_errors(title:str,exp:pd.DataFrame,calc:pd.DataFrame):\n",
    "        print(title,'MAE:',mean_absolute_error(exp, calc), 'RMSE',np.sqrt(mean_squared_error(exp, calc)))\n",
    "\n",
    "df_=df_lcpbe_s1\n",
    "s1='s1_vert'\n",
    "print(df_[s1].count())\n",
    "#print_errors('s1 mode',NM_TO_EV/df_['mode'], df_[s1])\n",
    "print_errors('s1 mean',df_['mean'], df_[s1])\n",
    "print_errors('s1 mean_rj',df_['mean_rj'], df_[s1])\n",
    "print_errors('s1 median',df_['median'], df_[s1])\n",
    "print_errors('s1 min',df_['min'], df_[s1])\n",
    "print('NM:')\n",
    "print_errors('s1 mean',NM_TO_EV/df_['mean'], NM_TO_EV/df_[s1])\n",
    "print_errors('s1 mean_rj',NM_TO_EV/df_['mean_rj'], NM_TO_EV/df_[s1])\n",
    "print_errors('s1 median',NM_TO_EV/df_['median'], NM_TO_EV/df_[s1])\n",
    "print_errors('s1 min',NM_TO_EV/df_['min'], NM_TO_EV/df_[s1])"
   ]
  },
  {
   "cell_type": "code",
   "execution_count": null,
   "metadata": {
    "ExecuteTime": {
     "end_time": "2017-02-28T02:16:59.229218-05:00",
     "start_time": "2017-02-28T02:16:54.849815"
    },
    "scrolled": true
   },
   "outputs": [],
   "source": [
    "df_wb97xd_s1=df_s1_agg.xs('s1_vert_wb97xd',level=1,axis=1).copy()\n",
    "df_wb97xd_s1['max_min']=df_wb97xd_s1['max']-df_wb97xd_s1['min']\n",
    "df_wb97xd_s1=df_reaxys1.join(df_wb97xd_s1,how='inner',rsuffix='_s1')\n",
    "\n",
    "s1='s1_vert_wb97xd'\n",
    "df_expvstheo=df_expvstheo1.dropna(subset=[s1,'mean_rj']).copy()\n",
    "df_expvstheo=df_expvstheo[df_expvstheo['max_min']<0.2]\n",
    "#df_expvstheo=df_expvstheo[df_expvstheo['std_rj'].fillna(0.)<0.1]\n",
    "#df_expvstheo=df_expvstheo[df_expvstheo['mean_rj']>320]\n",
    "print(df_expvstheo[s1].count())\n",
    "#df_expvstheo['s1_exp']=NM_TO_EV/df_expvstheo['max']\n",
    "df_expvstheo['s1_exp']=df_expvstheo['mean_rj']\n",
    "df_expvstheo['s1_diff']=df_expvstheo['s1_exp']-df_expvstheo[s1]\n",
    "#df_expvstheo=df_expvstheo[np.abs(df_expvstheo['s1_diff'])<1]\n",
    "#df_expvstheo=df_expvstheo[np.abs(df_expvstheo['s1_diff'])<0.8]\n",
    "\n",
    "#df_expvstheo[['mol',s1,'s1_exp','s1_diff']].to_pickle('/home/denn/home/ml/data/gp/anth_exp_theo_b3lyp_reaxys2.pickle')\n",
    "#df_expvstheo[['s1_diff','smiles']].to_csv('/home/denn/home/ml/data/gp/anth_diff_b3lyp_reaxys2.csv',header=False,index=False)\n",
    "#df_expvstheo[['s1_exp','smiles']].to_csv('/home/denn/home/ml/data/gp/anth_exp_b3lyp_reaxys2.csv',header=False,index=False)\n",
    "#df_expvstheo[['s1_vert','smiles']].to_csv('/home/denn/home/ml/data/gp/anth_b3lyp_b3lyp_reaxys2.csv',header=False,index=False)\n",
    "\n",
    "#plot_calc_vs_theo(df_expvstheo,s1,'s1_exp',1200, 1200, True)\n",
    "# SLOPE=1.05\n",
    "# INT=0\n",
    "df_wb97xd_s1=df_wb97xd_s1[df_wb97xd_s1.max_min_s1<0.2]\n",
    "print(df_wb97xd_s1.shape)\n",
    "df_wb97xd_s1=df_wb97xd_s1[df_wb97xd_s1.max_min<0.2]\n",
    "print(df_wb97xd_s1.shape)\n",
    "df_wb97xd_s1['s1_exp']=df_wb97xd_s1['min']\n",
    "df_wb97xd_s1['s1_vert']=df_wb97xd_s1['mean_s1']#*SLOPE\n",
    "\n",
    "# X=df_wb97xd_s1[['s1_exp','s1_vert']].values\n",
    "# from sklearn.covariance import EllipticEnvelope\n",
    "# outliers_fraction = 0.04\n",
    "# clf=EllipticEnvelope(contamination=outliers_fraction)\n",
    "# clf.fit(X)\n",
    "# y_pred = clf.predict(X)\n",
    "# df_wb97xd_s1=df_wb97xd_s1[y_pred==1]\n",
    "# print(df_wb97xd_s1.shape)\n",
    "\n",
    "df_wb97xd_s1['s1_vert']=df_wb97xd_s1['s1_vert']#*SLOPE\n",
    "df_wb97xd_s1['s1_diff']=df_wb97xd_s1['s1_exp']-df_wb97xd_s1['s1_vert']\n",
    "#df_wb97xd_s1=df_wb97xd_s1[np.abs(df_wb97xd_s1['s1_diff'])<0.6]\n",
    "#print(df_wb97xd_s1.shape)\n",
    "\n",
    "#plot_calc_vs_theo(df_wb97xd_s1,'s1_vert','s1_exp',800, 800, False,True)\n",
    "plot_calc_vs_theo(df_wb97xd_s1,'s1_vert','s1_exp',800, 800, False,False)\n",
    "df_wb97xd_s1[['mol','s1_vert','s1_exp','s1_diff']].to_pickle('/home/denn/home/ml/data/gp/reaxys2_s1_exp_theo_wb97xd.pickle')\n",
    "\n",
    "from sklearn.metrics import mean_absolute_error,mean_squared_error\n",
    "def print_errors(title:str,exp:pd.DataFrame,calc:pd.DataFrame):\n",
    "        print(title,'MAE:',mean_absolute_error(exp, calc), 'RMSE',np.sqrt(mean_squared_error(exp, calc)))\n",
    "\n",
    "df_=df_wb97xd_s1\n",
    "s1='s1_vert'\n",
    "print(df_[s1].count())\n",
    "#print_errors('s1 mode',NM_TO_EV/df_['mode'], df_[s1])\n",
    "print_errors('s1 mean',df_['mean'], df_[s1])\n",
    "print_errors('s1 mean_rj',df_['mean_rj'], df_[s1])\n",
    "print_errors('s1 median',df_['median'], df_[s1])\n",
    "print_errors('s1 min',df_['min'], df_[s1])\n",
    "print('NM:')\n",
    "print_errors('s1 mean',NM_TO_EV/df_['mean'], NM_TO_EV/df_[s1])\n",
    "print_errors('s1 mean_rj',NM_TO_EV/df_['mean_rj'], NM_TO_EV/df_[s1])\n",
    "print_errors('s1 median',NM_TO_EV/df_['median'], NM_TO_EV/df_[s1])\n",
    "print_errors('s1 min',NM_TO_EV/df_['min'], NM_TO_EV/df_[s1])"
   ]
  },
  {
   "cell_type": "code",
   "execution_count": null,
   "metadata": {
    "ExecuteTime": {
     "end_time": "2017-02-27T22:33:50.181852-05:00",
     "start_time": "2017-02-27T22:33:50.179621"
    }
   },
   "outputs": [],
   "source": [
    "#show(df_expvstheo[:5])"
   ]
  },
  {
   "cell_type": "code",
   "execution_count": null,
   "metadata": {
    "ExecuteTime": {
     "end_time": "2017-02-20T23:07:49.912747",
     "start_time": "2017-02-20T23:07:49.776146"
    },
    "scrolled": true
   },
   "outputs": [],
   "source": [
    "s1='s1_vert_lcpbe'\n",
    "df_expvstheo=df_expvstheo1.dropna(subset=[s1,'mean_rj']).copy()\n",
    "df_expvstheo=df_expvstheo[df_expvstheo['max_min']<0.2]\n",
    "df_expvstheo=df_expvstheo[df_expvstheo['std_rj'].fillna(0.)<0.1]\n",
    "#df_expvstheo=df_expvstheo[df_expvstheo['mean_rj']>320]\n",
    "print(df_expvstheo['Structure'].count())\n",
    "#df_expvstheo['s1_exp']=NM_TO_EV/df_expvstheo['max']\n",
    "df_expvstheo['s1_exp']=df_expvstheo['mean_rj']\n",
    "df_expvstheo['s1_diff']=df_expvstheo['s1_exp']-df_expvstheo[s1]\n",
    "#df_expvstheo=df_expvstheo[np.abs(df_expvstheo['s1_diff'])<1]\n",
    "#df_expvstheo=df_expvstheo[np.abs(df_expvstheo['s1_diff'])<0.8]\n",
    "\n",
    "#df_expvstheo[['mol',s1,'s1_exp','s1_diff']].to_pickle('/home/denn/home/ml/data/gp/anth_exp_theo_b3lyp_reaxys2.pickle')\n",
    "#df_expvstheo[['s1_diff','smiles']].to_csv('/home/denn/home/ml/data/gp/anth_diff_b3lyp_reaxys2.csv',header=False,index=False)\n",
    "#df_expvstheo[['s1_exp','smiles']].to_csv('/home/denn/home/ml/data/gp/anth_exp_b3lyp_reaxys2.csv',header=False,index=False)\n",
    "#df_expvstheo[['s1_vert','smiles']].to_csv('/home/denn/home/ml/data/gp/anth_b3lyp_b3lyp_reaxys2.csv',header=False,index=False)\n",
    "\n",
    "plot_calc_vs_theo(df_expvstheo,s1,'s1_exp')\n",
    "\n",
    "from sklearn.metrics import mean_absolute_error,mean_squared_error\n",
    "def print_errors(title:str,exp:pd.DataFrame,calc:pd.DataFrame):\n",
    "        print(title,'MAE:',mean_absolute_error(exp, calc), 'RMSE',np.sqrt(mean_squared_error(exp, calc)))\n",
    "\n",
    "df_=df_expvstheo\n",
    "print(df_['Structure'].count())\n",
    "#print_errors('s1 mode',NM_TO_EV/df_['mode'], df_[s1])\n",
    "print_errors('s1 mean',df_['mean'], df_[s1])\n",
    "print_errors('s1 mean_rj',df_['mean_rj'], df_[s1])\n",
    "print_errors('s1 median',df_['median'], df_[s1])\n",
    "print_errors('s1 max',df_['max'], df_[s1])\n",
    "print('NM:')\n",
    "print_errors('s1 mean',NM_TO_EV/df_['mean'], NM_TO_EV/df_[s1])\n",
    "print_errors('s1 mean_rj',NM_TO_EV/df_['mean_rj'], NM_TO_EV/df_[s1])\n",
    "print_errors('s1 median',NM_TO_EV/df_['median'], NM_TO_EV/df_[s1])\n",
    "print_errors('s1 max',NM_TO_EV/df_['max'], NM_TO_EV/df_[s1])\n"
   ]
  },
  {
   "cell_type": "code",
   "execution_count": null,
   "metadata": {
    "ExecuteTime": {
     "end_time": "2017-02-20T23:08:21.667590",
     "start_time": "2017-02-20T23:08:19.986755"
    }
   },
   "outputs": [],
   "source": [
    "s1='s1_vert_wb97xd'\n",
    "df_expvstheo=df_expvstheo1.dropna(subset=[s1,'mean_rj']).copy()\n",
    "#df_expvstheo=df_expvstheo[df_expvstheo['max_min']<0.2]\n",
    "df_expvstheo=df_expvstheo[df_expvstheo['std_rj'].fillna(0.)<0.1]\n",
    "#df_expvstheo=df_expvstheo[df_expvstheo['mean_rj']>320]\n",
    "print(df_expvstheo['Structure'].count())\n",
    "#df_expvstheo['s1_exp']=NM_TO_EV/df_expvstheo['max']\n",
    "df_expvstheo['s1_exp']=df_expvstheo['mean_rj']\n",
    "df_expvstheo['s1_diff']=df_expvstheo['s1_exp']-df_expvstheo[s1]\n",
    "#df_expvstheo=df_expvstheo[np.abs(df_expvstheo['s1_diff'])<1]\n",
    "#df_expvstheo=df_expvstheo[np.abs(df_expvstheo['s1_diff'])<0.8]\n",
    "\n",
    "#df_expvstheo[['mol',s1,'s1_exp','s1_diff']].to_pickle('/home/denn/home/ml/data/gp/anth_exp_theo_b3lyp_reaxys2.pickle')\n",
    "#df_expvstheo[['s1_diff','smiles']].to_csv('/home/denn/home/ml/data/gp/anth_diff_b3lyp_reaxys2.csv',header=False,index=False)\n",
    "#df_expvstheo[['s1_exp','smiles']].to_csv('/home/denn/home/ml/data/gp/anth_exp_b3lyp_reaxys2.csv',header=False,index=False)\n",
    "#df_expvstheo[['s1_vert','smiles']].to_csv('/home/denn/home/ml/data/gp/anth_b3lyp_b3lyp_reaxys2.csv',header=False,index=False)\n",
    "\n",
    "plot_calc_vs_theo(df_expvstheo,s1,'s1_exp')\n",
    "\n",
    "from sklearn.metrics import mean_absolute_error,mean_squared_error\n",
    "def print_errors(title:str,exp:pd.DataFrame,calc:pd.DataFrame):\n",
    "        print(title,'MAE:',mean_absolute_error(exp, calc), 'RMSE',np.sqrt(mean_squared_error(exp, calc)))\n",
    "\n",
    "df_=df_expvstheo\n",
    "print(df_['Structure'].count())\n",
    "#print_errors('s1 mode',NM_TO_EV/df_['mode'], df_[s1])\n",
    "print_errors('s1 mean',df_['mean'], df_[s1])\n",
    "print_errors('s1 mean_rj',df_['mean_rj'], df_[s1])\n",
    "print_errors('s1 median',df_['median'], df_[s1])\n",
    "print_errors('s1 max',df_['max'], df_[s1])\n",
    "print('NM:')\n",
    "print_errors('s1 mean',NM_TO_EV/df_['mean'], NM_TO_EV/df_[s1])\n",
    "print_errors('s1 mean_rj',NM_TO_EV/df_['mean_rj'], NM_TO_EV/df_[s1])\n",
    "print_errors('s1 median',NM_TO_EV/df_['median'], NM_TO_EV/df_[s1])\n",
    "print_errors('s1 max',NM_TO_EV/df_['max'], NM_TO_EV/df_[s1])\n"
   ]
  },
  {
   "cell_type": "code",
   "execution_count": null,
   "metadata": {
    "ExecuteTime": {
     "end_time": "2017-02-20T20:31:55.286940",
     "start_time": "2017-02-20T20:31:55.210552"
    }
   },
   "outputs": [],
   "source": [
    "dfexp = pd.read_csv('/home/denn/harvard/SF/Library/exp_set_1_th_no_pentderiv.csv')\n",
    "dfexp['block'] = dfexp.smiles.apply(lambda s: block.Block(smiles=s))\n",
    "dfexp['mol'] = dfexp.block.apply(lambda b: b.mol)\n",
    "dfexp['mol__inchikey'] = dfexp.block.apply(lambda b: b.inchikey).str.split('-').str[0]\n",
    "dfexp = dfexp.set_index('mol__inchikey')\n",
    "\n",
    "df_expt1 = pd.merge(df_all, dfexp, how='right', right_index=True, left_index=True)"
   ]
  },
  {
   "cell_type": "code",
   "execution_count": null,
   "metadata": {
    "ExecuteTime": {
     "end_time": "2017-02-20T20:38:58.218538",
     "start_time": "2017-02-20T20:38:58.179194"
    }
   },
   "outputs": [],
   "source": [
    "show(df_expt1['mol'].to_frame())"
   ]
  },
  {
   "cell_type": "code",
   "execution_count": null,
   "metadata": {
    "ExecuteTime": {
     "end_time": "2016-10-27T17:12:44.797229",
     "start_time": "2016-10-27T17:12:44.278919"
    },
    "scrolled": true
   },
   "outputs": [],
   "source": [
    "df_d=df_expvstheo1.copy()\n",
    "df_d['s1_exp']=NM_TO_EV/df_d['mean_rj']\n",
    "df_d['2t1_opt']=df_d['t1_opt']*2\n",
    "df_d['criteria1']=df_d['s1_exp']-df_d['2t1_opt']\n",
    "df_d['criteria2']=df_d['t2_vert']-df_d['2t1_opt']\n",
    "#df_d1=df_d.reset_index().groupby('mol__inchikey').describe()#.to_frame()\n",
    "df_d=df_d[df_d['criteria1']>-0.2]\n",
    "df_d=df_d[df_d['criteria2']>-0.2]\n",
    "df_d=df_d[df_d['t1_opt']>1.4]\n",
    "df_d=df_d[df_d['std_rj']<5]\n",
    "df_d=df_d[np.abs(df_d['s1_exp']-df_d['s1_vert'])<0.3]\n",
    "#df_d=df_d.reset_index().groupby('mol__inchikey').describe()#.to_frame()\n",
    "df_d=df_d.reset_index().groupby('mol__inchikey').max()#.to_frame()\n",
    "#df_d=pd.merge(df_d, df_smiles, how='right', right_index=True, left_index=True)\n",
    "df_d=df_d.sort_values('criteria1',ascending=False)\n",
    "df_d=df_d.sort_values('t1_opt',ascending=False)\n",
    "df_d=df_d.join(df_smiles)\n",
    "df_d['mol']=df_d.mol__smiles.apply(Chem.MolFromSmiles)\n",
    "#print(df_d.index)\n",
    "\n",
    "df_match=pd.merge(df_d,dfxray,how='left',right_index=True,left_index=True,suffixes=('','_x'))\n",
    "df_match=df_match.sort_values('t1_opt',ascending=False)\n",
    "#df_match=df_match.sort_values('criteria1',ascending=False)\n",
    "print(df_d['mol'].count())\n",
    "print(df_match['ccdc'].count())\n",
    "#show(df_mae[[0,'mol']])\n",
    "#pd.options.display.float_format = '{:,.2f}'.format\n",
    "#show(df_d[['mol','t1_opt','s1_vert','2t1_opt','criteria1','criteria2','geoms__parents','mol__smiles']])\n",
    "#show(df_d[['mol','t1_opt','s1_vert','2t1_opt','criteria1','t2_vert','criteria2']])\n",
    "#show(df_match[['mol','ccdc','t1_opt','s1_vert','2t1_opt','criteria1','t2_vert','criteria2','geoms__parents']][df_match['ccdc'].notnull()])\n",
    "#show(df_match[['mol','ccdc','t1_opt','s1_exp','s1_vert','2t1_opt','criteria1','t2_vert','criteria2','std_rj','count']])\n",
    "#df_match[['mol','ccdc','t1_opt','s1_vert','2t1_opt','criteria1','t2_vert','criteria2']].to_html('/home/denn/harvard/SF/Meetings/18Oct2016/anthracene_derivatives_t1_1400meV.html',escape=False)\n",
    "#df_match[['mol','ccdc','t1_opt','s1_vert','2t1_opt','criteria1','t2_vert','criteria2']].to_html('/home/denn/harvard/SF/Meetings/18Oct2016/anthracene_results.html',escape=False)\n",
    "# subprocess.call(\n",
    "#     'wkhtmltoimage -f png --width 0 table.html table.png', shell=True)"
   ]
  },
  {
   "cell_type": "code",
   "execution_count": null,
   "metadata": {
    "ExecuteTime": {
     "end_time": "2016-10-27T17:13:41.041050",
     "start_time": "2016-10-27T17:13:38.636886"
    }
   },
   "outputs": [],
   "source": [
    "df_emol=pd.read_pickle('/home/denn/home/ml/data/emolecules.pickle')"
   ]
  },
  {
   "cell_type": "code",
   "execution_count": null,
   "metadata": {
    "ExecuteTime": {
     "end_time": "2016-10-27T17:18:21.161045",
     "start_time": "2016-10-27T17:17:45.699829"
    }
   },
   "outputs": [],
   "source": [
    "df_match_emol=pd.merge(df_match,df_emol,right_index=True,left_index=True,how='left')"
   ]
  },
  {
   "cell_type": "code",
   "execution_count": null,
   "metadata": {
    "ExecuteTime": {
     "end_time": "2016-10-27T17:45:16.279936",
     "start_time": "2016-10-27T17:45:16.210156"
    },
    "scrolled": true
   },
   "outputs": [],
   "source": [
    "#print(df_match_emol.count())\n",
    "show(df_match_emol[df_match_emol['isosmiles'].notnull()][:10])"
   ]
  },
  {
   "cell_type": "code",
   "execution_count": null,
   "metadata": {
    "ExecuteTime": {
     "end_time": "2016-10-18T14:29:15.048637",
     "start_time": "2016-10-18T14:29:15.035656"
    },
    "scrolled": true
   },
   "outputs": [],
   "source": [
    "#df_min_1=df_min.reset_index().groupby('mol__inchikey').max()#.to_frame()\n",
    "#dfmatch=pd.merge(df_d,dfxray,right_index=True,left_index=True)\n",
    "#show(dfmatch[['mol_x','ccdc','smiles']])\n",
    "#show(df_min_1[:1])\n",
    "print(dfmatch['mol_x'].count())"
   ]
  },
  {
   "cell_type": "code",
   "execution_count": null,
   "metadata": {
    "ExecuteTime": {
     "end_time": "2016-10-20T20:52:29.262769",
     "start_time": "2016-10-20T20:52:29.204451"
    },
    "code_folding": [
     0
    ]
   },
   "outputs": [],
   "source": [
    "def plot_box(dfi:pd.DataFrame, calc, exp=None):\n",
    "    \n",
    "\n",
    "    #df=dfi[[exp,calc]].dropna()\n",
    "    if (exp==None):\n",
    "        dfi['diff']=dfi[calc]\n",
    "    else:\n",
    "        dfi['diff']=dfi[calc]-dfi[exp]\n",
    "    #print(df_['diff'][:10])\n",
    "    traces = []\n",
    "    for mol,new_df in dfi.groupby(level=0):\n",
    "        traces.append(Box(\n",
    "            y=new_df['diff'].as_matrix(),\n",
    "            name=mol,\n",
    "            boxpoints='all',\n",
    "            jitter=0.1,\n",
    "            whiskerwidth=0.2,\n",
    "            #fillcolor=cls,\n",
    "            marker=dict(\n",
    "                size=2,\n",
    "            ),\n",
    "            line=dict(width=1),\n",
    "            boxmean='sd',\n",
    "        ))\n",
    "        \n",
    "\n",
    "    layout = Layout(\n",
    "        title=calc,\n",
    "        yaxis=dict(\n",
    "            autorange=True,\n",
    "            showgrid=True,\n",
    "            zeroline=True,\n",
    "            dtick=0.05,\n",
    "            #gridcolor='rgb(255, 255, 255)',\n",
    "            gridwidth=1,\n",
    "            #zerolinecolor='rgb(255, 255, 255)',\n",
    "            zerolinewidth=2,\n",
    "        ),\n",
    "        #paper_bgcolor='rgb(243, 243, 243)',\n",
    "        #plot_bgcolor='rgb(243, 243, 243)',\n",
    "        showlegend=False,\n",
    "        height=800,\n",
    "    )\n",
    "    \n",
    "    fig = dict( data=traces, layout=layout )\n",
    "    \n",
    "    return iplot(fig)"
   ]
  },
  {
   "cell_type": "code",
   "execution_count": null,
   "metadata": {
    "ExecuteTime": {
     "end_time": "2016-10-20T20:52:33.498971",
     "start_time": "2016-10-20T20:52:31.934344"
    }
   },
   "outputs": [],
   "source": [
    "plot_box(df_low,'s1_vert')\n",
    "plot_box(df_low,'t1_opt')"
   ]
  },
  {
   "cell_type": "code",
   "execution_count": null,
   "metadata": {
    "ExecuteTime": {
     "end_time": "2016-10-18T17:03:30.399241",
     "start_time": "2016-10-18T17:03:29.970066"
    },
    "nbpresent": {
     "id": "7cd86b7c-ba56-47b9-98c5-748fe4d98bb8"
    }
   },
   "outputs": [],
   "source": [
    "# def mm(group, y_true):\n",
    "#     d = group[y_true]\n",
    "#     #w = group[y_pred]\n",
    "#     try:\n",
    "#         return np.mean(np.abs((d - w)))\n",
    "#     except ZeroDivisionError:\n",
    "#         return d.mean()\n",
    "df_d=df_all[['t1_opt','s1_vert','t2_vert','dft_energy']]\n",
    "\n",
    "df_d['2t1_opt']=df_d['t1_opt']*2\n",
    "df_d['criteria1']=df_d['s1_vert']-df_d['2t1_opt']\n",
    "df_d['criteria2']=df_d['t2_vert']-df_d['2t1_opt']\n",
    "df_d1=df_d\n",
    "#df_d1=df_d.reset_index().groupby('mol__inchikey').describe()#.to_frame()\n",
    "df_d=df_d[df_d['criteria1']>-0.2]\n",
    "#df_d=df_d.reset_index().groupby('mol__inchikey').describe()#.to_frame()\n",
    "df_d=df_d.reset_index().groupby('mol__inchikey').max()#.to_frame()\n",
    "#df_d=pd.merge(df_d, df_smiles, how='right', right_index=True, left_index=True)\n",
    "df_d=df_d.sort_values('criteria1',ascending=False)\n",
    "df_d=df_d.join(df_smiles)\n",
    "df_d['mol']=df_d.mol__smiles.apply(Chem.MolFromSmiles)\n",
    "#print(df_d.index)\n",
    "#show(df_mae[[0,'mol']])\n",
    "#show(df_d[['mol','t1_opt','s1_vert','2t1_opt','criteria1','criteria2']])\n",
    "#show(df_d1[['mol','t1_opt','s1_vert','2t1_opt','criteria1','criteria2']])\n",
    "#show(df_d1.ix['BZJISJKSSPCDGT-UHFFFAOYNA-N'])\n",
    "df_d1=df_d1.join(df_smiles)\n",
    "#show(df_d1.loc['BZJISJKSSPCDGT-UHFFFAOYNA-N'])\n",
    "show(df_d1.loc['HCSGQHDONHRJCM-UHFFFAOYNA-N'])\n",
    "\n",
    "# df_d1[['t1_opt','s1_vert','2t1_opt','criteria1','t2_vert','criteria2']].loc['HCSGQHDONHRJCM-UHFFFAOYNA-N'].to_html('table.html',escape=False)\n",
    "# subprocess.call(\n",
    "#     'wkhtmltoimage -f png --width 0 table.html table.png', shell=True)"
   ]
  },
  {
   "cell_type": "code",
   "execution_count": null,
   "metadata": {
    "ExecuteTime": {
     "end_time": "2016-10-10T16:31:08.807935",
     "start_time": "2016-10-10T16:31:05.250Z"
    },
    "nbpresent": {
     "id": "3ced63f2-ce8a-41b5-8ee0-d51b60f97d4b"
    }
   },
   "outputs": [],
   "source": [
    "#plot_calc_vs_theo(df_all,'s1_vert_lcpbe','exp_s1')\n",
    "#plot_calc_vs_theo(df_all,'s1_vert','exp_s1')"
   ]
  },
  {
   "cell_type": "code",
   "execution_count": null,
   "metadata": {
    "nbpresent": {
     "id": "e6519717-f96e-490b-bcc7-c4583f083fb6"
    },
    "scrolled": true
   },
   "outputs": [],
   "source": [
    "df_mae=df_min.reset_index().groupby('mol__inchikey').apply(mae,'exp_s1','s1_vert').to_frame()\n",
    "df_mae=pd.merge(df_mae, dfexpi, how='outer', right_index=True, left_index=True)\n",
    "df_mae.sort_values([0],ascending=False,inplace=True)\n",
    "#\n",
    "#show(df_mae[[0,'mol']])"
   ]
  },
  {
   "cell_type": "code",
   "execution_count": null,
   "metadata": {
    "nbpresent": {
     "id": "d4ed1fec-255e-4eee-9fc7-afc9946373ac"
    }
   },
   "outputs": [],
   "source": [
    "# error_cals = Job.objects.filter(\n",
    "#             status__exact='error')\\\n",
    "#     .order_by('config__name')\n",
    "# show(pd.DataFrame(list(error_cals.values('config__name','config__parent_class_name'))))\n",
    "\n",
    "error_mols = Geom.objects.filter(\n",
    "            childjobs__status__exact='error')\\\n",
    "            .filter(Q(mol__group__name__exact='sf_lib') )\\\n",
    "            .order_by('mol__inchikey')\n",
    "dfm=pd.DataFrame(list(error_mols.values('mol__inchikey','mol__smiles','childjobs__config__name','mol__tags')))\n",
    "dfm['mol']=dfm.mol__smiles.apply(Chem.MolFromSmiles)\n",
    "#dfm=dfm.set_index(['mol__inchikey','childjobs__config__name'])\n",
    "show(dfm[['childjobs__config__name','mol','mol__inchikey']])"
   ]
  },
  {
   "cell_type": "code",
   "execution_count": null,
   "metadata": {
    "nbpresent": {
     "id": "e4835fb1-175a-4273-baf4-8ffcb2ae402b"
    }
   },
   "outputs": [],
   "source": []
  },
  {
   "cell_type": "code",
   "execution_count": null,
   "metadata": {
    "nbpresent": {
     "id": "ca4dbaf8-7b69-4f1d-8818-2b6290a6f58e"
    }
   },
   "outputs": [],
   "source": [
    "#            .filter(Q(mol__group__name__exact='sf_acenes') | Q(mol__group__name__exact='sf'))\\\n",
    "\n",
    "error_mols = Geom.objects.filter(\n",
    "            childjobs__status__contains='claimed')\\\n",
    "            .order_by('mol__inchikey')\n",
    "\n",
    "dfm=pd.DataFrame(list(error_mols.values('mol__smiles','childjobs__config__name','mol__tags','childjobs__uuid')))\n",
    "\n",
    "dfm['mol']=dfm.mol__smiles.apply(Chem.MolFromSmiles)\n",
    "\n",
    "#show(dfm)"
   ]
  },
  {
   "cell_type": "code",
   "execution_count": null,
   "metadata": {
    "nbpresent": {
     "id": "7d2359ff-1699-441d-b6e9-b75e1016f34b"
    }
   },
   "outputs": [],
   "source": [
    "#            .filter(Q(mol__group__name__exact='sf_acenes') | Q(mol__group__name__exact='sf'))\\\n",
    "\n",
    "emptu_jobs = Geom.objects.filter(\n",
    "            childjobs__status__contains='claimed')\\\n",
    "            .order_by('mol__inchikey')\n",
    "\n",
    "dfm=pd.DataFrame(list(error_mols.values('mol__smiles','childjobs__config__name','mol__tags','childjobs__uuid')))\n",
    "\n",
    "dfm['mol']=dfm.mol__smiles.apply(Chem.MolFromSmiles)\n",
    "\n",
    "#show(dfm)"
   ]
  },
  {
   "cell_type": "code",
   "execution_count": null,
   "metadata": {
    "nbpresent": {
     "id": "af5966d2-16f0-48c3-a9a2-633af27254dc"
    }
   },
   "outputs": [],
   "source": [
    "#grouped = df.groupby(by=['mol__inchikey'],axis=0)\n",
    "#print(grouped.groups)\n",
    "#print(grouped['parentjob__config__name'].head())"
   ]
  },
  {
   "cell_type": "code",
   "execution_count": null,
   "metadata": {
    "nbpresent": {
     "id": "149b7991-d2da-4299-b286-b28d5718f939"
    }
   },
   "outputs": [],
   "source": [
    "time_calcs = Calc.objects.filter(mol__group__name__exact='sf', parentjob__status__exact='done',method__name__contains='tddft')\\\n",
    "        .exclude(method__name__exact='tddft_tda_hybrid_b3lyp', parentjob__config__name__exact='b3lyp_6-31gs_tddft')\\\n",
    "    .values('mol__inchikey','parentjob__config__name','parentjob__duration').distinct()\\\n",
    "    .order_by('mol__inchikey')\n",
    "\n",
    "#print(time_calcs)\n",
    "\n",
    "dftime = pd.DataFrame(list(time_calcs))\n",
    "\n",
    "#show(df.head())\n",
    "#for c in all_calcs:\n",
    "#    print(c.id,c.mol.inchikey, c.parentjob.config.name, c.parentjob.duration)"
   ]
  },
  {
   "cell_type": "code",
   "execution_count": null,
   "metadata": {
    "nbpresent": {
     "id": "1eeffab3-209e-4e5e-8470-22b0ac737827"
    }
   },
   "outputs": [],
   "source": [
    "mol = Mol.objects.filter(Q(group__name__exact='sf_acenes') | Q(group__name__exact='sf')).get(inchikey='MMHOLFVKLFQKKD-UHFFFAOYNA-N')\n",
    "\n",
    "geoms = Geom.objects.filter(mol=mol,parentjob__config__parent_class_name__exact='Mol')\n",
    "\n",
    "# g = geoms[0]\n",
    "# \n",
    "# g.\n",
    "for g in geoms[:1]:\n",
    "    for chg in g.children.all():\n",
    "        calcs = Calc.objects.filter(parentjob__parentid=chg.id)\n",
    "        print(calcs)\n",
    "    \n",
    "    \n",
    "#print(geoms.values('method__name'))\n",
    "#print(mols.geom_set.all().values('calcs__children__parentjob__config__name'))"
   ]
  },
  {
   "cell_type": "code",
   "execution_count": null,
   "metadata": {
    "nbpresent": {
     "id": "d200e5a3-15c0-424c-96a2-5e677e0be42d"
    }
   },
   "outputs": [],
   "source": [
    "jobsformol=Calc.objects.filter(mol__inchikey__exact='MWPLVEDNUUSJAV-UHFFFAOYNA-N').values('parentjob__config__name','parentjob__status','geoms','geoms__parents')\n",
    "pd.DataFrame(list(jobsformol))"
   ]
  },
  {
   "cell_type": "code",
   "execution_count": null,
   "metadata": {
    "ExecuteTime": {
     "end_time": "2017-02-28T22:20:31.841690-05:00",
     "start_time": "2017-02-28T22:20:26.527100"
    }
   },
   "outputs": [],
   "source": [
    "time_calcs = Calc.objects.filter(parentjob__status__exact='done')\\\n",
    "        .exclude(method__name__exact='tddft_tda_hybrid_b3lyp')\\\n",
    "    .values('mol__inchikey','parentjob__config__name','parentjob__duration').distinct()\\\n",
    "    .order_by('mol__inchikey')\n",
    "\n",
    "#print(time_calcs)\n",
    "\n",
    "dftime = pd.DataFrame(list(time_calcs))\n",
    "\n",
    "#show(df.head())\n",
    "#for c in all_calcs:\n",
    "#    print(c.id,c.mol.inchikey, c.parentjob.config.name, c.parentjob.duration)"
   ]
  },
  {
   "cell_type": "code",
   "execution_count": null,
   "metadata": {
    "ExecuteTime": {
     "end_time": "2017-02-28T22:20:34.873528-05:00",
     "start_time": "2017-02-28T22:20:34.784803"
    }
   },
   "outputs": [],
   "source": [
    "dftime.parentjob__duration.sum()/60/60\n"
   ]
  },
  {
   "cell_type": "code",
   "execution_count": null,
   "metadata": {
    "ExecuteTime": {
     "end_time": "2017-03-16T16:53:57.402736-04:00",
     "start_time": "2017-03-16T16:53:57.400023"
    }
   },
   "outputs": [],
   "source": [
    "import glob\n",
    "import os\n",
    "import json\n"
   ]
  },
  {
   "cell_type": "code",
   "execution_count": null,
   "metadata": {
    "ExecuteTime": {
     "end_time": "2017-03-16T17:04:44.815124-04:00",
     "start_time": "2017-03-16T16:56:09.346566"
    }
   },
   "outputs": [],
   "source": [
    "JOBS_DIR_ROOT = \"/mnt/storage/jobsdirs/archive/\"\n",
    "#JOBS_DIR_ROOT = \"/mnt/storage/jobs_sf/20Sep/\"\n",
    "\n",
    "job_info_glob = glob.glob(JOBS_DIR_ROOT+'/**/job_info.json',recursive=True)\n",
    "\n",
    "paths_by_uuid = dict()\n",
    "\n",
    "for job_info_path in job_info_glob:\n",
    "    job_dir_path = os.path.dirname(job_info_path)\n",
    "    with open(job_info_path,'r') as job_info_file:\n",
    "        json_info = json.load(job_info_file)\n",
    "        paths_by_uuid[json_info['uuid']]=job_dir_path"
   ]
  },
  {
   "cell_type": "code",
   "execution_count": null,
   "metadata": {
    "ExecuteTime": {
     "end_time": "2017-03-16T17:12:49.348962-04:00",
     "start_time": "2017-03-16T17:12:49.344956"
    }
   },
   "outputs": [],
   "source": [
    "len(paths_by_uuid)\n"
   ]
  }
 ],
 "metadata": {
  "anaconda-cloud": {},
  "kernelspec": {
   "display_name": "Python [conda env:a2g2_idp]",
   "language": "python",
   "name": "conda-env-a2g2_idp-py"
  },
  "language_info": {
   "codemirror_mode": {
    "name": "ipython",
    "version": 3
   },
   "file_extension": ".py",
   "mimetype": "text/x-python",
   "name": "python",
   "nbconvert_exporter": "python",
   "pygments_lexer": "ipython3",
   "version": "3.5.2"
  },
  "nbpresent": {
   "slides": {
    "036ab481-21c7-4ea4-88fc-551627c1d402": {
     "id": "036ab481-21c7-4ea4-88fc-551627c1d402",
     "prev": "121f1033-3e70-437e-a727-2b8dd83de74b",
     "regions": {
      "358de72f-fe0c-48f4-8e19-b476acc49558": {
       "attrs": {
        "height": 0.8,
        "width": 0.8,
        "x": 0.1,
        "y": 0.1
       },
       "content": {
        "cell": "d4ed1fec-255e-4eee-9fc7-afc9946373ac",
        "part": "whole"
       },
       "id": "358de72f-fe0c-48f4-8e19-b476acc49558"
      }
     }
    },
    "0e14aa82-c87a-4fd5-977d-fc82558becfd": {
     "id": "0e14aa82-c87a-4fd5-977d-fc82558becfd",
     "prev": "45c85386-a85b-4c0e-837b-969d79cfbba8",
     "regions": {
      "dac7fdca-0d03-4aa8-b418-39cc0bca5784": {
       "attrs": {
        "height": 0.8,
        "width": 0.8,
        "x": 0.1,
        "y": 0.1
       },
       "content": {
        "cell": "fe6df8b8-742c-49fe-a533-2e221d1c58ed",
        "part": "whole"
       },
       "id": "dac7fdca-0d03-4aa8-b418-39cc0bca5784"
      }
     }
    },
    "121f1033-3e70-437e-a727-2b8dd83de74b": {
     "id": "121f1033-3e70-437e-a727-2b8dd83de74b",
     "prev": "4490fe49-9096-4f80-b8e3-9b2d5736240d",
     "regions": {
      "3c86a2d4-3f9a-423c-9b6a-5943161cc23b": {
       "attrs": {
        "height": 0.8,
        "width": 0.8,
        "x": 0.1,
        "y": 0.1
       },
       "content": {
        "cell": "e6519717-f96e-490b-bcc7-c4583f083fb6",
        "part": "whole"
       },
       "id": "3c86a2d4-3f9a-423c-9b6a-5943161cc23b"
      }
     }
    },
    "14650aac-df65-42c5-9989-a541b742d2bd": {
     "id": "14650aac-df65-42c5-9989-a541b742d2bd",
     "prev": "4eabbefb-2b47-4ff7-a53c-bfbef92c68c5",
     "regions": {
      "164dab65-ec30-4013-a939-9c313e01f662": {
       "attrs": {
        "height": 0.8,
        "width": 0.8,
        "x": 0.1,
        "y": 0.1
       },
       "content": {
        "cell": "29cacf3a-1549-4bf4-b28e-071fe621d1c9",
        "part": "whole"
       },
       "id": "164dab65-ec30-4013-a939-9c313e01f662"
      }
     }
    },
    "189d93ad-326b-4f43-a811-58cfdcc2d23f": {
     "id": "189d93ad-326b-4f43-a811-58cfdcc2d23f",
     "prev": "14650aac-df65-42c5-9989-a541b742d2bd",
     "regions": {
      "8e39b058-d0c1-40d7-b424-ca05ef63035c": {
       "attrs": {
        "height": 0.8,
        "width": 0.8,
        "x": 0.1,
        "y": 0.1
       },
       "content": {
        "cell": "0b63bc5f-a424-4547-bcec-85ea0084aab3",
        "part": "whole"
       },
       "id": "8e39b058-d0c1-40d7-b424-ca05ef63035c"
      }
     }
    },
    "2bfedd90-bb11-45a2-800f-3c6a4f599e8e": {
     "id": "2bfedd90-bb11-45a2-800f-3c6a4f599e8e",
     "prev": "036ab481-21c7-4ea4-88fc-551627c1d402",
     "regions": {
      "baae4e49-ffb0-46d7-b1d8-d880fb6a3700": {
       "attrs": {
        "height": 0.8,
        "width": 0.8,
        "x": 0.1,
        "y": 0.1
       },
       "content": {
        "cell": "e4835fb1-175a-4273-baf4-8ffcb2ae402b",
        "part": "whole"
       },
       "id": "baae4e49-ffb0-46d7-b1d8-d880fb6a3700"
      }
     }
    },
    "320b78bd-20be-4f99-bbd5-02f4ba976aeb": {
     "id": "320b78bd-20be-4f99-bbd5-02f4ba976aeb",
     "prev": null,
     "regions": {
      "6ddf8317-dedb-41d5-944c-01bb3bf14f0a": {
       "attrs": {
        "height": 0.8,
        "width": 0.8,
        "x": 0.1,
        "y": 0.1
       },
       "content": {
        "cell": "c6a8c0fe-70d9-4ba9-bc78-c7ae67088136",
        "part": "whole"
       },
       "id": "6ddf8317-dedb-41d5-944c-01bb3bf14f0a"
      }
     }
    },
    "3dbf46d1-d8f9-4ca9-9081-6db67f9cbf5e": {
     "id": "3dbf46d1-d8f9-4ca9-9081-6db67f9cbf5e",
     "prev": "ebb28064-f0a5-4e35-a29d-5f4ad72a88df",
     "regions": {
      "9d3ce5e6-54a9-4ecc-be5b-4258e762b449": {
       "attrs": {
        "height": 0.8,
        "width": 0.8,
        "x": 0.1,
        "y": 0.1
       },
       "content": {
        "cell": "7d2359ff-1699-441d-b6e9-b75e1016f34b",
        "part": "whole"
       },
       "id": "9d3ce5e6-54a9-4ecc-be5b-4258e762b449"
      }
     }
    },
    "4490fe49-9096-4f80-b8e3-9b2d5736240d": {
     "id": "4490fe49-9096-4f80-b8e3-9b2d5736240d",
     "prev": "673054bb-5317-4ff6-9aa7-060869ef8711",
     "regions": {
      "6b3327ba-1cf3-421d-a275-825e4b6e398f": {
       "attrs": {
        "height": 0.8,
        "width": 0.8,
        "x": 0.1,
        "y": 0.1
       },
       "content": {
        "cell": "3ced63f2-ce8a-41b5-8ee0-d51b60f97d4b",
        "part": "whole"
       },
       "id": "6b3327ba-1cf3-421d-a275-825e4b6e398f"
      }
     }
    },
    "45c85386-a85b-4c0e-837b-969d79cfbba8": {
     "id": "45c85386-a85b-4c0e-837b-969d79cfbba8",
     "prev": "320b78bd-20be-4f99-bbd5-02f4ba976aeb",
     "regions": {
      "6073fd41-245d-4f00-8d81-1546f60ab067": {
       "attrs": {
        "height": 0.8,
        "width": 0.8,
        "x": 0.1,
        "y": 0.1
       },
       "content": {
        "cell": "9f9e5ad4-6578-4b4a-985d-27ff9bd5127e",
        "part": "whole"
       },
       "id": "6073fd41-245d-4f00-8d81-1546f60ab067"
      }
     }
    },
    "4eabbefb-2b47-4ff7-a53c-bfbef92c68c5": {
     "id": "4eabbefb-2b47-4ff7-a53c-bfbef92c68c5",
     "prev": "f871d199-8690-4793-a076-8c9f046def51",
     "regions": {
      "fd80324e-de76-4ec5-baef-2fa2903ea07e": {
       "attrs": {
        "height": 0.8,
        "width": 0.8,
        "x": 0.1,
        "y": 0.1
       },
       "content": {
        "cell": "988eb1b5-f612-4a99-8b61-a8d33c0fdc6c",
        "part": "whole"
       },
       "id": "fd80324e-de76-4ec5-baef-2fa2903ea07e"
      }
     }
    },
    "5d816f39-e7b1-43ba-b0fe-38885fddaaaa": {
     "id": "5d816f39-e7b1-43ba-b0fe-38885fddaaaa",
     "prev": "d971747f-241a-4740-b2a9-c2adaf34f3df",
     "regions": {
      "04fe326f-af84-4411-8e68-a0e669367407": {
       "attrs": {
        "height": 0.8,
        "width": 0.8,
        "x": 0.1,
        "y": 0.1
       },
       "content": {
        "cell": "1eeffab3-209e-4e5e-8470-22b0ac737827",
        "part": "whole"
       },
       "id": "04fe326f-af84-4411-8e68-a0e669367407"
      }
     }
    },
    "65e68b77-4760-476b-a06e-2b0e065322f0": {
     "id": "65e68b77-4760-476b-a06e-2b0e065322f0",
     "prev": "a434e6fe-467c-4e0c-bac2-66f169a7a9e7",
     "regions": {
      "190a2c0a-51c7-4ffa-99d1-e6d2533890a9": {
       "attrs": {
        "height": 0.8,
        "width": 0.8,
        "x": 0.1,
        "y": 0.1
       },
       "content": {
        "cell": "7cd86b7c-ba56-47b9-98c5-748fe4d98bb8",
        "part": "whole"
       },
       "id": "190a2c0a-51c7-4ffa-99d1-e6d2533890a9"
      }
     }
    },
    "673054bb-5317-4ff6-9aa7-060869ef8711": {
     "id": "673054bb-5317-4ff6-9aa7-060869ef8711",
     "prev": "65e68b77-4760-476b-a06e-2b0e065322f0",
     "regions": {
      "d2291fd4-3a97-489d-8f0f-f9349478e430": {
       "attrs": {
        "height": 0.8,
        "width": 0.8,
        "x": 0.1,
        "y": 0.1
       },
       "content": {
        "cell": "b38460a5-1a15-4307-a5b9-ed06f16c7f96",
        "part": "whole"
       },
       "id": "d2291fd4-3a97-489d-8f0f-f9349478e430"
      }
     }
    },
    "a434e6fe-467c-4e0c-bac2-66f169a7a9e7": {
     "id": "a434e6fe-467c-4e0c-bac2-66f169a7a9e7",
     "prev": "189d93ad-326b-4f43-a811-58cfdcc2d23f",
     "regions": {
      "43b43e7d-a53c-4370-b5ae-6eaf359f34ab": {
       "attrs": {
        "height": 0.8,
        "width": 0.8,
        "x": 0.1,
        "y": 0.1
       },
       "content": {
        "cell": "94df1ecb-217c-4d1f-bac8-314fe9db26cb",
        "part": "whole"
       },
       "id": "43b43e7d-a53c-4370-b5ae-6eaf359f34ab"
      }
     }
    },
    "ce61d9cd-e15e-4d9a-a62e-d11b2e51016b": {
     "id": "ce61d9cd-e15e-4d9a-a62e-d11b2e51016b",
     "prev": "5d816f39-e7b1-43ba-b0fe-38885fddaaaa",
     "regions": {
      "129dad62-202a-4887-b2c1-07344ecbf688": {
       "attrs": {
        "height": 0.8,
        "width": 0.8,
        "x": 0.1,
        "y": 0.1
       },
       "content": {
        "cell": "d200e5a3-15c0-424c-96a2-5e677e0be42d",
        "part": "whole"
       },
       "id": "129dad62-202a-4887-b2c1-07344ecbf688"
      }
     }
    },
    "d971747f-241a-4740-b2a9-c2adaf34f3df": {
     "id": "d971747f-241a-4740-b2a9-c2adaf34f3df",
     "prev": "eb670616-486f-4ee0-b2ee-8f4b214f33d6",
     "regions": {
      "1abc2a56-cf1d-41aa-b838-ec6d0fb49656": {
       "attrs": {
        "height": 0.8,
        "width": 0.8,
        "x": 0.1,
        "y": 0.1
       },
       "content": {
        "cell": "149b7991-d2da-4299-b286-b28d5718f939",
        "part": "whole"
       },
       "id": "1abc2a56-cf1d-41aa-b838-ec6d0fb49656"
      }
     }
    },
    "eb670616-486f-4ee0-b2ee-8f4b214f33d6": {
     "id": "eb670616-486f-4ee0-b2ee-8f4b214f33d6",
     "prev": "3dbf46d1-d8f9-4ca9-9081-6db67f9cbf5e",
     "regions": {
      "2fcf6dd8-4bec-460b-97ef-a7a0fd9840b7": {
       "attrs": {
        "height": 0.8,
        "width": 0.8,
        "x": 0.1,
        "y": 0.1
       },
       "content": {
        "cell": "af5966d2-16f0-48c3-a9a2-633af27254dc",
        "part": "whole"
       },
       "id": "2fcf6dd8-4bec-460b-97ef-a7a0fd9840b7"
      }
     }
    },
    "ebb28064-f0a5-4e35-a29d-5f4ad72a88df": {
     "id": "ebb28064-f0a5-4e35-a29d-5f4ad72a88df",
     "prev": "2bfedd90-bb11-45a2-800f-3c6a4f599e8e",
     "regions": {
      "2eff121a-ef06-40b4-9d87-cf7b02e58aa7": {
       "attrs": {
        "height": 0.8,
        "width": 0.8,
        "x": 0.1,
        "y": 0.1
       },
       "content": {
        "cell": "ca4dbaf8-7b69-4f1d-8818-2b6290a6f58e",
        "part": "whole"
       },
       "id": "2eff121a-ef06-40b4-9d87-cf7b02e58aa7"
      }
     }
    },
    "f871d199-8690-4793-a076-8c9f046def51": {
     "id": "f871d199-8690-4793-a076-8c9f046def51",
     "prev": "0e14aa82-c87a-4fd5-977d-fc82558becfd",
     "regions": {
      "f71307f8-b355-4073-93c1-c47491c30d0f": {
       "attrs": {
        "height": 0.8,
        "width": 0.8,
        "x": 0.1,
        "y": 0.1
       },
       "content": {
        "cell": "021e74e6-963f-4b5f-a72d-4af6d163eefd",
        "part": "whole"
       },
       "id": "f71307f8-b355-4073-93c1-c47491c30d0f"
      }
     }
    }
   },
   "themes": {
    "default": "ffafbbc9-1852-495a-a9f5-feb61795a7f8",
    "theme": {
     "ffafbbc9-1852-495a-a9f5-feb61795a7f8": {
      "id": "ffafbbc9-1852-495a-a9f5-feb61795a7f8",
      "palette": {
       "19cc588f-0593-49c9-9f4b-e4d7cc113b1c": {
        "id": "19cc588f-0593-49c9-9f4b-e4d7cc113b1c",
        "rgb": [
         252,
         252,
         252
        ]
       },
       "31af15d2-7e15-44c5-ab5e-e04b16a89eff": {
        "id": "31af15d2-7e15-44c5-ab5e-e04b16a89eff",
        "rgb": [
         68,
         68,
         68
        ]
       },
       "50f92c45-a630-455b-aec3-788680ec7410": {
        "id": "50f92c45-a630-455b-aec3-788680ec7410",
        "rgb": [
         155,
         177,
         192
        ]
       },
       "c5cc3653-2ee1-402a-aba2-7caae1da4f6c": {
        "id": "c5cc3653-2ee1-402a-aba2-7caae1da4f6c",
        "rgb": [
         43,
         126,
         184
        ]
       },
       "efa7f048-9acb-414c-8b04-a26811511a21": {
        "id": "efa7f048-9acb-414c-8b04-a26811511a21",
        "rgb": [
         25.118061674008803,
         73.60176211453744,
         107.4819383259912
        ]
       }
      },
      "rules": {
       "blockquote": {
        "color": "50f92c45-a630-455b-aec3-788680ec7410"
       },
       "code": {
        "font-family": "Anonymous Pro"
       },
       "h1": {
        "color": "c5cc3653-2ee1-402a-aba2-7caae1da4f6c",
        "font-family": "Lato",
        "font-size": 8
       },
       "h2": {
        "color": "c5cc3653-2ee1-402a-aba2-7caae1da4f6c",
        "font-family": "Lato",
        "font-size": 6
       },
       "h3": {
        "color": "50f92c45-a630-455b-aec3-788680ec7410",
        "font-family": "Lato",
        "font-size": 5.5
       },
       "h4": {
        "color": "c5cc3653-2ee1-402a-aba2-7caae1da4f6c",
        "font-family": "Lato",
        "font-size": 5
       },
       "h5": {
        "font-family": "Lato"
       },
       "h6": {
        "font-family": "Lato"
       },
       "h7": {
        "font-family": "Lato"
       },
       "pre": {
        "font-family": "Anonymous Pro",
        "font-size": 4
       }
      },
      "text-base": {
       "font-family": "Merriweather",
       "font-size": 4
      }
     }
    }
   }
  }
 },
 "nbformat": 4,
 "nbformat_minor": 1
}
