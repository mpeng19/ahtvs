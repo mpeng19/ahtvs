{
 "cells": [
  {
   "cell_type": "code",
   "execution_count": null,
   "metadata": {
    "ExecuteTime": {
     "end_time": "2017-02-15T15:59:10.118926",
     "start_time": "2017-02-15T15:59:08.547582"
    }
   },
   "outputs": [],
   "source": [
    "import os\n",
    "import sys\n",
    "import pprint\n",
    "import pandas as pd\n",
    "import itertools\n",
    "import numpy as np\n",
    "import numba\n",
    "import h5py\n",
    "\n",
    "# this is all setup for the notebook\n",
    "from IPython.display import HTML\n",
    "import matplotlib\n",
    "%matplotlib inline\n",
    "from rdkit.Chem import AllChem as Chem\n",
    "from rdkit.Chem.Draw import IPythonConsole\n",
    "from rdkit.Chem import Draw\n",
    "from rdkit.Chem import PandasTools # headsup: this import change the behavior of dataframes with mols in them\n",
    "# some global configuration of the pandastools\n",
    "PandasTools.molRepresentation = 'svg'\n",
    "PandasTools.molSize = (200,200)\n",
    "\n",
    "from plotly.offline import download_plotlyjs, init_notebook_mode, iplot,plot\n",
    "from plotly.graph_objs import *\n",
    "init_notebook_mode()\n",
    "from plotly.tools import FigureFactory as FF\n",
    "\n",
    "\n",
    "#constatns\n",
    "HA_TO_EV = 27.211399\n",
    "PERIODICTABLE = Chem.GetPeriodicTable()\n",
    "NM_TO_EV=1240\n",
    "\n",
    "# this is a little helper function to render images inside a dataframe\n",
    "# once again, there are ways to monkey patch the rendering of dataframes, but I am trying to \n",
    "# avoid most of that to make things a bit easier to understand\n",
    "def show(df):\n",
    "    return HTML(df.to_html(escape=False))\n",
    "\n",
    "# covert from database geoms obect to xyz file format string\n",
    "def to_xyz(geoms):\n",
    "    output = str(len(geoms)) + \"\\n\\n\"\n",
    "    for g in geoms:\n",
    "        output += \" \".join([PERIODICTABLE.GetElementSymbol(int(g[0])), str(g[1]), str(g[2]), str(g[3])]) + \"\\n\"\n",
    "    return output\n",
    "\n",
    "from tqdm import tnrange"
   ]
  },
  {
   "cell_type": "code",
   "execution_count": null,
   "metadata": {
    "ExecuteTime": {
     "end_time": "2017-02-15T15:59:11.214766",
     "start_time": "2017-02-15T15:59:10.120348"
    }
   },
   "outputs": [],
   "source": [
    "df_all=pd.read_pickle('/home/denn/home/ml/data/sf/reaxys2_all.pickle')"
   ]
  },
  {
   "cell_type": "code",
   "execution_count": null,
   "metadata": {
    "ExecuteTime": {
     "end_time": "2017-02-15T15:59:11.218567",
     "start_time": "2017-02-15T15:59:11.216392"
    }
   },
   "outputs": [],
   "source": [
    "#show(df_all.loc['WHVPQBSNFXGXCL'])"
   ]
  },
  {
   "cell_type": "code",
   "execution_count": null,
   "metadata": {
    "ExecuteTime": {
     "end_time": "2017-02-15T15:59:11.334833",
     "start_time": "2017-02-15T15:59:11.220102"
    }
   },
   "outputs": [],
   "source": [
    "import os\n",
    "import glob\n",
    "\n",
    "path = r'/home/denn/home/ml/data/sf/'\n",
    "all_files = glob.glob(os.path.join(path, \"reaxys5_*.xls\"))\n",
    "pds = []\n",
    "for f in all_files:\n",
    "    print(f)\n",
    "    pds.append(pd.read_csv(f,delimiter='\\t',low_memory=False))\n",
    "    \n",
    "reax_full=pd.concat(pds, ignore_index=True)\n"
   ]
  },
  {
   "cell_type": "code",
   "execution_count": null,
   "metadata": {
    "ExecuteTime": {
     "end_time": "2017-02-15T15:59:11.432328",
     "start_time": "2017-02-15T15:59:11.336002"
    }
   },
   "outputs": [],
   "source": [
    "reax_uv=reax_full[~reax_full.Structure.str.contains('.',regex=False)]\n",
    "import re\n",
    "def mf2dict(mf_str):\n",
    "    molfor=re.findall(r'([A-Z][a-z]*)(\\d*)', mf_str)\n",
    "    molfor1=map(lambda e: (e[0], 1) if e[1] == '' else (e[0],int(e[1])), molfor)\n",
    "    return dict(molfor1)\n",
    "reax_uv['mf']=reax_uv['Molecular Formula'].apply(mf2dict)\n",
    "reax_uv['C_c']=reax_uv['mf'].apply(lambda d: d.get('C',0))\n",
    "\n",
    "solvent_syn = {'Solvent (UV/VIS Spectroscopy)': \n",
    "               {'CH2Cl2': 'dichloromethane',\n",
    "                'CHCl3':'chloroform',\n",
    "                'H2O':'water',\n",
    "                'dimethyl sulfoxide':'dimethylsulfoxide',\n",
    "               'N,N-dimethyl-formamide':'dimethylformamide'}\n",
    "              }\n",
    "reax_uv.replace(solvent_syn,inplace=True)\n",
    "\n",
    "print(reax_uv['Absorption Maxima (UV/VIS) [nm]'].count())\n",
    "\n",
    "reax_uv=reax_uv[reax_uv.mf.apply(lambda m: bool(set(m.keys()) - set(['H','C','N','O','F','S','Cl','Br','I','P']))==False)]\n",
    "reax_uv=reax_uv[(reax_uv.C_c>6) & (reax_uv.C_c<51)]\n",
    "print(reax_uv.shape)\n",
    "reax_uv=reax_uv[~(reax_uv['Chemical Name'].fillna('').str.contains('radical',regex=False))]\n",
    "print(reax_uv.shape)\n",
    "reax_uv=reax_uv[~(reax_uv['Chemical Name'].fillna('').str.contains('cation',regex=False))]\n",
    "print(reax_uv.shape)\n",
    "reax_uv=reax_uv[~(reax_uv['Chemical Name'].fillna('').str.contains('anion',regex=False))]\n",
    "print(reax_uv.shape)\n",
    "reax_uv=reax_uv[~(reax_uv['Linear Structure Formula'].fillna('').str.contains('(1+)',regex=False))]\n",
    "print(reax_uv.shape)\n",
    "reax_uv=reax_uv[~(reax_uv['Linear Structure Formula'].fillna('').str.contains('(1-)',regex=False))]\n",
    "print(reax_uv.shape)\n",
    "reax_uv=reax_uv[~(reax_uv['Linear Structure Formula'].fillna('').str.contains('(2-)',regex=False))]\n",
    "print(reax_uv.shape)\n",
    "reax_uv=reax_uv[~(reax_uv['Linear Structure Formula'].fillna('').str.contains('(2+)',regex=False))]\n",
    "print(reax_uv.shape)\n",
    "reax_uv=reax_uv[~(reax_uv['Linear Structure Formula'].fillna('').str.contains('(3-)',regex=False))]\n",
    "print(reax_uv.shape)\n",
    "reax_uv=reax_uv[~(reax_uv['Linear Structure Formula'].fillna('').str.contains('(3+)',regex=False))]\n",
    "print(reax_uv.shape)"
   ]
  },
  {
   "cell_type": "code",
   "execution_count": null,
   "metadata": {
    "ExecuteTime": {
     "end_time": "2017-02-15T15:59:11.458190",
     "start_time": "2017-02-15T15:59:11.433635"
    }
   },
   "outputs": [],
   "source": [
    "reax_uv.count().sort_values(ascending=False)"
   ]
  },
  {
   "cell_type": "code",
   "execution_count": null,
   "metadata": {
    "ExecuteTime": {
     "end_time": "2017-02-15T16:17:52.083436",
     "start_time": "2017-02-15T16:17:52.074350"
    }
   },
   "outputs": [],
   "source": [
    "reax_inchi=reax_uv['InChI Key'].str.split('-').str[0].drop_duplicates()\n",
    "reax_inchi.count()\n",
    "reax_uv['ik']=reax_uv['InChI Key'].str.split('-').str[0]"
   ]
  },
  {
   "cell_type": "code",
   "execution_count": null,
   "metadata": {
    "ExecuteTime": {
     "end_time": "2017-02-15T16:10:15.080713",
     "start_time": "2017-02-15T16:10:15.042903"
    }
   },
   "outputs": [],
   "source": [
    "#pd.merge(df_all,reax_inchi.to_frame(name='mol__inchikey'),how='inner',left_on=,right_on='mol__inchikey').count()\n",
    "merge=pd.merge(reax_inchi.to_frame('mol__inchikey'),df_all.reset_index(),on='mol__inchikey',how='inner')\n",
    "#print(df_all.index.get_level_values(0))"
   ]
  },
  {
   "cell_type": "code",
   "execution_count": null,
   "metadata": {
    "ExecuteTime": {
     "end_time": "2017-02-15T16:14:15.334187",
     "start_time": "2017-02-15T16:14:15.329744"
    }
   },
   "outputs": [],
   "source": [
    "#reax_inchi.to_frame('mol__inchikey').drop_duplicates()\n",
    "exclude=list(merge['mol__inchikey'].drop_duplicates().values)"
   ]
  },
  {
   "cell_type": "code",
   "execution_count": null,
   "metadata": {
    "ExecuteTime": {
     "end_time": "2017-02-15T16:14:15.645451",
     "start_time": "2017-02-15T16:14:15.642136"
    }
   },
   "outputs": [],
   "source": [
    "exclude"
   ]
  },
  {
   "cell_type": "code",
   "execution_count": null,
   "metadata": {
    "ExecuteTime": {
     "end_time": "2017-02-15T16:20:44.447238",
     "start_time": "2017-02-15T16:20:44.443396"
    }
   },
   "outputs": [],
   "source": [
    "reax5=reax_uv[['ik','Structure']][~reax_uv['ik'].isin(list(exclude))]"
   ]
  },
  {
   "cell_type": "code",
   "execution_count": null,
   "metadata": {
    "ExecuteTime": {
     "end_time": "2017-02-15T16:21:29.540449",
     "start_time": "2017-02-15T16:21:29.537300"
    }
   },
   "outputs": [],
   "source": [
    "reax5=reax5.drop_duplicates(subset='ik')"
   ]
  },
  {
   "cell_type": "code",
   "execution_count": null,
   "metadata": {
    "ExecuteTime": {
     "end_time": "2017-02-15T16:23:03.776644",
     "start_time": "2017-02-15T16:23:03.773210"
    }
   },
   "outputs": [],
   "source": [
    "def molify(s):\n",
    "    m=Chem.MolFromSmiles(s)\n",
    "    if m is not None:\n",
    "        m=Chem.MolFromSmiles(Chem.MolToSmiles(m,canonical=True))\n",
    "        if m is not None:\n",
    "            #Chem.SanitizeMol(Chem.AddHs(m))\n",
    "            Chem.SanitizeMol(m)\n",
    "    return m"
   ]
  },
  {
   "cell_type": "code",
   "execution_count": null,
   "metadata": {
    "ExecuteTime": {
     "end_time": "2017-02-15T16:23:23.422406",
     "start_time": "2017-02-15T16:23:23.051160"
    }
   },
   "outputs": [],
   "source": [
    "reax5['mol']=reax5.Structure.apply(molify)"
   ]
  },
  {
   "cell_type": "code",
   "execution_count": null,
   "metadata": {
    "ExecuteTime": {
     "end_time": "2017-02-15T16:23:50.749937",
     "start_time": "2017-02-15T16:23:50.746557"
    }
   },
   "outputs": [],
   "source": [
    "reax5=reax5.dropna()"
   ]
  },
  {
   "cell_type": "code",
   "execution_count": null,
   "metadata": {
    "ExecuteTime": {
     "end_time": "2017-02-15T17:03:42.535686",
     "start_time": "2017-02-15T17:03:39.870478"
    }
   },
   "outputs": [],
   "source": [
    "reax5['smiles']=reax5.mol.apply(Chem.MolToSmiles)\n",
    "reax5['morgan'] = reax5.mol.apply(lambda m: np.array(Chem.GetMorganFingerprintAsBitVect(m,nBits=8192,radius=6)))"
   ]
  },
  {
   "cell_type": "code",
   "execution_count": null,
   "metadata": {
    "ExecuteTime": {
     "end_time": "2017-02-15T17:04:24.893044",
     "start_time": "2017-02-15T17:04:24.878243"
    }
   },
   "outputs": [],
   "source": [
    "show(reax5.sample(1))"
   ]
  },
  {
   "cell_type": "code",
   "execution_count": null,
   "metadata": {
    "ExecuteTime": {
     "end_time": "2017-02-15T17:08:41.981477",
     "start_time": "2017-02-15T17:08:41.895998"
    }
   },
   "outputs": [],
   "source": [
    "reax5.to_pickle('/home/denn/home/ml/data/sf/reaxys5.pickle')"
   ]
  },
  {
   "cell_type": "code",
   "execution_count": null,
   "metadata": {
    "ExecuteTime": {
     "end_time": "2017-02-15T16:26:54.537092",
     "start_time": "2017-02-15T16:26:54.524004"
    }
   },
   "outputs": [],
   "source": [
    "#reax5.smiles.to_csv('/home/denn/harvard/SF/Library/Reaxys/reaxys5_dicyanoanth.smi',index=False)"
   ]
  },
  {
   "cell_type": "code",
   "execution_count": null,
   "metadata": {
    "ExecuteTime": {
     "end_time": "2017-02-16T13:35:06.446440",
     "start_time": "2017-02-16T13:35:06.440400"
    }
   },
   "outputs": [],
   "source": [
    "help(plot)"
   ]
  }
 ],
 "metadata": {
  "anaconda-cloud": {},
  "kernelspec": {
   "display_name": "Python [conda env:keras]",
   "language": "python",
   "name": "conda-env-keras-py"
  },
  "language_info": {
   "codemirror_mode": {
    "name": "ipython",
    "version": 3
   },
   "file_extension": ".py",
   "mimetype": "text/x-python",
   "name": "python",
   "nbconvert_exporter": "python",
   "pygments_lexer": "ipython3",
   "version": "3.5.3"
  }
 },
 "nbformat": 4,
 "nbformat_minor": 2
}
